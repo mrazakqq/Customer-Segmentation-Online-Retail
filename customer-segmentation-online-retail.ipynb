{
 "cells": [
  {
   "attachments": {},
   "cell_type": "markdown",
   "metadata": {},
   "source": [
    "# **SOURCE**\n",
    "https://www.kaggle.com/code/mgmarques/customer-segmentation-and-market-basket-analysis/notebook\n",
    "- Customer segmentation: Customer segmentation is the problem of uncovering information about a firm's customer base, based on their interactions with the business. In most cases this interaction is in terms of their purchase behavior and patterns. We explore some of the ways in which this can be used.\n",
    "- Market basket analysis: Market basket analysis is a method to gain insights into granular behavior of customers. This is helpful in devising strategies which uncovers deeper understanding of purchase decisions taken by the customers. This is interesting as a lot of times even the customer will be unaware of such biases or trends in their purchasing behavior.\n",
    "\n",
    "Let's see the description of each column:\n",
    "- InvoiceNo: A unique identifier for the invoice. An invoice number shared across rows means that those transactions were performed in a single invoice (multiple purchases).\n",
    "- StockCode: Identifier for items contained in an invoice.\n",
    "- Description: Textual description of each of the stock item.\n",
    "- Quantity: The quantity of the item purchased.\n",
    "- InvoiceDate: Date of purchase.\n",
    "- UnitPrice: Value of each item.\n",
    "- CustomerID: Identifier for customer making the purchase.\n",
    "- Country: Country of customer."
   ]
  },
  {
   "attachments": {},
   "cell_type": "markdown",
   "metadata": {},
   "source": [
    "# **DATA UNDERSTANDING**"
   ]
  },
  {
   "cell_type": "code",
   "execution_count": 2,
   "metadata": {},
   "outputs": [],
   "source": [
    "import numpy as np\n",
    "import pandas as pd\n",
    "import warnings\n",
    "\n",
    "warnings.filterwarnings('ignore')\n",
    "pd.options.mode.chained_assignment = None\n",
    "\n",
    "path = './db/online-retail.xlsx'\n",
    "df = pd.read_excel(path)"
   ]
  },
  {
   "cell_type": "code",
   "execution_count": 3,
   "metadata": {},
   "outputs": [],
   "source": [
    "line = '========================'\n",
    "def dataStatistics(data):\n",
    "  print('Numeric Features')\n",
    "  display(data.describe())\n",
    "  print(line)\n",
    "  print('Categoric Features')\n",
    "  display(data.describe(include=['category', 'object']))\n",
    "def dataProfile(data):\n",
    "  countOfDuplicated = len(data[data.duplicated()])\n",
    "  dataSize = round(data.memory_usage(deep=True).sum()/1000000, 2)\n",
    "  dimension = data.shape\n",
    "  dtype = data.dtypes\n",
    "  countOfNull = data.isnull().sum()\n",
    "  nullRatio = round(countOfNull/len(data)*100,4)\n",
    "  countOfDistinct = data.nunique()\n",
    "  distinctValue = data.apply(lambda x: x.unique())\n",
    "  output = pd.DataFrame(list(zip(dtype, countOfNull, nullRatio, countOfDistinct, distinctValue)),\n",
    "                        index=data.columns, \n",
    "                        columns=['dtype', 'count_of_null', 'null_ratio', 'count_of_distinct', 'distinct_value'])\n",
    "  print(f'Dimensions\\t: {dimension}')\n",
    "  print(f'Data Size\\t: {dataSize} MB')\n",
    "  if countOfDuplicated == 0:\n",
    "    print(f'Duplicated Data\\t: {countOfDuplicated}')\n",
    "  else:\n",
    "    print(line)\n",
    "    print(f'Duplicated Data\\t: {countOfDuplicated}')\n",
    "    display(data[data.duplicated()])\n",
    "  print(line)\n",
    "  print('SUMMARY')\n",
    "  display(output)"
   ]
  },
  {
   "cell_type": "code",
   "execution_count": 4,
   "metadata": {},
   "outputs": [
    {
     "name": "stdout",
     "output_type": "stream",
     "text": [
      "Numeric Features\n"
     ]
    },
    {
     "data": {
      "text/html": [
       "<div>\n",
       "<style scoped>\n",
       "    .dataframe tbody tr th:only-of-type {\n",
       "        vertical-align: middle;\n",
       "    }\n",
       "\n",
       "    .dataframe tbody tr th {\n",
       "        vertical-align: top;\n",
       "    }\n",
       "\n",
       "    .dataframe thead th {\n",
       "        text-align: right;\n",
       "    }\n",
       "</style>\n",
       "<table border=\"1\" class=\"dataframe\">\n",
       "  <thead>\n",
       "    <tr style=\"text-align: right;\">\n",
       "      <th></th>\n",
       "      <th>Quantity</th>\n",
       "      <th>UnitPrice</th>\n",
       "      <th>CustomerID</th>\n",
       "    </tr>\n",
       "  </thead>\n",
       "  <tbody>\n",
       "    <tr>\n",
       "      <th>count</th>\n",
       "      <td>541909.000000</td>\n",
       "      <td>541909.000000</td>\n",
       "      <td>406829.000000</td>\n",
       "    </tr>\n",
       "    <tr>\n",
       "      <th>mean</th>\n",
       "      <td>9.552250</td>\n",
       "      <td>4.611114</td>\n",
       "      <td>15287.690570</td>\n",
       "    </tr>\n",
       "    <tr>\n",
       "      <th>std</th>\n",
       "      <td>218.081158</td>\n",
       "      <td>96.759853</td>\n",
       "      <td>1713.600303</td>\n",
       "    </tr>\n",
       "    <tr>\n",
       "      <th>min</th>\n",
       "      <td>-80995.000000</td>\n",
       "      <td>-11062.060000</td>\n",
       "      <td>12346.000000</td>\n",
       "    </tr>\n",
       "    <tr>\n",
       "      <th>25%</th>\n",
       "      <td>1.000000</td>\n",
       "      <td>1.250000</td>\n",
       "      <td>13953.000000</td>\n",
       "    </tr>\n",
       "    <tr>\n",
       "      <th>50%</th>\n",
       "      <td>3.000000</td>\n",
       "      <td>2.080000</td>\n",
       "      <td>15152.000000</td>\n",
       "    </tr>\n",
       "    <tr>\n",
       "      <th>75%</th>\n",
       "      <td>10.000000</td>\n",
       "      <td>4.130000</td>\n",
       "      <td>16791.000000</td>\n",
       "    </tr>\n",
       "    <tr>\n",
       "      <th>max</th>\n",
       "      <td>80995.000000</td>\n",
       "      <td>38970.000000</td>\n",
       "      <td>18287.000000</td>\n",
       "    </tr>\n",
       "  </tbody>\n",
       "</table>\n",
       "</div>"
      ],
      "text/plain": [
       "            Quantity      UnitPrice     CustomerID\n",
       "count  541909.000000  541909.000000  406829.000000\n",
       "mean        9.552250       4.611114   15287.690570\n",
       "std       218.081158      96.759853    1713.600303\n",
       "min    -80995.000000  -11062.060000   12346.000000\n",
       "25%         1.000000       1.250000   13953.000000\n",
       "50%         3.000000       2.080000   15152.000000\n",
       "75%        10.000000       4.130000   16791.000000\n",
       "max     80995.000000   38970.000000   18287.000000"
      ]
     },
     "metadata": {},
     "output_type": "display_data"
    },
    {
     "name": "stdout",
     "output_type": "stream",
     "text": [
      "========================\n",
      "Categoric Features\n"
     ]
    },
    {
     "data": {
      "text/html": [
       "<div>\n",
       "<style scoped>\n",
       "    .dataframe tbody tr th:only-of-type {\n",
       "        vertical-align: middle;\n",
       "    }\n",
       "\n",
       "    .dataframe tbody tr th {\n",
       "        vertical-align: top;\n",
       "    }\n",
       "\n",
       "    .dataframe thead th {\n",
       "        text-align: right;\n",
       "    }\n",
       "</style>\n",
       "<table border=\"1\" class=\"dataframe\">\n",
       "  <thead>\n",
       "    <tr style=\"text-align: right;\">\n",
       "      <th></th>\n",
       "      <th>InvoiceNo</th>\n",
       "      <th>StockCode</th>\n",
       "      <th>Description</th>\n",
       "      <th>Country</th>\n",
       "    </tr>\n",
       "  </thead>\n",
       "  <tbody>\n",
       "    <tr>\n",
       "      <th>count</th>\n",
       "      <td>541909</td>\n",
       "      <td>541909</td>\n",
       "      <td>540455</td>\n",
       "      <td>541909</td>\n",
       "    </tr>\n",
       "    <tr>\n",
       "      <th>unique</th>\n",
       "      <td>25900</td>\n",
       "      <td>4070</td>\n",
       "      <td>4223</td>\n",
       "      <td>38</td>\n",
       "    </tr>\n",
       "    <tr>\n",
       "      <th>top</th>\n",
       "      <td>573585</td>\n",
       "      <td>85123A</td>\n",
       "      <td>WHITE HANGING HEART T-LIGHT HOLDER</td>\n",
       "      <td>United Kingdom</td>\n",
       "    </tr>\n",
       "    <tr>\n",
       "      <th>freq</th>\n",
       "      <td>1114</td>\n",
       "      <td>2313</td>\n",
       "      <td>2369</td>\n",
       "      <td>495478</td>\n",
       "    </tr>\n",
       "  </tbody>\n",
       "</table>\n",
       "</div>"
      ],
      "text/plain": [
       "        InvoiceNo StockCode                         Description  \\\n",
       "count      541909    541909                              540455   \n",
       "unique      25900      4070                                4223   \n",
       "top        573585    85123A  WHITE HANGING HEART T-LIGHT HOLDER   \n",
       "freq         1114      2313                                2369   \n",
       "\n",
       "               Country  \n",
       "count           541909  \n",
       "unique              38  \n",
       "top     United Kingdom  \n",
       "freq            495478  "
      ]
     },
     "metadata": {},
     "output_type": "display_data"
    }
   ],
   "source": [
    "dataStatistics(df)"
   ]
  },
  {
   "cell_type": "code",
   "execution_count": 5,
   "metadata": {},
   "outputs": [
    {
     "name": "stdout",
     "output_type": "stream",
     "text": [
      "Dimensions\t: (541909, 8)\n",
      "Data Size\t: 141.48 MB\n",
      "========================\n",
      "Duplicated Data\t: 5268\n"
     ]
    },
    {
     "data": {
      "text/html": [
       "<div>\n",
       "<style scoped>\n",
       "    .dataframe tbody tr th:only-of-type {\n",
       "        vertical-align: middle;\n",
       "    }\n",
       "\n",
       "    .dataframe tbody tr th {\n",
       "        vertical-align: top;\n",
       "    }\n",
       "\n",
       "    .dataframe thead th {\n",
       "        text-align: right;\n",
       "    }\n",
       "</style>\n",
       "<table border=\"1\" class=\"dataframe\">\n",
       "  <thead>\n",
       "    <tr style=\"text-align: right;\">\n",
       "      <th></th>\n",
       "      <th>InvoiceNo</th>\n",
       "      <th>StockCode</th>\n",
       "      <th>Description</th>\n",
       "      <th>Quantity</th>\n",
       "      <th>InvoiceDate</th>\n",
       "      <th>UnitPrice</th>\n",
       "      <th>CustomerID</th>\n",
       "      <th>Country</th>\n",
       "    </tr>\n",
       "  </thead>\n",
       "  <tbody>\n",
       "    <tr>\n",
       "      <th>517</th>\n",
       "      <td>536409</td>\n",
       "      <td>21866</td>\n",
       "      <td>UNION JACK FLAG LUGGAGE TAG</td>\n",
       "      <td>1</td>\n",
       "      <td>2010-12-01 11:45:00</td>\n",
       "      <td>1.25</td>\n",
       "      <td>17908.0</td>\n",
       "      <td>United Kingdom</td>\n",
       "    </tr>\n",
       "    <tr>\n",
       "      <th>527</th>\n",
       "      <td>536409</td>\n",
       "      <td>22866</td>\n",
       "      <td>HAND WARMER SCOTTY DOG DESIGN</td>\n",
       "      <td>1</td>\n",
       "      <td>2010-12-01 11:45:00</td>\n",
       "      <td>2.10</td>\n",
       "      <td>17908.0</td>\n",
       "      <td>United Kingdom</td>\n",
       "    </tr>\n",
       "    <tr>\n",
       "      <th>537</th>\n",
       "      <td>536409</td>\n",
       "      <td>22900</td>\n",
       "      <td>SET 2 TEA TOWELS I LOVE LONDON</td>\n",
       "      <td>1</td>\n",
       "      <td>2010-12-01 11:45:00</td>\n",
       "      <td>2.95</td>\n",
       "      <td>17908.0</td>\n",
       "      <td>United Kingdom</td>\n",
       "    </tr>\n",
       "    <tr>\n",
       "      <th>539</th>\n",
       "      <td>536409</td>\n",
       "      <td>22111</td>\n",
       "      <td>SCOTTIE DOG HOT WATER BOTTLE</td>\n",
       "      <td>1</td>\n",
       "      <td>2010-12-01 11:45:00</td>\n",
       "      <td>4.95</td>\n",
       "      <td>17908.0</td>\n",
       "      <td>United Kingdom</td>\n",
       "    </tr>\n",
       "    <tr>\n",
       "      <th>555</th>\n",
       "      <td>536412</td>\n",
       "      <td>22327</td>\n",
       "      <td>ROUND SNACK BOXES SET OF 4 SKULLS</td>\n",
       "      <td>1</td>\n",
       "      <td>2010-12-01 11:49:00</td>\n",
       "      <td>2.95</td>\n",
       "      <td>17920.0</td>\n",
       "      <td>United Kingdom</td>\n",
       "    </tr>\n",
       "    <tr>\n",
       "      <th>...</th>\n",
       "      <td>...</td>\n",
       "      <td>...</td>\n",
       "      <td>...</td>\n",
       "      <td>...</td>\n",
       "      <td>...</td>\n",
       "      <td>...</td>\n",
       "      <td>...</td>\n",
       "      <td>...</td>\n",
       "    </tr>\n",
       "    <tr>\n",
       "      <th>541675</th>\n",
       "      <td>581538</td>\n",
       "      <td>22068</td>\n",
       "      <td>BLACK PIRATE TREASURE CHEST</td>\n",
       "      <td>1</td>\n",
       "      <td>2011-12-09 11:34:00</td>\n",
       "      <td>0.39</td>\n",
       "      <td>14446.0</td>\n",
       "      <td>United Kingdom</td>\n",
       "    </tr>\n",
       "    <tr>\n",
       "      <th>541689</th>\n",
       "      <td>581538</td>\n",
       "      <td>23318</td>\n",
       "      <td>BOX OF 6 MINI VINTAGE CRACKERS</td>\n",
       "      <td>1</td>\n",
       "      <td>2011-12-09 11:34:00</td>\n",
       "      <td>2.49</td>\n",
       "      <td>14446.0</td>\n",
       "      <td>United Kingdom</td>\n",
       "    </tr>\n",
       "    <tr>\n",
       "      <th>541692</th>\n",
       "      <td>581538</td>\n",
       "      <td>22992</td>\n",
       "      <td>REVOLVER WOODEN RULER</td>\n",
       "      <td>1</td>\n",
       "      <td>2011-12-09 11:34:00</td>\n",
       "      <td>1.95</td>\n",
       "      <td>14446.0</td>\n",
       "      <td>United Kingdom</td>\n",
       "    </tr>\n",
       "    <tr>\n",
       "      <th>541699</th>\n",
       "      <td>581538</td>\n",
       "      <td>22694</td>\n",
       "      <td>WICKER STAR</td>\n",
       "      <td>1</td>\n",
       "      <td>2011-12-09 11:34:00</td>\n",
       "      <td>2.10</td>\n",
       "      <td>14446.0</td>\n",
       "      <td>United Kingdom</td>\n",
       "    </tr>\n",
       "    <tr>\n",
       "      <th>541701</th>\n",
       "      <td>581538</td>\n",
       "      <td>23343</td>\n",
       "      <td>JUMBO BAG VINTAGE CHRISTMAS</td>\n",
       "      <td>1</td>\n",
       "      <td>2011-12-09 11:34:00</td>\n",
       "      <td>2.08</td>\n",
       "      <td>14446.0</td>\n",
       "      <td>United Kingdom</td>\n",
       "    </tr>\n",
       "  </tbody>\n",
       "</table>\n",
       "<p>5268 rows × 8 columns</p>\n",
       "</div>"
      ],
      "text/plain": [
       "       InvoiceNo StockCode                        Description  Quantity  \\\n",
       "517       536409     21866        UNION JACK FLAG LUGGAGE TAG         1   \n",
       "527       536409     22866      HAND WARMER SCOTTY DOG DESIGN         1   \n",
       "537       536409     22900    SET 2 TEA TOWELS I LOVE LONDON          1   \n",
       "539       536409     22111       SCOTTIE DOG HOT WATER BOTTLE         1   \n",
       "555       536412     22327  ROUND SNACK BOXES SET OF 4 SKULLS         1   \n",
       "...          ...       ...                                ...       ...   \n",
       "541675    581538     22068        BLACK PIRATE TREASURE CHEST         1   \n",
       "541689    581538     23318     BOX OF 6 MINI VINTAGE CRACKERS         1   \n",
       "541692    581538     22992             REVOLVER WOODEN RULER          1   \n",
       "541699    581538     22694                       WICKER STAR          1   \n",
       "541701    581538     23343       JUMBO BAG VINTAGE CHRISTMAS          1   \n",
       "\n",
       "               InvoiceDate  UnitPrice  CustomerID         Country  \n",
       "517    2010-12-01 11:45:00       1.25     17908.0  United Kingdom  \n",
       "527    2010-12-01 11:45:00       2.10     17908.0  United Kingdom  \n",
       "537    2010-12-01 11:45:00       2.95     17908.0  United Kingdom  \n",
       "539    2010-12-01 11:45:00       4.95     17908.0  United Kingdom  \n",
       "555    2010-12-01 11:49:00       2.95     17920.0  United Kingdom  \n",
       "...                    ...        ...         ...             ...  \n",
       "541675 2011-12-09 11:34:00       0.39     14446.0  United Kingdom  \n",
       "541689 2011-12-09 11:34:00       2.49     14446.0  United Kingdom  \n",
       "541692 2011-12-09 11:34:00       1.95     14446.0  United Kingdom  \n",
       "541699 2011-12-09 11:34:00       2.10     14446.0  United Kingdom  \n",
       "541701 2011-12-09 11:34:00       2.08     14446.0  United Kingdom  \n",
       "\n",
       "[5268 rows x 8 columns]"
      ]
     },
     "metadata": {},
     "output_type": "display_data"
    },
    {
     "name": "stdout",
     "output_type": "stream",
     "text": [
      "========================\n",
      "SUMMARY\n"
     ]
    },
    {
     "data": {
      "text/html": [
       "<div>\n",
       "<style scoped>\n",
       "    .dataframe tbody tr th:only-of-type {\n",
       "        vertical-align: middle;\n",
       "    }\n",
       "\n",
       "    .dataframe tbody tr th {\n",
       "        vertical-align: top;\n",
       "    }\n",
       "\n",
       "    .dataframe thead th {\n",
       "        text-align: right;\n",
       "    }\n",
       "</style>\n",
       "<table border=\"1\" class=\"dataframe\">\n",
       "  <thead>\n",
       "    <tr style=\"text-align: right;\">\n",
       "      <th></th>\n",
       "      <th>dtype</th>\n",
       "      <th>count_of_null</th>\n",
       "      <th>null_ratio</th>\n",
       "      <th>count_of_distinct</th>\n",
       "      <th>distinct_value</th>\n",
       "    </tr>\n",
       "  </thead>\n",
       "  <tbody>\n",
       "    <tr>\n",
       "      <th>InvoiceNo</th>\n",
       "      <td>object</td>\n",
       "      <td>0</td>\n",
       "      <td>0.0000</td>\n",
       "      <td>25900</td>\n",
       "      <td>[536365, 536366, 536367, 536368, 536369, 53637...</td>\n",
       "    </tr>\n",
       "    <tr>\n",
       "      <th>StockCode</th>\n",
       "      <td>object</td>\n",
       "      <td>0</td>\n",
       "      <td>0.0000</td>\n",
       "      <td>4070</td>\n",
       "      <td>[85123A, 71053, 84406B, 84029G, 84029E, 22752,...</td>\n",
       "    </tr>\n",
       "    <tr>\n",
       "      <th>Description</th>\n",
       "      <td>object</td>\n",
       "      <td>1454</td>\n",
       "      <td>0.2683</td>\n",
       "      <td>4223</td>\n",
       "      <td>[WHITE HANGING HEART T-LIGHT HOLDER, WHITE MET...</td>\n",
       "    </tr>\n",
       "    <tr>\n",
       "      <th>Quantity</th>\n",
       "      <td>int64</td>\n",
       "      <td>0</td>\n",
       "      <td>0.0000</td>\n",
       "      <td>722</td>\n",
       "      <td>[6, 8, 2, 32, 3, 4, 24, 12, 48, 18, 20, 36, 80...</td>\n",
       "    </tr>\n",
       "    <tr>\n",
       "      <th>InvoiceDate</th>\n",
       "      <td>datetime64[ns]</td>\n",
       "      <td>0</td>\n",
       "      <td>0.0000</td>\n",
       "      <td>23260</td>\n",
       "      <td>[2010-12-01T08:26:00.000000000, 2010-12-01T08:...</td>\n",
       "    </tr>\n",
       "    <tr>\n",
       "      <th>UnitPrice</th>\n",
       "      <td>float64</td>\n",
       "      <td>0</td>\n",
       "      <td>0.0000</td>\n",
       "      <td>1630</td>\n",
       "      <td>[2.55, 3.39, 2.75, 7.65, 4.25, 1.85, 1.69, 2.1...</td>\n",
       "    </tr>\n",
       "    <tr>\n",
       "      <th>CustomerID</th>\n",
       "      <td>float64</td>\n",
       "      <td>135080</td>\n",
       "      <td>24.9267</td>\n",
       "      <td>4372</td>\n",
       "      <td>[17850.0, 13047.0, 12583.0, 13748.0, 15100.0, ...</td>\n",
       "    </tr>\n",
       "    <tr>\n",
       "      <th>Country</th>\n",
       "      <td>object</td>\n",
       "      <td>0</td>\n",
       "      <td>0.0000</td>\n",
       "      <td>38</td>\n",
       "      <td>[United Kingdom, France, Australia, Netherland...</td>\n",
       "    </tr>\n",
       "  </tbody>\n",
       "</table>\n",
       "</div>"
      ],
      "text/plain": [
       "                      dtype  count_of_null  null_ratio  count_of_distinct  \\\n",
       "InvoiceNo            object              0      0.0000              25900   \n",
       "StockCode            object              0      0.0000               4070   \n",
       "Description          object           1454      0.2683               4223   \n",
       "Quantity              int64              0      0.0000                722   \n",
       "InvoiceDate  datetime64[ns]              0      0.0000              23260   \n",
       "UnitPrice           float64              0      0.0000               1630   \n",
       "CustomerID          float64         135080     24.9267               4372   \n",
       "Country              object              0      0.0000                 38   \n",
       "\n",
       "                                                distinct_value  \n",
       "InvoiceNo    [536365, 536366, 536367, 536368, 536369, 53637...  \n",
       "StockCode    [85123A, 71053, 84406B, 84029G, 84029E, 22752,...  \n",
       "Description  [WHITE HANGING HEART T-LIGHT HOLDER, WHITE MET...  \n",
       "Quantity     [6, 8, 2, 32, 3, 4, 24, 12, 48, 18, 20, 36, 80...  \n",
       "InvoiceDate  [2010-12-01T08:26:00.000000000, 2010-12-01T08:...  \n",
       "UnitPrice    [2.55, 3.39, 2.75, 7.65, 4.25, 1.85, 1.69, 2.1...  \n",
       "CustomerID   [17850.0, 13047.0, 12583.0, 13748.0, 15100.0, ...  \n",
       "Country      [United Kingdom, France, Australia, Netherland...  "
      ]
     },
     "metadata": {},
     "output_type": "display_data"
    }
   ],
   "source": [
    "dataProfile(df)"
   ]
  },
  {
   "attachments": {},
   "cell_type": "markdown",
   "metadata": {},
   "source": [
    "We can observe from the preceding output that Quantity and UnitPrice are having negative values, which may mean that we may have some return transactions in our data also. As our goal is customer segmentation and market basket analysis, it is important that these records are removed, but first we will take a look at whether there are records where both are negative or if one of them is negative and the other is zero."
   ]
  },
  {
   "attachments": {},
   "cell_type": "markdown",
   "metadata": {},
   "source": [
    "# **DATA CLEANSING**"
   ]
  },
  {
   "attachments": {},
   "cell_type": "markdown",
   "metadata": {},
   "source": [
    "## **Drop Duplicated**"
   ]
  },
  {
   "cell_type": "code",
   "execution_count": 6,
   "metadata": {},
   "outputs": [],
   "source": [
    "def dropDuplicates(df):\n",
    "  print(f'Dimensions before remove duplicates: {df.shape}')\n",
    "  df = df.drop_duplicates()\n",
    "  print(f'Dimensions after remove duplicates: {df.shape}')\n",
    "  return df"
   ]
  },
  {
   "cell_type": "code",
   "execution_count": 7,
   "metadata": {},
   "outputs": [
    {
     "name": "stdout",
     "output_type": "stream",
     "text": [
      "Dimensions before remove duplicates: (541909, 8)\n",
      "Dimensions after remove duplicates: (536641, 8)\n"
     ]
    },
    {
     "data": {
      "text/html": [
       "<div>\n",
       "<style scoped>\n",
       "    .dataframe tbody tr th:only-of-type {\n",
       "        vertical-align: middle;\n",
       "    }\n",
       "\n",
       "    .dataframe tbody tr th {\n",
       "        vertical-align: top;\n",
       "    }\n",
       "\n",
       "    .dataframe thead th {\n",
       "        text-align: right;\n",
       "    }\n",
       "</style>\n",
       "<table border=\"1\" class=\"dataframe\">\n",
       "  <thead>\n",
       "    <tr style=\"text-align: right;\">\n",
       "      <th></th>\n",
       "      <th>InvoiceNo</th>\n",
       "      <th>StockCode</th>\n",
       "      <th>Description</th>\n",
       "      <th>Quantity</th>\n",
       "      <th>InvoiceDate</th>\n",
       "      <th>UnitPrice</th>\n",
       "      <th>CustomerID</th>\n",
       "      <th>Country</th>\n",
       "    </tr>\n",
       "  </thead>\n",
       "  <tbody>\n",
       "    <tr>\n",
       "      <th>61619</th>\n",
       "      <td>541431</td>\n",
       "      <td>23166</td>\n",
       "      <td>MEDIUM CERAMIC TOP STORAGE JAR</td>\n",
       "      <td>74215</td>\n",
       "      <td>2011-01-18 10:01:00</td>\n",
       "      <td>1.04</td>\n",
       "      <td>12346.0</td>\n",
       "      <td>United Kingdom</td>\n",
       "    </tr>\n",
       "    <tr>\n",
       "      <th>61624</th>\n",
       "      <td>C541433</td>\n",
       "      <td>23166</td>\n",
       "      <td>MEDIUM CERAMIC TOP STORAGE JAR</td>\n",
       "      <td>-74215</td>\n",
       "      <td>2011-01-18 10:17:00</td>\n",
       "      <td>1.04</td>\n",
       "      <td>12346.0</td>\n",
       "      <td>United Kingdom</td>\n",
       "    </tr>\n",
       "    <tr>\n",
       "      <th>286628</th>\n",
       "      <td>562032</td>\n",
       "      <td>21578</td>\n",
       "      <td>WOODLAND DESIGN  COTTON TOTE BAG</td>\n",
       "      <td>6</td>\n",
       "      <td>2011-08-02 08:48:00</td>\n",
       "      <td>2.25</td>\n",
       "      <td>12347.0</td>\n",
       "      <td>Iceland</td>\n",
       "    </tr>\n",
       "    <tr>\n",
       "      <th>72263</th>\n",
       "      <td>542237</td>\n",
       "      <td>47559B</td>\n",
       "      <td>TEA TIME OVEN GLOVE</td>\n",
       "      <td>10</td>\n",
       "      <td>2011-01-26 14:30:00</td>\n",
       "      <td>1.25</td>\n",
       "      <td>12347.0</td>\n",
       "      <td>Iceland</td>\n",
       "    </tr>\n",
       "    <tr>\n",
       "      <th>72264</th>\n",
       "      <td>542237</td>\n",
       "      <td>21154</td>\n",
       "      <td>RED RETROSPOT OVEN GLOVE</td>\n",
       "      <td>10</td>\n",
       "      <td>2011-01-26 14:30:00</td>\n",
       "      <td>1.25</td>\n",
       "      <td>12347.0</td>\n",
       "      <td>Iceland</td>\n",
       "    </tr>\n",
       "    <tr>\n",
       "      <th>...</th>\n",
       "      <td>...</td>\n",
       "      <td>...</td>\n",
       "      <td>...</td>\n",
       "      <td>...</td>\n",
       "      <td>...</td>\n",
       "      <td>...</td>\n",
       "      <td>...</td>\n",
       "      <td>...</td>\n",
       "    </tr>\n",
       "    <tr>\n",
       "      <th>541536</th>\n",
       "      <td>581498</td>\n",
       "      <td>85099B</td>\n",
       "      <td>JUMBO BAG RED RETROSPOT</td>\n",
       "      <td>5</td>\n",
       "      <td>2011-12-09 10:26:00</td>\n",
       "      <td>4.13</td>\n",
       "      <td>NaN</td>\n",
       "      <td>United Kingdom</td>\n",
       "    </tr>\n",
       "    <tr>\n",
       "      <th>541537</th>\n",
       "      <td>581498</td>\n",
       "      <td>85099C</td>\n",
       "      <td>JUMBO  BAG BAROQUE BLACK WHITE</td>\n",
       "      <td>4</td>\n",
       "      <td>2011-12-09 10:26:00</td>\n",
       "      <td>4.13</td>\n",
       "      <td>NaN</td>\n",
       "      <td>United Kingdom</td>\n",
       "    </tr>\n",
       "    <tr>\n",
       "      <th>541538</th>\n",
       "      <td>581498</td>\n",
       "      <td>85150</td>\n",
       "      <td>LADIES &amp; GENTLEMEN METAL SIGN</td>\n",
       "      <td>1</td>\n",
       "      <td>2011-12-09 10:26:00</td>\n",
       "      <td>4.96</td>\n",
       "      <td>NaN</td>\n",
       "      <td>United Kingdom</td>\n",
       "    </tr>\n",
       "    <tr>\n",
       "      <th>541539</th>\n",
       "      <td>581498</td>\n",
       "      <td>85174</td>\n",
       "      <td>S/4 CACTI CANDLES</td>\n",
       "      <td>1</td>\n",
       "      <td>2011-12-09 10:26:00</td>\n",
       "      <td>10.79</td>\n",
       "      <td>NaN</td>\n",
       "      <td>United Kingdom</td>\n",
       "    </tr>\n",
       "    <tr>\n",
       "      <th>541540</th>\n",
       "      <td>581498</td>\n",
       "      <td>DOT</td>\n",
       "      <td>DOTCOM POSTAGE</td>\n",
       "      <td>1</td>\n",
       "      <td>2011-12-09 10:26:00</td>\n",
       "      <td>1714.17</td>\n",
       "      <td>NaN</td>\n",
       "      <td>United Kingdom</td>\n",
       "    </tr>\n",
       "  </tbody>\n",
       "</table>\n",
       "<p>536641 rows × 8 columns</p>\n",
       "</div>"
      ],
      "text/plain": [
       "       InvoiceNo StockCode                       Description  Quantity  \\\n",
       "61619     541431     23166    MEDIUM CERAMIC TOP STORAGE JAR     74215   \n",
       "61624    C541433     23166    MEDIUM CERAMIC TOP STORAGE JAR    -74215   \n",
       "286628    562032     21578  WOODLAND DESIGN  COTTON TOTE BAG         6   \n",
       "72263     542237    47559B               TEA TIME OVEN GLOVE        10   \n",
       "72264     542237     21154         RED RETROSPOT OVEN GLOVE         10   \n",
       "...          ...       ...                               ...       ...   \n",
       "541536    581498    85099B           JUMBO BAG RED RETROSPOT         5   \n",
       "541537    581498    85099C    JUMBO  BAG BAROQUE BLACK WHITE         4   \n",
       "541538    581498     85150     LADIES & GENTLEMEN METAL SIGN         1   \n",
       "541539    581498     85174                 S/4 CACTI CANDLES         1   \n",
       "541540    581498       DOT                    DOTCOM POSTAGE         1   \n",
       "\n",
       "               InvoiceDate  UnitPrice  CustomerID         Country  \n",
       "61619  2011-01-18 10:01:00       1.04     12346.0  United Kingdom  \n",
       "61624  2011-01-18 10:17:00       1.04     12346.0  United Kingdom  \n",
       "286628 2011-08-02 08:48:00       2.25     12347.0         Iceland  \n",
       "72263  2011-01-26 14:30:00       1.25     12347.0         Iceland  \n",
       "72264  2011-01-26 14:30:00       1.25     12347.0         Iceland  \n",
       "...                    ...        ...         ...             ...  \n",
       "541536 2011-12-09 10:26:00       4.13         NaN  United Kingdom  \n",
       "541537 2011-12-09 10:26:00       4.13         NaN  United Kingdom  \n",
       "541538 2011-12-09 10:26:00       4.96         NaN  United Kingdom  \n",
       "541539 2011-12-09 10:26:00      10.79         NaN  United Kingdom  \n",
       "541540 2011-12-09 10:26:00    1714.17         NaN  United Kingdom  \n",
       "\n",
       "[536641 rows x 8 columns]"
      ]
     },
     "execution_count": 7,
     "metadata": {},
     "output_type": "execute_result"
    }
   ],
   "source": [
    "data = df.sort_values('CustomerID').copy()\n",
    "data = dropDuplicates(data)\n",
    "data"
   ]
  },
  {
   "attachments": {},
   "cell_type": "markdown",
   "metadata": {},
   "source": [
    "## **Drop N/a CustomerID**"
   ]
  },
  {
   "cell_type": "code",
   "execution_count": 8,
   "metadata": {},
   "outputs": [],
   "source": [
    "def dropNull(df, cols=None):\n",
    "  print(f'Dimensions before remove duplicates: {df.shape}')\n",
    "  if(cols==None):\n",
    "    df = df.dropna()\n",
    "  else:\n",
    "    df = df.dropna(subset=cols, axis=0)\n",
    "  print(f'Dimensions after remove duplicates: {df.shape}')\n",
    "  return df"
   ]
  },
  {
   "cell_type": "code",
   "execution_count": 9,
   "metadata": {},
   "outputs": [
    {
     "name": "stdout",
     "output_type": "stream",
     "text": [
      "Dimensions before remove duplicates: (536641, 8)\n",
      "Dimensions after remove duplicates: (401604, 8)\n"
     ]
    },
    {
     "data": {
      "text/html": [
       "<div>\n",
       "<style scoped>\n",
       "    .dataframe tbody tr th:only-of-type {\n",
       "        vertical-align: middle;\n",
       "    }\n",
       "\n",
       "    .dataframe tbody tr th {\n",
       "        vertical-align: top;\n",
       "    }\n",
       "\n",
       "    .dataframe thead th {\n",
       "        text-align: right;\n",
       "    }\n",
       "</style>\n",
       "<table border=\"1\" class=\"dataframe\">\n",
       "  <thead>\n",
       "    <tr style=\"text-align: right;\">\n",
       "      <th></th>\n",
       "      <th>InvoiceNo</th>\n",
       "      <th>StockCode</th>\n",
       "      <th>Description</th>\n",
       "      <th>Quantity</th>\n",
       "      <th>InvoiceDate</th>\n",
       "      <th>UnitPrice</th>\n",
       "      <th>CustomerID</th>\n",
       "      <th>Country</th>\n",
       "    </tr>\n",
       "  </thead>\n",
       "  <tbody>\n",
       "    <tr>\n",
       "      <th>61619</th>\n",
       "      <td>541431</td>\n",
       "      <td>23166</td>\n",
       "      <td>MEDIUM CERAMIC TOP STORAGE JAR</td>\n",
       "      <td>74215</td>\n",
       "      <td>2011-01-18 10:01:00</td>\n",
       "      <td>1.04</td>\n",
       "      <td>12346.0</td>\n",
       "      <td>United Kingdom</td>\n",
       "    </tr>\n",
       "    <tr>\n",
       "      <th>61624</th>\n",
       "      <td>C541433</td>\n",
       "      <td>23166</td>\n",
       "      <td>MEDIUM CERAMIC TOP STORAGE JAR</td>\n",
       "      <td>-74215</td>\n",
       "      <td>2011-01-18 10:17:00</td>\n",
       "      <td>1.04</td>\n",
       "      <td>12346.0</td>\n",
       "      <td>United Kingdom</td>\n",
       "    </tr>\n",
       "    <tr>\n",
       "      <th>286628</th>\n",
       "      <td>562032</td>\n",
       "      <td>21578</td>\n",
       "      <td>WOODLAND DESIGN  COTTON TOTE BAG</td>\n",
       "      <td>6</td>\n",
       "      <td>2011-08-02 08:48:00</td>\n",
       "      <td>2.25</td>\n",
       "      <td>12347.0</td>\n",
       "      <td>Iceland</td>\n",
       "    </tr>\n",
       "    <tr>\n",
       "      <th>72263</th>\n",
       "      <td>542237</td>\n",
       "      <td>47559B</td>\n",
       "      <td>TEA TIME OVEN GLOVE</td>\n",
       "      <td>10</td>\n",
       "      <td>2011-01-26 14:30:00</td>\n",
       "      <td>1.25</td>\n",
       "      <td>12347.0</td>\n",
       "      <td>Iceland</td>\n",
       "    </tr>\n",
       "    <tr>\n",
       "      <th>72264</th>\n",
       "      <td>542237</td>\n",
       "      <td>21154</td>\n",
       "      <td>RED RETROSPOT OVEN GLOVE</td>\n",
       "      <td>10</td>\n",
       "      <td>2011-01-26 14:30:00</td>\n",
       "      <td>1.25</td>\n",
       "      <td>12347.0</td>\n",
       "      <td>Iceland</td>\n",
       "    </tr>\n",
       "    <tr>\n",
       "      <th>...</th>\n",
       "      <td>...</td>\n",
       "      <td>...</td>\n",
       "      <td>...</td>\n",
       "      <td>...</td>\n",
       "      <td>...</td>\n",
       "      <td>...</td>\n",
       "      <td>...</td>\n",
       "      <td>...</td>\n",
       "    </tr>\n",
       "    <tr>\n",
       "      <th>392737</th>\n",
       "      <td>570715</td>\n",
       "      <td>23269</td>\n",
       "      <td>SET OF 2 CERAMIC CHRISTMAS TREES</td>\n",
       "      <td>36</td>\n",
       "      <td>2011-10-12 10:23:00</td>\n",
       "      <td>1.45</td>\n",
       "      <td>18287.0</td>\n",
       "      <td>United Kingdom</td>\n",
       "    </tr>\n",
       "    <tr>\n",
       "      <th>392736</th>\n",
       "      <td>570715</td>\n",
       "      <td>23223</td>\n",
       "      <td>CHRISTMAS TREE HANGING SILVER</td>\n",
       "      <td>48</td>\n",
       "      <td>2011-10-12 10:23:00</td>\n",
       "      <td>0.83</td>\n",
       "      <td>18287.0</td>\n",
       "      <td>United Kingdom</td>\n",
       "    </tr>\n",
       "    <tr>\n",
       "      <th>392735</th>\n",
       "      <td>570715</td>\n",
       "      <td>23378</td>\n",
       "      <td>PACK OF 12 50'S CHRISTMAS TISSUES</td>\n",
       "      <td>24</td>\n",
       "      <td>2011-10-12 10:23:00</td>\n",
       "      <td>0.39</td>\n",
       "      <td>18287.0</td>\n",
       "      <td>United Kingdom</td>\n",
       "    </tr>\n",
       "    <tr>\n",
       "      <th>423939</th>\n",
       "      <td>573167</td>\n",
       "      <td>23264</td>\n",
       "      <td>SET OF 3 WOODEN SLEIGH DECORATIONS</td>\n",
       "      <td>36</td>\n",
       "      <td>2011-10-28 09:29:00</td>\n",
       "      <td>1.25</td>\n",
       "      <td>18287.0</td>\n",
       "      <td>United Kingdom</td>\n",
       "    </tr>\n",
       "    <tr>\n",
       "      <th>392751</th>\n",
       "      <td>570715</td>\n",
       "      <td>22421</td>\n",
       "      <td>LIPSTICK PEN FUSCHIA</td>\n",
       "      <td>12</td>\n",
       "      <td>2011-10-12 10:23:00</td>\n",
       "      <td>0.42</td>\n",
       "      <td>18287.0</td>\n",
       "      <td>United Kingdom</td>\n",
       "    </tr>\n",
       "  </tbody>\n",
       "</table>\n",
       "<p>401604 rows × 8 columns</p>\n",
       "</div>"
      ],
      "text/plain": [
       "       InvoiceNo StockCode                         Description  Quantity  \\\n",
       "61619     541431     23166      MEDIUM CERAMIC TOP STORAGE JAR     74215   \n",
       "61624    C541433     23166      MEDIUM CERAMIC TOP STORAGE JAR    -74215   \n",
       "286628    562032     21578    WOODLAND DESIGN  COTTON TOTE BAG         6   \n",
       "72263     542237    47559B                 TEA TIME OVEN GLOVE        10   \n",
       "72264     542237     21154           RED RETROSPOT OVEN GLOVE         10   \n",
       "...          ...       ...                                 ...       ...   \n",
       "392737    570715     23269    SET OF 2 CERAMIC CHRISTMAS TREES        36   \n",
       "392736    570715     23223      CHRISTMAS TREE HANGING SILVER         48   \n",
       "392735    570715     23378   PACK OF 12 50'S CHRISTMAS TISSUES        24   \n",
       "423939    573167     23264  SET OF 3 WOODEN SLEIGH DECORATIONS        36   \n",
       "392751    570715     22421                LIPSTICK PEN FUSCHIA        12   \n",
       "\n",
       "               InvoiceDate  UnitPrice  CustomerID         Country  \n",
       "61619  2011-01-18 10:01:00       1.04     12346.0  United Kingdom  \n",
       "61624  2011-01-18 10:17:00       1.04     12346.0  United Kingdom  \n",
       "286628 2011-08-02 08:48:00       2.25     12347.0         Iceland  \n",
       "72263  2011-01-26 14:30:00       1.25     12347.0         Iceland  \n",
       "72264  2011-01-26 14:30:00       1.25     12347.0         Iceland  \n",
       "...                    ...        ...         ...             ...  \n",
       "392737 2011-10-12 10:23:00       1.45     18287.0  United Kingdom  \n",
       "392736 2011-10-12 10:23:00       0.83     18287.0  United Kingdom  \n",
       "392735 2011-10-12 10:23:00       0.39     18287.0  United Kingdom  \n",
       "423939 2011-10-28 09:29:00       1.25     18287.0  United Kingdom  \n",
       "392751 2011-10-12 10:23:00       0.42     18287.0  United Kingdom  \n",
       "\n",
       "[401604 rows x 8 columns]"
      ]
     },
     "execution_count": 9,
     "metadata": {},
     "output_type": "execute_result"
    }
   ],
   "source": [
    "data = dropNull(data, cols=['CustomerID'])\n",
    "data"
   ]
  },
  {
   "attachments": {},
   "cell_type": "markdown",
   "metadata": {},
   "source": [
    "## **Data Types**"
   ]
  },
  {
   "cell_type": "code",
   "execution_count": 10,
   "metadata": {},
   "outputs": [
    {
     "name": "stdout",
     "output_type": "stream",
     "text": [
      "Dimensions\t: (401604, 8)\n",
      "Data Size\t: 107.96 MB\n",
      "Duplicated Data\t: 0\n",
      "========================\n",
      "SUMMARY\n"
     ]
    },
    {
     "data": {
      "text/html": [
       "<div>\n",
       "<style scoped>\n",
       "    .dataframe tbody tr th:only-of-type {\n",
       "        vertical-align: middle;\n",
       "    }\n",
       "\n",
       "    .dataframe tbody tr th {\n",
       "        vertical-align: top;\n",
       "    }\n",
       "\n",
       "    .dataframe thead th {\n",
       "        text-align: right;\n",
       "    }\n",
       "</style>\n",
       "<table border=\"1\" class=\"dataframe\">\n",
       "  <thead>\n",
       "    <tr style=\"text-align: right;\">\n",
       "      <th></th>\n",
       "      <th>dtype</th>\n",
       "      <th>count_of_null</th>\n",
       "      <th>null_ratio</th>\n",
       "      <th>count_of_distinct</th>\n",
       "      <th>distinct_value</th>\n",
       "    </tr>\n",
       "  </thead>\n",
       "  <tbody>\n",
       "    <tr>\n",
       "      <th>InvoiceNo</th>\n",
       "      <td>object</td>\n",
       "      <td>0</td>\n",
       "      <td>0.0</td>\n",
       "      <td>22190</td>\n",
       "      <td>[541431, C541433, 562032, 542237, 573511, 5562...</td>\n",
       "    </tr>\n",
       "    <tr>\n",
       "      <th>StockCode</th>\n",
       "      <td>object</td>\n",
       "      <td>0</td>\n",
       "      <td>0.0</td>\n",
       "      <td>3684</td>\n",
       "      <td>[23166, 21578, 47559B, 21154, 21041, 21035, 22...</td>\n",
       "    </tr>\n",
       "    <tr>\n",
       "      <th>Description</th>\n",
       "      <td>object</td>\n",
       "      <td>0</td>\n",
       "      <td>0.0</td>\n",
       "      <td>3896</td>\n",
       "      <td>[MEDIUM CERAMIC TOP STORAGE JAR, WOODLAND DESI...</td>\n",
       "    </tr>\n",
       "    <tr>\n",
       "      <th>Quantity</th>\n",
       "      <td>int64</td>\n",
       "      <td>0</td>\n",
       "      <td>0.0</td>\n",
       "      <td>436</td>\n",
       "      <td>[74215, -74215, 6, 10, 3, 12, 4, 8, 24, 20, 2,...</td>\n",
       "    </tr>\n",
       "    <tr>\n",
       "      <th>InvoiceDate</th>\n",
       "      <td>datetime64[ns]</td>\n",
       "      <td>0</td>\n",
       "      <td>0.0</td>\n",
       "      <td>20460</td>\n",
       "      <td>[2011-01-18T10:01:00.000000000, 2011-01-18T10:...</td>\n",
       "    </tr>\n",
       "    <tr>\n",
       "      <th>UnitPrice</th>\n",
       "      <td>float64</td>\n",
       "      <td>0</td>\n",
       "      <td>0.0</td>\n",
       "      <td>620</td>\n",
       "      <td>[1.04, 2.25, 1.25, 2.95, 12.75, 4.25, 0.42, 1....</td>\n",
       "    </tr>\n",
       "    <tr>\n",
       "      <th>CustomerID</th>\n",
       "      <td>float64</td>\n",
       "      <td>0</td>\n",
       "      <td>0.0</td>\n",
       "      <td>4372</td>\n",
       "      <td>[12346.0, 12347.0, 12348.0, 12349.0, 12350.0, ...</td>\n",
       "    </tr>\n",
       "    <tr>\n",
       "      <th>Country</th>\n",
       "      <td>object</td>\n",
       "      <td>0</td>\n",
       "      <td>0.0</td>\n",
       "      <td>37</td>\n",
       "      <td>[United Kingdom, Iceland, Finland, Italy, Norw...</td>\n",
       "    </tr>\n",
       "  </tbody>\n",
       "</table>\n",
       "</div>"
      ],
      "text/plain": [
       "                      dtype  count_of_null  null_ratio  count_of_distinct  \\\n",
       "InvoiceNo            object              0         0.0              22190   \n",
       "StockCode            object              0         0.0               3684   \n",
       "Description          object              0         0.0               3896   \n",
       "Quantity              int64              0         0.0                436   \n",
       "InvoiceDate  datetime64[ns]              0         0.0              20460   \n",
       "UnitPrice           float64              0         0.0                620   \n",
       "CustomerID          float64              0         0.0               4372   \n",
       "Country              object              0         0.0                 37   \n",
       "\n",
       "                                                distinct_value  \n",
       "InvoiceNo    [541431, C541433, 562032, 542237, 573511, 5562...  \n",
       "StockCode    [23166, 21578, 47559B, 21154, 21041, 21035, 22...  \n",
       "Description  [MEDIUM CERAMIC TOP STORAGE JAR, WOODLAND DESI...  \n",
       "Quantity     [74215, -74215, 6, 10, 3, 12, 4, 8, 24, 20, 2,...  \n",
       "InvoiceDate  [2011-01-18T10:01:00.000000000, 2011-01-18T10:...  \n",
       "UnitPrice    [1.04, 2.25, 1.25, 2.95, 12.75, 4.25, 0.42, 1....  \n",
       "CustomerID   [12346.0, 12347.0, 12348.0, 12349.0, 12350.0, ...  \n",
       "Country      [United Kingdom, Iceland, Finland, Italy, Norw...  "
      ]
     },
     "metadata": {},
     "output_type": "display_data"
    }
   ],
   "source": [
    "dataProfile(data)"
   ]
  },
  {
   "cell_type": "code",
   "execution_count": 11,
   "metadata": {},
   "outputs": [],
   "source": [
    "data.CustomerID = data.CustomerID.astype('str')\n",
    "# data.CustomerID = data.CustomerID.str.replace(r'\\D+0', '', regex=True)\n",
    "numericalColumns = ['Quantity', 'UnitPrice', 'InvoiceDate']\n",
    "for value in data.columns:\n",
    "  if value not in numericalColumns:\n",
    "    data[value] = data[value].astype('str')"
   ]
  },
  {
   "cell_type": "code",
   "execution_count": 12,
   "metadata": {},
   "outputs": [
    {
     "name": "stdout",
     "output_type": "stream",
     "text": [
      "Dimensions\t: (401604, 8)\n",
      "Data Size\t: 150.58 MB\n",
      "Duplicated Data\t: 0\n",
      "========================\n",
      "SUMMARY\n"
     ]
    },
    {
     "data": {
      "text/html": [
       "<div>\n",
       "<style scoped>\n",
       "    .dataframe tbody tr th:only-of-type {\n",
       "        vertical-align: middle;\n",
       "    }\n",
       "\n",
       "    .dataframe tbody tr th {\n",
       "        vertical-align: top;\n",
       "    }\n",
       "\n",
       "    .dataframe thead th {\n",
       "        text-align: right;\n",
       "    }\n",
       "</style>\n",
       "<table border=\"1\" class=\"dataframe\">\n",
       "  <thead>\n",
       "    <tr style=\"text-align: right;\">\n",
       "      <th></th>\n",
       "      <th>dtype</th>\n",
       "      <th>count_of_null</th>\n",
       "      <th>null_ratio</th>\n",
       "      <th>count_of_distinct</th>\n",
       "      <th>distinct_value</th>\n",
       "    </tr>\n",
       "  </thead>\n",
       "  <tbody>\n",
       "    <tr>\n",
       "      <th>InvoiceNo</th>\n",
       "      <td>object</td>\n",
       "      <td>0</td>\n",
       "      <td>0.0</td>\n",
       "      <td>22190</td>\n",
       "      <td>[541431, C541433, 562032, 542237, 573511, 5562...</td>\n",
       "    </tr>\n",
       "    <tr>\n",
       "      <th>StockCode</th>\n",
       "      <td>object</td>\n",
       "      <td>0</td>\n",
       "      <td>0.0</td>\n",
       "      <td>3684</td>\n",
       "      <td>[23166, 21578, 47559B, 21154, 21041, 21035, 22...</td>\n",
       "    </tr>\n",
       "    <tr>\n",
       "      <th>Description</th>\n",
       "      <td>object</td>\n",
       "      <td>0</td>\n",
       "      <td>0.0</td>\n",
       "      <td>3896</td>\n",
       "      <td>[MEDIUM CERAMIC TOP STORAGE JAR, WOODLAND DESI...</td>\n",
       "    </tr>\n",
       "    <tr>\n",
       "      <th>Quantity</th>\n",
       "      <td>int64</td>\n",
       "      <td>0</td>\n",
       "      <td>0.0</td>\n",
       "      <td>436</td>\n",
       "      <td>[74215, -74215, 6, 10, 3, 12, 4, 8, 24, 20, 2,...</td>\n",
       "    </tr>\n",
       "    <tr>\n",
       "      <th>InvoiceDate</th>\n",
       "      <td>datetime64[ns]</td>\n",
       "      <td>0</td>\n",
       "      <td>0.0</td>\n",
       "      <td>20460</td>\n",
       "      <td>[2011-01-18T10:01:00.000000000, 2011-01-18T10:...</td>\n",
       "    </tr>\n",
       "    <tr>\n",
       "      <th>UnitPrice</th>\n",
       "      <td>float64</td>\n",
       "      <td>0</td>\n",
       "      <td>0.0</td>\n",
       "      <td>620</td>\n",
       "      <td>[1.04, 2.25, 1.25, 2.95, 12.75, 4.25, 0.42, 1....</td>\n",
       "    </tr>\n",
       "    <tr>\n",
       "      <th>CustomerID</th>\n",
       "      <td>object</td>\n",
       "      <td>0</td>\n",
       "      <td>0.0</td>\n",
       "      <td>4372</td>\n",
       "      <td>[12346.0, 12347.0, 12348.0, 12349.0, 12350.0, ...</td>\n",
       "    </tr>\n",
       "    <tr>\n",
       "      <th>Country</th>\n",
       "      <td>object</td>\n",
       "      <td>0</td>\n",
       "      <td>0.0</td>\n",
       "      <td>37</td>\n",
       "      <td>[United Kingdom, Iceland, Finland, Italy, Norw...</td>\n",
       "    </tr>\n",
       "  </tbody>\n",
       "</table>\n",
       "</div>"
      ],
      "text/plain": [
       "                      dtype  count_of_null  null_ratio  count_of_distinct  \\\n",
       "InvoiceNo            object              0         0.0              22190   \n",
       "StockCode            object              0         0.0               3684   \n",
       "Description          object              0         0.0               3896   \n",
       "Quantity              int64              0         0.0                436   \n",
       "InvoiceDate  datetime64[ns]              0         0.0              20460   \n",
       "UnitPrice           float64              0         0.0                620   \n",
       "CustomerID           object              0         0.0               4372   \n",
       "Country              object              0         0.0                 37   \n",
       "\n",
       "                                                distinct_value  \n",
       "InvoiceNo    [541431, C541433, 562032, 542237, 573511, 5562...  \n",
       "StockCode    [23166, 21578, 47559B, 21154, 21041, 21035, 22...  \n",
       "Description  [MEDIUM CERAMIC TOP STORAGE JAR, WOODLAND DESI...  \n",
       "Quantity     [74215, -74215, 6, 10, 3, 12, 4, 8, 24, 20, 2,...  \n",
       "InvoiceDate  [2011-01-18T10:01:00.000000000, 2011-01-18T10:...  \n",
       "UnitPrice    [1.04, 2.25, 1.25, 2.95, 12.75, 4.25, 0.42, 1....  \n",
       "CustomerID   [12346.0, 12347.0, 12348.0, 12349.0, 12350.0, ...  \n",
       "Country      [United Kingdom, Iceland, Finland, Italy, Norw...  "
      ]
     },
     "metadata": {},
     "output_type": "display_data"
    }
   ],
   "source": [
    "dataProfile(data)"
   ]
  },
  {
   "attachments": {},
   "cell_type": "markdown",
   "metadata": {},
   "source": [
    "## **Explore Qty**"
   ]
  },
  {
   "cell_type": "code",
   "execution_count": 13,
   "metadata": {},
   "outputs": [
    {
     "name": "stdout",
     "output_type": "stream",
     "text": [
      "Numeric Features\n"
     ]
    },
    {
     "data": {
      "text/html": [
       "<div>\n",
       "<style scoped>\n",
       "    .dataframe tbody tr th:only-of-type {\n",
       "        vertical-align: middle;\n",
       "    }\n",
       "\n",
       "    .dataframe tbody tr th {\n",
       "        vertical-align: top;\n",
       "    }\n",
       "\n",
       "    .dataframe thead th {\n",
       "        text-align: right;\n",
       "    }\n",
       "</style>\n",
       "<table border=\"1\" class=\"dataframe\">\n",
       "  <thead>\n",
       "    <tr style=\"text-align: right;\">\n",
       "      <th></th>\n",
       "      <th>Quantity</th>\n",
       "      <th>UnitPrice</th>\n",
       "    </tr>\n",
       "  </thead>\n",
       "  <tbody>\n",
       "    <tr>\n",
       "      <th>count</th>\n",
       "      <td>401604.000000</td>\n",
       "      <td>401604.000000</td>\n",
       "    </tr>\n",
       "    <tr>\n",
       "      <th>mean</th>\n",
       "      <td>12.183273</td>\n",
       "      <td>3.474064</td>\n",
       "    </tr>\n",
       "    <tr>\n",
       "      <th>std</th>\n",
       "      <td>250.283037</td>\n",
       "      <td>69.764035</td>\n",
       "    </tr>\n",
       "    <tr>\n",
       "      <th>min</th>\n",
       "      <td>-80995.000000</td>\n",
       "      <td>0.000000</td>\n",
       "    </tr>\n",
       "    <tr>\n",
       "      <th>25%</th>\n",
       "      <td>2.000000</td>\n",
       "      <td>1.250000</td>\n",
       "    </tr>\n",
       "    <tr>\n",
       "      <th>50%</th>\n",
       "      <td>5.000000</td>\n",
       "      <td>1.950000</td>\n",
       "    </tr>\n",
       "    <tr>\n",
       "      <th>75%</th>\n",
       "      <td>12.000000</td>\n",
       "      <td>3.750000</td>\n",
       "    </tr>\n",
       "    <tr>\n",
       "      <th>max</th>\n",
       "      <td>80995.000000</td>\n",
       "      <td>38970.000000</td>\n",
       "    </tr>\n",
       "  </tbody>\n",
       "</table>\n",
       "</div>"
      ],
      "text/plain": [
       "            Quantity      UnitPrice\n",
       "count  401604.000000  401604.000000\n",
       "mean       12.183273       3.474064\n",
       "std       250.283037      69.764035\n",
       "min    -80995.000000       0.000000\n",
       "25%         2.000000       1.250000\n",
       "50%         5.000000       1.950000\n",
       "75%        12.000000       3.750000\n",
       "max     80995.000000   38970.000000"
      ]
     },
     "metadata": {},
     "output_type": "display_data"
    },
    {
     "name": "stdout",
     "output_type": "stream",
     "text": [
      "========================\n",
      "Categoric Features\n"
     ]
    },
    {
     "data": {
      "text/html": [
       "<div>\n",
       "<style scoped>\n",
       "    .dataframe tbody tr th:only-of-type {\n",
       "        vertical-align: middle;\n",
       "    }\n",
       "\n",
       "    .dataframe tbody tr th {\n",
       "        vertical-align: top;\n",
       "    }\n",
       "\n",
       "    .dataframe thead th {\n",
       "        text-align: right;\n",
       "    }\n",
       "</style>\n",
       "<table border=\"1\" class=\"dataframe\">\n",
       "  <thead>\n",
       "    <tr style=\"text-align: right;\">\n",
       "      <th></th>\n",
       "      <th>InvoiceNo</th>\n",
       "      <th>StockCode</th>\n",
       "      <th>Description</th>\n",
       "      <th>CustomerID</th>\n",
       "      <th>Country</th>\n",
       "    </tr>\n",
       "  </thead>\n",
       "  <tbody>\n",
       "    <tr>\n",
       "      <th>count</th>\n",
       "      <td>401604</td>\n",
       "      <td>401604</td>\n",
       "      <td>401604</td>\n",
       "      <td>401604</td>\n",
       "      <td>401604</td>\n",
       "    </tr>\n",
       "    <tr>\n",
       "      <th>unique</th>\n",
       "      <td>22190</td>\n",
       "      <td>3684</td>\n",
       "      <td>3896</td>\n",
       "      <td>4372</td>\n",
       "      <td>37</td>\n",
       "    </tr>\n",
       "    <tr>\n",
       "      <th>top</th>\n",
       "      <td>576339</td>\n",
       "      <td>85123A</td>\n",
       "      <td>WHITE HANGING HEART T-LIGHT HOLDER</td>\n",
       "      <td>17841.0</td>\n",
       "      <td>United Kingdom</td>\n",
       "    </tr>\n",
       "    <tr>\n",
       "      <th>freq</th>\n",
       "      <td>542</td>\n",
       "      <td>2065</td>\n",
       "      <td>2058</td>\n",
       "      <td>7812</td>\n",
       "      <td>356728</td>\n",
       "    </tr>\n",
       "  </tbody>\n",
       "</table>\n",
       "</div>"
      ],
      "text/plain": [
       "       InvoiceNo StockCode                         Description CustomerID  \\\n",
       "count     401604    401604                              401604     401604   \n",
       "unique     22190      3684                                3896       4372   \n",
       "top       576339    85123A  WHITE HANGING HEART T-LIGHT HOLDER    17841.0   \n",
       "freq         542      2065                                2058       7812   \n",
       "\n",
       "               Country  \n",
       "count           401604  \n",
       "unique              37  \n",
       "top     United Kingdom  \n",
       "freq            356728  "
      ]
     },
     "metadata": {},
     "output_type": "display_data"
    }
   ],
   "source": [
    "dataStatistics(data)"
   ]
  },
  {
   "attachments": {},
   "cell_type": "markdown",
   "metadata": {},
   "source": [
    "### **Duplicated values and null values has been removed. Negative value in Quantity?**\n",
    "negative qty -> refund?"
   ]
  },
  {
   "cell_type": "code",
   "execution_count": 14,
   "metadata": {},
   "outputs": [
    {
     "name": "stdout",
     "output_type": "stream",
     "text": [
      "NEGATIVE QTY ==> refund?\n",
      "InvoiceNo startwith: ['C']\n"
     ]
    },
    {
     "data": {
      "text/html": [
       "<div>\n",
       "<style scoped>\n",
       "    .dataframe tbody tr th:only-of-type {\n",
       "        vertical-align: middle;\n",
       "    }\n",
       "\n",
       "    .dataframe tbody tr th {\n",
       "        vertical-align: top;\n",
       "    }\n",
       "\n",
       "    .dataframe thead th {\n",
       "        text-align: right;\n",
       "    }\n",
       "</style>\n",
       "<table border=\"1\" class=\"dataframe\">\n",
       "  <thead>\n",
       "    <tr style=\"text-align: right;\">\n",
       "      <th></th>\n",
       "      <th>InvoiceNo</th>\n",
       "      <th>StockCode</th>\n",
       "      <th>Description</th>\n",
       "      <th>Quantity</th>\n",
       "      <th>InvoiceDate</th>\n",
       "      <th>UnitPrice</th>\n",
       "      <th>CustomerID</th>\n",
       "      <th>Country</th>\n",
       "    </tr>\n",
       "  </thead>\n",
       "  <tbody>\n",
       "    <tr>\n",
       "      <th>61624</th>\n",
       "      <td>C541433</td>\n",
       "      <td>23166</td>\n",
       "      <td>MEDIUM CERAMIC TOP STORAGE JAR</td>\n",
       "      <td>-74215</td>\n",
       "      <td>2011-01-18 10:17:00</td>\n",
       "      <td>1.04</td>\n",
       "      <td>12346.0</td>\n",
       "      <td>United Kingdom</td>\n",
       "    </tr>\n",
       "    <tr>\n",
       "      <th>106397</th>\n",
       "      <td>C545330</td>\n",
       "      <td>M</td>\n",
       "      <td>Manual</td>\n",
       "      <td>-1</td>\n",
       "      <td>2011-03-01 15:49:00</td>\n",
       "      <td>376.50</td>\n",
       "      <td>12352.0</td>\n",
       "      <td>Norway</td>\n",
       "    </tr>\n",
       "    <tr>\n",
       "      <th>106395</th>\n",
       "      <td>C545329</td>\n",
       "      <td>M</td>\n",
       "      <td>Manual</td>\n",
       "      <td>-1</td>\n",
       "      <td>2011-03-01 15:47:00</td>\n",
       "      <td>183.75</td>\n",
       "      <td>12352.0</td>\n",
       "      <td>Norway</td>\n",
       "    </tr>\n",
       "    <tr>\n",
       "      <th>106394</th>\n",
       "      <td>C545329</td>\n",
       "      <td>M</td>\n",
       "      <td>Manual</td>\n",
       "      <td>-1</td>\n",
       "      <td>2011-03-01 15:47:00</td>\n",
       "      <td>280.05</td>\n",
       "      <td>12352.0</td>\n",
       "      <td>Norway</td>\n",
       "    </tr>\n",
       "    <tr>\n",
       "      <th>129743</th>\n",
       "      <td>C547388</td>\n",
       "      <td>21914</td>\n",
       "      <td>BLUE HARMONICA IN BOX</td>\n",
       "      <td>-12</td>\n",
       "      <td>2011-03-22 16:07:00</td>\n",
       "      <td>1.25</td>\n",
       "      <td>12352.0</td>\n",
       "      <td>Norway</td>\n",
       "    </tr>\n",
       "    <tr>\n",
       "      <th>...</th>\n",
       "      <td>...</td>\n",
       "      <td>...</td>\n",
       "      <td>...</td>\n",
       "      <td>...</td>\n",
       "      <td>...</td>\n",
       "      <td>...</td>\n",
       "      <td>...</td>\n",
       "      <td>...</td>\n",
       "    </tr>\n",
       "    <tr>\n",
       "      <th>488515</th>\n",
       "      <td>C577832</td>\n",
       "      <td>84988</td>\n",
       "      <td>SET OF 72 PINK HEART PAPER DOILIES</td>\n",
       "      <td>-12</td>\n",
       "      <td>2011-11-22 10:18:00</td>\n",
       "      <td>1.45</td>\n",
       "      <td>18274.0</td>\n",
       "      <td>United Kingdom</td>\n",
       "    </tr>\n",
       "    <tr>\n",
       "      <th>481908</th>\n",
       "      <td>C577386</td>\n",
       "      <td>23401</td>\n",
       "      <td>RUSTIC MIRROR WITH LACE HEART</td>\n",
       "      <td>-1</td>\n",
       "      <td>2011-11-18 16:54:00</td>\n",
       "      <td>6.25</td>\n",
       "      <td>18276.0</td>\n",
       "      <td>United Kingdom</td>\n",
       "    </tr>\n",
       "    <tr>\n",
       "      <th>481921</th>\n",
       "      <td>C577390</td>\n",
       "      <td>23401</td>\n",
       "      <td>RUSTIC MIRROR WITH LACE HEART</td>\n",
       "      <td>-1</td>\n",
       "      <td>2011-11-18 17:01:00</td>\n",
       "      <td>6.25</td>\n",
       "      <td>18276.0</td>\n",
       "      <td>United Kingdom</td>\n",
       "    </tr>\n",
       "    <tr>\n",
       "      <th>70604</th>\n",
       "      <td>C542086</td>\n",
       "      <td>22423</td>\n",
       "      <td>REGENCY CAKESTAND 3 TIER</td>\n",
       "      <td>-1</td>\n",
       "      <td>2011-01-25 12:34:00</td>\n",
       "      <td>12.75</td>\n",
       "      <td>18277.0</td>\n",
       "      <td>United Kingdom</td>\n",
       "    </tr>\n",
       "    <tr>\n",
       "      <th>295686</th>\n",
       "      <td>C562808</td>\n",
       "      <td>23187</td>\n",
       "      <td>FRENCH STYLE STORAGE JAR BONBONS</td>\n",
       "      <td>-5</td>\n",
       "      <td>2011-08-09 15:10:00</td>\n",
       "      <td>0.29</td>\n",
       "      <td>18282.0</td>\n",
       "      <td>United Kingdom</td>\n",
       "    </tr>\n",
       "  </tbody>\n",
       "</table>\n",
       "<p>8872 rows × 8 columns</p>\n",
       "</div>"
      ],
      "text/plain": [
       "       InvoiceNo StockCode                         Description  Quantity  \\\n",
       "61624    C541433     23166      MEDIUM CERAMIC TOP STORAGE JAR    -74215   \n",
       "106397   C545330         M                              Manual        -1   \n",
       "106395   C545329         M                              Manual        -1   \n",
       "106394   C545329         M                              Manual        -1   \n",
       "129743   C547388     21914              BLUE HARMONICA IN BOX        -12   \n",
       "...          ...       ...                                 ...       ...   \n",
       "488515   C577832     84988  SET OF 72 PINK HEART PAPER DOILIES       -12   \n",
       "481908   C577386     23401       RUSTIC MIRROR WITH LACE HEART        -1   \n",
       "481921   C577390     23401       RUSTIC MIRROR WITH LACE HEART        -1   \n",
       "70604    C542086     22423            REGENCY CAKESTAND 3 TIER        -1   \n",
       "295686   C562808     23187    FRENCH STYLE STORAGE JAR BONBONS        -5   \n",
       "\n",
       "               InvoiceDate  UnitPrice CustomerID         Country  \n",
       "61624  2011-01-18 10:17:00       1.04    12346.0  United Kingdom  \n",
       "106397 2011-03-01 15:49:00     376.50    12352.0          Norway  \n",
       "106395 2011-03-01 15:47:00     183.75    12352.0          Norway  \n",
       "106394 2011-03-01 15:47:00     280.05    12352.0          Norway  \n",
       "129743 2011-03-22 16:07:00       1.25    12352.0          Norway  \n",
       "...                    ...        ...        ...             ...  \n",
       "488515 2011-11-22 10:18:00       1.45    18274.0  United Kingdom  \n",
       "481908 2011-11-18 16:54:00       6.25    18276.0  United Kingdom  \n",
       "481921 2011-11-18 17:01:00       6.25    18276.0  United Kingdom  \n",
       "70604  2011-01-25 12:34:00      12.75    18277.0  United Kingdom  \n",
       "295686 2011-08-09 15:10:00       0.29    18282.0  United Kingdom  \n",
       "\n",
       "[8872 rows x 8 columns]"
      ]
     },
     "metadata": {},
     "output_type": "display_data"
    },
    {
     "name": "stdout",
     "output_type": "stream",
     "text": [
      "========================\n",
      "ZERO UNITPRICE => free/bug/error?\n",
      "length: 40\n"
     ]
    },
    {
     "data": {
      "text/html": [
       "<div>\n",
       "<style scoped>\n",
       "    .dataframe tbody tr th:only-of-type {\n",
       "        vertical-align: middle;\n",
       "    }\n",
       "\n",
       "    .dataframe tbody tr th {\n",
       "        vertical-align: top;\n",
       "    }\n",
       "\n",
       "    .dataframe thead th {\n",
       "        text-align: right;\n",
       "    }\n",
       "</style>\n",
       "<table border=\"1\" class=\"dataframe\">\n",
       "  <thead>\n",
       "    <tr style=\"text-align: right;\">\n",
       "      <th></th>\n",
       "      <th>InvoiceNo</th>\n",
       "      <th>StockCode</th>\n",
       "      <th>Description</th>\n",
       "      <th>Quantity</th>\n",
       "      <th>InvoiceDate</th>\n",
       "      <th>UnitPrice</th>\n",
       "      <th>CustomerID</th>\n",
       "      <th>Country</th>\n",
       "    </tr>\n",
       "  </thead>\n",
       "  <tbody>\n",
       "    <tr>\n",
       "      <th>436428</th>\n",
       "      <td>574138</td>\n",
       "      <td>23234</td>\n",
       "      <td>BISCUIT TIN VINTAGE CHRISTMAS</td>\n",
       "      <td>216</td>\n",
       "      <td>2011-11-03 11:26:00</td>\n",
       "      <td>0.0</td>\n",
       "      <td>12415.0</td>\n",
       "      <td>Australia</td>\n",
       "    </tr>\n",
       "    <tr>\n",
       "      <th>198383</th>\n",
       "      <td>554037</td>\n",
       "      <td>22619</td>\n",
       "      <td>SET OF 6 SOLDIER SKITTLES</td>\n",
       "      <td>80</td>\n",
       "      <td>2011-05-20 14:13:00</td>\n",
       "      <td>0.0</td>\n",
       "      <td>12415.0</td>\n",
       "      <td>Australia</td>\n",
       "    </tr>\n",
       "    <tr>\n",
       "      <th>439361</th>\n",
       "      <td>574469</td>\n",
       "      <td>22385</td>\n",
       "      <td>JUMBO BAG SPACEBOY DESIGN</td>\n",
       "      <td>12</td>\n",
       "      <td>2011-11-04 11:55:00</td>\n",
       "      <td>0.0</td>\n",
       "      <td>12431.0</td>\n",
       "      <td>Australia</td>\n",
       "    </tr>\n",
       "    <tr>\n",
       "      <th>436961</th>\n",
       "      <td>574252</td>\n",
       "      <td>M</td>\n",
       "      <td>Manual</td>\n",
       "      <td>1</td>\n",
       "      <td>2011-11-03 13:24:00</td>\n",
       "      <td>0.0</td>\n",
       "      <td>12437.0</td>\n",
       "      <td>France</td>\n",
       "    </tr>\n",
       "    <tr>\n",
       "      <th>480649</th>\n",
       "      <td>577314</td>\n",
       "      <td>23407</td>\n",
       "      <td>SET OF 2 TRAYS HOME SWEET HOME</td>\n",
       "      <td>2</td>\n",
       "      <td>2011-11-18 13:23:00</td>\n",
       "      <td>0.0</td>\n",
       "      <td>12444.0</td>\n",
       "      <td>Norway</td>\n",
       "    </tr>\n",
       "    <tr>\n",
       "      <th>395529</th>\n",
       "      <td>571035</td>\n",
       "      <td>M</td>\n",
       "      <td>Manual</td>\n",
       "      <td>1</td>\n",
       "      <td>2011-10-13 12:50:00</td>\n",
       "      <td>0.0</td>\n",
       "      <td>12446.0</td>\n",
       "      <td>RSA</td>\n",
       "    </tr>\n",
       "    <tr>\n",
       "      <th>157042</th>\n",
       "      <td>550188</td>\n",
       "      <td>22636</td>\n",
       "      <td>CHILDS BREAKFAST SET CIRCUS PARADE</td>\n",
       "      <td>1</td>\n",
       "      <td>2011-04-14 18:57:00</td>\n",
       "      <td>0.0</td>\n",
       "      <td>12457.0</td>\n",
       "      <td>Switzerland</td>\n",
       "    </tr>\n",
       "    <tr>\n",
       "      <th>282912</th>\n",
       "      <td>561669</td>\n",
       "      <td>22960</td>\n",
       "      <td>JAM MAKING SET WITH JARS</td>\n",
       "      <td>11</td>\n",
       "      <td>2011-07-28 17:09:00</td>\n",
       "      <td>0.0</td>\n",
       "      <td>12507.0</td>\n",
       "      <td>Spain</td>\n",
       "    </tr>\n",
       "    <tr>\n",
       "      <th>479546</th>\n",
       "      <td>577168</td>\n",
       "      <td>M</td>\n",
       "      <td>Manual</td>\n",
       "      <td>1</td>\n",
       "      <td>2011-11-18 10:42:00</td>\n",
       "      <td>0.0</td>\n",
       "      <td>12603.0</td>\n",
       "      <td>Germany</td>\n",
       "    </tr>\n",
       "    <tr>\n",
       "      <th>9302</th>\n",
       "      <td>537197</td>\n",
       "      <td>22841</td>\n",
       "      <td>ROUND CAKE TIN VINTAGE GREEN</td>\n",
       "      <td>1</td>\n",
       "      <td>2010-12-05 14:02:00</td>\n",
       "      <td>0.0</td>\n",
       "      <td>12647.0</td>\n",
       "      <td>Germany</td>\n",
       "    </tr>\n",
       "    <tr>\n",
       "      <th>361825</th>\n",
       "      <td>568384</td>\n",
       "      <td>M</td>\n",
       "      <td>Manual</td>\n",
       "      <td>1</td>\n",
       "      <td>2011-09-27 09:46:00</td>\n",
       "      <td>0.0</td>\n",
       "      <td>12748.0</td>\n",
       "      <td>United Kingdom</td>\n",
       "    </tr>\n",
       "    <tr>\n",
       "      <th>446125</th>\n",
       "      <td>574879</td>\n",
       "      <td>22625</td>\n",
       "      <td>RED KITCHEN SCALES</td>\n",
       "      <td>2</td>\n",
       "      <td>2011-11-07 13:22:00</td>\n",
       "      <td>0.0</td>\n",
       "      <td>13014.0</td>\n",
       "      <td>United Kingdom</td>\n",
       "    </tr>\n",
       "    <tr>\n",
       "      <th>454463</th>\n",
       "      <td>575579</td>\n",
       "      <td>22437</td>\n",
       "      <td>SET OF 9 BLACK SKULL BALLOONS</td>\n",
       "      <td>20</td>\n",
       "      <td>2011-11-10 11:49:00</td>\n",
       "      <td>0.0</td>\n",
       "      <td>13081.0</td>\n",
       "      <td>United Kingdom</td>\n",
       "    </tr>\n",
       "    <tr>\n",
       "      <th>454464</th>\n",
       "      <td>575579</td>\n",
       "      <td>22089</td>\n",
       "      <td>PAPER BUNTING VINTAGE PAISLEY</td>\n",
       "      <td>24</td>\n",
       "      <td>2011-11-10 11:49:00</td>\n",
       "      <td>0.0</td>\n",
       "      <td>13081.0</td>\n",
       "      <td>United Kingdom</td>\n",
       "    </tr>\n",
       "    <tr>\n",
       "      <th>47068</th>\n",
       "      <td>540372</td>\n",
       "      <td>22090</td>\n",
       "      <td>PAPER BUNTING RETROSPOT</td>\n",
       "      <td>24</td>\n",
       "      <td>2011-01-06 16:41:00</td>\n",
       "      <td>0.0</td>\n",
       "      <td>13081.0</td>\n",
       "      <td>United Kingdom</td>\n",
       "    </tr>\n",
       "    <tr>\n",
       "      <th>47070</th>\n",
       "      <td>540372</td>\n",
       "      <td>22553</td>\n",
       "      <td>PLASTERS IN TIN SKULLS</td>\n",
       "      <td>24</td>\n",
       "      <td>2011-01-06 16:41:00</td>\n",
       "      <td>0.0</td>\n",
       "      <td>13081.0</td>\n",
       "      <td>United Kingdom</td>\n",
       "    </tr>\n",
       "    <tr>\n",
       "      <th>139453</th>\n",
       "      <td>548318</td>\n",
       "      <td>22055</td>\n",
       "      <td>MINI CAKE STAND  HANGING STRAWBERY</td>\n",
       "      <td>5</td>\n",
       "      <td>2011-03-30 12:45:00</td>\n",
       "      <td>0.0</td>\n",
       "      <td>13113.0</td>\n",
       "      <td>United Kingdom</td>\n",
       "    </tr>\n",
       "    <tr>\n",
       "      <th>130188</th>\n",
       "      <td>547417</td>\n",
       "      <td>22062</td>\n",
       "      <td>CERAMIC BOWL WITH LOVE HEART DESIGN</td>\n",
       "      <td>36</td>\n",
       "      <td>2011-03-23 10:25:00</td>\n",
       "      <td>0.0</td>\n",
       "      <td>13239.0</td>\n",
       "      <td>United Kingdom</td>\n",
       "    </tr>\n",
       "    <tr>\n",
       "      <th>502122</th>\n",
       "      <td>578841</td>\n",
       "      <td>84826</td>\n",
       "      <td>ASSTD DESIGN 3D PAPER STICKERS</td>\n",
       "      <td>12540</td>\n",
       "      <td>2011-11-25 15:57:00</td>\n",
       "      <td>0.0</td>\n",
       "      <td>13256.0</td>\n",
       "      <td>United Kingdom</td>\n",
       "    </tr>\n",
       "    <tr>\n",
       "      <th>446794</th>\n",
       "      <td>574920</td>\n",
       "      <td>23480</td>\n",
       "      <td>MINI LIGHTS WOODLAND MUSHROOMS</td>\n",
       "      <td>1</td>\n",
       "      <td>2011-11-07 16:34:00</td>\n",
       "      <td>0.0</td>\n",
       "      <td>13985.0</td>\n",
       "      <td>United Kingdom</td>\n",
       "    </tr>\n",
       "    <tr>\n",
       "      <th>446793</th>\n",
       "      <td>574920</td>\n",
       "      <td>22899</td>\n",
       "      <td>CHILDREN'S APRON DOLLY GIRL</td>\n",
       "      <td>1</td>\n",
       "      <td>2011-11-07 16:34:00</td>\n",
       "      <td>0.0</td>\n",
       "      <td>13985.0</td>\n",
       "      <td>United Kingdom</td>\n",
       "    </tr>\n",
       "    <tr>\n",
       "      <th>436597</th>\n",
       "      <td>574175</td>\n",
       "      <td>22065</td>\n",
       "      <td>CHRISTMAS PUDDING TRINKET POT</td>\n",
       "      <td>12</td>\n",
       "      <td>2011-11-03 11:47:00</td>\n",
       "      <td>0.0</td>\n",
       "      <td>14110.0</td>\n",
       "      <td>United Kingdom</td>\n",
       "    </tr>\n",
       "    <tr>\n",
       "      <th>145208</th>\n",
       "      <td>548871</td>\n",
       "      <td>22162</td>\n",
       "      <td>HEART GARLAND RUSTIC PADDED</td>\n",
       "      <td>2</td>\n",
       "      <td>2011-04-04 14:42:00</td>\n",
       "      <td>0.0</td>\n",
       "      <td>14410.0</td>\n",
       "      <td>United Kingdom</td>\n",
       "    </tr>\n",
       "    <tr>\n",
       "      <th>314745</th>\n",
       "      <td>564651</td>\n",
       "      <td>23270</td>\n",
       "      <td>SET OF 2 CERAMIC PAINTED HEARTS</td>\n",
       "      <td>96</td>\n",
       "      <td>2011-08-26 14:19:00</td>\n",
       "      <td>0.0</td>\n",
       "      <td>14646.0</td>\n",
       "      <td>Netherlands</td>\n",
       "    </tr>\n",
       "    <tr>\n",
       "      <th>314746</th>\n",
       "      <td>564651</td>\n",
       "      <td>23268</td>\n",
       "      <td>SET OF 2 CERAMIC CHRISTMAS REINDEER</td>\n",
       "      <td>192</td>\n",
       "      <td>2011-08-26 14:19:00</td>\n",
       "      <td>0.0</td>\n",
       "      <td>14646.0</td>\n",
       "      <td>Netherlands</td>\n",
       "    </tr>\n",
       "    <tr>\n",
       "      <th>314747</th>\n",
       "      <td>564651</td>\n",
       "      <td>22955</td>\n",
       "      <td>36 FOIL STAR CAKE CASES</td>\n",
       "      <td>144</td>\n",
       "      <td>2011-08-26 14:19:00</td>\n",
       "      <td>0.0</td>\n",
       "      <td>14646.0</td>\n",
       "      <td>Netherlands</td>\n",
       "    </tr>\n",
       "    <tr>\n",
       "      <th>314748</th>\n",
       "      <td>564651</td>\n",
       "      <td>21786</td>\n",
       "      <td>POLKADOT RAIN HAT</td>\n",
       "      <td>144</td>\n",
       "      <td>2011-08-26 14:19:00</td>\n",
       "      <td>0.0</td>\n",
       "      <td>14646.0</td>\n",
       "      <td>Netherlands</td>\n",
       "    </tr>\n",
       "    <tr>\n",
       "      <th>298054</th>\n",
       "      <td>562973</td>\n",
       "      <td>23157</td>\n",
       "      <td>SET OF 6 NATIVITY MAGNETS</td>\n",
       "      <td>240</td>\n",
       "      <td>2011-08-11 11:42:00</td>\n",
       "      <td>0.0</td>\n",
       "      <td>14911.0</td>\n",
       "      <td>EIRE</td>\n",
       "    </tr>\n",
       "    <tr>\n",
       "      <th>40089</th>\n",
       "      <td>539722</td>\n",
       "      <td>22423</td>\n",
       "      <td>REGENCY CAKESTAND 3 TIER</td>\n",
       "      <td>10</td>\n",
       "      <td>2010-12-21 13:45:00</td>\n",
       "      <td>0.0</td>\n",
       "      <td>14911.0</td>\n",
       "      <td>EIRE</td>\n",
       "    </tr>\n",
       "    <tr>\n",
       "      <th>56674</th>\n",
       "      <td>541109</td>\n",
       "      <td>22168</td>\n",
       "      <td>ORGANISER WOOD ANTIQUE WHITE</td>\n",
       "      <td>1</td>\n",
       "      <td>2011-01-13 15:10:00</td>\n",
       "      <td>0.0</td>\n",
       "      <td>15107.0</td>\n",
       "      <td>United Kingdom</td>\n",
       "    </tr>\n",
       "    <tr>\n",
       "      <th>285657</th>\n",
       "      <td>561916</td>\n",
       "      <td>M</td>\n",
       "      <td>Manual</td>\n",
       "      <td>1</td>\n",
       "      <td>2011-08-01 11:44:00</td>\n",
       "      <td>0.0</td>\n",
       "      <td>15581.0</td>\n",
       "      <td>United Kingdom</td>\n",
       "    </tr>\n",
       "    <tr>\n",
       "      <th>479079</th>\n",
       "      <td>577129</td>\n",
       "      <td>22464</td>\n",
       "      <td>HANGING METAL HEART LANTERN</td>\n",
       "      <td>4</td>\n",
       "      <td>2011-11-17 19:52:00</td>\n",
       "      <td>0.0</td>\n",
       "      <td>15602.0</td>\n",
       "      <td>United Kingdom</td>\n",
       "    </tr>\n",
       "    <tr>\n",
       "      <th>379913</th>\n",
       "      <td>569716</td>\n",
       "      <td>22778</td>\n",
       "      <td>GLASS CLOCHE SMALL</td>\n",
       "      <td>2</td>\n",
       "      <td>2011-10-06 08:17:00</td>\n",
       "      <td>0.0</td>\n",
       "      <td>15804.0</td>\n",
       "      <td>United Kingdom</td>\n",
       "    </tr>\n",
       "    <tr>\n",
       "      <th>358655</th>\n",
       "      <td>568158</td>\n",
       "      <td>PADS</td>\n",
       "      <td>PADS TO MATCH ALL CUSHIONS</td>\n",
       "      <td>1</td>\n",
       "      <td>2011-09-25 12:22:00</td>\n",
       "      <td>0.0</td>\n",
       "      <td>16133.0</td>\n",
       "      <td>United Kingdom</td>\n",
       "    </tr>\n",
       "    <tr>\n",
       "      <th>485985</th>\n",
       "      <td>577696</td>\n",
       "      <td>M</td>\n",
       "      <td>Manual</td>\n",
       "      <td>1</td>\n",
       "      <td>2011-11-21 11:57:00</td>\n",
       "      <td>0.0</td>\n",
       "      <td>16406.0</td>\n",
       "      <td>United Kingdom</td>\n",
       "    </tr>\n",
       "    <tr>\n",
       "      <th>33576</th>\n",
       "      <td>539263</td>\n",
       "      <td>22580</td>\n",
       "      <td>ADVENT CALENDAR GINGHAM SACK</td>\n",
       "      <td>4</td>\n",
       "      <td>2010-12-16 14:36:00</td>\n",
       "      <td>0.0</td>\n",
       "      <td>16560.0</td>\n",
       "      <td>United Kingdom</td>\n",
       "    </tr>\n",
       "    <tr>\n",
       "      <th>279324</th>\n",
       "      <td>561284</td>\n",
       "      <td>22167</td>\n",
       "      <td>OVAL WALL MIRROR DIAMANTE</td>\n",
       "      <td>1</td>\n",
       "      <td>2011-07-26 12:24:00</td>\n",
       "      <td>0.0</td>\n",
       "      <td>16818.0</td>\n",
       "      <td>United Kingdom</td>\n",
       "    </tr>\n",
       "    <tr>\n",
       "      <th>86789</th>\n",
       "      <td>543599</td>\n",
       "      <td>84535B</td>\n",
       "      <td>FAIRY CAKES NOTEBOOK A6 SIZE</td>\n",
       "      <td>16</td>\n",
       "      <td>2011-02-10 13:08:00</td>\n",
       "      <td>0.0</td>\n",
       "      <td>17560.0</td>\n",
       "      <td>United Kingdom</td>\n",
       "    </tr>\n",
       "    <tr>\n",
       "      <th>187613</th>\n",
       "      <td>553000</td>\n",
       "      <td>47566</td>\n",
       "      <td>PARTY BUNTING</td>\n",
       "      <td>4</td>\n",
       "      <td>2011-05-12 15:21:00</td>\n",
       "      <td>0.0</td>\n",
       "      <td>17667.0</td>\n",
       "      <td>United Kingdom</td>\n",
       "    </tr>\n",
       "    <tr>\n",
       "      <th>420404</th>\n",
       "      <td>572893</td>\n",
       "      <td>21208</td>\n",
       "      <td>PASTEL COLOUR HONEYCOMB FAN</td>\n",
       "      <td>5</td>\n",
       "      <td>2011-10-26 14:36:00</td>\n",
       "      <td>0.0</td>\n",
       "      <td>18059.0</td>\n",
       "      <td>United Kingdom</td>\n",
       "    </tr>\n",
       "  </tbody>\n",
       "</table>\n",
       "</div>"
      ],
      "text/plain": [
       "       InvoiceNo StockCode                          Description  Quantity  \\\n",
       "436428    574138     23234        BISCUIT TIN VINTAGE CHRISTMAS       216   \n",
       "198383    554037     22619            SET OF 6 SOLDIER SKITTLES        80   \n",
       "439361    574469     22385            JUMBO BAG SPACEBOY DESIGN        12   \n",
       "436961    574252         M                               Manual         1   \n",
       "480649    577314     23407       SET OF 2 TRAYS HOME SWEET HOME         2   \n",
       "395529    571035         M                               Manual         1   \n",
       "157042    550188     22636   CHILDS BREAKFAST SET CIRCUS PARADE         1   \n",
       "282912    561669     22960             JAM MAKING SET WITH JARS        11   \n",
       "479546    577168         M                               Manual         1   \n",
       "9302      537197     22841         ROUND CAKE TIN VINTAGE GREEN         1   \n",
       "361825    568384         M                               Manual         1   \n",
       "446125    574879     22625                   RED KITCHEN SCALES         2   \n",
       "454463    575579     22437        SET OF 9 BLACK SKULL BALLOONS        20   \n",
       "454464    575579     22089        PAPER BUNTING VINTAGE PAISLEY        24   \n",
       "47068     540372     22090              PAPER BUNTING RETROSPOT        24   \n",
       "47070     540372     22553               PLASTERS IN TIN SKULLS        24   \n",
       "139453    548318     22055   MINI CAKE STAND  HANGING STRAWBERY         5   \n",
       "130188    547417     22062  CERAMIC BOWL WITH LOVE HEART DESIGN        36   \n",
       "502122    578841     84826       ASSTD DESIGN 3D PAPER STICKERS     12540   \n",
       "446794    574920     23480       MINI LIGHTS WOODLAND MUSHROOMS         1   \n",
       "446793    574920     22899         CHILDREN'S APRON DOLLY GIRL          1   \n",
       "436597    574175     22065       CHRISTMAS PUDDING TRINKET POT         12   \n",
       "145208    548871     22162          HEART GARLAND RUSTIC PADDED         2   \n",
       "314745    564651     23270     SET OF 2 CERAMIC PAINTED HEARTS         96   \n",
       "314746    564651     23268  SET OF 2 CERAMIC CHRISTMAS REINDEER       192   \n",
       "314747    564651     22955             36 FOIL STAR CAKE CASES        144   \n",
       "314748    564651     21786                   POLKADOT RAIN HAT        144   \n",
       "298054    562973     23157           SET OF 6 NATIVITY MAGNETS        240   \n",
       "40089     539722     22423             REGENCY CAKESTAND 3 TIER        10   \n",
       "56674     541109     22168        ORGANISER WOOD ANTIQUE WHITE          1   \n",
       "285657    561916         M                               Manual         1   \n",
       "479079    577129     22464          HANGING METAL HEART LANTERN         4   \n",
       "379913    569716     22778                   GLASS CLOCHE SMALL         2   \n",
       "358655    568158      PADS           PADS TO MATCH ALL CUSHIONS         1   \n",
       "485985    577696         M                               Manual         1   \n",
       "33576     539263     22580         ADVENT CALENDAR GINGHAM SACK         4   \n",
       "279324    561284     22167           OVAL WALL MIRROR DIAMANTE          1   \n",
       "86789     543599    84535B         FAIRY CAKES NOTEBOOK A6 SIZE        16   \n",
       "187613    553000     47566                        PARTY BUNTING         4   \n",
       "420404    572893     21208          PASTEL COLOUR HONEYCOMB FAN         5   \n",
       "\n",
       "               InvoiceDate  UnitPrice CustomerID         Country  \n",
       "436428 2011-11-03 11:26:00        0.0    12415.0       Australia  \n",
       "198383 2011-05-20 14:13:00        0.0    12415.0       Australia  \n",
       "439361 2011-11-04 11:55:00        0.0    12431.0       Australia  \n",
       "436961 2011-11-03 13:24:00        0.0    12437.0          France  \n",
       "480649 2011-11-18 13:23:00        0.0    12444.0          Norway  \n",
       "395529 2011-10-13 12:50:00        0.0    12446.0             RSA  \n",
       "157042 2011-04-14 18:57:00        0.0    12457.0     Switzerland  \n",
       "282912 2011-07-28 17:09:00        0.0    12507.0           Spain  \n",
       "479546 2011-11-18 10:42:00        0.0    12603.0         Germany  \n",
       "9302   2010-12-05 14:02:00        0.0    12647.0         Germany  \n",
       "361825 2011-09-27 09:46:00        0.0    12748.0  United Kingdom  \n",
       "446125 2011-11-07 13:22:00        0.0    13014.0  United Kingdom  \n",
       "454463 2011-11-10 11:49:00        0.0    13081.0  United Kingdom  \n",
       "454464 2011-11-10 11:49:00        0.0    13081.0  United Kingdom  \n",
       "47068  2011-01-06 16:41:00        0.0    13081.0  United Kingdom  \n",
       "47070  2011-01-06 16:41:00        0.0    13081.0  United Kingdom  \n",
       "139453 2011-03-30 12:45:00        0.0    13113.0  United Kingdom  \n",
       "130188 2011-03-23 10:25:00        0.0    13239.0  United Kingdom  \n",
       "502122 2011-11-25 15:57:00        0.0    13256.0  United Kingdom  \n",
       "446794 2011-11-07 16:34:00        0.0    13985.0  United Kingdom  \n",
       "446793 2011-11-07 16:34:00        0.0    13985.0  United Kingdom  \n",
       "436597 2011-11-03 11:47:00        0.0    14110.0  United Kingdom  \n",
       "145208 2011-04-04 14:42:00        0.0    14410.0  United Kingdom  \n",
       "314745 2011-08-26 14:19:00        0.0    14646.0     Netherlands  \n",
       "314746 2011-08-26 14:19:00        0.0    14646.0     Netherlands  \n",
       "314747 2011-08-26 14:19:00        0.0    14646.0     Netherlands  \n",
       "314748 2011-08-26 14:19:00        0.0    14646.0     Netherlands  \n",
       "298054 2011-08-11 11:42:00        0.0    14911.0            EIRE  \n",
       "40089  2010-12-21 13:45:00        0.0    14911.0            EIRE  \n",
       "56674  2011-01-13 15:10:00        0.0    15107.0  United Kingdom  \n",
       "285657 2011-08-01 11:44:00        0.0    15581.0  United Kingdom  \n",
       "479079 2011-11-17 19:52:00        0.0    15602.0  United Kingdom  \n",
       "379913 2011-10-06 08:17:00        0.0    15804.0  United Kingdom  \n",
       "358655 2011-09-25 12:22:00        0.0    16133.0  United Kingdom  \n",
       "485985 2011-11-21 11:57:00        0.0    16406.0  United Kingdom  \n",
       "33576  2010-12-16 14:36:00        0.0    16560.0  United Kingdom  \n",
       "279324 2011-07-26 12:24:00        0.0    16818.0  United Kingdom  \n",
       "86789  2011-02-10 13:08:00        0.0    17560.0  United Kingdom  \n",
       "187613 2011-05-12 15:21:00        0.0    17667.0  United Kingdom  \n",
       "420404 2011-10-26 14:36:00        0.0    18059.0  United Kingdom  "
      ]
     },
     "metadata": {},
     "output_type": "display_data"
    }
   ],
   "source": [
    "print('NEGATIVE QTY ==> refund?')\n",
    "print(f'InvoiceNo startwith: {data[(data.Quantity<0)].InvoiceNo.apply(lambda x: str(x)[0]).unique()}')\n",
    "display(data[(data.Quantity<0)])\n",
    "print(line)\n",
    "print(f'ZERO UNITPRICE => free/bug/error?')\n",
    "print(f'length: {len(data[(data.UnitPrice==0)])}')\n",
    "display(data[(data.UnitPrice==0)])"
   ]
  },
  {
   "cell_type": "code",
   "execution_count": 15,
   "metadata": {},
   "outputs": [],
   "source": [
    "# zeroUP = data[data.UnitPrice==0][['StockCode', \"Description\"]]\n",
    "# print('ZERO UNITPRICE')\n",
    "# display(zeroUP)\n",
    "# priceZero = pd.merge(data, zeroUP, on=['StockCode', 'Description'], how='inner')\n",
    "# display(priceZero)\n",
    "# # priceZero\n",
    "# priceZero = priceZero.groupby(['StockCode', 'Description', 'UnitPrice'], as_index=False).agg(Count_=('UnitPrice', 'count')).reset_index(drop=True)\n",
    "# display(priceZero)\n",
    "# priceZero[priceZero.UnitPrice==0]"
   ]
  },
  {
   "attachments": {},
   "cell_type": "markdown",
   "metadata": {},
   "source": [
    "### **Drop Zero UnitPrice**\n",
    "The zero-valued UnitPrice only has 40 registers data. Therefore, it can be removed to avoid data inconsistencies. "
   ]
  },
  {
   "cell_type": "code",
   "execution_count": 16,
   "metadata": {},
   "outputs": [
    {
     "data": {
      "text/html": [
       "<div>\n",
       "<style scoped>\n",
       "    .dataframe tbody tr th:only-of-type {\n",
       "        vertical-align: middle;\n",
       "    }\n",
       "\n",
       "    .dataframe tbody tr th {\n",
       "        vertical-align: top;\n",
       "    }\n",
       "\n",
       "    .dataframe thead th {\n",
       "        text-align: right;\n",
       "    }\n",
       "</style>\n",
       "<table border=\"1\" class=\"dataframe\">\n",
       "  <thead>\n",
       "    <tr style=\"text-align: right;\">\n",
       "      <th></th>\n",
       "      <th>InvoiceNo</th>\n",
       "      <th>StockCode</th>\n",
       "      <th>Description</th>\n",
       "      <th>Quantity</th>\n",
       "      <th>InvoiceDate</th>\n",
       "      <th>UnitPrice</th>\n",
       "      <th>CustomerID</th>\n",
       "      <th>Country</th>\n",
       "    </tr>\n",
       "  </thead>\n",
       "  <tbody>\n",
       "    <tr>\n",
       "      <th>61619</th>\n",
       "      <td>541431</td>\n",
       "      <td>23166</td>\n",
       "      <td>MEDIUM CERAMIC TOP STORAGE JAR</td>\n",
       "      <td>74215</td>\n",
       "      <td>2011-01-18 10:01:00</td>\n",
       "      <td>1.04</td>\n",
       "      <td>12346.0</td>\n",
       "      <td>United Kingdom</td>\n",
       "    </tr>\n",
       "    <tr>\n",
       "      <th>61624</th>\n",
       "      <td>C541433</td>\n",
       "      <td>23166</td>\n",
       "      <td>MEDIUM CERAMIC TOP STORAGE JAR</td>\n",
       "      <td>-74215</td>\n",
       "      <td>2011-01-18 10:17:00</td>\n",
       "      <td>1.04</td>\n",
       "      <td>12346.0</td>\n",
       "      <td>United Kingdom</td>\n",
       "    </tr>\n",
       "    <tr>\n",
       "      <th>286628</th>\n",
       "      <td>562032</td>\n",
       "      <td>21578</td>\n",
       "      <td>WOODLAND DESIGN  COTTON TOTE BAG</td>\n",
       "      <td>6</td>\n",
       "      <td>2011-08-02 08:48:00</td>\n",
       "      <td>2.25</td>\n",
       "      <td>12347.0</td>\n",
       "      <td>Iceland</td>\n",
       "    </tr>\n",
       "    <tr>\n",
       "      <th>72263</th>\n",
       "      <td>542237</td>\n",
       "      <td>47559B</td>\n",
       "      <td>TEA TIME OVEN GLOVE</td>\n",
       "      <td>10</td>\n",
       "      <td>2011-01-26 14:30:00</td>\n",
       "      <td>1.25</td>\n",
       "      <td>12347.0</td>\n",
       "      <td>Iceland</td>\n",
       "    </tr>\n",
       "    <tr>\n",
       "      <th>72264</th>\n",
       "      <td>542237</td>\n",
       "      <td>21154</td>\n",
       "      <td>RED RETROSPOT OVEN GLOVE</td>\n",
       "      <td>10</td>\n",
       "      <td>2011-01-26 14:30:00</td>\n",
       "      <td>1.25</td>\n",
       "      <td>12347.0</td>\n",
       "      <td>Iceland</td>\n",
       "    </tr>\n",
       "    <tr>\n",
       "      <th>...</th>\n",
       "      <td>...</td>\n",
       "      <td>...</td>\n",
       "      <td>...</td>\n",
       "      <td>...</td>\n",
       "      <td>...</td>\n",
       "      <td>...</td>\n",
       "      <td>...</td>\n",
       "      <td>...</td>\n",
       "    </tr>\n",
       "    <tr>\n",
       "      <th>392737</th>\n",
       "      <td>570715</td>\n",
       "      <td>23269</td>\n",
       "      <td>SET OF 2 CERAMIC CHRISTMAS TREES</td>\n",
       "      <td>36</td>\n",
       "      <td>2011-10-12 10:23:00</td>\n",
       "      <td>1.45</td>\n",
       "      <td>18287.0</td>\n",
       "      <td>United Kingdom</td>\n",
       "    </tr>\n",
       "    <tr>\n",
       "      <th>392736</th>\n",
       "      <td>570715</td>\n",
       "      <td>23223</td>\n",
       "      <td>CHRISTMAS TREE HANGING SILVER</td>\n",
       "      <td>48</td>\n",
       "      <td>2011-10-12 10:23:00</td>\n",
       "      <td>0.83</td>\n",
       "      <td>18287.0</td>\n",
       "      <td>United Kingdom</td>\n",
       "    </tr>\n",
       "    <tr>\n",
       "      <th>392735</th>\n",
       "      <td>570715</td>\n",
       "      <td>23378</td>\n",
       "      <td>PACK OF 12 50'S CHRISTMAS TISSUES</td>\n",
       "      <td>24</td>\n",
       "      <td>2011-10-12 10:23:00</td>\n",
       "      <td>0.39</td>\n",
       "      <td>18287.0</td>\n",
       "      <td>United Kingdom</td>\n",
       "    </tr>\n",
       "    <tr>\n",
       "      <th>423939</th>\n",
       "      <td>573167</td>\n",
       "      <td>23264</td>\n",
       "      <td>SET OF 3 WOODEN SLEIGH DECORATIONS</td>\n",
       "      <td>36</td>\n",
       "      <td>2011-10-28 09:29:00</td>\n",
       "      <td>1.25</td>\n",
       "      <td>18287.0</td>\n",
       "      <td>United Kingdom</td>\n",
       "    </tr>\n",
       "    <tr>\n",
       "      <th>392751</th>\n",
       "      <td>570715</td>\n",
       "      <td>22421</td>\n",
       "      <td>LIPSTICK PEN FUSCHIA</td>\n",
       "      <td>12</td>\n",
       "      <td>2011-10-12 10:23:00</td>\n",
       "      <td>0.42</td>\n",
       "      <td>18287.0</td>\n",
       "      <td>United Kingdom</td>\n",
       "    </tr>\n",
       "  </tbody>\n",
       "</table>\n",
       "<p>401564 rows × 8 columns</p>\n",
       "</div>"
      ],
      "text/plain": [
       "       InvoiceNo StockCode                         Description  Quantity  \\\n",
       "61619     541431     23166      MEDIUM CERAMIC TOP STORAGE JAR     74215   \n",
       "61624    C541433     23166      MEDIUM CERAMIC TOP STORAGE JAR    -74215   \n",
       "286628    562032     21578    WOODLAND DESIGN  COTTON TOTE BAG         6   \n",
       "72263     542237    47559B                 TEA TIME OVEN GLOVE        10   \n",
       "72264     542237     21154           RED RETROSPOT OVEN GLOVE         10   \n",
       "...          ...       ...                                 ...       ...   \n",
       "392737    570715     23269    SET OF 2 CERAMIC CHRISTMAS TREES        36   \n",
       "392736    570715     23223      CHRISTMAS TREE HANGING SILVER         48   \n",
       "392735    570715     23378   PACK OF 12 50'S CHRISTMAS TISSUES        24   \n",
       "423939    573167     23264  SET OF 3 WOODEN SLEIGH DECORATIONS        36   \n",
       "392751    570715     22421                LIPSTICK PEN FUSCHIA        12   \n",
       "\n",
       "               InvoiceDate  UnitPrice CustomerID         Country  \n",
       "61619  2011-01-18 10:01:00       1.04    12346.0  United Kingdom  \n",
       "61624  2011-01-18 10:17:00       1.04    12346.0  United Kingdom  \n",
       "286628 2011-08-02 08:48:00       2.25    12347.0         Iceland  \n",
       "72263  2011-01-26 14:30:00       1.25    12347.0         Iceland  \n",
       "72264  2011-01-26 14:30:00       1.25    12347.0         Iceland  \n",
       "...                    ...        ...        ...             ...  \n",
       "392737 2011-10-12 10:23:00       1.45    18287.0  United Kingdom  \n",
       "392736 2011-10-12 10:23:00       0.83    18287.0  United Kingdom  \n",
       "392735 2011-10-12 10:23:00       0.39    18287.0  United Kingdom  \n",
       "423939 2011-10-28 09:29:00       1.25    18287.0  United Kingdom  \n",
       "392751 2011-10-12 10:23:00       0.42    18287.0  United Kingdom  \n",
       "\n",
       "[401564 rows x 8 columns]"
      ]
     },
     "execution_count": 16,
     "metadata": {},
     "output_type": "execute_result"
    }
   ],
   "source": [
    "data = data[data.UnitPrice > 0]\n",
    "data"
   ]
  },
  {
   "attachments": {},
   "cell_type": "markdown",
   "metadata": {},
   "source": [
    "### **Drop Non-Product**"
   ]
  },
  {
   "cell_type": "code",
   "execution_count": 17,
   "metadata": {},
   "outputs": [
    {
     "data": {
      "text/html": [
       "<div>\n",
       "<style scoped>\n",
       "    .dataframe tbody tr th:only-of-type {\n",
       "        vertical-align: middle;\n",
       "    }\n",
       "\n",
       "    .dataframe tbody tr th {\n",
       "        vertical-align: top;\n",
       "    }\n",
       "\n",
       "    .dataframe thead th {\n",
       "        text-align: right;\n",
       "    }\n",
       "</style>\n",
       "<table border=\"1\" class=\"dataframe\">\n",
       "  <thead>\n",
       "    <tr style=\"text-align: right;\">\n",
       "      <th></th>\n",
       "      <th>InvoiceNo</th>\n",
       "      <th>StockCode</th>\n",
       "      <th>Description</th>\n",
       "      <th>Quantity</th>\n",
       "      <th>InvoiceDate</th>\n",
       "      <th>UnitPrice</th>\n",
       "      <th>CustomerID</th>\n",
       "      <th>Country</th>\n",
       "    </tr>\n",
       "  </thead>\n",
       "  <tbody>\n",
       "    <tr>\n",
       "      <th>359060</th>\n",
       "      <td>568172</td>\n",
       "      <td>POST</td>\n",
       "      <td>POSTAGE</td>\n",
       "      <td>1</td>\n",
       "      <td>2011-09-25 13:13:00</td>\n",
       "      <td>40.00</td>\n",
       "      <td>12348.0</td>\n",
       "      <td>Finland</td>\n",
       "    </tr>\n",
       "    <tr>\n",
       "      <th>70056</th>\n",
       "      <td>541998</td>\n",
       "      <td>POST</td>\n",
       "      <td>POSTAGE</td>\n",
       "      <td>1</td>\n",
       "      <td>2011-01-25 10:42:00</td>\n",
       "      <td>40.00</td>\n",
       "      <td>12348.0</td>\n",
       "      <td>Finland</td>\n",
       "    </tr>\n",
       "    <tr>\n",
       "      <th>146017</th>\n",
       "      <td>548955</td>\n",
       "      <td>POST</td>\n",
       "      <td>POSTAGE</td>\n",
       "      <td>1</td>\n",
       "      <td>2011-04-05 10:47:00</td>\n",
       "      <td>40.00</td>\n",
       "      <td>12348.0</td>\n",
       "      <td>Finland</td>\n",
       "    </tr>\n",
       "    <tr>\n",
       "      <th>34099</th>\n",
       "      <td>539318</td>\n",
       "      <td>POST</td>\n",
       "      <td>POSTAGE</td>\n",
       "      <td>6</td>\n",
       "      <td>2010-12-16 19:09:00</td>\n",
       "      <td>40.00</td>\n",
       "      <td>12348.0</td>\n",
       "      <td>Finland</td>\n",
       "    </tr>\n",
       "    <tr>\n",
       "      <th>485574</th>\n",
       "      <td>577609</td>\n",
       "      <td>POST</td>\n",
       "      <td>POSTAGE</td>\n",
       "      <td>1</td>\n",
       "      <td>2011-11-21 09:51:00</td>\n",
       "      <td>300.00</td>\n",
       "      <td>12349.0</td>\n",
       "      <td>Italy</td>\n",
       "    </tr>\n",
       "    <tr>\n",
       "      <th>...</th>\n",
       "      <td>...</td>\n",
       "      <td>...</td>\n",
       "      <td>...</td>\n",
       "      <td>...</td>\n",
       "      <td>...</td>\n",
       "      <td>...</td>\n",
       "      <td>...</td>\n",
       "      <td>...</td>\n",
       "    </tr>\n",
       "    <tr>\n",
       "      <th>116069</th>\n",
       "      <td>C546205</td>\n",
       "      <td>POST</td>\n",
       "      <td>POSTAGE</td>\n",
       "      <td>-1</td>\n",
       "      <td>2011-03-10 11:14:00</td>\n",
       "      <td>2.84</td>\n",
       "      <td>18223.0</td>\n",
       "      <td>United Kingdom</td>\n",
       "    </tr>\n",
       "    <tr>\n",
       "      <th>111520</th>\n",
       "      <td>C545740</td>\n",
       "      <td>POST</td>\n",
       "      <td>POSTAGE</td>\n",
       "      <td>-1</td>\n",
       "      <td>2011-03-07 11:47:00</td>\n",
       "      <td>8.65</td>\n",
       "      <td>18257.0</td>\n",
       "      <td>United Kingdom</td>\n",
       "    </tr>\n",
       "    <tr>\n",
       "      <th>154775</th>\n",
       "      <td>C549945</td>\n",
       "      <td>POST</td>\n",
       "      <td>POSTAGE</td>\n",
       "      <td>-1</td>\n",
       "      <td>2011-04-13 12:39:00</td>\n",
       "      <td>5.95</td>\n",
       "      <td>18270.0</td>\n",
       "      <td>United Kingdom</td>\n",
       "    </tr>\n",
       "    <tr>\n",
       "      <th>326601</th>\n",
       "      <td>565579</td>\n",
       "      <td>M</td>\n",
       "      <td>Manual</td>\n",
       "      <td>1</td>\n",
       "      <td>2011-09-05 12:35:00</td>\n",
       "      <td>4.00</td>\n",
       "      <td>18283.0</td>\n",
       "      <td>United Kingdom</td>\n",
       "    </tr>\n",
       "    <tr>\n",
       "      <th>166926</th>\n",
       "      <td>550957</td>\n",
       "      <td>M</td>\n",
       "      <td>Manual</td>\n",
       "      <td>1</td>\n",
       "      <td>2011-04-21 16:37:00</td>\n",
       "      <td>1.95</td>\n",
       "      <td>18283.0</td>\n",
       "      <td>United Kingdom</td>\n",
       "    </tr>\n",
       "  </tbody>\n",
       "</table>\n",
       "<p>1908 rows × 8 columns</p>\n",
       "</div>"
      ],
      "text/plain": [
       "       InvoiceNo StockCode Description  Quantity         InvoiceDate  \\\n",
       "359060    568172      POST     POSTAGE         1 2011-09-25 13:13:00   \n",
       "70056     541998      POST     POSTAGE         1 2011-01-25 10:42:00   \n",
       "146017    548955      POST     POSTAGE         1 2011-04-05 10:47:00   \n",
       "34099     539318      POST     POSTAGE         6 2010-12-16 19:09:00   \n",
       "485574    577609      POST     POSTAGE         1 2011-11-21 09:51:00   \n",
       "...          ...       ...         ...       ...                 ...   \n",
       "116069   C546205      POST     POSTAGE        -1 2011-03-10 11:14:00   \n",
       "111520   C545740      POST     POSTAGE        -1 2011-03-07 11:47:00   \n",
       "154775   C549945      POST     POSTAGE        -1 2011-04-13 12:39:00   \n",
       "326601    565579         M      Manual         1 2011-09-05 12:35:00   \n",
       "166926    550957         M      Manual         1 2011-04-21 16:37:00   \n",
       "\n",
       "        UnitPrice CustomerID         Country  \n",
       "359060      40.00    12348.0         Finland  \n",
       "70056       40.00    12348.0         Finland  \n",
       "146017      40.00    12348.0         Finland  \n",
       "34099       40.00    12348.0         Finland  \n",
       "485574     300.00    12349.0           Italy  \n",
       "...           ...        ...             ...  \n",
       "116069       2.84    18223.0  United Kingdom  \n",
       "111520       8.65    18257.0  United Kingdom  \n",
       "154775       5.95    18270.0  United Kingdom  \n",
       "326601       4.00    18283.0  United Kingdom  \n",
       "166926       1.95    18283.0  United Kingdom  \n",
       "\n",
       "[1908 rows x 8 columns]"
      ]
     },
     "metadata": {},
     "output_type": "display_data"
    },
    {
     "data": {
      "text/html": [
       "<div>\n",
       "<style scoped>\n",
       "    .dataframe tbody tr th:only-of-type {\n",
       "        vertical-align: middle;\n",
       "    }\n",
       "\n",
       "    .dataframe tbody tr th {\n",
       "        vertical-align: top;\n",
       "    }\n",
       "\n",
       "    .dataframe thead th {\n",
       "        text-align: right;\n",
       "    }\n",
       "</style>\n",
       "<table border=\"1\" class=\"dataframe\">\n",
       "  <thead>\n",
       "    <tr style=\"text-align: right;\">\n",
       "      <th></th>\n",
       "      <th>StockCode</th>\n",
       "      <th>Description</th>\n",
       "    </tr>\n",
       "  </thead>\n",
       "  <tbody>\n",
       "    <tr>\n",
       "      <th>0</th>\n",
       "      <td>POST</td>\n",
       "      <td>POSTAGE</td>\n",
       "    </tr>\n",
       "    <tr>\n",
       "      <th>1</th>\n",
       "      <td>M</td>\n",
       "      <td>Manual</td>\n",
       "    </tr>\n",
       "    <tr>\n",
       "      <th>2</th>\n",
       "      <td>C2</td>\n",
       "      <td>CARRIAGE</td>\n",
       "    </tr>\n",
       "    <tr>\n",
       "      <th>3</th>\n",
       "      <td>D</td>\n",
       "      <td>Discount</td>\n",
       "    </tr>\n",
       "    <tr>\n",
       "      <th>4</th>\n",
       "      <td>BANK CHARGES</td>\n",
       "      <td>Bank Charges</td>\n",
       "    </tr>\n",
       "    <tr>\n",
       "      <th>5</th>\n",
       "      <td>PADS</td>\n",
       "      <td>PADS TO MATCH ALL CUSHIONS</td>\n",
       "    </tr>\n",
       "    <tr>\n",
       "      <th>6</th>\n",
       "      <td>CRUK</td>\n",
       "      <td>CRUK Commission</td>\n",
       "    </tr>\n",
       "    <tr>\n",
       "      <th>7</th>\n",
       "      <td>DOT</td>\n",
       "      <td>DOTCOM POSTAGE</td>\n",
       "    </tr>\n",
       "  </tbody>\n",
       "</table>\n",
       "</div>"
      ],
      "text/plain": [
       "      StockCode                 Description\n",
       "0          POST                     POSTAGE\n",
       "1             M                      Manual\n",
       "2            C2                    CARRIAGE\n",
       "3             D                    Discount\n",
       "4  BANK CHARGES                Bank Charges\n",
       "5          PADS  PADS TO MATCH ALL CUSHIONS\n",
       "6          CRUK             CRUK Commission\n",
       "7           DOT              DOTCOM POSTAGE"
      ]
     },
     "metadata": {},
     "output_type": "display_data"
    }
   ],
   "source": [
    "nonProduct = data[data.StockCode.str.contains(r'^[a-zA-Z]+', regex=True)]\n",
    "display(nonProduct)\n",
    "display(pd.DataFrame(list(zip(nonProduct.StockCode.unique(), nonProduct.Description.unique())), columns=['StockCode', 'Description']))"
   ]
  },
  {
   "cell_type": "code",
   "execution_count": 18,
   "metadata": {},
   "outputs": [],
   "source": [
    "data = data[~data.StockCode.str.contains(r'^[a-zA-Z]+', regex=True)]"
   ]
  },
  {
   "cell_type": "code",
   "execution_count": 19,
   "metadata": {},
   "outputs": [
    {
     "name": "stdout",
     "output_type": "stream",
     "text": [
      "Dimensions\t: (399656, 8)\n",
      "Data Size\t: 149.9 MB\n",
      "Duplicated Data\t: 0\n",
      "========================\n",
      "SUMMARY\n"
     ]
    },
    {
     "data": {
      "text/html": [
       "<div>\n",
       "<style scoped>\n",
       "    .dataframe tbody tr th:only-of-type {\n",
       "        vertical-align: middle;\n",
       "    }\n",
       "\n",
       "    .dataframe tbody tr th {\n",
       "        vertical-align: top;\n",
       "    }\n",
       "\n",
       "    .dataframe thead th {\n",
       "        text-align: right;\n",
       "    }\n",
       "</style>\n",
       "<table border=\"1\" class=\"dataframe\">\n",
       "  <thead>\n",
       "    <tr style=\"text-align: right;\">\n",
       "      <th></th>\n",
       "      <th>dtype</th>\n",
       "      <th>count_of_null</th>\n",
       "      <th>null_ratio</th>\n",
       "      <th>count_of_distinct</th>\n",
       "      <th>distinct_value</th>\n",
       "    </tr>\n",
       "  </thead>\n",
       "  <tbody>\n",
       "    <tr>\n",
       "      <th>InvoiceNo</th>\n",
       "      <td>object</td>\n",
       "      <td>0</td>\n",
       "      <td>0.0</td>\n",
       "      <td>21785</td>\n",
       "      <td>[541431, C541433, 562032, 542237, 573511, 5562...</td>\n",
       "    </tr>\n",
       "    <tr>\n",
       "      <th>StockCode</th>\n",
       "      <td>object</td>\n",
       "      <td>0</td>\n",
       "      <td>0.0</td>\n",
       "      <td>3676</td>\n",
       "      <td>[23166, 21578, 47559B, 21154, 21041, 21035, 22...</td>\n",
       "    </tr>\n",
       "    <tr>\n",
       "      <th>Description</th>\n",
       "      <td>object</td>\n",
       "      <td>0</td>\n",
       "      <td>0.0</td>\n",
       "      <td>3888</td>\n",
       "      <td>[MEDIUM CERAMIC TOP STORAGE JAR, WOODLAND DESI...</td>\n",
       "    </tr>\n",
       "    <tr>\n",
       "      <th>Quantity</th>\n",
       "      <td>int64</td>\n",
       "      <td>0</td>\n",
       "      <td>0.0</td>\n",
       "      <td>431</td>\n",
       "      <td>[74215, -74215, 6, 10, 3, 12, 4, 8, 24, 20, 2,...</td>\n",
       "    </tr>\n",
       "    <tr>\n",
       "      <th>InvoiceDate</th>\n",
       "      <td>datetime64[ns]</td>\n",
       "      <td>0</td>\n",
       "      <td>0.0</td>\n",
       "      <td>20132</td>\n",
       "      <td>[2011-01-18T10:01:00.000000000, 2011-01-18T10:...</td>\n",
       "    </tr>\n",
       "    <tr>\n",
       "      <th>UnitPrice</th>\n",
       "      <td>float64</td>\n",
       "      <td>0</td>\n",
       "      <td>0.0</td>\n",
       "      <td>372</td>\n",
       "      <td>[1.04, 2.25, 1.25, 2.95, 12.75, 4.25, 0.42, 1....</td>\n",
       "    </tr>\n",
       "    <tr>\n",
       "      <th>CustomerID</th>\n",
       "      <td>object</td>\n",
       "      <td>0</td>\n",
       "      <td>0.0</td>\n",
       "      <td>4362</td>\n",
       "      <td>[12346.0, 12347.0, 12348.0, 12349.0, 12350.0, ...</td>\n",
       "    </tr>\n",
       "    <tr>\n",
       "      <th>Country</th>\n",
       "      <td>object</td>\n",
       "      <td>0</td>\n",
       "      <td>0.0</td>\n",
       "      <td>37</td>\n",
       "      <td>[United Kingdom, Iceland, Finland, Italy, Norw...</td>\n",
       "    </tr>\n",
       "  </tbody>\n",
       "</table>\n",
       "</div>"
      ],
      "text/plain": [
       "                      dtype  count_of_null  null_ratio  count_of_distinct  \\\n",
       "InvoiceNo            object              0         0.0              21785   \n",
       "StockCode            object              0         0.0               3676   \n",
       "Description          object              0         0.0               3888   \n",
       "Quantity              int64              0         0.0                431   \n",
       "InvoiceDate  datetime64[ns]              0         0.0              20132   \n",
       "UnitPrice           float64              0         0.0                372   \n",
       "CustomerID           object              0         0.0               4362   \n",
       "Country              object              0         0.0                 37   \n",
       "\n",
       "                                                distinct_value  \n",
       "InvoiceNo    [541431, C541433, 562032, 542237, 573511, 5562...  \n",
       "StockCode    [23166, 21578, 47559B, 21154, 21041, 21035, 22...  \n",
       "Description  [MEDIUM CERAMIC TOP STORAGE JAR, WOODLAND DESI...  \n",
       "Quantity     [74215, -74215, 6, 10, 3, 12, 4, 8, 24, 20, 2,...  \n",
       "InvoiceDate  [2011-01-18T10:01:00.000000000, 2011-01-18T10:...  \n",
       "UnitPrice    [1.04, 2.25, 1.25, 2.95, 12.75, 4.25, 0.42, 1....  \n",
       "CustomerID   [12346.0, 12347.0, 12348.0, 12349.0, 12350.0, ...  \n",
       "Country      [United Kingdom, Iceland, Finland, Italy, Norw...  "
      ]
     },
     "metadata": {},
     "output_type": "display_data"
    }
   ],
   "source": [
    "dataProfile(data)"
   ]
  },
  {
   "attachments": {},
   "cell_type": "markdown",
   "metadata": {},
   "source": [
    "### **Explore Returned/Canceled Transactions**"
   ]
  },
  {
   "attachments": {},
   "cell_type": "markdown",
   "metadata": {},
   "source": [
    "#### **By Transactions and Trasaction Items**"
   ]
  },
  {
   "cell_type": "code",
   "execution_count": 20,
   "metadata": {},
   "outputs": [
    {
     "data": {
      "text/html": [
       "<div>\n",
       "<style scoped>\n",
       "    .dataframe tbody tr th:only-of-type {\n",
       "        vertical-align: middle;\n",
       "    }\n",
       "\n",
       "    .dataframe tbody tr th {\n",
       "        vertical-align: top;\n",
       "    }\n",
       "\n",
       "    .dataframe thead th {\n",
       "        text-align: right;\n",
       "    }\n",
       "</style>\n",
       "<table border=\"1\" class=\"dataframe\">\n",
       "  <thead>\n",
       "    <tr style=\"text-align: right;\">\n",
       "      <th></th>\n",
       "      <th>InvoiceNo</th>\n",
       "      <th>CustomerID</th>\n",
       "      <th>StockCode</th>\n",
       "      <th>Description</th>\n",
       "      <th>Quantity</th>\n",
       "      <th>InvoiceDate</th>\n",
       "      <th>UnitPrice</th>\n",
       "      <th>Country</th>\n",
       "      <th>IsCanceled</th>\n",
       "    </tr>\n",
       "  </thead>\n",
       "  <tbody>\n",
       "    <tr>\n",
       "      <th>0</th>\n",
       "      <td>541431</td>\n",
       "      <td>12346.0</td>\n",
       "      <td>23166</td>\n",
       "      <td>MEDIUM CERAMIC TOP STORAGE JAR</td>\n",
       "      <td>74215</td>\n",
       "      <td>2011-01-18 10:01:00</td>\n",
       "      <td>1.04</td>\n",
       "      <td>United Kingdom</td>\n",
       "      <td>0</td>\n",
       "    </tr>\n",
       "    <tr>\n",
       "      <th>1</th>\n",
       "      <td>C541433</td>\n",
       "      <td>12346.0</td>\n",
       "      <td>23166</td>\n",
       "      <td>MEDIUM CERAMIC TOP STORAGE JAR</td>\n",
       "      <td>-74215</td>\n",
       "      <td>2011-01-18 10:17:00</td>\n",
       "      <td>1.04</td>\n",
       "      <td>United Kingdom</td>\n",
       "      <td>1</td>\n",
       "    </tr>\n",
       "    <tr>\n",
       "      <th>2</th>\n",
       "      <td>542237</td>\n",
       "      <td>12347.0</td>\n",
       "      <td>85116</td>\n",
       "      <td>WOODLAND CHARLOTTE BAG</td>\n",
       "      <td>24</td>\n",
       "      <td>2011-01-26 14:30:00</td>\n",
       "      <td>12.75</td>\n",
       "      <td>Iceland</td>\n",
       "      <td>0</td>\n",
       "    </tr>\n",
       "    <tr>\n",
       "      <th>3</th>\n",
       "      <td>581180</td>\n",
       "      <td>12347.0</td>\n",
       "      <td>84625A</td>\n",
       "      <td>WOODLAND CHARLOTTE BAG</td>\n",
       "      <td>24</td>\n",
       "      <td>2011-12-07 15:52:00</td>\n",
       "      <td>2.08</td>\n",
       "      <td>Iceland</td>\n",
       "      <td>0</td>\n",
       "    </tr>\n",
       "    <tr>\n",
       "      <th>4</th>\n",
       "      <td>562032</td>\n",
       "      <td>12347.0</td>\n",
       "      <td>84992</td>\n",
       "      <td>WOODLAND DESIGN  COTTON TOTE BAG</td>\n",
       "      <td>36</td>\n",
       "      <td>2011-08-02 08:48:00</td>\n",
       "      <td>12.75</td>\n",
       "      <td>Iceland</td>\n",
       "      <td>0</td>\n",
       "    </tr>\n",
       "    <tr>\n",
       "      <th>...</th>\n",
       "      <td>...</td>\n",
       "      <td>...</td>\n",
       "      <td>...</td>\n",
       "      <td>...</td>\n",
       "      <td>...</td>\n",
       "      <td>...</td>\n",
       "      <td>...</td>\n",
       "      <td>...</td>\n",
       "      <td>...</td>\n",
       "    </tr>\n",
       "    <tr>\n",
       "      <th>21780</th>\n",
       "      <td>575668</td>\n",
       "      <td>18283.0</td>\n",
       "      <td>85099F</td>\n",
       "      <td>WOODLAND CHARLOTTE BAG</td>\n",
       "      <td>3</td>\n",
       "      <td>2011-11-10 14:59:00</td>\n",
       "      <td>3.75</td>\n",
       "      <td>United Kingdom</td>\n",
       "      <td>0</td>\n",
       "    </tr>\n",
       "    <tr>\n",
       "      <th>21781</th>\n",
       "      <td>575675</td>\n",
       "      <td>18283.0</td>\n",
       "      <td>23493</td>\n",
       "      <td>VINTAGE DOILY TRAVEL SEWING KIT</td>\n",
       "      <td>1</td>\n",
       "      <td>2011-11-10 15:07:00</td>\n",
       "      <td>1.95</td>\n",
       "      <td>United Kingdom</td>\n",
       "      <td>0</td>\n",
       "    </tr>\n",
       "    <tr>\n",
       "      <th>21782</th>\n",
       "      <td>573167</td>\n",
       "      <td>18287.0</td>\n",
       "      <td>23264</td>\n",
       "      <td>SWISS CHALET TREE DECORATION</td>\n",
       "      <td>48</td>\n",
       "      <td>2011-10-28 09:29:00</td>\n",
       "      <td>1.25</td>\n",
       "      <td>United Kingdom</td>\n",
       "      <td>0</td>\n",
       "    </tr>\n",
       "    <tr>\n",
       "      <th>21783</th>\n",
       "      <td>570715</td>\n",
       "      <td>18287.0</td>\n",
       "      <td>85173</td>\n",
       "      <td>TREE T-LIGHT HOLDER WILLIE WINKIE</td>\n",
       "      <td>48</td>\n",
       "      <td>2011-10-12 10:23:00</td>\n",
       "      <td>4.25</td>\n",
       "      <td>United Kingdom</td>\n",
       "      <td>0</td>\n",
       "    </tr>\n",
       "    <tr>\n",
       "      <th>21784</th>\n",
       "      <td>554065</td>\n",
       "      <td>18287.0</td>\n",
       "      <td>85040A</td>\n",
       "      <td>STRAWBERRY CERAMIC TRINKET BOX</td>\n",
       "      <td>60</td>\n",
       "      <td>2011-05-22 10:39:00</td>\n",
       "      <td>8.50</td>\n",
       "      <td>United Kingdom</td>\n",
       "      <td>0</td>\n",
       "    </tr>\n",
       "  </tbody>\n",
       "</table>\n",
       "<p>21785 rows × 9 columns</p>\n",
       "</div>"
      ],
      "text/plain": [
       "      InvoiceNo CustomerID StockCode                        Description  \\\n",
       "0        541431    12346.0     23166     MEDIUM CERAMIC TOP STORAGE JAR   \n",
       "1       C541433    12346.0     23166     MEDIUM CERAMIC TOP STORAGE JAR   \n",
       "2        542237    12347.0     85116             WOODLAND CHARLOTTE BAG   \n",
       "3        581180    12347.0    84625A             WOODLAND CHARLOTTE BAG   \n",
       "4        562032    12347.0     84992   WOODLAND DESIGN  COTTON TOTE BAG   \n",
       "...         ...        ...       ...                                ...   \n",
       "21780    575668    18283.0    85099F             WOODLAND CHARLOTTE BAG   \n",
       "21781    575675    18283.0     23493    VINTAGE DOILY TRAVEL SEWING KIT   \n",
       "21782    573167    18287.0     23264      SWISS CHALET TREE DECORATION    \n",
       "21783    570715    18287.0     85173  TREE T-LIGHT HOLDER WILLIE WINKIE   \n",
       "21784    554065    18287.0    85040A     STRAWBERRY CERAMIC TRINKET BOX   \n",
       "\n",
       "       Quantity         InvoiceDate  UnitPrice         Country  IsCanceled  \n",
       "0         74215 2011-01-18 10:01:00       1.04  United Kingdom           0  \n",
       "1        -74215 2011-01-18 10:17:00       1.04  United Kingdom           1  \n",
       "2            24 2011-01-26 14:30:00      12.75         Iceland           0  \n",
       "3            24 2011-12-07 15:52:00       2.08         Iceland           0  \n",
       "4            36 2011-08-02 08:48:00      12.75         Iceland           0  \n",
       "...         ...                 ...        ...             ...         ...  \n",
       "21780         3 2011-11-10 14:59:00       3.75  United Kingdom           0  \n",
       "21781         1 2011-11-10 15:07:00       1.95  United Kingdom           0  \n",
       "21782        48 2011-10-28 09:29:00       1.25  United Kingdom           0  \n",
       "21783        48 2011-10-12 10:23:00       4.25  United Kingdom           0  \n",
       "21784        60 2011-05-22 10:39:00       8.50  United Kingdom           0  \n",
       "\n",
       "[21785 rows x 9 columns]"
      ]
     },
     "execution_count": 20,
     "metadata": {},
     "output_type": "execute_result"
    }
   ],
   "source": [
    "cancel = data.groupby(['InvoiceNo', 'CustomerID'], as_index=False).max().sort_values('CustomerID').reset_index(drop=True)\n",
    "cancel['IsCanceled'] = np.where(cancel.InvoiceNo.str.startswith('C', na=False), 1, 0)\n",
    "\n",
    "# print(f'Total transactions\\t\\t: {len(cancel)}')\n",
    "# print(f'Total completed transactions\\t: {len(cancel)-cancel.IsCanceled.sum()} => {round(100-(cancel.IsCanceled.sum()/len(cancel)*100),2)}%')\n",
    "# print(f'Total canceled transactions\\t: {cancel.IsCanceled.sum()} => {round((cancel.IsCanceled.sum()/len(cancel)*100),2)}%')\n",
    "cancel"
   ]
  },
  {
   "cell_type": "code",
   "execution_count": 21,
   "metadata": {},
   "outputs": [
    {
     "data": {
      "text/html": [
       "<div>\n",
       "<style scoped>\n",
       "    .dataframe tbody tr th:only-of-type {\n",
       "        vertical-align: middle;\n",
       "    }\n",
       "\n",
       "    .dataframe tbody tr th {\n",
       "        vertical-align: top;\n",
       "    }\n",
       "\n",
       "    .dataframe thead th {\n",
       "        text-align: right;\n",
       "    }\n",
       "</style>\n",
       "<table border=\"1\" class=\"dataframe\">\n",
       "  <thead>\n",
       "    <tr style=\"text-align: right;\">\n",
       "      <th></th>\n",
       "      <th>InvoiceNo</th>\n",
       "      <th>StockCode</th>\n",
       "      <th>Description</th>\n",
       "      <th>Quantity</th>\n",
       "      <th>InvoiceDate</th>\n",
       "      <th>UnitPrice</th>\n",
       "      <th>CustomerID</th>\n",
       "      <th>Country</th>\n",
       "    </tr>\n",
       "  </thead>\n",
       "  <tbody>\n",
       "    <tr>\n",
       "      <th>0</th>\n",
       "      <td>C541433</td>\n",
       "      <td>23166</td>\n",
       "      <td>MEDIUM CERAMIC TOP STORAGE JAR</td>\n",
       "      <td>-74215</td>\n",
       "      <td>2011-01-18 10:17:00</td>\n",
       "      <td>1.04</td>\n",
       "      <td>12346.0</td>\n",
       "      <td>United Kingdom</td>\n",
       "    </tr>\n",
       "    <tr>\n",
       "      <th>1</th>\n",
       "      <td>C547388</td>\n",
       "      <td>21914</td>\n",
       "      <td>BLUE HARMONICA IN BOX</td>\n",
       "      <td>-12</td>\n",
       "      <td>2011-03-22 16:07:00</td>\n",
       "      <td>1.25</td>\n",
       "      <td>12352.0</td>\n",
       "      <td>Norway</td>\n",
       "    </tr>\n",
       "    <tr>\n",
       "      <th>2</th>\n",
       "      <td>C547388</td>\n",
       "      <td>22413</td>\n",
       "      <td>METAL SIGN TAKE IT OR LEAVE IT</td>\n",
       "      <td>-6</td>\n",
       "      <td>2011-03-22 16:07:00</td>\n",
       "      <td>2.95</td>\n",
       "      <td>12352.0</td>\n",
       "      <td>Norway</td>\n",
       "    </tr>\n",
       "    <tr>\n",
       "      <th>3</th>\n",
       "      <td>C547388</td>\n",
       "      <td>22645</td>\n",
       "      <td>CERAMIC HEART FAIRY CAKE MONEY BANK</td>\n",
       "      <td>-12</td>\n",
       "      <td>2011-03-22 16:07:00</td>\n",
       "      <td>1.45</td>\n",
       "      <td>12352.0</td>\n",
       "      <td>Norway</td>\n",
       "    </tr>\n",
       "    <tr>\n",
       "      <th>4</th>\n",
       "      <td>C547388</td>\n",
       "      <td>22701</td>\n",
       "      <td>PINK DOG BOWL</td>\n",
       "      <td>-6</td>\n",
       "      <td>2011-03-22 16:07:00</td>\n",
       "      <td>2.95</td>\n",
       "      <td>12352.0</td>\n",
       "      <td>Norway</td>\n",
       "    </tr>\n",
       "    <tr>\n",
       "      <th>...</th>\n",
       "      <td>...</td>\n",
       "      <td>...</td>\n",
       "      <td>...</td>\n",
       "      <td>...</td>\n",
       "      <td>...</td>\n",
       "      <td>...</td>\n",
       "      <td>...</td>\n",
       "      <td>...</td>\n",
       "    </tr>\n",
       "    <tr>\n",
       "      <th>8501</th>\n",
       "      <td>C577832</td>\n",
       "      <td>84988</td>\n",
       "      <td>SET OF 72 PINK HEART PAPER DOILIES</td>\n",
       "      <td>-12</td>\n",
       "      <td>2011-11-22 10:18:00</td>\n",
       "      <td>1.45</td>\n",
       "      <td>18274.0</td>\n",
       "      <td>United Kingdom</td>\n",
       "    </tr>\n",
       "    <tr>\n",
       "      <th>8502</th>\n",
       "      <td>C577386</td>\n",
       "      <td>23401</td>\n",
       "      <td>RUSTIC MIRROR WITH LACE HEART</td>\n",
       "      <td>-1</td>\n",
       "      <td>2011-11-18 16:54:00</td>\n",
       "      <td>6.25</td>\n",
       "      <td>18276.0</td>\n",
       "      <td>United Kingdom</td>\n",
       "    </tr>\n",
       "    <tr>\n",
       "      <th>8503</th>\n",
       "      <td>C577390</td>\n",
       "      <td>23401</td>\n",
       "      <td>RUSTIC MIRROR WITH LACE HEART</td>\n",
       "      <td>-1</td>\n",
       "      <td>2011-11-18 17:01:00</td>\n",
       "      <td>6.25</td>\n",
       "      <td>18276.0</td>\n",
       "      <td>United Kingdom</td>\n",
       "    </tr>\n",
       "    <tr>\n",
       "      <th>8504</th>\n",
       "      <td>C542086</td>\n",
       "      <td>22423</td>\n",
       "      <td>REGENCY CAKESTAND 3 TIER</td>\n",
       "      <td>-1</td>\n",
       "      <td>2011-01-25 12:34:00</td>\n",
       "      <td>12.75</td>\n",
       "      <td>18277.0</td>\n",
       "      <td>United Kingdom</td>\n",
       "    </tr>\n",
       "    <tr>\n",
       "      <th>8505</th>\n",
       "      <td>C562808</td>\n",
       "      <td>23187</td>\n",
       "      <td>FRENCH STYLE STORAGE JAR BONBONS</td>\n",
       "      <td>-5</td>\n",
       "      <td>2011-08-09 15:10:00</td>\n",
       "      <td>0.29</td>\n",
       "      <td>18282.0</td>\n",
       "      <td>United Kingdom</td>\n",
       "    </tr>\n",
       "  </tbody>\n",
       "</table>\n",
       "<p>8506 rows × 8 columns</p>\n",
       "</div>"
      ],
      "text/plain": [
       "     InvoiceNo StockCode                          Description  Quantity  \\\n",
       "0      C541433     23166       MEDIUM CERAMIC TOP STORAGE JAR    -74215   \n",
       "1      C547388     21914               BLUE HARMONICA IN BOX        -12   \n",
       "2      C547388     22413      METAL SIGN TAKE IT OR LEAVE IT         -6   \n",
       "3      C547388     22645  CERAMIC HEART FAIRY CAKE MONEY BANK       -12   \n",
       "4      C547388     22701                        PINK DOG BOWL        -6   \n",
       "...        ...       ...                                  ...       ...   \n",
       "8501   C577832     84988   SET OF 72 PINK HEART PAPER DOILIES       -12   \n",
       "8502   C577386     23401        RUSTIC MIRROR WITH LACE HEART        -1   \n",
       "8503   C577390     23401        RUSTIC MIRROR WITH LACE HEART        -1   \n",
       "8504   C542086     22423             REGENCY CAKESTAND 3 TIER        -1   \n",
       "8505   C562808     23187     FRENCH STYLE STORAGE JAR BONBONS        -5   \n",
       "\n",
       "             InvoiceDate  UnitPrice CustomerID         Country  \n",
       "0    2011-01-18 10:17:00       1.04    12346.0  United Kingdom  \n",
       "1    2011-03-22 16:07:00       1.25    12352.0          Norway  \n",
       "2    2011-03-22 16:07:00       2.95    12352.0          Norway  \n",
       "3    2011-03-22 16:07:00       1.45    12352.0          Norway  \n",
       "4    2011-03-22 16:07:00       2.95    12352.0          Norway  \n",
       "...                  ...        ...        ...             ...  \n",
       "8501 2011-11-22 10:18:00       1.45    18274.0  United Kingdom  \n",
       "8502 2011-11-18 16:54:00       6.25    18276.0  United Kingdom  \n",
       "8503 2011-11-18 17:01:00       6.25    18276.0  United Kingdom  \n",
       "8504 2011-01-25 12:34:00      12.75    18277.0  United Kingdom  \n",
       "8505 2011-08-09 15:10:00       0.29    18282.0  United Kingdom  \n",
       "\n",
       "[8506 rows x 8 columns]"
      ]
     },
     "execution_count": 21,
     "metadata": {},
     "output_type": "execute_result"
    }
   ],
   "source": [
    "# canceled items\n",
    "data[data['InvoiceNo'].str.startswith(\"C\", na = False)].sort_values('CustomerID').reset_index(drop=True)\n",
    "# same as data[data.Quantity<0]"
   ]
  },
  {
   "attachments": {},
   "cell_type": "markdown",
   "metadata": {},
   "source": [
    "#### **Transactions Affected by Returned**"
   ]
  },
  {
   "cell_type": "code",
   "execution_count": 22,
   "metadata": {},
   "outputs": [
    {
     "data": {
      "text/html": [
       "<div>\n",
       "<style scoped>\n",
       "    .dataframe tbody tr th:only-of-type {\n",
       "        vertical-align: middle;\n",
       "    }\n",
       "\n",
       "    .dataframe tbody tr th {\n",
       "        vertical-align: top;\n",
       "    }\n",
       "\n",
       "    .dataframe thead th {\n",
       "        text-align: right;\n",
       "    }\n",
       "</style>\n",
       "<table border=\"1\" class=\"dataframe\">\n",
       "  <thead>\n",
       "    <tr style=\"text-align: right;\">\n",
       "      <th></th>\n",
       "      <th>InvoiceNo</th>\n",
       "      <th>StockCode</th>\n",
       "      <th>Description</th>\n",
       "      <th>Quantity</th>\n",
       "      <th>InvoiceDate</th>\n",
       "      <th>UnitPrice</th>\n",
       "      <th>CustomerID</th>\n",
       "      <th>Country</th>\n",
       "      <th>idx</th>\n",
       "    </tr>\n",
       "  </thead>\n",
       "  <tbody>\n",
       "    <tr>\n",
       "      <th>0</th>\n",
       "      <td>541431</td>\n",
       "      <td>23166</td>\n",
       "      <td>MEDIUM CERAMIC TOP STORAGE JAR</td>\n",
       "      <td>74215</td>\n",
       "      <td>2011-01-18 10:01:00</td>\n",
       "      <td>1.04</td>\n",
       "      <td>12346.0</td>\n",
       "      <td>United Kingdom</td>\n",
       "      <td>0</td>\n",
       "    </tr>\n",
       "    <tr>\n",
       "      <th>1</th>\n",
       "      <td>C541433</td>\n",
       "      <td>23166</td>\n",
       "      <td>MEDIUM CERAMIC TOP STORAGE JAR</td>\n",
       "      <td>-74215</td>\n",
       "      <td>2011-01-18 10:17:00</td>\n",
       "      <td>1.04</td>\n",
       "      <td>12346.0</td>\n",
       "      <td>United Kingdom</td>\n",
       "      <td>1</td>\n",
       "    </tr>\n",
       "    <tr>\n",
       "      <th>2</th>\n",
       "      <td>562032</td>\n",
       "      <td>21578</td>\n",
       "      <td>WOODLAND DESIGN  COTTON TOTE BAG</td>\n",
       "      <td>6</td>\n",
       "      <td>2011-08-02 08:48:00</td>\n",
       "      <td>2.25</td>\n",
       "      <td>12347.0</td>\n",
       "      <td>Iceland</td>\n",
       "      <td>2</td>\n",
       "    </tr>\n",
       "    <tr>\n",
       "      <th>3</th>\n",
       "      <td>542237</td>\n",
       "      <td>47559B</td>\n",
       "      <td>TEA TIME OVEN GLOVE</td>\n",
       "      <td>10</td>\n",
       "      <td>2011-01-26 14:30:00</td>\n",
       "      <td>1.25</td>\n",
       "      <td>12347.0</td>\n",
       "      <td>Iceland</td>\n",
       "      <td>3</td>\n",
       "    </tr>\n",
       "    <tr>\n",
       "      <th>4</th>\n",
       "      <td>542237</td>\n",
       "      <td>21154</td>\n",
       "      <td>RED RETROSPOT OVEN GLOVE</td>\n",
       "      <td>10</td>\n",
       "      <td>2011-01-26 14:30:00</td>\n",
       "      <td>1.25</td>\n",
       "      <td>12347.0</td>\n",
       "      <td>Iceland</td>\n",
       "      <td>4</td>\n",
       "    </tr>\n",
       "    <tr>\n",
       "      <th>...</th>\n",
       "      <td>...</td>\n",
       "      <td>...</td>\n",
       "      <td>...</td>\n",
       "      <td>...</td>\n",
       "      <td>...</td>\n",
       "      <td>...</td>\n",
       "      <td>...</td>\n",
       "      <td>...</td>\n",
       "      <td>...</td>\n",
       "    </tr>\n",
       "    <tr>\n",
       "      <th>399651</th>\n",
       "      <td>570715</td>\n",
       "      <td>23269</td>\n",
       "      <td>SET OF 2 CERAMIC CHRISTMAS TREES</td>\n",
       "      <td>36</td>\n",
       "      <td>2011-10-12 10:23:00</td>\n",
       "      <td>1.45</td>\n",
       "      <td>18287.0</td>\n",
       "      <td>United Kingdom</td>\n",
       "      <td>399651</td>\n",
       "    </tr>\n",
       "    <tr>\n",
       "      <th>399652</th>\n",
       "      <td>570715</td>\n",
       "      <td>23223</td>\n",
       "      <td>CHRISTMAS TREE HANGING SILVER</td>\n",
       "      <td>48</td>\n",
       "      <td>2011-10-12 10:23:00</td>\n",
       "      <td>0.83</td>\n",
       "      <td>18287.0</td>\n",
       "      <td>United Kingdom</td>\n",
       "      <td>399652</td>\n",
       "    </tr>\n",
       "    <tr>\n",
       "      <th>399653</th>\n",
       "      <td>570715</td>\n",
       "      <td>23378</td>\n",
       "      <td>PACK OF 12 50'S CHRISTMAS TISSUES</td>\n",
       "      <td>24</td>\n",
       "      <td>2011-10-12 10:23:00</td>\n",
       "      <td>0.39</td>\n",
       "      <td>18287.0</td>\n",
       "      <td>United Kingdom</td>\n",
       "      <td>399653</td>\n",
       "    </tr>\n",
       "    <tr>\n",
       "      <th>399654</th>\n",
       "      <td>573167</td>\n",
       "      <td>23264</td>\n",
       "      <td>SET OF 3 WOODEN SLEIGH DECORATIONS</td>\n",
       "      <td>36</td>\n",
       "      <td>2011-10-28 09:29:00</td>\n",
       "      <td>1.25</td>\n",
       "      <td>18287.0</td>\n",
       "      <td>United Kingdom</td>\n",
       "      <td>399654</td>\n",
       "    </tr>\n",
       "    <tr>\n",
       "      <th>399655</th>\n",
       "      <td>570715</td>\n",
       "      <td>22421</td>\n",
       "      <td>LIPSTICK PEN FUSCHIA</td>\n",
       "      <td>12</td>\n",
       "      <td>2011-10-12 10:23:00</td>\n",
       "      <td>0.42</td>\n",
       "      <td>18287.0</td>\n",
       "      <td>United Kingdom</td>\n",
       "      <td>399655</td>\n",
       "    </tr>\n",
       "  </tbody>\n",
       "</table>\n",
       "<p>399656 rows × 9 columns</p>\n",
       "</div>"
      ],
      "text/plain": [
       "       InvoiceNo StockCode                         Description  Quantity  \\\n",
       "0         541431     23166      MEDIUM CERAMIC TOP STORAGE JAR     74215   \n",
       "1        C541433     23166      MEDIUM CERAMIC TOP STORAGE JAR    -74215   \n",
       "2         562032     21578    WOODLAND DESIGN  COTTON TOTE BAG         6   \n",
       "3         542237    47559B                 TEA TIME OVEN GLOVE        10   \n",
       "4         542237     21154           RED RETROSPOT OVEN GLOVE         10   \n",
       "...          ...       ...                                 ...       ...   \n",
       "399651    570715     23269    SET OF 2 CERAMIC CHRISTMAS TREES        36   \n",
       "399652    570715     23223      CHRISTMAS TREE HANGING SILVER         48   \n",
       "399653    570715     23378   PACK OF 12 50'S CHRISTMAS TISSUES        24   \n",
       "399654    573167     23264  SET OF 3 WOODEN SLEIGH DECORATIONS        36   \n",
       "399655    570715     22421                LIPSTICK PEN FUSCHIA        12   \n",
       "\n",
       "               InvoiceDate  UnitPrice CustomerID         Country     idx  \n",
       "0      2011-01-18 10:01:00       1.04    12346.0  United Kingdom       0  \n",
       "1      2011-01-18 10:17:00       1.04    12346.0  United Kingdom       1  \n",
       "2      2011-08-02 08:48:00       2.25    12347.0         Iceland       2  \n",
       "3      2011-01-26 14:30:00       1.25    12347.0         Iceland       3  \n",
       "4      2011-01-26 14:30:00       1.25    12347.0         Iceland       4  \n",
       "...                    ...        ...        ...             ...     ...  \n",
       "399651 2011-10-12 10:23:00       1.45    18287.0  United Kingdom  399651  \n",
       "399652 2011-10-12 10:23:00       0.83    18287.0  United Kingdom  399652  \n",
       "399653 2011-10-12 10:23:00       0.39    18287.0  United Kingdom  399653  \n",
       "399654 2011-10-28 09:29:00       1.25    18287.0  United Kingdom  399654  \n",
       "399655 2011-10-12 10:23:00       0.42    18287.0  United Kingdom  399655  \n",
       "\n",
       "[399656 rows x 9 columns]"
      ]
     },
     "execution_count": 22,
     "metadata": {},
     "output_type": "execute_result"
    }
   ],
   "source": [
    "data.reset_index(drop=True, inplace=True)\n",
    "dataIdx = data.copy()\n",
    "dataIdx['idx'] = dataIdx.index\n",
    "dataIdx"
   ]
  },
  {
   "cell_type": "code",
   "execution_count": 23,
   "metadata": {},
   "outputs": [
    {
     "data": {
      "text/html": [
       "<div>\n",
       "<style scoped>\n",
       "    .dataframe tbody tr th:only-of-type {\n",
       "        vertical-align: middle;\n",
       "    }\n",
       "\n",
       "    .dataframe tbody tr th {\n",
       "        vertical-align: top;\n",
       "    }\n",
       "\n",
       "    .dataframe thead th {\n",
       "        text-align: right;\n",
       "    }\n",
       "</style>\n",
       "<table border=\"1\" class=\"dataframe\">\n",
       "  <thead>\n",
       "    <tr style=\"text-align: right;\">\n",
       "      <th></th>\n",
       "      <th>InvoiceNo_completed</th>\n",
       "      <th>StockCode</th>\n",
       "      <th>Description</th>\n",
       "      <th>Quantity_completed</th>\n",
       "      <th>InvoiceDate_completed</th>\n",
       "      <th>UnitPrice</th>\n",
       "      <th>CustomerID</th>\n",
       "      <th>Country</th>\n",
       "      <th>idx_completed</th>\n",
       "      <th>InvoiceNo_canceled</th>\n",
       "      <th>Quantity_canceled</th>\n",
       "      <th>InvoiceDate_canceled</th>\n",
       "      <th>idx_canceled</th>\n",
       "    </tr>\n",
       "  </thead>\n",
       "  <tbody>\n",
       "    <tr>\n",
       "      <th>0</th>\n",
       "      <td>541431</td>\n",
       "      <td>23166</td>\n",
       "      <td>MEDIUM CERAMIC TOP STORAGE JAR</td>\n",
       "      <td>74215.0</td>\n",
       "      <td>2011-01-18 10:01:00</td>\n",
       "      <td>1.04</td>\n",
       "      <td>12346.0</td>\n",
       "      <td>United Kingdom</td>\n",
       "      <td>0.0</td>\n",
       "      <td>C541433</td>\n",
       "      <td>-74215</td>\n",
       "      <td>2011-01-18 10:17:00</td>\n",
       "      <td>1</td>\n",
       "    </tr>\n",
       "    <tr>\n",
       "      <th>1</th>\n",
       "      <td>546869</td>\n",
       "      <td>21914</td>\n",
       "      <td>BLUE HARMONICA IN BOX</td>\n",
       "      <td>12.0</td>\n",
       "      <td>2011-03-17 16:00:00</td>\n",
       "      <td>1.25</td>\n",
       "      <td>12352.0</td>\n",
       "      <td>Norway</td>\n",
       "      <td>340.0</td>\n",
       "      <td>C547388</td>\n",
       "      <td>-12</td>\n",
       "      <td>2011-03-22 16:07:00</td>\n",
       "      <td>331</td>\n",
       "    </tr>\n",
       "    <tr>\n",
       "      <th>2</th>\n",
       "      <td>547390</td>\n",
       "      <td>21914</td>\n",
       "      <td>BLUE HARMONICA IN BOX</td>\n",
       "      <td>12.0</td>\n",
       "      <td>2011-03-22 16:08:00</td>\n",
       "      <td>1.25</td>\n",
       "      <td>12352.0</td>\n",
       "      <td>Norway</td>\n",
       "      <td>359.0</td>\n",
       "      <td>C547388</td>\n",
       "      <td>-12</td>\n",
       "      <td>2011-03-22 16:07:00</td>\n",
       "      <td>331</td>\n",
       "    </tr>\n",
       "    <tr>\n",
       "      <th>3</th>\n",
       "      <td>546869</td>\n",
       "      <td>22413</td>\n",
       "      <td>METAL SIGN TAKE IT OR LEAVE IT</td>\n",
       "      <td>6.0</td>\n",
       "      <td>2011-03-17 16:00:00</td>\n",
       "      <td>2.95</td>\n",
       "      <td>12352.0</td>\n",
       "      <td>Norway</td>\n",
       "      <td>327.0</td>\n",
       "      <td>C547388</td>\n",
       "      <td>-6</td>\n",
       "      <td>2011-03-22 16:07:00</td>\n",
       "      <td>332</td>\n",
       "    </tr>\n",
       "    <tr>\n",
       "      <th>4</th>\n",
       "      <td>547390</td>\n",
       "      <td>22413</td>\n",
       "      <td>METAL SIGN TAKE IT OR LEAVE IT</td>\n",
       "      <td>6.0</td>\n",
       "      <td>2011-03-22 16:08:00</td>\n",
       "      <td>2.95</td>\n",
       "      <td>12352.0</td>\n",
       "      <td>Norway</td>\n",
       "      <td>345.0</td>\n",
       "      <td>C547388</td>\n",
       "      <td>-6</td>\n",
       "      <td>2011-03-22 16:07:00</td>\n",
       "      <td>332</td>\n",
       "    </tr>\n",
       "    <tr>\n",
       "      <th>...</th>\n",
       "      <td>...</td>\n",
       "      <td>...</td>\n",
       "      <td>...</td>\n",
       "      <td>...</td>\n",
       "      <td>...</td>\n",
       "      <td>...</td>\n",
       "      <td>...</td>\n",
       "      <td>...</td>\n",
       "      <td>...</td>\n",
       "      <td>...</td>\n",
       "      <td>...</td>\n",
       "      <td>...</td>\n",
       "      <td>...</td>\n",
       "    </tr>\n",
       "    <tr>\n",
       "      <th>20445</th>\n",
       "      <td>575485</td>\n",
       "      <td>84988</td>\n",
       "      <td>SET OF 72 PINK HEART PAPER DOILIES</td>\n",
       "      <td>12.0</td>\n",
       "      <td>2011-11-09 17:03:00</td>\n",
       "      <td>1.45</td>\n",
       "      <td>18274.0</td>\n",
       "      <td>United Kingdom</td>\n",
       "      <td>398794.0</td>\n",
       "      <td>C577832</td>\n",
       "      <td>-12</td>\n",
       "      <td>2011-11-22 10:18:00</td>\n",
       "      <td>398791</td>\n",
       "    </tr>\n",
       "    <tr>\n",
       "      <th>20446</th>\n",
       "      <td>572990</td>\n",
       "      <td>23401</td>\n",
       "      <td>RUSTIC MIRROR WITH LACE HEART</td>\n",
       "      <td>2.0</td>\n",
       "      <td>2011-10-27 10:54:00</td>\n",
       "      <td>6.25</td>\n",
       "      <td>18276.0</td>\n",
       "      <td>United Kingdom</td>\n",
       "      <td>398812.0</td>\n",
       "      <td>C577386</td>\n",
       "      <td>-1</td>\n",
       "      <td>2011-11-18 16:54:00</td>\n",
       "      <td>398807</td>\n",
       "    </tr>\n",
       "    <tr>\n",
       "      <th>20447</th>\n",
       "      <td>572990</td>\n",
       "      <td>23401</td>\n",
       "      <td>RUSTIC MIRROR WITH LACE HEART</td>\n",
       "      <td>2.0</td>\n",
       "      <td>2011-10-27 10:54:00</td>\n",
       "      <td>6.25</td>\n",
       "      <td>18276.0</td>\n",
       "      <td>United Kingdom</td>\n",
       "      <td>398812.0</td>\n",
       "      <td>C577390</td>\n",
       "      <td>-1</td>\n",
       "      <td>2011-11-18 17:01:00</td>\n",
       "      <td>398809</td>\n",
       "    </tr>\n",
       "    <tr>\n",
       "      <th>20448</th>\n",
       "      <td>NaN</td>\n",
       "      <td>22423</td>\n",
       "      <td>REGENCY CAKESTAND 3 TIER</td>\n",
       "      <td>NaN</td>\n",
       "      <td>NaT</td>\n",
       "      <td>12.75</td>\n",
       "      <td>18277.0</td>\n",
       "      <td>United Kingdom</td>\n",
       "      <td>NaN</td>\n",
       "      <td>C542086</td>\n",
       "      <td>-1</td>\n",
       "      <td>2011-01-25 12:34:00</td>\n",
       "      <td>398821</td>\n",
       "    </tr>\n",
       "    <tr>\n",
       "      <th>20449</th>\n",
       "      <td>562525</td>\n",
       "      <td>23187</td>\n",
       "      <td>FRENCH STYLE STORAGE JAR BONBONS</td>\n",
       "      <td>48.0</td>\n",
       "      <td>2011-08-05 13:35:00</td>\n",
       "      <td>0.29</td>\n",
       "      <td>18282.0</td>\n",
       "      <td>United Kingdom</td>\n",
       "      <td>398854.0</td>\n",
       "      <td>C562808</td>\n",
       "      <td>-5</td>\n",
       "      <td>2011-08-09 15:10:00</td>\n",
       "      <td>398856</td>\n",
       "    </tr>\n",
       "  </tbody>\n",
       "</table>\n",
       "<p>20450 rows × 13 columns</p>\n",
       "</div>"
      ],
      "text/plain": [
       "      InvoiceNo_completed StockCode                         Description  \\\n",
       "0                  541431     23166      MEDIUM CERAMIC TOP STORAGE JAR   \n",
       "1                  546869     21914              BLUE HARMONICA IN BOX    \n",
       "2                  547390     21914              BLUE HARMONICA IN BOX    \n",
       "3                  546869     22413     METAL SIGN TAKE IT OR LEAVE IT    \n",
       "4                  547390     22413     METAL SIGN TAKE IT OR LEAVE IT    \n",
       "...                   ...       ...                                 ...   \n",
       "20445              575485     84988  SET OF 72 PINK HEART PAPER DOILIES   \n",
       "20446              572990     23401       RUSTIC MIRROR WITH LACE HEART   \n",
       "20447              572990     23401       RUSTIC MIRROR WITH LACE HEART   \n",
       "20448                 NaN     22423            REGENCY CAKESTAND 3 TIER   \n",
       "20449              562525     23187    FRENCH STYLE STORAGE JAR BONBONS   \n",
       "\n",
       "       Quantity_completed InvoiceDate_completed  UnitPrice CustomerID  \\\n",
       "0                 74215.0   2011-01-18 10:01:00       1.04    12346.0   \n",
       "1                    12.0   2011-03-17 16:00:00       1.25    12352.0   \n",
       "2                    12.0   2011-03-22 16:08:00       1.25    12352.0   \n",
       "3                     6.0   2011-03-17 16:00:00       2.95    12352.0   \n",
       "4                     6.0   2011-03-22 16:08:00       2.95    12352.0   \n",
       "...                   ...                   ...        ...        ...   \n",
       "20445                12.0   2011-11-09 17:03:00       1.45    18274.0   \n",
       "20446                 2.0   2011-10-27 10:54:00       6.25    18276.0   \n",
       "20447                 2.0   2011-10-27 10:54:00       6.25    18276.0   \n",
       "20448                 NaN                   NaT      12.75    18277.0   \n",
       "20449                48.0   2011-08-05 13:35:00       0.29    18282.0   \n",
       "\n",
       "              Country  idx_completed InvoiceNo_canceled  Quantity_canceled  \\\n",
       "0      United Kingdom            0.0            C541433             -74215   \n",
       "1              Norway          340.0            C547388                -12   \n",
       "2              Norway          359.0            C547388                -12   \n",
       "3              Norway          327.0            C547388                 -6   \n",
       "4              Norway          345.0            C547388                 -6   \n",
       "...               ...            ...                ...                ...   \n",
       "20445  United Kingdom       398794.0            C577832                -12   \n",
       "20446  United Kingdom       398812.0            C577386                 -1   \n",
       "20447  United Kingdom       398812.0            C577390                 -1   \n",
       "20448  United Kingdom            NaN            C542086                 -1   \n",
       "20449  United Kingdom       398854.0            C562808                 -5   \n",
       "\n",
       "      InvoiceDate_canceled  idx_canceled  \n",
       "0      2011-01-18 10:17:00             1  \n",
       "1      2011-03-22 16:07:00           331  \n",
       "2      2011-03-22 16:07:00           331  \n",
       "3      2011-03-22 16:07:00           332  \n",
       "4      2011-03-22 16:07:00           332  \n",
       "...                    ...           ...  \n",
       "20445  2011-11-22 10:18:00        398791  \n",
       "20446  2011-11-18 16:54:00        398807  \n",
       "20447  2011-11-18 17:01:00        398809  \n",
       "20448  2011-01-25 12:34:00        398821  \n",
       "20449  2011-08-09 15:10:00        398856  \n",
       "\n",
       "[20450 rows x 13 columns]"
      ]
     },
     "execution_count": 23,
     "metadata": {},
     "output_type": "execute_result"
    }
   ],
   "source": [
    "dataCompleted = dataIdx[dataIdx.Quantity>0]\n",
    "dataCanceled = dataIdx[dataIdx.Quantity<0]\n",
    "dataReturned = pd.merge(dataCompleted, dataCanceled, how='right',\n",
    "                   on=['StockCode', 'Description', 'CustomerID', 'Country', 'UnitPrice'], \n",
    "                   suffixes=['_completed', '_canceled'])\n",
    "dataReturned"
   ]
  },
  {
   "cell_type": "code",
   "execution_count": 24,
   "metadata": {},
   "outputs": [
    {
     "name": "stdout",
     "output_type": "stream",
     "text": [
      "Transaction Items Affected by Returned => 20450\n",
      "========================\n",
      "Purchase Unknown & Return Quantity \t: 1033\n"
     ]
    },
    {
     "data": {
      "text/html": [
       "<div>\n",
       "<style scoped>\n",
       "    .dataframe tbody tr th:only-of-type {\n",
       "        vertical-align: middle;\n",
       "    }\n",
       "\n",
       "    .dataframe tbody tr th {\n",
       "        vertical-align: top;\n",
       "    }\n",
       "\n",
       "    .dataframe thead th {\n",
       "        text-align: right;\n",
       "    }\n",
       "</style>\n",
       "<table border=\"1\" class=\"dataframe\">\n",
       "  <thead>\n",
       "    <tr style=\"text-align: right;\">\n",
       "      <th></th>\n",
       "      <th>InvoiceNo_completed</th>\n",
       "      <th>StockCode</th>\n",
       "      <th>Description</th>\n",
       "      <th>Quantity_completed</th>\n",
       "      <th>InvoiceDate_completed</th>\n",
       "      <th>UnitPrice</th>\n",
       "      <th>CustomerID</th>\n",
       "      <th>Country</th>\n",
       "      <th>idx_completed</th>\n",
       "      <th>InvoiceNo_canceled</th>\n",
       "      <th>Quantity_canceled</th>\n",
       "      <th>InvoiceDate_canceled</th>\n",
       "      <th>idx_canceled</th>\n",
       "    </tr>\n",
       "  </thead>\n",
       "  <tbody>\n",
       "    <tr>\n",
       "      <th>23</th>\n",
       "      <td>NaN</td>\n",
       "      <td>22826</td>\n",
       "      <td>LOVE SEAT ANTIQUE WHITE METAL</td>\n",
       "      <td>NaN</td>\n",
       "      <td>NaT</td>\n",
       "      <td>42.50</td>\n",
       "      <td>12359.0</td>\n",
       "      <td>Cyprus</td>\n",
       "      <td>NaN</td>\n",
       "      <td>C580165</td>\n",
       "      <td>-1</td>\n",
       "      <td>2011-12-02 11:21:00</td>\n",
       "      <td>886</td>\n",
       "    </tr>\n",
       "    <tr>\n",
       "      <th>66</th>\n",
       "      <td>NaN</td>\n",
       "      <td>20712</td>\n",
       "      <td>JUMBO BAG WOODLAND ANIMALS</td>\n",
       "      <td>NaN</td>\n",
       "      <td>NaT</td>\n",
       "      <td>2.08</td>\n",
       "      <td>12408.0</td>\n",
       "      <td>Belgium</td>\n",
       "      <td>NaN</td>\n",
       "      <td>C549253</td>\n",
       "      <td>-1</td>\n",
       "      <td>2011-04-07 12:20:00</td>\n",
       "      <td>3438</td>\n",
       "    </tr>\n",
       "    <tr>\n",
       "      <th>177</th>\n",
       "      <td>NaN</td>\n",
       "      <td>21217</td>\n",
       "      <td>RED RETROSPOT ROUND CAKE TINS</td>\n",
       "      <td>NaN</td>\n",
       "      <td>NaT</td>\n",
       "      <td>9.95</td>\n",
       "      <td>12434.0</td>\n",
       "      <td>Australia</td>\n",
       "      <td>NaN</td>\n",
       "      <td>C538723</td>\n",
       "      <td>-1</td>\n",
       "      <td>2010-12-14 11:12:00</td>\n",
       "      <td>6301</td>\n",
       "    </tr>\n",
       "    <tr>\n",
       "      <th>178</th>\n",
       "      <td>NaN</td>\n",
       "      <td>22094</td>\n",
       "      <td>RED RETROSPOT TISSUE BOX</td>\n",
       "      <td>NaN</td>\n",
       "      <td>NaT</td>\n",
       "      <td>1.25</td>\n",
       "      <td>12434.0</td>\n",
       "      <td>Australia</td>\n",
       "      <td>NaN</td>\n",
       "      <td>C538723</td>\n",
       "      <td>-5</td>\n",
       "      <td>2010-12-14 11:12:00</td>\n",
       "      <td>6302</td>\n",
       "    </tr>\n",
       "    <tr>\n",
       "      <th>179</th>\n",
       "      <td>NaN</td>\n",
       "      <td>22333</td>\n",
       "      <td>RETROSPOT PARTY BAG + STICKER SET</td>\n",
       "      <td>NaN</td>\n",
       "      <td>NaT</td>\n",
       "      <td>1.65</td>\n",
       "      <td>12434.0</td>\n",
       "      <td>Australia</td>\n",
       "      <td>NaN</td>\n",
       "      <td>C538723</td>\n",
       "      <td>-7</td>\n",
       "      <td>2010-12-14 11:12:00</td>\n",
       "      <td>6303</td>\n",
       "    </tr>\n",
       "    <tr>\n",
       "      <th>...</th>\n",
       "      <td>...</td>\n",
       "      <td>...</td>\n",
       "      <td>...</td>\n",
       "      <td>...</td>\n",
       "      <td>...</td>\n",
       "      <td>...</td>\n",
       "      <td>...</td>\n",
       "      <td>...</td>\n",
       "      <td>...</td>\n",
       "      <td>...</td>\n",
       "      <td>...</td>\n",
       "      <td>...</td>\n",
       "      <td>...</td>\n",
       "    </tr>\n",
       "    <tr>\n",
       "      <th>20405</th>\n",
       "      <td>NaN</td>\n",
       "      <td>22603</td>\n",
       "      <td>CHRISTMAS RETROSPOT TREE WOOD</td>\n",
       "      <td>NaN</td>\n",
       "      <td>NaT</td>\n",
       "      <td>0.85</td>\n",
       "      <td>18256.0</td>\n",
       "      <td>United Kingdom</td>\n",
       "      <td>NaN</td>\n",
       "      <td>C539486</td>\n",
       "      <td>-11</td>\n",
       "      <td>2010-12-20 08:27:00</td>\n",
       "      <td>398139</td>\n",
       "    </tr>\n",
       "    <tr>\n",
       "      <th>20406</th>\n",
       "      <td>NaN</td>\n",
       "      <td>22600</td>\n",
       "      <td>CHRISTMAS RETROSPOT STAR WOOD</td>\n",
       "      <td>NaN</td>\n",
       "      <td>NaT</td>\n",
       "      <td>0.85</td>\n",
       "      <td>18256.0</td>\n",
       "      <td>United Kingdom</td>\n",
       "      <td>NaN</td>\n",
       "      <td>C539486</td>\n",
       "      <td>-12</td>\n",
       "      <td>2010-12-20 08:27:00</td>\n",
       "      <td>398140</td>\n",
       "    </tr>\n",
       "    <tr>\n",
       "      <th>20409</th>\n",
       "      <td>NaN</td>\n",
       "      <td>23057</td>\n",
       "      <td>BEADED CHANDELIER T-LIGHT HOLDER</td>\n",
       "      <td>NaN</td>\n",
       "      <td>NaT</td>\n",
       "      <td>4.95</td>\n",
       "      <td>18257.0</td>\n",
       "      <td>United Kingdom</td>\n",
       "      <td>NaN</td>\n",
       "      <td>C555268</td>\n",
       "      <td>-1</td>\n",
       "      <td>2011-06-01 16:17:00</td>\n",
       "      <td>398198</td>\n",
       "    </tr>\n",
       "    <tr>\n",
       "      <th>20429</th>\n",
       "      <td>NaN</td>\n",
       "      <td>20932</td>\n",
       "      <td>PINK POT PLANT CANDLE</td>\n",
       "      <td>NaN</td>\n",
       "      <td>NaT</td>\n",
       "      <td>2.95</td>\n",
       "      <td>18272.0</td>\n",
       "      <td>United Kingdom</td>\n",
       "      <td>NaN</td>\n",
       "      <td>C552720</td>\n",
       "      <td>-1</td>\n",
       "      <td>2011-05-11 09:49:00</td>\n",
       "      <td>398654</td>\n",
       "    </tr>\n",
       "    <tr>\n",
       "      <th>20448</th>\n",
       "      <td>NaN</td>\n",
       "      <td>22423</td>\n",
       "      <td>REGENCY CAKESTAND 3 TIER</td>\n",
       "      <td>NaN</td>\n",
       "      <td>NaT</td>\n",
       "      <td>12.75</td>\n",
       "      <td>18277.0</td>\n",
       "      <td>United Kingdom</td>\n",
       "      <td>NaN</td>\n",
       "      <td>C542086</td>\n",
       "      <td>-1</td>\n",
       "      <td>2011-01-25 12:34:00</td>\n",
       "      <td>398821</td>\n",
       "    </tr>\n",
       "  </tbody>\n",
       "</table>\n",
       "<p>1033 rows × 13 columns</p>\n",
       "</div>"
      ],
      "text/plain": [
       "      InvoiceNo_completed StockCode                        Description  \\\n",
       "23                    NaN     22826      LOVE SEAT ANTIQUE WHITE METAL   \n",
       "66                    NaN     20712         JUMBO BAG WOODLAND ANIMALS   \n",
       "177                   NaN     21217      RED RETROSPOT ROUND CAKE TINS   \n",
       "178                   NaN     22094           RED RETROSPOT TISSUE BOX   \n",
       "179                   NaN     22333  RETROSPOT PARTY BAG + STICKER SET   \n",
       "...                   ...       ...                                ...   \n",
       "20405                 NaN     22603      CHRISTMAS RETROSPOT TREE WOOD   \n",
       "20406                 NaN     22600      CHRISTMAS RETROSPOT STAR WOOD   \n",
       "20409                 NaN     23057   BEADED CHANDELIER T-LIGHT HOLDER   \n",
       "20429                 NaN     20932              PINK POT PLANT CANDLE   \n",
       "20448                 NaN     22423           REGENCY CAKESTAND 3 TIER   \n",
       "\n",
       "       Quantity_completed InvoiceDate_completed  UnitPrice CustomerID  \\\n",
       "23                    NaN                   NaT      42.50    12359.0   \n",
       "66                    NaN                   NaT       2.08    12408.0   \n",
       "177                   NaN                   NaT       9.95    12434.0   \n",
       "178                   NaN                   NaT       1.25    12434.0   \n",
       "179                   NaN                   NaT       1.65    12434.0   \n",
       "...                   ...                   ...        ...        ...   \n",
       "20405                 NaN                   NaT       0.85    18256.0   \n",
       "20406                 NaN                   NaT       0.85    18256.0   \n",
       "20409                 NaN                   NaT       4.95    18257.0   \n",
       "20429                 NaN                   NaT       2.95    18272.0   \n",
       "20448                 NaN                   NaT      12.75    18277.0   \n",
       "\n",
       "              Country  idx_completed InvoiceNo_canceled  Quantity_canceled  \\\n",
       "23             Cyprus            NaN            C580165                 -1   \n",
       "66            Belgium            NaN            C549253                 -1   \n",
       "177         Australia            NaN            C538723                 -1   \n",
       "178         Australia            NaN            C538723                 -5   \n",
       "179         Australia            NaN            C538723                 -7   \n",
       "...               ...            ...                ...                ...   \n",
       "20405  United Kingdom            NaN            C539486                -11   \n",
       "20406  United Kingdom            NaN            C539486                -12   \n",
       "20409  United Kingdom            NaN            C555268                 -1   \n",
       "20429  United Kingdom            NaN            C552720                 -1   \n",
       "20448  United Kingdom            NaN            C542086                 -1   \n",
       "\n",
       "      InvoiceDate_canceled  idx_canceled  \n",
       "23     2011-12-02 11:21:00           886  \n",
       "66     2011-04-07 12:20:00          3438  \n",
       "177    2010-12-14 11:12:00          6301  \n",
       "178    2010-12-14 11:12:00          6302  \n",
       "179    2010-12-14 11:12:00          6303  \n",
       "...                    ...           ...  \n",
       "20405  2010-12-20 08:27:00        398139  \n",
       "20406  2010-12-20 08:27:00        398140  \n",
       "20409  2011-06-01 16:17:00        398198  \n",
       "20429  2011-05-11 09:49:00        398654  \n",
       "20448  2011-01-25 12:34:00        398821  \n",
       "\n",
       "[1033 rows x 13 columns]"
      ]
     },
     "metadata": {},
     "output_type": "display_data"
    },
    {
     "name": "stdout",
     "output_type": "stream",
     "text": [
      "========================\n",
      "Purchase Quantity == Return Quantity \t: 3799\n"
     ]
    },
    {
     "data": {
      "text/html": [
       "<div>\n",
       "<style scoped>\n",
       "    .dataframe tbody tr th:only-of-type {\n",
       "        vertical-align: middle;\n",
       "    }\n",
       "\n",
       "    .dataframe tbody tr th {\n",
       "        vertical-align: top;\n",
       "    }\n",
       "\n",
       "    .dataframe thead th {\n",
       "        text-align: right;\n",
       "    }\n",
       "</style>\n",
       "<table border=\"1\" class=\"dataframe\">\n",
       "  <thead>\n",
       "    <tr style=\"text-align: right;\">\n",
       "      <th></th>\n",
       "      <th>InvoiceNo_completed</th>\n",
       "      <th>StockCode</th>\n",
       "      <th>Description</th>\n",
       "      <th>Quantity_completed</th>\n",
       "      <th>InvoiceDate_completed</th>\n",
       "      <th>UnitPrice</th>\n",
       "      <th>CustomerID</th>\n",
       "      <th>Country</th>\n",
       "      <th>idx_completed</th>\n",
       "      <th>InvoiceNo_canceled</th>\n",
       "      <th>Quantity_canceled</th>\n",
       "      <th>InvoiceDate_canceled</th>\n",
       "      <th>idx_canceled</th>\n",
       "    </tr>\n",
       "  </thead>\n",
       "  <tbody>\n",
       "    <tr>\n",
       "      <th>0</th>\n",
       "      <td>541431</td>\n",
       "      <td>23166</td>\n",
       "      <td>MEDIUM CERAMIC TOP STORAGE JAR</td>\n",
       "      <td>74215.0</td>\n",
       "      <td>2011-01-18 10:01:00</td>\n",
       "      <td>1.04</td>\n",
       "      <td>12346.0</td>\n",
       "      <td>United Kingdom</td>\n",
       "      <td>0.0</td>\n",
       "      <td>C541433</td>\n",
       "      <td>-74215</td>\n",
       "      <td>2011-01-18 10:17:00</td>\n",
       "      <td>1</td>\n",
       "    </tr>\n",
       "    <tr>\n",
       "      <th>1</th>\n",
       "      <td>546869</td>\n",
       "      <td>21914</td>\n",
       "      <td>BLUE HARMONICA IN BOX</td>\n",
       "      <td>12.0</td>\n",
       "      <td>2011-03-17 16:00:00</td>\n",
       "      <td>1.25</td>\n",
       "      <td>12352.0</td>\n",
       "      <td>Norway</td>\n",
       "      <td>340.0</td>\n",
       "      <td>C547388</td>\n",
       "      <td>-12</td>\n",
       "      <td>2011-03-22 16:07:00</td>\n",
       "      <td>331</td>\n",
       "    </tr>\n",
       "    <tr>\n",
       "      <th>3</th>\n",
       "      <td>546869</td>\n",
       "      <td>22413</td>\n",
       "      <td>METAL SIGN TAKE IT OR LEAVE IT</td>\n",
       "      <td>6.0</td>\n",
       "      <td>2011-03-17 16:00:00</td>\n",
       "      <td>2.95</td>\n",
       "      <td>12352.0</td>\n",
       "      <td>Norway</td>\n",
       "      <td>327.0</td>\n",
       "      <td>C547388</td>\n",
       "      <td>-6</td>\n",
       "      <td>2011-03-22 16:07:00</td>\n",
       "      <td>332</td>\n",
       "    </tr>\n",
       "    <tr>\n",
       "      <th>5</th>\n",
       "      <td>546869</td>\n",
       "      <td>22645</td>\n",
       "      <td>CERAMIC HEART FAIRY CAKE MONEY BANK</td>\n",
       "      <td>12.0</td>\n",
       "      <td>2011-03-17 16:00:00</td>\n",
       "      <td>1.45</td>\n",
       "      <td>12352.0</td>\n",
       "      <td>Norway</td>\n",
       "      <td>338.0</td>\n",
       "      <td>C547388</td>\n",
       "      <td>-12</td>\n",
       "      <td>2011-03-22 16:07:00</td>\n",
       "      <td>333</td>\n",
       "    </tr>\n",
       "    <tr>\n",
       "      <th>8</th>\n",
       "      <td>546869</td>\n",
       "      <td>22701</td>\n",
       "      <td>PINK DOG BOWL</td>\n",
       "      <td>6.0</td>\n",
       "      <td>2011-03-17 16:00:00</td>\n",
       "      <td>2.95</td>\n",
       "      <td>12352.0</td>\n",
       "      <td>Norway</td>\n",
       "      <td>362.0</td>\n",
       "      <td>C547388</td>\n",
       "      <td>-6</td>\n",
       "      <td>2011-03-22 16:07:00</td>\n",
       "      <td>335</td>\n",
       "    </tr>\n",
       "    <tr>\n",
       "      <th>...</th>\n",
       "      <td>...</td>\n",
       "      <td>...</td>\n",
       "      <td>...</td>\n",
       "      <td>...</td>\n",
       "      <td>...</td>\n",
       "      <td>...</td>\n",
       "      <td>...</td>\n",
       "      <td>...</td>\n",
       "      <td>...</td>\n",
       "      <td>...</td>\n",
       "      <td>...</td>\n",
       "      <td>...</td>\n",
       "      <td>...</td>\n",
       "    </tr>\n",
       "    <tr>\n",
       "      <th>20441</th>\n",
       "      <td>575485</td>\n",
       "      <td>22989</td>\n",
       "      <td>SET 2 PANTRY DESIGN TEA TOWELS</td>\n",
       "      <td>6.0</td>\n",
       "      <td>2011-11-09 17:03:00</td>\n",
       "      <td>3.25</td>\n",
       "      <td>18274.0</td>\n",
       "      <td>United Kingdom</td>\n",
       "      <td>398798.0</td>\n",
       "      <td>C577832</td>\n",
       "      <td>-6</td>\n",
       "      <td>2011-11-22 10:18:00</td>\n",
       "      <td>398787</td>\n",
       "    </tr>\n",
       "    <tr>\n",
       "      <th>20442</th>\n",
       "      <td>575485</td>\n",
       "      <td>23243</td>\n",
       "      <td>SET OF TEA COFFEE SUGAR TINS PANTRY</td>\n",
       "      <td>4.0</td>\n",
       "      <td>2011-11-09 17:03:00</td>\n",
       "      <td>4.95</td>\n",
       "      <td>18274.0</td>\n",
       "      <td>United Kingdom</td>\n",
       "      <td>398797.0</td>\n",
       "      <td>C577832</td>\n",
       "      <td>-4</td>\n",
       "      <td>2011-11-22 10:18:00</td>\n",
       "      <td>398788</td>\n",
       "    </tr>\n",
       "    <tr>\n",
       "      <th>20443</th>\n",
       "      <td>575485</td>\n",
       "      <td>23245</td>\n",
       "      <td>SET OF 3 REGENCY CAKE TINS</td>\n",
       "      <td>4.0</td>\n",
       "      <td>2011-11-09 17:03:00</td>\n",
       "      <td>4.95</td>\n",
       "      <td>18274.0</td>\n",
       "      <td>United Kingdom</td>\n",
       "      <td>398795.0</td>\n",
       "      <td>C577832</td>\n",
       "      <td>-4</td>\n",
       "      <td>2011-11-22 10:18:00</td>\n",
       "      <td>398789</td>\n",
       "    </tr>\n",
       "    <tr>\n",
       "      <th>20444</th>\n",
       "      <td>575485</td>\n",
       "      <td>84509A</td>\n",
       "      <td>SET OF 4 ENGLISH ROSE PLACEMATS</td>\n",
       "      <td>4.0</td>\n",
       "      <td>2011-11-09 17:03:00</td>\n",
       "      <td>3.75</td>\n",
       "      <td>18274.0</td>\n",
       "      <td>United Kingdom</td>\n",
       "      <td>398801.0</td>\n",
       "      <td>C577832</td>\n",
       "      <td>-4</td>\n",
       "      <td>2011-11-22 10:18:00</td>\n",
       "      <td>398790</td>\n",
       "    </tr>\n",
       "    <tr>\n",
       "      <th>20445</th>\n",
       "      <td>575485</td>\n",
       "      <td>84988</td>\n",
       "      <td>SET OF 72 PINK HEART PAPER DOILIES</td>\n",
       "      <td>12.0</td>\n",
       "      <td>2011-11-09 17:03:00</td>\n",
       "      <td>1.45</td>\n",
       "      <td>18274.0</td>\n",
       "      <td>United Kingdom</td>\n",
       "      <td>398794.0</td>\n",
       "      <td>C577832</td>\n",
       "      <td>-12</td>\n",
       "      <td>2011-11-22 10:18:00</td>\n",
       "      <td>398791</td>\n",
       "    </tr>\n",
       "  </tbody>\n",
       "</table>\n",
       "<p>3799 rows × 13 columns</p>\n",
       "</div>"
      ],
      "text/plain": [
       "      InvoiceNo_completed StockCode                          Description  \\\n",
       "0                  541431     23166       MEDIUM CERAMIC TOP STORAGE JAR   \n",
       "1                  546869     21914               BLUE HARMONICA IN BOX    \n",
       "3                  546869     22413      METAL SIGN TAKE IT OR LEAVE IT    \n",
       "5                  546869     22645  CERAMIC HEART FAIRY CAKE MONEY BANK   \n",
       "8                  546869     22701                        PINK DOG BOWL   \n",
       "...                   ...       ...                                  ...   \n",
       "20441              575485     22989       SET 2 PANTRY DESIGN TEA TOWELS   \n",
       "20442              575485     23243  SET OF TEA COFFEE SUGAR TINS PANTRY   \n",
       "20443              575485     23245           SET OF 3 REGENCY CAKE TINS   \n",
       "20444              575485    84509A      SET OF 4 ENGLISH ROSE PLACEMATS   \n",
       "20445              575485     84988   SET OF 72 PINK HEART PAPER DOILIES   \n",
       "\n",
       "       Quantity_completed InvoiceDate_completed  UnitPrice CustomerID  \\\n",
       "0                 74215.0   2011-01-18 10:01:00       1.04    12346.0   \n",
       "1                    12.0   2011-03-17 16:00:00       1.25    12352.0   \n",
       "3                     6.0   2011-03-17 16:00:00       2.95    12352.0   \n",
       "5                    12.0   2011-03-17 16:00:00       1.45    12352.0   \n",
       "8                     6.0   2011-03-17 16:00:00       2.95    12352.0   \n",
       "...                   ...                   ...        ...        ...   \n",
       "20441                 6.0   2011-11-09 17:03:00       3.25    18274.0   \n",
       "20442                 4.0   2011-11-09 17:03:00       4.95    18274.0   \n",
       "20443                 4.0   2011-11-09 17:03:00       4.95    18274.0   \n",
       "20444                 4.0   2011-11-09 17:03:00       3.75    18274.0   \n",
       "20445                12.0   2011-11-09 17:03:00       1.45    18274.0   \n",
       "\n",
       "              Country  idx_completed InvoiceNo_canceled  Quantity_canceled  \\\n",
       "0      United Kingdom            0.0            C541433             -74215   \n",
       "1              Norway          340.0            C547388                -12   \n",
       "3              Norway          327.0            C547388                 -6   \n",
       "5              Norway          338.0            C547388                -12   \n",
       "8              Norway          362.0            C547388                 -6   \n",
       "...               ...            ...                ...                ...   \n",
       "20441  United Kingdom       398798.0            C577832                 -6   \n",
       "20442  United Kingdom       398797.0            C577832                 -4   \n",
       "20443  United Kingdom       398795.0            C577832                 -4   \n",
       "20444  United Kingdom       398801.0            C577832                 -4   \n",
       "20445  United Kingdom       398794.0            C577832                -12   \n",
       "\n",
       "      InvoiceDate_canceled  idx_canceled  \n",
       "0      2011-01-18 10:17:00             1  \n",
       "1      2011-03-22 16:07:00           331  \n",
       "3      2011-03-22 16:07:00           332  \n",
       "5      2011-03-22 16:07:00           333  \n",
       "8      2011-03-22 16:07:00           335  \n",
       "...                    ...           ...  \n",
       "20441  2011-11-22 10:18:00        398787  \n",
       "20442  2011-11-22 10:18:00        398788  \n",
       "20443  2011-11-22 10:18:00        398789  \n",
       "20444  2011-11-22 10:18:00        398790  \n",
       "20445  2011-11-22 10:18:00        398791  \n",
       "\n",
       "[3799 rows x 13 columns]"
      ]
     },
     "metadata": {},
     "output_type": "display_data"
    },
    {
     "name": "stdout",
     "output_type": "stream",
     "text": [
      "========================\n",
      "Purchase Quantity > Return Quantity \t: 8542\n"
     ]
    },
    {
     "data": {
      "text/html": [
       "<div>\n",
       "<style scoped>\n",
       "    .dataframe tbody tr th:only-of-type {\n",
       "        vertical-align: middle;\n",
       "    }\n",
       "\n",
       "    .dataframe tbody tr th {\n",
       "        vertical-align: top;\n",
       "    }\n",
       "\n",
       "    .dataframe thead th {\n",
       "        text-align: right;\n",
       "    }\n",
       "</style>\n",
       "<table border=\"1\" class=\"dataframe\">\n",
       "  <thead>\n",
       "    <tr style=\"text-align: right;\">\n",
       "      <th></th>\n",
       "      <th>InvoiceNo_completed</th>\n",
       "      <th>StockCode</th>\n",
       "      <th>Description</th>\n",
       "      <th>Quantity_completed</th>\n",
       "      <th>InvoiceDate_completed</th>\n",
       "      <th>UnitPrice</th>\n",
       "      <th>CustomerID</th>\n",
       "      <th>Country</th>\n",
       "      <th>idx_completed</th>\n",
       "      <th>InvoiceNo_canceled</th>\n",
       "      <th>Quantity_canceled</th>\n",
       "      <th>InvoiceDate_canceled</th>\n",
       "      <th>idx_canceled</th>\n",
       "    </tr>\n",
       "  </thead>\n",
       "  <tbody>\n",
       "    <tr>\n",
       "      <th>16</th>\n",
       "      <td>540946</td>\n",
       "      <td>22666</td>\n",
       "      <td>RECIPE BOX PANTRY YELLOW DESIGN</td>\n",
       "      <td>6.0</td>\n",
       "      <td>2011-01-12 12:43:00</td>\n",
       "      <td>2.95</td>\n",
       "      <td>12359.0</td>\n",
       "      <td>Cyprus</td>\n",
       "      <td>676.0</td>\n",
       "      <td>C549955</td>\n",
       "      <td>-2</td>\n",
       "      <td>2011-04-13 13:38:00</td>\n",
       "      <td>664</td>\n",
       "    </tr>\n",
       "    <tr>\n",
       "      <th>17</th>\n",
       "      <td>543370</td>\n",
       "      <td>22666</td>\n",
       "      <td>RECIPE BOX PANTRY YELLOW DESIGN</td>\n",
       "      <td>6.0</td>\n",
       "      <td>2011-02-07 14:51:00</td>\n",
       "      <td>2.95</td>\n",
       "      <td>12359.0</td>\n",
       "      <td>Cyprus</td>\n",
       "      <td>706.0</td>\n",
       "      <td>C549955</td>\n",
       "      <td>-2</td>\n",
       "      <td>2011-04-13 13:38:00</td>\n",
       "      <td>664</td>\n",
       "    </tr>\n",
       "    <tr>\n",
       "      <th>19</th>\n",
       "      <td>571034</td>\n",
       "      <td>23245</td>\n",
       "      <td>SET OF 3 REGENCY CAKE TINS</td>\n",
       "      <td>4.0</td>\n",
       "      <td>2011-10-13 12:47:00</td>\n",
       "      <td>4.95</td>\n",
       "      <td>12359.0</td>\n",
       "      <td>Cyprus</td>\n",
       "      <td>862.0</td>\n",
       "      <td>C580165</td>\n",
       "      <td>-2</td>\n",
       "      <td>2011-12-02 11:21:00</td>\n",
       "      <td>690</td>\n",
       "    </tr>\n",
       "    <tr>\n",
       "      <th>20</th>\n",
       "      <td>571034</td>\n",
       "      <td>22797</td>\n",
       "      <td>CHEST OF DRAWERS GINGHAM HEART</td>\n",
       "      <td>4.0</td>\n",
       "      <td>2011-10-13 12:47:00</td>\n",
       "      <td>16.95</td>\n",
       "      <td>12359.0</td>\n",
       "      <td>Cyprus</td>\n",
       "      <td>910.0</td>\n",
       "      <td>C580165</td>\n",
       "      <td>-2</td>\n",
       "      <td>2011-12-02 11:21:00</td>\n",
       "      <td>691</td>\n",
       "    </tr>\n",
       "    <tr>\n",
       "      <th>21</th>\n",
       "      <td>540946</td>\n",
       "      <td>22720</td>\n",
       "      <td>SET OF 3 CAKE TINS PANTRY DESIGN</td>\n",
       "      <td>3.0</td>\n",
       "      <td>2011-01-12 12:43:00</td>\n",
       "      <td>4.95</td>\n",
       "      <td>12359.0</td>\n",
       "      <td>Cyprus</td>\n",
       "      <td>678.0</td>\n",
       "      <td>C580165</td>\n",
       "      <td>-1</td>\n",
       "      <td>2011-12-02 11:21:00</td>\n",
       "      <td>883</td>\n",
       "    </tr>\n",
       "    <tr>\n",
       "      <th>...</th>\n",
       "      <td>...</td>\n",
       "      <td>...</td>\n",
       "      <td>...</td>\n",
       "      <td>...</td>\n",
       "      <td>...</td>\n",
       "      <td>...</td>\n",
       "      <td>...</td>\n",
       "      <td>...</td>\n",
       "      <td>...</td>\n",
       "      <td>...</td>\n",
       "      <td>...</td>\n",
       "      <td>...</td>\n",
       "      <td>...</td>\n",
       "    </tr>\n",
       "    <tr>\n",
       "      <th>20433</th>\n",
       "      <td>549185</td>\n",
       "      <td>22969</td>\n",
       "      <td>HOMEMADE JAM SCENTED CANDLES</td>\n",
       "      <td>24.0</td>\n",
       "      <td>2011-04-07 09:35:00</td>\n",
       "      <td>1.45</td>\n",
       "      <td>18272.0</td>\n",
       "      <td>United Kingdom</td>\n",
       "      <td>398677.0</td>\n",
       "      <td>C552720</td>\n",
       "      <td>-2</td>\n",
       "      <td>2011-05-11 09:49:00</td>\n",
       "      <td>398655</td>\n",
       "    </tr>\n",
       "    <tr>\n",
       "      <th>20434</th>\n",
       "      <td>551507</td>\n",
       "      <td>22204</td>\n",
       "      <td>MILK PAN BLUE POLKADOT</td>\n",
       "      <td>4.0</td>\n",
       "      <td>2011-04-28 18:11:00</td>\n",
       "      <td>3.75</td>\n",
       "      <td>18272.0</td>\n",
       "      <td>United Kingdom</td>\n",
       "      <td>398698.0</td>\n",
       "      <td>C552720</td>\n",
       "      <td>-1</td>\n",
       "      <td>2011-05-11 09:49:00</td>\n",
       "      <td>398658</td>\n",
       "    </tr>\n",
       "    <tr>\n",
       "      <th>20446</th>\n",
       "      <td>572990</td>\n",
       "      <td>23401</td>\n",
       "      <td>RUSTIC MIRROR WITH LACE HEART</td>\n",
       "      <td>2.0</td>\n",
       "      <td>2011-10-27 10:54:00</td>\n",
       "      <td>6.25</td>\n",
       "      <td>18276.0</td>\n",
       "      <td>United Kingdom</td>\n",
       "      <td>398812.0</td>\n",
       "      <td>C577386</td>\n",
       "      <td>-1</td>\n",
       "      <td>2011-11-18 16:54:00</td>\n",
       "      <td>398807</td>\n",
       "    </tr>\n",
       "    <tr>\n",
       "      <th>20447</th>\n",
       "      <td>572990</td>\n",
       "      <td>23401</td>\n",
       "      <td>RUSTIC MIRROR WITH LACE HEART</td>\n",
       "      <td>2.0</td>\n",
       "      <td>2011-10-27 10:54:00</td>\n",
       "      <td>6.25</td>\n",
       "      <td>18276.0</td>\n",
       "      <td>United Kingdom</td>\n",
       "      <td>398812.0</td>\n",
       "      <td>C577390</td>\n",
       "      <td>-1</td>\n",
       "      <td>2011-11-18 17:01:00</td>\n",
       "      <td>398809</td>\n",
       "    </tr>\n",
       "    <tr>\n",
       "      <th>20449</th>\n",
       "      <td>562525</td>\n",
       "      <td>23187</td>\n",
       "      <td>FRENCH STYLE STORAGE JAR BONBONS</td>\n",
       "      <td>48.0</td>\n",
       "      <td>2011-08-05 13:35:00</td>\n",
       "      <td>0.29</td>\n",
       "      <td>18282.0</td>\n",
       "      <td>United Kingdom</td>\n",
       "      <td>398854.0</td>\n",
       "      <td>C562808</td>\n",
       "      <td>-5</td>\n",
       "      <td>2011-08-09 15:10:00</td>\n",
       "      <td>398856</td>\n",
       "    </tr>\n",
       "  </tbody>\n",
       "</table>\n",
       "<p>8542 rows × 13 columns</p>\n",
       "</div>"
      ],
      "text/plain": [
       "      InvoiceNo_completed StockCode                        Description  \\\n",
       "16                 540946     22666    RECIPE BOX PANTRY YELLOW DESIGN   \n",
       "17                 543370     22666    RECIPE BOX PANTRY YELLOW DESIGN   \n",
       "19                 571034     23245         SET OF 3 REGENCY CAKE TINS   \n",
       "20                 571034     22797    CHEST OF DRAWERS GINGHAM HEART    \n",
       "21                 540946     22720  SET OF 3 CAKE TINS PANTRY DESIGN    \n",
       "...                   ...       ...                                ...   \n",
       "20433              549185     22969       HOMEMADE JAM SCENTED CANDLES   \n",
       "20434              551507     22204             MILK PAN BLUE POLKADOT   \n",
       "20446              572990     23401      RUSTIC MIRROR WITH LACE HEART   \n",
       "20447              572990     23401      RUSTIC MIRROR WITH LACE HEART   \n",
       "20449              562525     23187   FRENCH STYLE STORAGE JAR BONBONS   \n",
       "\n",
       "       Quantity_completed InvoiceDate_completed  UnitPrice CustomerID  \\\n",
       "16                    6.0   2011-01-12 12:43:00       2.95    12359.0   \n",
       "17                    6.0   2011-02-07 14:51:00       2.95    12359.0   \n",
       "19                    4.0   2011-10-13 12:47:00       4.95    12359.0   \n",
       "20                    4.0   2011-10-13 12:47:00      16.95    12359.0   \n",
       "21                    3.0   2011-01-12 12:43:00       4.95    12359.0   \n",
       "...                   ...                   ...        ...        ...   \n",
       "20433                24.0   2011-04-07 09:35:00       1.45    18272.0   \n",
       "20434                 4.0   2011-04-28 18:11:00       3.75    18272.0   \n",
       "20446                 2.0   2011-10-27 10:54:00       6.25    18276.0   \n",
       "20447                 2.0   2011-10-27 10:54:00       6.25    18276.0   \n",
       "20449                48.0   2011-08-05 13:35:00       0.29    18282.0   \n",
       "\n",
       "              Country  idx_completed InvoiceNo_canceled  Quantity_canceled  \\\n",
       "16             Cyprus          676.0            C549955                 -2   \n",
       "17             Cyprus          706.0            C549955                 -2   \n",
       "19             Cyprus          862.0            C580165                 -2   \n",
       "20             Cyprus          910.0            C580165                 -2   \n",
       "21             Cyprus          678.0            C580165                 -1   \n",
       "...               ...            ...                ...                ...   \n",
       "20433  United Kingdom       398677.0            C552720                 -2   \n",
       "20434  United Kingdom       398698.0            C552720                 -1   \n",
       "20446  United Kingdom       398812.0            C577386                 -1   \n",
       "20447  United Kingdom       398812.0            C577390                 -1   \n",
       "20449  United Kingdom       398854.0            C562808                 -5   \n",
       "\n",
       "      InvoiceDate_canceled  idx_canceled  \n",
       "16     2011-04-13 13:38:00           664  \n",
       "17     2011-04-13 13:38:00           664  \n",
       "19     2011-12-02 11:21:00           690  \n",
       "20     2011-12-02 11:21:00           691  \n",
       "21     2011-12-02 11:21:00           883  \n",
       "...                    ...           ...  \n",
       "20433  2011-05-11 09:49:00        398655  \n",
       "20434  2011-05-11 09:49:00        398658  \n",
       "20446  2011-11-18 16:54:00        398807  \n",
       "20447  2011-11-18 17:01:00        398809  \n",
       "20449  2011-08-09 15:10:00        398856  \n",
       "\n",
       "[8542 rows x 13 columns]"
      ]
     },
     "metadata": {},
     "output_type": "display_data"
    },
    {
     "name": "stdout",
     "output_type": "stream",
     "text": [
      "========================\n",
      "Purchase Quantity < Return Quantity \t: 662\n"
     ]
    },
    {
     "data": {
      "text/html": [
       "<div>\n",
       "<style scoped>\n",
       "    .dataframe tbody tr th:only-of-type {\n",
       "        vertical-align: middle;\n",
       "    }\n",
       "\n",
       "    .dataframe tbody tr th {\n",
       "        vertical-align: top;\n",
       "    }\n",
       "\n",
       "    .dataframe thead th {\n",
       "        text-align: right;\n",
       "    }\n",
       "</style>\n",
       "<table border=\"1\" class=\"dataframe\">\n",
       "  <thead>\n",
       "    <tr style=\"text-align: right;\">\n",
       "      <th></th>\n",
       "      <th>InvoiceNo_completed</th>\n",
       "      <th>StockCode</th>\n",
       "      <th>Description</th>\n",
       "      <th>Quantity_completed</th>\n",
       "      <th>InvoiceDate_completed</th>\n",
       "      <th>UnitPrice</th>\n",
       "      <th>CustomerID</th>\n",
       "      <th>Country</th>\n",
       "      <th>idx_completed</th>\n",
       "      <th>InvoiceNo_canceled</th>\n",
       "      <th>Quantity_canceled</th>\n",
       "      <th>InvoiceDate_canceled</th>\n",
       "      <th>idx_canceled</th>\n",
       "    </tr>\n",
       "  </thead>\n",
       "  <tbody>\n",
       "    <tr>\n",
       "      <th>448</th>\n",
       "      <td>559300</td>\n",
       "      <td>23198</td>\n",
       "      <td>PANTRY MAGNETIC  SHOPPING LIST</td>\n",
       "      <td>12.0</td>\n",
       "      <td>2011-07-07 12:40:00</td>\n",
       "      <td>1.45</td>\n",
       "      <td>12471.0</td>\n",
       "      <td>Germany</td>\n",
       "      <td>8250.0</td>\n",
       "      <td>C573037</td>\n",
       "      <td>-13</td>\n",
       "      <td>2011-10-27 13:45:00</td>\n",
       "      <td>8637</td>\n",
       "    </tr>\n",
       "    <tr>\n",
       "      <th>451</th>\n",
       "      <td>564360</td>\n",
       "      <td>23198</td>\n",
       "      <td>PANTRY MAGNETIC  SHOPPING LIST</td>\n",
       "      <td>12.0</td>\n",
       "      <td>2011-08-24 16:13:00</td>\n",
       "      <td>1.45</td>\n",
       "      <td>12471.0</td>\n",
       "      <td>Germany</td>\n",
       "      <td>8438.0</td>\n",
       "      <td>C573037</td>\n",
       "      <td>-13</td>\n",
       "      <td>2011-10-27 13:45:00</td>\n",
       "      <td>8637</td>\n",
       "    </tr>\n",
       "    <tr>\n",
       "      <th>453</th>\n",
       "      <td>563950</td>\n",
       "      <td>23198</td>\n",
       "      <td>PANTRY MAGNETIC  SHOPPING LIST</td>\n",
       "      <td>12.0</td>\n",
       "      <td>2011-08-22 10:39:00</td>\n",
       "      <td>1.45</td>\n",
       "      <td>12471.0</td>\n",
       "      <td>Germany</td>\n",
       "      <td>8492.0</td>\n",
       "      <td>C573037</td>\n",
       "      <td>-13</td>\n",
       "      <td>2011-10-27 13:45:00</td>\n",
       "      <td>8637</td>\n",
       "    </tr>\n",
       "    <tr>\n",
       "      <th>454</th>\n",
       "      <td>567924</td>\n",
       "      <td>23198</td>\n",
       "      <td>PANTRY MAGNETIC  SHOPPING LIST</td>\n",
       "      <td>12.0</td>\n",
       "      <td>2011-09-22 17:25:00</td>\n",
       "      <td>1.45</td>\n",
       "      <td>12471.0</td>\n",
       "      <td>Germany</td>\n",
       "      <td>8598.0</td>\n",
       "      <td>C573037</td>\n",
       "      <td>-13</td>\n",
       "      <td>2011-10-27 13:45:00</td>\n",
       "      <td>8637</td>\n",
       "    </tr>\n",
       "    <tr>\n",
       "      <th>722</th>\n",
       "      <td>561037</td>\n",
       "      <td>22467</td>\n",
       "      <td>GUMBALL COAT RACK</td>\n",
       "      <td>6.0</td>\n",
       "      <td>2011-07-24 11:55:00</td>\n",
       "      <td>2.55</td>\n",
       "      <td>12472.0</td>\n",
       "      <td>Germany</td>\n",
       "      <td>8798.0</td>\n",
       "      <td>C575064</td>\n",
       "      <td>-8</td>\n",
       "      <td>2011-11-08 12:39:00</td>\n",
       "      <td>9029</td>\n",
       "    </tr>\n",
       "    <tr>\n",
       "      <th>...</th>\n",
       "      <td>...</td>\n",
       "      <td>...</td>\n",
       "      <td>...</td>\n",
       "      <td>...</td>\n",
       "      <td>...</td>\n",
       "      <td>...</td>\n",
       "      <td>...</td>\n",
       "      <td>...</td>\n",
       "      <td>...</td>\n",
       "      <td>...</td>\n",
       "      <td>...</td>\n",
       "      <td>...</td>\n",
       "      <td>...</td>\n",
       "    </tr>\n",
       "    <tr>\n",
       "      <th>20113</th>\n",
       "      <td>548698</td>\n",
       "      <td>22501</td>\n",
       "      <td>PICNIC BASKET WICKER LARGE</td>\n",
       "      <td>1.0</td>\n",
       "      <td>2011-04-03 10:55:00</td>\n",
       "      <td>9.95</td>\n",
       "      <td>18109.0</td>\n",
       "      <td>United Kingdom</td>\n",
       "      <td>389735.0</td>\n",
       "      <td>C556530</td>\n",
       "      <td>-3</td>\n",
       "      <td>2011-06-13 11:42:00</td>\n",
       "      <td>389666</td>\n",
       "    </tr>\n",
       "    <tr>\n",
       "      <th>20131</th>\n",
       "      <td>540940</td>\n",
       "      <td>85066</td>\n",
       "      <td>CREAM SWEETHEART MINI CHEST</td>\n",
       "      <td>1.0</td>\n",
       "      <td>2011-01-12 12:12:00</td>\n",
       "      <td>12.75</td>\n",
       "      <td>18109.0</td>\n",
       "      <td>United Kingdom</td>\n",
       "      <td>389770.0</td>\n",
       "      <td>C553914</td>\n",
       "      <td>-2</td>\n",
       "      <td>2011-05-19 19:50:00</td>\n",
       "      <td>389669</td>\n",
       "    </tr>\n",
       "    <tr>\n",
       "      <th>20132</th>\n",
       "      <td>540172</td>\n",
       "      <td>85066</td>\n",
       "      <td>CREAM SWEETHEART MINI CHEST</td>\n",
       "      <td>1.0</td>\n",
       "      <td>2011-01-05 12:29:00</td>\n",
       "      <td>12.75</td>\n",
       "      <td>18109.0</td>\n",
       "      <td>United Kingdom</td>\n",
       "      <td>389772.0</td>\n",
       "      <td>C553914</td>\n",
       "      <td>-2</td>\n",
       "      <td>2011-05-19 19:50:00</td>\n",
       "      <td>389669</td>\n",
       "    </tr>\n",
       "    <tr>\n",
       "      <th>20136</th>\n",
       "      <td>548698</td>\n",
       "      <td>85066</td>\n",
       "      <td>CREAM SWEETHEART MINI CHEST</td>\n",
       "      <td>1.0</td>\n",
       "      <td>2011-04-03 10:55:00</td>\n",
       "      <td>12.75</td>\n",
       "      <td>18109.0</td>\n",
       "      <td>United Kingdom</td>\n",
       "      <td>389821.0</td>\n",
       "      <td>C553914</td>\n",
       "      <td>-2</td>\n",
       "      <td>2011-05-19 19:50:00</td>\n",
       "      <td>389669</td>\n",
       "    </tr>\n",
       "    <tr>\n",
       "      <th>20146</th>\n",
       "      <td>577503</td>\n",
       "      <td>22835</td>\n",
       "      <td>HOT WATER BOTTLE I AM SO POORLY</td>\n",
       "      <td>1.0</td>\n",
       "      <td>2011-11-20 12:34:00</td>\n",
       "      <td>4.95</td>\n",
       "      <td>18110.0</td>\n",
       "      <td>United Kingdom</td>\n",
       "      <td>389829.0</td>\n",
       "      <td>C577513</td>\n",
       "      <td>-4</td>\n",
       "      <td>2011-11-20 12:59:00</td>\n",
       "      <td>389839</td>\n",
       "    </tr>\n",
       "  </tbody>\n",
       "</table>\n",
       "<p>662 rows × 13 columns</p>\n",
       "</div>"
      ],
      "text/plain": [
       "      InvoiceNo_completed StockCode                      Description  \\\n",
       "448                559300     23198   PANTRY MAGNETIC  SHOPPING LIST   \n",
       "451                564360     23198   PANTRY MAGNETIC  SHOPPING LIST   \n",
       "453                563950     23198   PANTRY MAGNETIC  SHOPPING LIST   \n",
       "454                567924     23198   PANTRY MAGNETIC  SHOPPING LIST   \n",
       "722                561037     22467                GUMBALL COAT RACK   \n",
       "...                   ...       ...                              ...   \n",
       "20113              548698     22501       PICNIC BASKET WICKER LARGE   \n",
       "20131              540940     85066      CREAM SWEETHEART MINI CHEST   \n",
       "20132              540172     85066      CREAM SWEETHEART MINI CHEST   \n",
       "20136              548698     85066      CREAM SWEETHEART MINI CHEST   \n",
       "20146              577503     22835  HOT WATER BOTTLE I AM SO POORLY   \n",
       "\n",
       "       Quantity_completed InvoiceDate_completed  UnitPrice CustomerID  \\\n",
       "448                  12.0   2011-07-07 12:40:00       1.45    12471.0   \n",
       "451                  12.0   2011-08-24 16:13:00       1.45    12471.0   \n",
       "453                  12.0   2011-08-22 10:39:00       1.45    12471.0   \n",
       "454                  12.0   2011-09-22 17:25:00       1.45    12471.0   \n",
       "722                   6.0   2011-07-24 11:55:00       2.55    12472.0   \n",
       "...                   ...                   ...        ...        ...   \n",
       "20113                 1.0   2011-04-03 10:55:00       9.95    18109.0   \n",
       "20131                 1.0   2011-01-12 12:12:00      12.75    18109.0   \n",
       "20132                 1.0   2011-01-05 12:29:00      12.75    18109.0   \n",
       "20136                 1.0   2011-04-03 10:55:00      12.75    18109.0   \n",
       "20146                 1.0   2011-11-20 12:34:00       4.95    18110.0   \n",
       "\n",
       "              Country  idx_completed InvoiceNo_canceled  Quantity_canceled  \\\n",
       "448           Germany         8250.0            C573037                -13   \n",
       "451           Germany         8438.0            C573037                -13   \n",
       "453           Germany         8492.0            C573037                -13   \n",
       "454           Germany         8598.0            C573037                -13   \n",
       "722           Germany         8798.0            C575064                 -8   \n",
       "...               ...            ...                ...                ...   \n",
       "20113  United Kingdom       389735.0            C556530                 -3   \n",
       "20131  United Kingdom       389770.0            C553914                 -2   \n",
       "20132  United Kingdom       389772.0            C553914                 -2   \n",
       "20136  United Kingdom       389821.0            C553914                 -2   \n",
       "20146  United Kingdom       389829.0            C577513                 -4   \n",
       "\n",
       "      InvoiceDate_canceled  idx_canceled  \n",
       "448    2011-10-27 13:45:00          8637  \n",
       "451    2011-10-27 13:45:00          8637  \n",
       "453    2011-10-27 13:45:00          8637  \n",
       "454    2011-10-27 13:45:00          8637  \n",
       "722    2011-11-08 12:39:00          9029  \n",
       "...                    ...           ...  \n",
       "20113  2011-06-13 11:42:00        389666  \n",
       "20131  2011-05-19 19:50:00        389669  \n",
       "20132  2011-05-19 19:50:00        389669  \n",
       "20136  2011-05-19 19:50:00        389669  \n",
       "20146  2011-11-20 12:59:00        389839  \n",
       "\n",
       "[662 rows x 13 columns]"
      ]
     },
     "metadata": {},
     "output_type": "display_data"
    }
   ],
   "source": [
    "dataReturnedQtyUnknown = dataReturned[dataReturned.InvoiceNo_completed.isnull()]\n",
    "dataReturnedQtyEQ = dataReturned[(dataReturned.Quantity_completed == np.abs(dataReturned.Quantity_canceled)) & \n",
    "                                 (dataReturned.InvoiceDate_completed < dataReturned.InvoiceDate_canceled)]\n",
    "dataReturnedQtyLT = dataReturned[(dataReturned.Quantity_completed > np.abs(dataReturned.Quantity_canceled)) & \n",
    "                                 (dataReturned.InvoiceDate_completed < dataReturned.InvoiceDate_canceled)]\n",
    "dataReturnedQtyMT = dataReturned[(dataReturned.Quantity_completed < np.abs(dataReturned.Quantity_canceled)) & \n",
    "                                 (dataReturned.InvoiceDate_completed < dataReturned.InvoiceDate_canceled)]\n",
    "\n",
    "print(f'Transaction Items Affected by Returned => {len(dataReturned)}')\n",
    "print(line)\n",
    "print(f'Purchase Unknown & Return Quantity \\t: {len(dataReturnedQtyUnknown)}')\n",
    "display(dataReturnedQtyUnknown)\n",
    "print(line)\n",
    "print(f'Purchase Quantity == Return Quantity \\t: {len(dataReturnedQtyEQ)}')\n",
    "display(dataReturnedQtyEQ)\n",
    "print(line)\n",
    "print(f'Purchase Quantity > Return Quantity \\t: {len(dataReturnedQtyLT)}')\n",
    "display(dataReturnedQtyLT)\n",
    "print(line)\n",
    "print(f'Purchase Quantity < Return Quantity \\t: {len(dataReturnedQtyMT)}')\n",
    "display(dataReturnedQtyMT)"
   ]
  },
  {
   "attachments": {},
   "cell_type": "markdown",
   "metadata": {},
   "source": [
    "###### **Drop Returned Qty == Purchase Qty & Unknown Returns**\n",
    "There is a return quantity that is more than does not has a purchase invoice. Why?\n",
    "it may be due to the purchase invoice being recorded outside the date interval of the acquired dataset. However, with a small amount of data and lacking information related to this, the transaction item can be ignored or removed. Likewise, transaction items with return quantities that are equal to the purchase quantity. There is no term explanation on how to process product returns therefore it can be assumed that these transaction items eliminate each other."
   ]
  },
  {
   "cell_type": "code",
   "execution_count": 25,
   "metadata": {},
   "outputs": [],
   "source": [
    "dataIdx.drop(dataReturnedQtyUnknown.idx_canceled.unique(), inplace=True)\n",
    "dataIdx.drop(dataReturnedQtyEQ.idx_completed.unique(), inplace=True)\n",
    "dataIdx.drop(dataReturnedQtyEQ.idx_canceled.unique(), inplace=True)"
   ]
  },
  {
   "cell_type": "code",
   "execution_count": 26,
   "metadata": {},
   "outputs": [
    {
     "data": {
      "text/html": [
       "<div>\n",
       "<style scoped>\n",
       "    .dataframe tbody tr th:only-of-type {\n",
       "        vertical-align: middle;\n",
       "    }\n",
       "\n",
       "    .dataframe tbody tr th {\n",
       "        vertical-align: top;\n",
       "    }\n",
       "\n",
       "    .dataframe thead th {\n",
       "        text-align: right;\n",
       "    }\n",
       "</style>\n",
       "<table border=\"1\" class=\"dataframe\">\n",
       "  <thead>\n",
       "    <tr style=\"text-align: right;\">\n",
       "      <th></th>\n",
       "      <th>InvoiceNo</th>\n",
       "      <th>StockCode</th>\n",
       "      <th>Description</th>\n",
       "      <th>Quantity</th>\n",
       "      <th>InvoiceDate</th>\n",
       "      <th>UnitPrice</th>\n",
       "      <th>CustomerID</th>\n",
       "      <th>Country</th>\n",
       "      <th>idx</th>\n",
       "    </tr>\n",
       "  </thead>\n",
       "  <tbody>\n",
       "    <tr>\n",
       "      <th>0</th>\n",
       "      <td>562032</td>\n",
       "      <td>21578</td>\n",
       "      <td>WOODLAND DESIGN  COTTON TOTE BAG</td>\n",
       "      <td>6</td>\n",
       "      <td>2011-08-02 08:48:00</td>\n",
       "      <td>2.25</td>\n",
       "      <td>12347.0</td>\n",
       "      <td>Iceland</td>\n",
       "      <td>0</td>\n",
       "    </tr>\n",
       "    <tr>\n",
       "      <th>1</th>\n",
       "      <td>542237</td>\n",
       "      <td>47559B</td>\n",
       "      <td>TEA TIME OVEN GLOVE</td>\n",
       "      <td>10</td>\n",
       "      <td>2011-01-26 14:30:00</td>\n",
       "      <td>1.25</td>\n",
       "      <td>12347.0</td>\n",
       "      <td>Iceland</td>\n",
       "      <td>1</td>\n",
       "    </tr>\n",
       "    <tr>\n",
       "      <th>2</th>\n",
       "      <td>542237</td>\n",
       "      <td>21154</td>\n",
       "      <td>RED RETROSPOT OVEN GLOVE</td>\n",
       "      <td>10</td>\n",
       "      <td>2011-01-26 14:30:00</td>\n",
       "      <td>1.25</td>\n",
       "      <td>12347.0</td>\n",
       "      <td>Iceland</td>\n",
       "      <td>2</td>\n",
       "    </tr>\n",
       "    <tr>\n",
       "      <th>3</th>\n",
       "      <td>542237</td>\n",
       "      <td>21041</td>\n",
       "      <td>RED RETROSPOT OVEN GLOVE DOUBLE</td>\n",
       "      <td>6</td>\n",
       "      <td>2011-01-26 14:30:00</td>\n",
       "      <td>2.95</td>\n",
       "      <td>12347.0</td>\n",
       "      <td>Iceland</td>\n",
       "      <td>3</td>\n",
       "    </tr>\n",
       "    <tr>\n",
       "      <th>4</th>\n",
       "      <td>542237</td>\n",
       "      <td>21035</td>\n",
       "      <td>SET/2 RED RETROSPOT TEA TOWELS</td>\n",
       "      <td>6</td>\n",
       "      <td>2011-01-26 14:30:00</td>\n",
       "      <td>2.95</td>\n",
       "      <td>12347.0</td>\n",
       "      <td>Iceland</td>\n",
       "      <td>4</td>\n",
       "    </tr>\n",
       "    <tr>\n",
       "      <th>...</th>\n",
       "      <td>...</td>\n",
       "      <td>...</td>\n",
       "      <td>...</td>\n",
       "      <td>...</td>\n",
       "      <td>...</td>\n",
       "      <td>...</td>\n",
       "      <td>...</td>\n",
       "      <td>...</td>\n",
       "      <td>...</td>\n",
       "    </tr>\n",
       "    <tr>\n",
       "      <th>392206</th>\n",
       "      <td>570715</td>\n",
       "      <td>23269</td>\n",
       "      <td>SET OF 2 CERAMIC CHRISTMAS TREES</td>\n",
       "      <td>36</td>\n",
       "      <td>2011-10-12 10:23:00</td>\n",
       "      <td>1.45</td>\n",
       "      <td>18287.0</td>\n",
       "      <td>United Kingdom</td>\n",
       "      <td>392206</td>\n",
       "    </tr>\n",
       "    <tr>\n",
       "      <th>392207</th>\n",
       "      <td>570715</td>\n",
       "      <td>23223</td>\n",
       "      <td>CHRISTMAS TREE HANGING SILVER</td>\n",
       "      <td>48</td>\n",
       "      <td>2011-10-12 10:23:00</td>\n",
       "      <td>0.83</td>\n",
       "      <td>18287.0</td>\n",
       "      <td>United Kingdom</td>\n",
       "      <td>392207</td>\n",
       "    </tr>\n",
       "    <tr>\n",
       "      <th>392208</th>\n",
       "      <td>570715</td>\n",
       "      <td>23378</td>\n",
       "      <td>PACK OF 12 50'S CHRISTMAS TISSUES</td>\n",
       "      <td>24</td>\n",
       "      <td>2011-10-12 10:23:00</td>\n",
       "      <td>0.39</td>\n",
       "      <td>18287.0</td>\n",
       "      <td>United Kingdom</td>\n",
       "      <td>392208</td>\n",
       "    </tr>\n",
       "    <tr>\n",
       "      <th>392209</th>\n",
       "      <td>573167</td>\n",
       "      <td>23264</td>\n",
       "      <td>SET OF 3 WOODEN SLEIGH DECORATIONS</td>\n",
       "      <td>36</td>\n",
       "      <td>2011-10-28 09:29:00</td>\n",
       "      <td>1.25</td>\n",
       "      <td>18287.0</td>\n",
       "      <td>United Kingdom</td>\n",
       "      <td>392209</td>\n",
       "    </tr>\n",
       "    <tr>\n",
       "      <th>392210</th>\n",
       "      <td>570715</td>\n",
       "      <td>22421</td>\n",
       "      <td>LIPSTICK PEN FUSCHIA</td>\n",
       "      <td>12</td>\n",
       "      <td>2011-10-12 10:23:00</td>\n",
       "      <td>0.42</td>\n",
       "      <td>18287.0</td>\n",
       "      <td>United Kingdom</td>\n",
       "      <td>392210</td>\n",
       "    </tr>\n",
       "  </tbody>\n",
       "</table>\n",
       "<p>392211 rows × 9 columns</p>\n",
       "</div>"
      ],
      "text/plain": [
       "       InvoiceNo StockCode                         Description  Quantity  \\\n",
       "0         562032     21578    WOODLAND DESIGN  COTTON TOTE BAG         6   \n",
       "1         542237    47559B                 TEA TIME OVEN GLOVE        10   \n",
       "2         542237     21154           RED RETROSPOT OVEN GLOVE         10   \n",
       "3         542237     21041     RED RETROSPOT OVEN GLOVE DOUBLE         6   \n",
       "4         542237     21035     SET/2 RED RETROSPOT TEA TOWELS          6   \n",
       "...          ...       ...                                 ...       ...   \n",
       "392206    570715     23269    SET OF 2 CERAMIC CHRISTMAS TREES        36   \n",
       "392207    570715     23223      CHRISTMAS TREE HANGING SILVER         48   \n",
       "392208    570715     23378   PACK OF 12 50'S CHRISTMAS TISSUES        24   \n",
       "392209    573167     23264  SET OF 3 WOODEN SLEIGH DECORATIONS        36   \n",
       "392210    570715     22421                LIPSTICK PEN FUSCHIA        12   \n",
       "\n",
       "               InvoiceDate  UnitPrice CustomerID         Country     idx  \n",
       "0      2011-08-02 08:48:00       2.25    12347.0         Iceland       0  \n",
       "1      2011-01-26 14:30:00       1.25    12347.0         Iceland       1  \n",
       "2      2011-01-26 14:30:00       1.25    12347.0         Iceland       2  \n",
       "3      2011-01-26 14:30:00       2.95    12347.0         Iceland       3  \n",
       "4      2011-01-26 14:30:00       2.95    12347.0         Iceland       4  \n",
       "...                    ...        ...        ...             ...     ...  \n",
       "392206 2011-10-12 10:23:00       1.45    18287.0  United Kingdom  392206  \n",
       "392207 2011-10-12 10:23:00       0.83    18287.0  United Kingdom  392207  \n",
       "392208 2011-10-12 10:23:00       0.39    18287.0  United Kingdom  392208  \n",
       "392209 2011-10-28 09:29:00       1.25    18287.0  United Kingdom  392209  \n",
       "392210 2011-10-12 10:23:00       0.42    18287.0  United Kingdom  392210  \n",
       "\n",
       "[392211 rows x 9 columns]"
      ]
     },
     "execution_count": 26,
     "metadata": {},
     "output_type": "execute_result"
    }
   ],
   "source": [
    "dataIdx.reset_index(drop=True, inplace=True)\n",
    "dataIdx['idx'] = dataIdx.index\n",
    "dataIdx"
   ]
  },
  {
   "attachments": {},
   "cell_type": "markdown",
   "metadata": {},
   "source": [
    "###### **Drop Returned Qty < Purchase Qty**"
   ]
  },
  {
   "cell_type": "code",
   "execution_count": 27,
   "metadata": {},
   "outputs": [
    {
     "name": "stdout",
     "output_type": "stream",
     "text": [
      "========================\n",
      "Transaction Items Affected by Returned => 11942\n",
      "========================\n",
      "Purchase Quantity > Return Quantity \t: 7301\n"
     ]
    },
    {
     "data": {
      "text/html": [
       "<div>\n",
       "<style scoped>\n",
       "    .dataframe tbody tr th:only-of-type {\n",
       "        vertical-align: middle;\n",
       "    }\n",
       "\n",
       "    .dataframe tbody tr th {\n",
       "        vertical-align: top;\n",
       "    }\n",
       "\n",
       "    .dataframe thead th {\n",
       "        text-align: right;\n",
       "    }\n",
       "</style>\n",
       "<table border=\"1\" class=\"dataframe\">\n",
       "  <thead>\n",
       "    <tr style=\"text-align: right;\">\n",
       "      <th></th>\n",
       "      <th>InvoiceNo_completed</th>\n",
       "      <th>StockCode</th>\n",
       "      <th>Description</th>\n",
       "      <th>Quantity_completed</th>\n",
       "      <th>InvoiceDate_completed</th>\n",
       "      <th>UnitPrice</th>\n",
       "      <th>CustomerID</th>\n",
       "      <th>Country</th>\n",
       "      <th>idx_completed</th>\n",
       "      <th>InvoiceNo_canceled</th>\n",
       "      <th>Quantity_canceled</th>\n",
       "      <th>InvoiceDate_canceled</th>\n",
       "      <th>idx_canceled</th>\n",
       "    </tr>\n",
       "  </thead>\n",
       "  <tbody>\n",
       "    <tr>\n",
       "      <th>0</th>\n",
       "      <td>540946</td>\n",
       "      <td>22666</td>\n",
       "      <td>RECIPE BOX PANTRY YELLOW DESIGN</td>\n",
       "      <td>6.0</td>\n",
       "      <td>2011-01-12 12:43:00</td>\n",
       "      <td>2.95</td>\n",
       "      <td>12359.0</td>\n",
       "      <td>Cyprus</td>\n",
       "      <td>658.0</td>\n",
       "      <td>C549955</td>\n",
       "      <td>-2</td>\n",
       "      <td>2011-04-13 13:38:00</td>\n",
       "      <td>647</td>\n",
       "    </tr>\n",
       "    <tr>\n",
       "      <th>1</th>\n",
       "      <td>543370</td>\n",
       "      <td>22666</td>\n",
       "      <td>RECIPE BOX PANTRY YELLOW DESIGN</td>\n",
       "      <td>6.0</td>\n",
       "      <td>2011-02-07 14:51:00</td>\n",
       "      <td>2.95</td>\n",
       "      <td>12359.0</td>\n",
       "      <td>Cyprus</td>\n",
       "      <td>688.0</td>\n",
       "      <td>C549955</td>\n",
       "      <td>-2</td>\n",
       "      <td>2011-04-13 13:38:00</td>\n",
       "      <td>647</td>\n",
       "    </tr>\n",
       "    <tr>\n",
       "      <th>2</th>\n",
       "      <td>571034</td>\n",
       "      <td>23245</td>\n",
       "      <td>SET OF 3 REGENCY CAKE TINS</td>\n",
       "      <td>4.0</td>\n",
       "      <td>2011-10-13 12:47:00</td>\n",
       "      <td>4.95</td>\n",
       "      <td>12359.0</td>\n",
       "      <td>Cyprus</td>\n",
       "      <td>843.0</td>\n",
       "      <td>C580165</td>\n",
       "      <td>-2</td>\n",
       "      <td>2011-12-02 11:21:00</td>\n",
       "      <td>672</td>\n",
       "    </tr>\n",
       "    <tr>\n",
       "      <th>3</th>\n",
       "      <td>571034</td>\n",
       "      <td>22797</td>\n",
       "      <td>CHEST OF DRAWERS GINGHAM HEART</td>\n",
       "      <td>4.0</td>\n",
       "      <td>2011-10-13 12:47:00</td>\n",
       "      <td>16.95</td>\n",
       "      <td>12359.0</td>\n",
       "      <td>Cyprus</td>\n",
       "      <td>890.0</td>\n",
       "      <td>C580165</td>\n",
       "      <td>-2</td>\n",
       "      <td>2011-12-02 11:21:00</td>\n",
       "      <td>673</td>\n",
       "    </tr>\n",
       "    <tr>\n",
       "      <th>4</th>\n",
       "      <td>540946</td>\n",
       "      <td>22720</td>\n",
       "      <td>SET OF 3 CAKE TINS PANTRY DESIGN</td>\n",
       "      <td>3.0</td>\n",
       "      <td>2011-01-12 12:43:00</td>\n",
       "      <td>4.95</td>\n",
       "      <td>12359.0</td>\n",
       "      <td>Cyprus</td>\n",
       "      <td>660.0</td>\n",
       "      <td>C580165</td>\n",
       "      <td>-1</td>\n",
       "      <td>2011-12-02 11:21:00</td>\n",
       "      <td>864</td>\n",
       "    </tr>\n",
       "    <tr>\n",
       "      <th>...</th>\n",
       "      <td>...</td>\n",
       "      <td>...</td>\n",
       "      <td>...</td>\n",
       "      <td>...</td>\n",
       "      <td>...</td>\n",
       "      <td>...</td>\n",
       "      <td>...</td>\n",
       "      <td>...</td>\n",
       "      <td>...</td>\n",
       "      <td>...</td>\n",
       "      <td>...</td>\n",
       "      <td>...</td>\n",
       "      <td>...</td>\n",
       "    </tr>\n",
       "    <tr>\n",
       "      <th>7296</th>\n",
       "      <td>549185</td>\n",
       "      <td>22969</td>\n",
       "      <td>HOMEMADE JAM SCENTED CANDLES</td>\n",
       "      <td>24.0</td>\n",
       "      <td>2011-04-07 09:35:00</td>\n",
       "      <td>1.45</td>\n",
       "      <td>18272.0</td>\n",
       "      <td>United Kingdom</td>\n",
       "      <td>391255.0</td>\n",
       "      <td>C552720</td>\n",
       "      <td>-2</td>\n",
       "      <td>2011-05-11 09:49:00</td>\n",
       "      <td>391233</td>\n",
       "    </tr>\n",
       "    <tr>\n",
       "      <th>7297</th>\n",
       "      <td>551507</td>\n",
       "      <td>22204</td>\n",
       "      <td>MILK PAN BLUE POLKADOT</td>\n",
       "      <td>4.0</td>\n",
       "      <td>2011-04-28 18:11:00</td>\n",
       "      <td>3.75</td>\n",
       "      <td>18272.0</td>\n",
       "      <td>United Kingdom</td>\n",
       "      <td>391276.0</td>\n",
       "      <td>C552720</td>\n",
       "      <td>-1</td>\n",
       "      <td>2011-05-11 09:49:00</td>\n",
       "      <td>391236</td>\n",
       "    </tr>\n",
       "    <tr>\n",
       "      <th>7298</th>\n",
       "      <td>572990</td>\n",
       "      <td>23401</td>\n",
       "      <td>RUSTIC MIRROR WITH LACE HEART</td>\n",
       "      <td>2.0</td>\n",
       "      <td>2011-10-27 10:54:00</td>\n",
       "      <td>6.25</td>\n",
       "      <td>18276.0</td>\n",
       "      <td>United Kingdom</td>\n",
       "      <td>391368.0</td>\n",
       "      <td>C577386</td>\n",
       "      <td>-1</td>\n",
       "      <td>2011-11-18 16:54:00</td>\n",
       "      <td>391363</td>\n",
       "    </tr>\n",
       "    <tr>\n",
       "      <th>7299</th>\n",
       "      <td>572990</td>\n",
       "      <td>23401</td>\n",
       "      <td>RUSTIC MIRROR WITH LACE HEART</td>\n",
       "      <td>2.0</td>\n",
       "      <td>2011-10-27 10:54:00</td>\n",
       "      <td>6.25</td>\n",
       "      <td>18276.0</td>\n",
       "      <td>United Kingdom</td>\n",
       "      <td>391368.0</td>\n",
       "      <td>C577390</td>\n",
       "      <td>-1</td>\n",
       "      <td>2011-11-18 17:01:00</td>\n",
       "      <td>391365</td>\n",
       "    </tr>\n",
       "    <tr>\n",
       "      <th>7300</th>\n",
       "      <td>562525</td>\n",
       "      <td>23187</td>\n",
       "      <td>FRENCH STYLE STORAGE JAR BONBONS</td>\n",
       "      <td>48.0</td>\n",
       "      <td>2011-08-05 13:35:00</td>\n",
       "      <td>0.29</td>\n",
       "      <td>18282.0</td>\n",
       "      <td>United Kingdom</td>\n",
       "      <td>391409.0</td>\n",
       "      <td>C562808</td>\n",
       "      <td>-5</td>\n",
       "      <td>2011-08-09 15:10:00</td>\n",
       "      <td>391411</td>\n",
       "    </tr>\n",
       "  </tbody>\n",
       "</table>\n",
       "<p>7301 rows × 13 columns</p>\n",
       "</div>"
      ],
      "text/plain": [
       "     InvoiceNo_completed StockCode                        Description  \\\n",
       "0                 540946     22666    RECIPE BOX PANTRY YELLOW DESIGN   \n",
       "1                 543370     22666    RECIPE BOX PANTRY YELLOW DESIGN   \n",
       "2                 571034     23245         SET OF 3 REGENCY CAKE TINS   \n",
       "3                 571034     22797    CHEST OF DRAWERS GINGHAM HEART    \n",
       "4                 540946     22720  SET OF 3 CAKE TINS PANTRY DESIGN    \n",
       "...                  ...       ...                                ...   \n",
       "7296              549185     22969       HOMEMADE JAM SCENTED CANDLES   \n",
       "7297              551507     22204             MILK PAN BLUE POLKADOT   \n",
       "7298              572990     23401      RUSTIC MIRROR WITH LACE HEART   \n",
       "7299              572990     23401      RUSTIC MIRROR WITH LACE HEART   \n",
       "7300              562525     23187   FRENCH STYLE STORAGE JAR BONBONS   \n",
       "\n",
       "      Quantity_completed InvoiceDate_completed  UnitPrice CustomerID  \\\n",
       "0                    6.0   2011-01-12 12:43:00       2.95    12359.0   \n",
       "1                    6.0   2011-02-07 14:51:00       2.95    12359.0   \n",
       "2                    4.0   2011-10-13 12:47:00       4.95    12359.0   \n",
       "3                    4.0   2011-10-13 12:47:00      16.95    12359.0   \n",
       "4                    3.0   2011-01-12 12:43:00       4.95    12359.0   \n",
       "...                  ...                   ...        ...        ...   \n",
       "7296                24.0   2011-04-07 09:35:00       1.45    18272.0   \n",
       "7297                 4.0   2011-04-28 18:11:00       3.75    18272.0   \n",
       "7298                 2.0   2011-10-27 10:54:00       6.25    18276.0   \n",
       "7299                 2.0   2011-10-27 10:54:00       6.25    18276.0   \n",
       "7300                48.0   2011-08-05 13:35:00       0.29    18282.0   \n",
       "\n",
       "             Country  idx_completed InvoiceNo_canceled  Quantity_canceled  \\\n",
       "0             Cyprus          658.0            C549955                 -2   \n",
       "1             Cyprus          688.0            C549955                 -2   \n",
       "2             Cyprus          843.0            C580165                 -2   \n",
       "3             Cyprus          890.0            C580165                 -2   \n",
       "4             Cyprus          660.0            C580165                 -1   \n",
       "...              ...            ...                ...                ...   \n",
       "7296  United Kingdom       391255.0            C552720                 -2   \n",
       "7297  United Kingdom       391276.0            C552720                 -1   \n",
       "7298  United Kingdom       391368.0            C577386                 -1   \n",
       "7299  United Kingdom       391368.0            C577390                 -1   \n",
       "7300  United Kingdom       391409.0            C562808                 -5   \n",
       "\n",
       "     InvoiceDate_canceled  idx_canceled  \n",
       "0     2011-04-13 13:38:00           647  \n",
       "1     2011-04-13 13:38:00           647  \n",
       "2     2011-12-02 11:21:00           672  \n",
       "3     2011-12-02 11:21:00           673  \n",
       "4     2011-12-02 11:21:00           864  \n",
       "...                   ...           ...  \n",
       "7296  2011-05-11 09:49:00        391233  \n",
       "7297  2011-05-11 09:49:00        391236  \n",
       "7298  2011-11-18 16:54:00        391363  \n",
       "7299  2011-11-18 17:01:00        391365  \n",
       "7300  2011-08-09 15:10:00        391411  \n",
       "\n",
       "[7301 rows x 13 columns]"
      ]
     },
     "metadata": {},
     "output_type": "display_data"
    }
   ],
   "source": [
    "dataCompleted = dataIdx[dataIdx.Quantity>0]\n",
    "dataCanceled = dataIdx[dataIdx.Quantity<0]\n",
    "dataReturned = pd.merge(dataCompleted, dataCanceled, how='right',\n",
    "                   on=['StockCode', 'Description', 'CustomerID', 'Country', 'UnitPrice'], \n",
    "                   suffixes=['_completed', '_canceled'])\n",
    "# dataReturned\n",
    "dataReturnedQtyLT = dataReturned[(dataReturned.Quantity_completed > np.abs(dataReturned.Quantity_canceled)) &\n",
    "                                 (dataReturned.InvoiceDate_completed < dataReturned.InvoiceDate_canceled)].reset_index(drop=True)\n",
    "#\n",
    "print(line)\n",
    "print(f'Transaction Items Affected by Returned => {len(dataReturned)}')\n",
    "print(line)\n",
    "print(f'Purchase Quantity > Return Quantity \\t: {len(dataReturnedQtyLT)}')\n",
    "display(dataReturnedQtyLT)"
   ]
  },
  {
   "cell_type": "code",
   "execution_count": 28,
   "metadata": {},
   "outputs": [
    {
     "name": "stdout",
     "output_type": "stream",
     "text": [
      "Transaction Items Affected by Returned => 11942\n",
      "========================\n",
      "Purchase Quantity > Return Quantity \t: 4259\n"
     ]
    },
    {
     "data": {
      "text/html": [
       "<div>\n",
       "<style scoped>\n",
       "    .dataframe tbody tr th:only-of-type {\n",
       "        vertical-align: middle;\n",
       "    }\n",
       "\n",
       "    .dataframe tbody tr th {\n",
       "        vertical-align: top;\n",
       "    }\n",
       "\n",
       "    .dataframe thead th {\n",
       "        text-align: right;\n",
       "    }\n",
       "</style>\n",
       "<table border=\"1\" class=\"dataframe\">\n",
       "  <thead>\n",
       "    <tr style=\"text-align: right;\">\n",
       "      <th></th>\n",
       "      <th>InvoiceNo_completed</th>\n",
       "      <th>StockCode</th>\n",
       "      <th>Description</th>\n",
       "      <th>Quantity_completed</th>\n",
       "      <th>InvoiceDate_completed</th>\n",
       "      <th>UnitPrice</th>\n",
       "      <th>CustomerID</th>\n",
       "      <th>Country</th>\n",
       "      <th>idx_completed</th>\n",
       "      <th>InvoiceNo_canceled</th>\n",
       "      <th>Quantity_canceled</th>\n",
       "      <th>InvoiceDate_canceled</th>\n",
       "      <th>idx_canceled</th>\n",
       "    </tr>\n",
       "  </thead>\n",
       "  <tbody>\n",
       "    <tr>\n",
       "      <th>0</th>\n",
       "      <td>540946</td>\n",
       "      <td>22666</td>\n",
       "      <td>RECIPE BOX PANTRY YELLOW DESIGN</td>\n",
       "      <td>6.0</td>\n",
       "      <td>2011-01-12 12:43:00</td>\n",
       "      <td>2.95</td>\n",
       "      <td>12359.0</td>\n",
       "      <td>Cyprus</td>\n",
       "      <td>658.0</td>\n",
       "      <td>C549955</td>\n",
       "      <td>-2</td>\n",
       "      <td>2011-04-13 13:38:00</td>\n",
       "      <td>647</td>\n",
       "    </tr>\n",
       "    <tr>\n",
       "      <th>2</th>\n",
       "      <td>571034</td>\n",
       "      <td>23245</td>\n",
       "      <td>SET OF 3 REGENCY CAKE TINS</td>\n",
       "      <td>4.0</td>\n",
       "      <td>2011-10-13 12:47:00</td>\n",
       "      <td>4.95</td>\n",
       "      <td>12359.0</td>\n",
       "      <td>Cyprus</td>\n",
       "      <td>843.0</td>\n",
       "      <td>C580165</td>\n",
       "      <td>-2</td>\n",
       "      <td>2011-12-02 11:21:00</td>\n",
       "      <td>672</td>\n",
       "    </tr>\n",
       "    <tr>\n",
       "      <th>3</th>\n",
       "      <td>571034</td>\n",
       "      <td>22797</td>\n",
       "      <td>CHEST OF DRAWERS GINGHAM HEART</td>\n",
       "      <td>4.0</td>\n",
       "      <td>2011-10-13 12:47:00</td>\n",
       "      <td>16.95</td>\n",
       "      <td>12359.0</td>\n",
       "      <td>Cyprus</td>\n",
       "      <td>890.0</td>\n",
       "      <td>C580165</td>\n",
       "      <td>-2</td>\n",
       "      <td>2011-12-02 11:21:00</td>\n",
       "      <td>673</td>\n",
       "    </tr>\n",
       "    <tr>\n",
       "      <th>4</th>\n",
       "      <td>540946</td>\n",
       "      <td>22720</td>\n",
       "      <td>SET OF 3 CAKE TINS PANTRY DESIGN</td>\n",
       "      <td>3.0</td>\n",
       "      <td>2011-01-12 12:43:00</td>\n",
       "      <td>4.95</td>\n",
       "      <td>12359.0</td>\n",
       "      <td>Cyprus</td>\n",
       "      <td>660.0</td>\n",
       "      <td>C580165</td>\n",
       "      <td>-1</td>\n",
       "      <td>2011-12-02 11:21:00</td>\n",
       "      <td>864</td>\n",
       "    </tr>\n",
       "    <tr>\n",
       "      <th>6</th>\n",
       "      <td>544203</td>\n",
       "      <td>22629</td>\n",
       "      <td>SPACEBOY LUNCH BOX</td>\n",
       "      <td>12.0</td>\n",
       "      <td>2011-02-17 10:30:00</td>\n",
       "      <td>1.95</td>\n",
       "      <td>12362.0</td>\n",
       "      <td>Belgium</td>\n",
       "      <td>1077.0</td>\n",
       "      <td>C544902</td>\n",
       "      <td>-1</td>\n",
       "      <td>2011-02-24 13:05:00</td>\n",
       "      <td>1104</td>\n",
       "    </tr>\n",
       "    <tr>\n",
       "      <th>...</th>\n",
       "      <td>...</td>\n",
       "      <td>...</td>\n",
       "      <td>...</td>\n",
       "      <td>...</td>\n",
       "      <td>...</td>\n",
       "      <td>...</td>\n",
       "      <td>...</td>\n",
       "      <td>...</td>\n",
       "      <td>...</td>\n",
       "      <td>...</td>\n",
       "      <td>...</td>\n",
       "      <td>...</td>\n",
       "      <td>...</td>\n",
       "    </tr>\n",
       "    <tr>\n",
       "      <th>7295</th>\n",
       "      <td>551507</td>\n",
       "      <td>22969</td>\n",
       "      <td>HOMEMADE JAM SCENTED CANDLES</td>\n",
       "      <td>12.0</td>\n",
       "      <td>2011-04-28 18:11:00</td>\n",
       "      <td>1.45</td>\n",
       "      <td>18272.0</td>\n",
       "      <td>United Kingdom</td>\n",
       "      <td>391192.0</td>\n",
       "      <td>C552720</td>\n",
       "      <td>-2</td>\n",
       "      <td>2011-05-11 09:49:00</td>\n",
       "      <td>391233</td>\n",
       "    </tr>\n",
       "    <tr>\n",
       "      <th>7297</th>\n",
       "      <td>551507</td>\n",
       "      <td>22204</td>\n",
       "      <td>MILK PAN BLUE POLKADOT</td>\n",
       "      <td>4.0</td>\n",
       "      <td>2011-04-28 18:11:00</td>\n",
       "      <td>3.75</td>\n",
       "      <td>18272.0</td>\n",
       "      <td>United Kingdom</td>\n",
       "      <td>391276.0</td>\n",
       "      <td>C552720</td>\n",
       "      <td>-1</td>\n",
       "      <td>2011-05-11 09:49:00</td>\n",
       "      <td>391236</td>\n",
       "    </tr>\n",
       "    <tr>\n",
       "      <th>7298</th>\n",
       "      <td>572990</td>\n",
       "      <td>23401</td>\n",
       "      <td>RUSTIC MIRROR WITH LACE HEART</td>\n",
       "      <td>2.0</td>\n",
       "      <td>2011-10-27 10:54:00</td>\n",
       "      <td>6.25</td>\n",
       "      <td>18276.0</td>\n",
       "      <td>United Kingdom</td>\n",
       "      <td>391368.0</td>\n",
       "      <td>C577386</td>\n",
       "      <td>-1</td>\n",
       "      <td>2011-11-18 16:54:00</td>\n",
       "      <td>391363</td>\n",
       "    </tr>\n",
       "    <tr>\n",
       "      <th>7299</th>\n",
       "      <td>572990</td>\n",
       "      <td>23401</td>\n",
       "      <td>RUSTIC MIRROR WITH LACE HEART</td>\n",
       "      <td>2.0</td>\n",
       "      <td>2011-10-27 10:54:00</td>\n",
       "      <td>6.25</td>\n",
       "      <td>18276.0</td>\n",
       "      <td>United Kingdom</td>\n",
       "      <td>391368.0</td>\n",
       "      <td>C577390</td>\n",
       "      <td>-1</td>\n",
       "      <td>2011-11-18 17:01:00</td>\n",
       "      <td>391365</td>\n",
       "    </tr>\n",
       "    <tr>\n",
       "      <th>7300</th>\n",
       "      <td>562525</td>\n",
       "      <td>23187</td>\n",
       "      <td>FRENCH STYLE STORAGE JAR BONBONS</td>\n",
       "      <td>48.0</td>\n",
       "      <td>2011-08-05 13:35:00</td>\n",
       "      <td>0.29</td>\n",
       "      <td>18282.0</td>\n",
       "      <td>United Kingdom</td>\n",
       "      <td>391409.0</td>\n",
       "      <td>C562808</td>\n",
       "      <td>-5</td>\n",
       "      <td>2011-08-09 15:10:00</td>\n",
       "      <td>391411</td>\n",
       "    </tr>\n",
       "  </tbody>\n",
       "</table>\n",
       "<p>4259 rows × 13 columns</p>\n",
       "</div>"
      ],
      "text/plain": [
       "     InvoiceNo_completed StockCode                        Description  \\\n",
       "0                 540946     22666    RECIPE BOX PANTRY YELLOW DESIGN   \n",
       "2                 571034     23245         SET OF 3 REGENCY CAKE TINS   \n",
       "3                 571034     22797    CHEST OF DRAWERS GINGHAM HEART    \n",
       "4                 540946     22720  SET OF 3 CAKE TINS PANTRY DESIGN    \n",
       "6                 544203     22629                SPACEBOY LUNCH BOX    \n",
       "...                  ...       ...                                ...   \n",
       "7295              551507     22969       HOMEMADE JAM SCENTED CANDLES   \n",
       "7297              551507     22204             MILK PAN BLUE POLKADOT   \n",
       "7298              572990     23401      RUSTIC MIRROR WITH LACE HEART   \n",
       "7299              572990     23401      RUSTIC MIRROR WITH LACE HEART   \n",
       "7300              562525     23187   FRENCH STYLE STORAGE JAR BONBONS   \n",
       "\n",
       "      Quantity_completed InvoiceDate_completed  UnitPrice CustomerID  \\\n",
       "0                    6.0   2011-01-12 12:43:00       2.95    12359.0   \n",
       "2                    4.0   2011-10-13 12:47:00       4.95    12359.0   \n",
       "3                    4.0   2011-10-13 12:47:00      16.95    12359.0   \n",
       "4                    3.0   2011-01-12 12:43:00       4.95    12359.0   \n",
       "6                   12.0   2011-02-17 10:30:00       1.95    12362.0   \n",
       "...                  ...                   ...        ...        ...   \n",
       "7295                12.0   2011-04-28 18:11:00       1.45    18272.0   \n",
       "7297                 4.0   2011-04-28 18:11:00       3.75    18272.0   \n",
       "7298                 2.0   2011-10-27 10:54:00       6.25    18276.0   \n",
       "7299                 2.0   2011-10-27 10:54:00       6.25    18276.0   \n",
       "7300                48.0   2011-08-05 13:35:00       0.29    18282.0   \n",
       "\n",
       "             Country  idx_completed InvoiceNo_canceled  Quantity_canceled  \\\n",
       "0             Cyprus          658.0            C549955                 -2   \n",
       "2             Cyprus          843.0            C580165                 -2   \n",
       "3             Cyprus          890.0            C580165                 -2   \n",
       "4             Cyprus          660.0            C580165                 -1   \n",
       "6            Belgium         1077.0            C544902                 -1   \n",
       "...              ...            ...                ...                ...   \n",
       "7295  United Kingdom       391192.0            C552720                 -2   \n",
       "7297  United Kingdom       391276.0            C552720                 -1   \n",
       "7298  United Kingdom       391368.0            C577386                 -1   \n",
       "7299  United Kingdom       391368.0            C577390                 -1   \n",
       "7300  United Kingdom       391409.0            C562808                 -5   \n",
       "\n",
       "     InvoiceDate_canceled  idx_canceled  \n",
       "0     2011-04-13 13:38:00           647  \n",
       "2     2011-12-02 11:21:00           672  \n",
       "3     2011-12-02 11:21:00           673  \n",
       "4     2011-12-02 11:21:00           864  \n",
       "6     2011-02-24 13:05:00          1104  \n",
       "...                   ...           ...  \n",
       "7295  2011-05-11 09:49:00        391233  \n",
       "7297  2011-05-11 09:49:00        391236  \n",
       "7298  2011-11-18 16:54:00        391363  \n",
       "7299  2011-11-18 17:01:00        391365  \n",
       "7300  2011-08-09 15:10:00        391411  \n",
       "\n",
       "[4259 rows x 13 columns]"
      ]
     },
     "metadata": {},
     "output_type": "display_data"
    }
   ],
   "source": [
    "# karena terdapat lebih dari satu purchase invoice yang memiliki kriteria terhadap return invoice, kita asumsikan salah satunya adalah invoice yang dilakukan returning sedangkan sisanya adalah purchase invoice yang tidak mengalami return.\n",
    "dataReturnedQtyLT = dataReturnedQtyLT[(~dataReturnedQtyLT.idx_canceled.duplicated())]\n",
    "print(f'Transaction Items Affected by Returned => {len(dataReturned)}')\n",
    "print(line)\n",
    "print(f'Purchase Quantity > Return Quantity \\t: {len(dataReturnedQtyLT)}')\n",
    "display(dataReturnedQtyLT)"
   ]
  },
  {
   "cell_type": "code",
   "execution_count": 29,
   "metadata": {},
   "outputs": [
    {
     "name": "stdout",
     "output_type": "stream",
     "text": [
      "Num of return invoice\t\t\t\t: 4259\n",
      "Num of purchase invoice affected by return\t: 3916\n"
     ]
    }
   ],
   "source": [
    "print(f'Num of return invoice\\t\\t\\t\\t: {len(dataReturnedQtyLT.idx_canceled.unique())}')\n",
    "print(f'Num of purchase invoice affected by return\\t: {len(dataReturnedQtyLT.idx_completed.unique())}')"
   ]
  },
  {
   "cell_type": "code",
   "execution_count": 30,
   "metadata": {},
   "outputs": [
    {
     "name": "stdout",
     "output_type": "stream",
     "text": [
      "DUPLICATED IDX_CANCELED\n"
     ]
    },
    {
     "data": {
      "text/html": [
       "<div>\n",
       "<style scoped>\n",
       "    .dataframe tbody tr th:only-of-type {\n",
       "        vertical-align: middle;\n",
       "    }\n",
       "\n",
       "    .dataframe tbody tr th {\n",
       "        vertical-align: top;\n",
       "    }\n",
       "\n",
       "    .dataframe thead th {\n",
       "        text-align: right;\n",
       "    }\n",
       "</style>\n",
       "<table border=\"1\" class=\"dataframe\">\n",
       "  <thead>\n",
       "    <tr style=\"text-align: right;\">\n",
       "      <th></th>\n",
       "      <th>InvoiceNo_completed</th>\n",
       "      <th>StockCode</th>\n",
       "      <th>Description</th>\n",
       "      <th>Quantity_completed</th>\n",
       "      <th>InvoiceDate_completed</th>\n",
       "      <th>UnitPrice</th>\n",
       "      <th>CustomerID</th>\n",
       "      <th>Country</th>\n",
       "      <th>idx_completed</th>\n",
       "      <th>InvoiceNo_canceled</th>\n",
       "      <th>Quantity_canceled</th>\n",
       "      <th>InvoiceDate_canceled</th>\n",
       "      <th>idx_canceled</th>\n",
       "    </tr>\n",
       "  </thead>\n",
       "  <tbody>\n",
       "  </tbody>\n",
       "</table>\n",
       "</div>"
      ],
      "text/plain": [
       "Empty DataFrame\n",
       "Columns: [InvoiceNo_completed, StockCode, Description, Quantity_completed, InvoiceDate_completed, UnitPrice, CustomerID, Country, idx_completed, InvoiceNo_canceled, Quantity_canceled, InvoiceDate_canceled, idx_canceled]\n",
       "Index: []"
      ]
     },
     "metadata": {},
     "output_type": "display_data"
    },
    {
     "name": "stdout",
     "output_type": "stream",
     "text": [
      "========================\n",
      "DUPLICATED IDX_COMPLETED\n"
     ]
    },
    {
     "data": {
      "text/html": [
       "<div>\n",
       "<style scoped>\n",
       "    .dataframe tbody tr th:only-of-type {\n",
       "        vertical-align: middle;\n",
       "    }\n",
       "\n",
       "    .dataframe tbody tr th {\n",
       "        vertical-align: top;\n",
       "    }\n",
       "\n",
       "    .dataframe thead th {\n",
       "        text-align: right;\n",
       "    }\n",
       "</style>\n",
       "<table border=\"1\" class=\"dataframe\">\n",
       "  <thead>\n",
       "    <tr style=\"text-align: right;\">\n",
       "      <th></th>\n",
       "      <th>InvoiceNo_completed</th>\n",
       "      <th>StockCode</th>\n",
       "      <th>Description</th>\n",
       "      <th>Quantity_completed</th>\n",
       "      <th>InvoiceDate_completed</th>\n",
       "      <th>UnitPrice</th>\n",
       "      <th>CustomerID</th>\n",
       "      <th>Country</th>\n",
       "      <th>idx_completed</th>\n",
       "      <th>InvoiceNo_canceled</th>\n",
       "      <th>Quantity_canceled</th>\n",
       "      <th>InvoiceDate_canceled</th>\n",
       "      <th>idx_canceled</th>\n",
       "    </tr>\n",
       "  </thead>\n",
       "  <tbody>\n",
       "    <tr>\n",
       "      <th>73</th>\n",
       "      <td>543541</td>\n",
       "      <td>37449</td>\n",
       "      <td>CERAMIC CAKE STAND + HANGING CAKES</td>\n",
       "      <td>2.0</td>\n",
       "      <td>2011-02-09 14:44:00</td>\n",
       "      <td>9.95</td>\n",
       "      <td>12462.0</td>\n",
       "      <td>Spain</td>\n",
       "      <td>7775.0</td>\n",
       "      <td>C581148</td>\n",
       "      <td>-1</td>\n",
       "      <td>2011-12-07 14:02:00</td>\n",
       "      <td>7758</td>\n",
       "    </tr>\n",
       "    <tr>\n",
       "      <th>79</th>\n",
       "      <td>543541</td>\n",
       "      <td>22063</td>\n",
       "      <td>CERAMIC BOWL WITH STRAWBERRY DESIGN</td>\n",
       "      <td>6.0</td>\n",
       "      <td>2011-02-09 14:44:00</td>\n",
       "      <td>2.95</td>\n",
       "      <td>12462.0</td>\n",
       "      <td>Spain</td>\n",
       "      <td>7748.0</td>\n",
       "      <td>C581148</td>\n",
       "      <td>-1</td>\n",
       "      <td>2011-12-07 14:02:00</td>\n",
       "      <td>7789</td>\n",
       "    </tr>\n",
       "    <tr>\n",
       "      <th>128</th>\n",
       "      <td>538174</td>\n",
       "      <td>22423</td>\n",
       "      <td>REGENCY CAKESTAND 3 TIER</td>\n",
       "      <td>32.0</td>\n",
       "      <td>2010-12-10 09:35:00</td>\n",
       "      <td>10.95</td>\n",
       "      <td>12471.0</td>\n",
       "      <td>Germany</td>\n",
       "      <td>8229.0</td>\n",
       "      <td>C540158</td>\n",
       "      <td>-2</td>\n",
       "      <td>2011-01-05 11:42:00</td>\n",
       "      <td>8367</td>\n",
       "    </tr>\n",
       "    <tr>\n",
       "      <th>134</th>\n",
       "      <td>539395</td>\n",
       "      <td>22923</td>\n",
       "      <td>FRIDGE MAGNETS LES ENFANTS ASSORTED</td>\n",
       "      <td>36.0</td>\n",
       "      <td>2010-12-17 11:52:00</td>\n",
       "      <td>0.85</td>\n",
       "      <td>12471.0</td>\n",
       "      <td>Germany</td>\n",
       "      <td>8423.0</td>\n",
       "      <td>C540158</td>\n",
       "      <td>-5</td>\n",
       "      <td>2011-01-05 11:42:00</td>\n",
       "      <td>8370</td>\n",
       "    </tr>\n",
       "    <tr>\n",
       "      <th>147</th>\n",
       "      <td>538174</td>\n",
       "      <td>22649</td>\n",
       "      <td>STRAWBERRY FAIRY CAKE TEAPOT</td>\n",
       "      <td>8.0</td>\n",
       "      <td>2010-12-10 09:35:00</td>\n",
       "      <td>4.95</td>\n",
       "      <td>12471.0</td>\n",
       "      <td>Germany</td>\n",
       "      <td>8169.0</td>\n",
       "      <td>C542101</td>\n",
       "      <td>-1</td>\n",
       "      <td>2011-01-25 13:15:00</td>\n",
       "      <td>8388</td>\n",
       "    </tr>\n",
       "    <tr>\n",
       "      <th>...</th>\n",
       "      <td>...</td>\n",
       "      <td>...</td>\n",
       "      <td>...</td>\n",
       "      <td>...</td>\n",
       "      <td>...</td>\n",
       "      <td>...</td>\n",
       "      <td>...</td>\n",
       "      <td>...</td>\n",
       "      <td>...</td>\n",
       "      <td>...</td>\n",
       "      <td>...</td>\n",
       "      <td>...</td>\n",
       "      <td>...</td>\n",
       "    </tr>\n",
       "    <tr>\n",
       "      <th>7191</th>\n",
       "      <td>546165</td>\n",
       "      <td>22720</td>\n",
       "      <td>SET OF 3 CAKE TINS PANTRY DESIGN</td>\n",
       "      <td>3.0</td>\n",
       "      <td>2011-03-10 10:08:00</td>\n",
       "      <td>4.95</td>\n",
       "      <td>18183.0</td>\n",
       "      <td>United Kingdom</td>\n",
       "      <td>387144.0</td>\n",
       "      <td>C546897</td>\n",
       "      <td>-1</td>\n",
       "      <td>2011-03-17 18:25:00</td>\n",
       "      <td>387169</td>\n",
       "    </tr>\n",
       "    <tr>\n",
       "      <th>7229</th>\n",
       "      <td>565413</td>\n",
       "      <td>21931</td>\n",
       "      <td>JUMBO STORAGE BAG SUKI</td>\n",
       "      <td>10.0</td>\n",
       "      <td>2011-09-04 11:49:00</td>\n",
       "      <td>2.08</td>\n",
       "      <td>18223.0</td>\n",
       "      <td>United Kingdom</td>\n",
       "      <td>388631.0</td>\n",
       "      <td>C566460</td>\n",
       "      <td>-1</td>\n",
       "      <td>2011-09-12 17:19:00</td>\n",
       "      <td>388737</td>\n",
       "    </tr>\n",
       "    <tr>\n",
       "      <th>7245</th>\n",
       "      <td>560577</td>\n",
       "      <td>22720</td>\n",
       "      <td>SET OF 3 CAKE TINS PANTRY DESIGN</td>\n",
       "      <td>12.0</td>\n",
       "      <td>2011-07-19 15:07:00</td>\n",
       "      <td>4.95</td>\n",
       "      <td>18223.0</td>\n",
       "      <td>United Kingdom</td>\n",
       "      <td>388688.0</td>\n",
       "      <td>C574954</td>\n",
       "      <td>-3</td>\n",
       "      <td>2011-11-08 09:52:00</td>\n",
       "      <td>388875</td>\n",
       "    </tr>\n",
       "    <tr>\n",
       "      <th>7285</th>\n",
       "      <td>562732</td>\n",
       "      <td>21314</td>\n",
       "      <td>SMALL GLASS HEART TRINKET POT</td>\n",
       "      <td>8.0</td>\n",
       "      <td>2011-08-09 10:19:00</td>\n",
       "      <td>2.10</td>\n",
       "      <td>18248.0</td>\n",
       "      <td>United Kingdom</td>\n",
       "      <td>390542.0</td>\n",
       "      <td>C563594</td>\n",
       "      <td>-5</td>\n",
       "      <td>2011-08-18 06:14:00</td>\n",
       "      <td>390537</td>\n",
       "    </tr>\n",
       "    <tr>\n",
       "      <th>7299</th>\n",
       "      <td>572990</td>\n",
       "      <td>23401</td>\n",
       "      <td>RUSTIC MIRROR WITH LACE HEART</td>\n",
       "      <td>2.0</td>\n",
       "      <td>2011-10-27 10:54:00</td>\n",
       "      <td>6.25</td>\n",
       "      <td>18276.0</td>\n",
       "      <td>United Kingdom</td>\n",
       "      <td>391368.0</td>\n",
       "      <td>C577390</td>\n",
       "      <td>-1</td>\n",
       "      <td>2011-11-18 17:01:00</td>\n",
       "      <td>391365</td>\n",
       "    </tr>\n",
       "  </tbody>\n",
       "</table>\n",
       "<p>343 rows × 13 columns</p>\n",
       "</div>"
      ],
      "text/plain": [
       "     InvoiceNo_completed StockCode                          Description  \\\n",
       "73                543541     37449   CERAMIC CAKE STAND + HANGING CAKES   \n",
       "79                543541     22063  CERAMIC BOWL WITH STRAWBERRY DESIGN   \n",
       "128               538174     22423             REGENCY CAKESTAND 3 TIER   \n",
       "134               539395     22923  FRIDGE MAGNETS LES ENFANTS ASSORTED   \n",
       "147               538174     22649         STRAWBERRY FAIRY CAKE TEAPOT   \n",
       "...                  ...       ...                                  ...   \n",
       "7191              546165     22720    SET OF 3 CAKE TINS PANTRY DESIGN    \n",
       "7229              565413     21931               JUMBO STORAGE BAG SUKI   \n",
       "7245              560577     22720    SET OF 3 CAKE TINS PANTRY DESIGN    \n",
       "7285              562732     21314        SMALL GLASS HEART TRINKET POT   \n",
       "7299              572990     23401        RUSTIC MIRROR WITH LACE HEART   \n",
       "\n",
       "      Quantity_completed InvoiceDate_completed  UnitPrice CustomerID  \\\n",
       "73                   2.0   2011-02-09 14:44:00       9.95    12462.0   \n",
       "79                   6.0   2011-02-09 14:44:00       2.95    12462.0   \n",
       "128                 32.0   2010-12-10 09:35:00      10.95    12471.0   \n",
       "134                 36.0   2010-12-17 11:52:00       0.85    12471.0   \n",
       "147                  8.0   2010-12-10 09:35:00       4.95    12471.0   \n",
       "...                  ...                   ...        ...        ...   \n",
       "7191                 3.0   2011-03-10 10:08:00       4.95    18183.0   \n",
       "7229                10.0   2011-09-04 11:49:00       2.08    18223.0   \n",
       "7245                12.0   2011-07-19 15:07:00       4.95    18223.0   \n",
       "7285                 8.0   2011-08-09 10:19:00       2.10    18248.0   \n",
       "7299                 2.0   2011-10-27 10:54:00       6.25    18276.0   \n",
       "\n",
       "             Country  idx_completed InvoiceNo_canceled  Quantity_canceled  \\\n",
       "73             Spain         7775.0            C581148                 -1   \n",
       "79             Spain         7748.0            C581148                 -1   \n",
       "128          Germany         8229.0            C540158                 -2   \n",
       "134          Germany         8423.0            C540158                 -5   \n",
       "147          Germany         8169.0            C542101                 -1   \n",
       "...              ...            ...                ...                ...   \n",
       "7191  United Kingdom       387144.0            C546897                 -1   \n",
       "7229  United Kingdom       388631.0            C566460                 -1   \n",
       "7245  United Kingdom       388688.0            C574954                 -3   \n",
       "7285  United Kingdom       390542.0            C563594                 -5   \n",
       "7299  United Kingdom       391368.0            C577390                 -1   \n",
       "\n",
       "     InvoiceDate_canceled  idx_canceled  \n",
       "73    2011-12-07 14:02:00          7758  \n",
       "79    2011-12-07 14:02:00          7789  \n",
       "128   2011-01-05 11:42:00          8367  \n",
       "134   2011-01-05 11:42:00          8370  \n",
       "147   2011-01-25 13:15:00          8388  \n",
       "...                   ...           ...  \n",
       "7191  2011-03-17 18:25:00        387169  \n",
       "7229  2011-09-12 17:19:00        388737  \n",
       "7245  2011-11-08 09:52:00        388875  \n",
       "7285  2011-08-18 06:14:00        390537  \n",
       "7299  2011-11-18 17:01:00        391365  \n",
       "\n",
       "[343 rows x 13 columns]"
      ]
     },
     "metadata": {},
     "output_type": "display_data"
    },
    {
     "name": "stdout",
     "output_type": "stream",
     "text": [
      "========================\n",
      "SAMPLE DUPLICATED IDX_COMPLETED\n"
     ]
    },
    {
     "data": {
      "text/html": [
       "<div>\n",
       "<style scoped>\n",
       "    .dataframe tbody tr th:only-of-type {\n",
       "        vertical-align: middle;\n",
       "    }\n",
       "\n",
       "    .dataframe tbody tr th {\n",
       "        vertical-align: top;\n",
       "    }\n",
       "\n",
       "    .dataframe thead th {\n",
       "        text-align: right;\n",
       "    }\n",
       "</style>\n",
       "<table border=\"1\" class=\"dataframe\">\n",
       "  <thead>\n",
       "    <tr style=\"text-align: right;\">\n",
       "      <th></th>\n",
       "      <th>InvoiceNo_completed</th>\n",
       "      <th>StockCode</th>\n",
       "      <th>Description</th>\n",
       "      <th>Quantity_completed</th>\n",
       "      <th>InvoiceDate_completed</th>\n",
       "      <th>UnitPrice</th>\n",
       "      <th>CustomerID</th>\n",
       "      <th>Country</th>\n",
       "      <th>idx_completed</th>\n",
       "      <th>InvoiceNo_canceled</th>\n",
       "      <th>Quantity_canceled</th>\n",
       "      <th>InvoiceDate_canceled</th>\n",
       "      <th>idx_canceled</th>\n",
       "    </tr>\n",
       "  </thead>\n",
       "  <tbody>\n",
       "  </tbody>\n",
       "</table>\n",
       "</div>"
      ],
      "text/plain": [
       "Empty DataFrame\n",
       "Columns: [InvoiceNo_completed, StockCode, Description, Quantity_completed, InvoiceDate_completed, UnitPrice, CustomerID, Country, idx_completed, InvoiceNo_canceled, Quantity_canceled, InvoiceDate_canceled, idx_canceled]\n",
       "Index: []"
      ]
     },
     "metadata": {},
     "output_type": "display_data"
    }
   ],
   "source": [
    "print('DUPLICATED IDX_CANCELED')\n",
    "display(dataReturnedQtyLT[dataReturnedQtyLT.idx_canceled.duplicated()])\n",
    "print(line)\n",
    "print('DUPLICATED IDX_COMPLETED')\n",
    "display(dataReturnedQtyLT[dataReturnedQtyLT.idx_completed.duplicated()])\n",
    "print(line)\n",
    "print('SAMPLE DUPLICATED IDX_COMPLETED')\n",
    "display(dataReturnedQtyLT[dataReturnedQtyLT.idx_completed==392036])"
   ]
  },
  {
   "attachments": {},
   "cell_type": "markdown",
   "metadata": {},
   "source": [
    "Ternyata terdapat purchase invoice yang diretur dengan invoice yang berbeda atau lebih dari satu kali dengan qty yang sama atau pun berbeda."
   ]
  },
  {
   "cell_type": "code",
   "execution_count": 31,
   "metadata": {},
   "outputs": [
    {
     "name": "stdout",
     "output_type": "stream",
     "text": [
      "========================\n",
      "Num of Qty < 0\t: 19\n",
      "Num of Qty == 0\t: 41\n"
     ]
    },
    {
     "data": {
      "text/html": [
       "<div>\n",
       "<style scoped>\n",
       "    .dataframe tbody tr th:only-of-type {\n",
       "        vertical-align: middle;\n",
       "    }\n",
       "\n",
       "    .dataframe tbody tr th {\n",
       "        vertical-align: top;\n",
       "    }\n",
       "\n",
       "    .dataframe thead th {\n",
       "        text-align: right;\n",
       "    }\n",
       "</style>\n",
       "<table border=\"1\" class=\"dataframe\">\n",
       "  <thead>\n",
       "    <tr style=\"text-align: right;\">\n",
       "      <th></th>\n",
       "      <th>InvoiceNo</th>\n",
       "      <th>StockCode</th>\n",
       "      <th>Description</th>\n",
       "      <th>Quantity</th>\n",
       "      <th>InvoiceDate</th>\n",
       "      <th>UnitPrice</th>\n",
       "      <th>CustomerID</th>\n",
       "      <th>Country</th>\n",
       "      <th>idx</th>\n",
       "    </tr>\n",
       "  </thead>\n",
       "  <tbody>\n",
       "    <tr>\n",
       "      <th>0</th>\n",
       "      <td>536374</td>\n",
       "      <td>21258</td>\n",
       "      <td>VICTORIAN SEWING BOX LARGE</td>\n",
       "      <td>20</td>\n",
       "      <td>2010-12-01 09:09:00</td>\n",
       "      <td>10.95</td>\n",
       "      <td>15100.0</td>\n",
       "      <td>United Kingdom</td>\n",
       "      <td>193105</td>\n",
       "    </tr>\n",
       "    <tr>\n",
       "      <th>1</th>\n",
       "      <td>536378</td>\n",
       "      <td>21212</td>\n",
       "      <td>PACK OF 72 RETROSPOT CAKE CASES</td>\n",
       "      <td>118</td>\n",
       "      <td>2010-12-01 09:37:00</td>\n",
       "      <td>0.42</td>\n",
       "      <td>14688.0</td>\n",
       "      <td>United Kingdom</td>\n",
       "      <td>159268</td>\n",
       "    </tr>\n",
       "    <tr>\n",
       "      <th>2</th>\n",
       "      <td>536378</td>\n",
       "      <td>21977</td>\n",
       "      <td>PACK OF 60 PINK PAISLEY CAKE CASES</td>\n",
       "      <td>23</td>\n",
       "      <td>2010-12-01 09:37:00</td>\n",
       "      <td>0.55</td>\n",
       "      <td>14688.0</td>\n",
       "      <td>United Kingdom</td>\n",
       "      <td>159167</td>\n",
       "    </tr>\n",
       "    <tr>\n",
       "      <th>3</th>\n",
       "      <td>536381</td>\n",
       "      <td>22719</td>\n",
       "      <td>GUMBALL MONOCHROME COAT RACK</td>\n",
       "      <td>33</td>\n",
       "      <td>2010-12-01 09:41:00</td>\n",
       "      <td>1.06</td>\n",
       "      <td>15311.0</td>\n",
       "      <td>United Kingdom</td>\n",
       "      <td>203627</td>\n",
       "    </tr>\n",
       "    <tr>\n",
       "      <th>4</th>\n",
       "      <td>536381</td>\n",
       "      <td>22778</td>\n",
       "      <td>GLASS CLOCHE SMALL</td>\n",
       "      <td>2</td>\n",
       "      <td>2010-12-01 09:41:00</td>\n",
       "      <td>3.95</td>\n",
       "      <td>15311.0</td>\n",
       "      <td>United Kingdom</td>\n",
       "      <td>203626</td>\n",
       "    </tr>\n",
       "    <tr>\n",
       "      <th>...</th>\n",
       "      <td>...</td>\n",
       "      <td>...</td>\n",
       "      <td>...</td>\n",
       "      <td>...</td>\n",
       "      <td>...</td>\n",
       "      <td>...</td>\n",
       "      <td>...</td>\n",
       "      <td>...</td>\n",
       "      <td>...</td>\n",
       "    </tr>\n",
       "    <tr>\n",
       "      <th>3911</th>\n",
       "      <td>580543</td>\n",
       "      <td>22909</td>\n",
       "      <td>SET OF 20 VINTAGE CHRISTMAS NAPKINS</td>\n",
       "      <td>11</td>\n",
       "      <td>2011-12-05 09:11:00</td>\n",
       "      <td>0.85</td>\n",
       "      <td>18223.0</td>\n",
       "      <td>United Kingdom</td>\n",
       "      <td>388719</td>\n",
       "    </tr>\n",
       "    <tr>\n",
       "      <th>3912</th>\n",
       "      <td>580598</td>\n",
       "      <td>85048</td>\n",
       "      <td>15CM CHRISTMAS GLASS BALL 20 LIGHTS</td>\n",
       "      <td>6</td>\n",
       "      <td>2011-12-05 11:05:00</td>\n",
       "      <td>7.95</td>\n",
       "      <td>17526.0</td>\n",
       "      <td>United Kingdom</td>\n",
       "      <td>339575</td>\n",
       "    </tr>\n",
       "    <tr>\n",
       "      <th>3913</th>\n",
       "      <td>580719</td>\n",
       "      <td>84946</td>\n",
       "      <td>ANTIQUE SILVER T-LIGHT GLASS</td>\n",
       "      <td>69</td>\n",
       "      <td>2011-12-05 16:54:00</td>\n",
       "      <td>1.06</td>\n",
       "      <td>14739.0</td>\n",
       "      <td>United Kingdom</td>\n",
       "      <td>164204</td>\n",
       "    </tr>\n",
       "    <tr>\n",
       "      <th>3914</th>\n",
       "      <td>580978</td>\n",
       "      <td>22107</td>\n",
       "      <td>PIZZA PLATE IN BOX</td>\n",
       "      <td>7</td>\n",
       "      <td>2011-12-06 15:36:00</td>\n",
       "      <td>1.25</td>\n",
       "      <td>13078.0</td>\n",
       "      <td>United Kingdom</td>\n",
       "      <td>48249</td>\n",
       "    </tr>\n",
       "    <tr>\n",
       "      <th>3915</th>\n",
       "      <td>581011</td>\n",
       "      <td>23144</td>\n",
       "      <td>ZINC T-LIGHT HOLDER STARS SMALL</td>\n",
       "      <td>37</td>\n",
       "      <td>2011-12-07 09:22:00</td>\n",
       "      <td>0.83</td>\n",
       "      <td>14397.0</td>\n",
       "      <td>United Kingdom</td>\n",
       "      <td>132440</td>\n",
       "    </tr>\n",
       "  </tbody>\n",
       "</table>\n",
       "<p>3916 rows × 9 columns</p>\n",
       "</div>"
      ],
      "text/plain": [
       "     InvoiceNo StockCode                          Description  Quantity  \\\n",
       "0       536374     21258           VICTORIAN SEWING BOX LARGE        20   \n",
       "1       536378     21212      PACK OF 72 RETROSPOT CAKE CASES       118   \n",
       "2       536378     21977   PACK OF 60 PINK PAISLEY CAKE CASES        23   \n",
       "3       536381     22719         GUMBALL MONOCHROME COAT RACK        33   \n",
       "4       536381     22778                   GLASS CLOCHE SMALL         2   \n",
       "...        ...       ...                                  ...       ...   \n",
       "3911    580543     22909  SET OF 20 VINTAGE CHRISTMAS NAPKINS        11   \n",
       "3912    580598     85048  15CM CHRISTMAS GLASS BALL 20 LIGHTS         6   \n",
       "3913    580719     84946         ANTIQUE SILVER T-LIGHT GLASS        69   \n",
       "3914    580978     22107                   PIZZA PLATE IN BOX         7   \n",
       "3915    581011     23144      ZINC T-LIGHT HOLDER STARS SMALL        37   \n",
       "\n",
       "             InvoiceDate  UnitPrice CustomerID         Country     idx  \n",
       "0    2010-12-01 09:09:00      10.95    15100.0  United Kingdom  193105  \n",
       "1    2010-12-01 09:37:00       0.42    14688.0  United Kingdom  159268  \n",
       "2    2010-12-01 09:37:00       0.55    14688.0  United Kingdom  159167  \n",
       "3    2010-12-01 09:41:00       1.06    15311.0  United Kingdom  203627  \n",
       "4    2010-12-01 09:41:00       3.95    15311.0  United Kingdom  203626  \n",
       "...                  ...        ...        ...             ...     ...  \n",
       "3911 2011-12-05 09:11:00       0.85    18223.0  United Kingdom  388719  \n",
       "3912 2011-12-05 11:05:00       7.95    17526.0  United Kingdom  339575  \n",
       "3913 2011-12-05 16:54:00       1.06    14739.0  United Kingdom  164204  \n",
       "3914 2011-12-06 15:36:00       1.25    13078.0  United Kingdom   48249  \n",
       "3915 2011-12-07 09:22:00       0.83    14397.0  United Kingdom  132440  \n",
       "\n",
       "[3916 rows x 9 columns]"
      ]
     },
     "metadata": {},
     "output_type": "display_data"
    }
   ],
   "source": [
    "rm = dataReturnedQtyLT.groupby(['InvoiceNo_completed', 'StockCode', 'Description', 'Quantity_completed', 'InvoiceDate_completed',\n",
    "                                  'UnitPrice', 'CustomerID', 'Country', 'idx_completed'], as_index=False).Quantity_canceled.sum()\n",
    "# rm\n",
    "rm['Quantity'] = rm.Quantity_completed - np.abs(rm.Quantity_canceled)\n",
    "newQty = pd.DataFrame(list(zip(rm.InvoiceNo_completed,\n",
    "                      rm.StockCode,\n",
    "                      rm.Description,\n",
    "                      rm.Quantity,\n",
    "                      rm.InvoiceDate_completed,\n",
    "                      rm.UnitPrice,\n",
    "                      rm.CustomerID,\n",
    "                      rm.Country,\n",
    "                      rm.idx_completed)), columns=dataIdx.columns)\n",
    "newQty.Quantity = newQty.Quantity.astype(np.int)\n",
    "newQty.idx = newQty.idx.astype(np.int)\n",
    "#\n",
    "print(line)\n",
    "print(f'Num of Qty < 0\\t: {len(newQty[newQty.Quantity<0])}')\n",
    "print(f'Num of Qty == 0\\t: {len(newQty[newQty.Quantity==0])}')\n",
    "display(newQty)"
   ]
  },
  {
   "cell_type": "code",
   "execution_count": 32,
   "metadata": {},
   "outputs": [
    {
     "data": {
      "text/html": [
       "<div>\n",
       "<style scoped>\n",
       "    .dataframe tbody tr th:only-of-type {\n",
       "        vertical-align: middle;\n",
       "    }\n",
       "\n",
       "    .dataframe tbody tr th {\n",
       "        vertical-align: top;\n",
       "    }\n",
       "\n",
       "    .dataframe thead th {\n",
       "        text-align: right;\n",
       "    }\n",
       "</style>\n",
       "<table border=\"1\" class=\"dataframe\">\n",
       "  <thead>\n",
       "    <tr style=\"text-align: right;\">\n",
       "      <th></th>\n",
       "      <th>InvoiceNo</th>\n",
       "      <th>StockCode</th>\n",
       "      <th>Description</th>\n",
       "      <th>Quantity</th>\n",
       "      <th>InvoiceDate</th>\n",
       "      <th>UnitPrice</th>\n",
       "      <th>CustomerID</th>\n",
       "      <th>Country</th>\n",
       "      <th>idx</th>\n",
       "    </tr>\n",
       "  </thead>\n",
       "  <tbody>\n",
       "  </tbody>\n",
       "</table>\n",
       "</div>"
      ],
      "text/plain": [
       "Empty DataFrame\n",
       "Columns: [InvoiceNo, StockCode, Description, Quantity, InvoiceDate, UnitPrice, CustomerID, Country, idx]\n",
       "Index: []"
      ]
     },
     "metadata": {},
     "output_type": "display_data"
    }
   ],
   "source": [
    "# check\n",
    "display(newQty[newQty.idx==392036])"
   ]
  },
  {
   "attachments": {},
   "cell_type": "markdown",
   "metadata": {},
   "source": [
    "Jumlah Qty < menunjukkan bahwa terdapat barang yang diretur namun invoice purchase tidak terekam atau dataset perlu menggunakan interval yang jauh lebih luas. Maka dapat diremove saja. Begitu juga dengan Qty == 0"
   ]
  },
  {
   "cell_type": "code",
   "execution_count": 33,
   "metadata": {},
   "outputs": [
    {
     "data": {
      "text/html": [
       "<div>\n",
       "<style scoped>\n",
       "    .dataframe tbody tr th:only-of-type {\n",
       "        vertical-align: middle;\n",
       "    }\n",
       "\n",
       "    .dataframe tbody tr th {\n",
       "        vertical-align: top;\n",
       "    }\n",
       "\n",
       "    .dataframe thead th {\n",
       "        text-align: right;\n",
       "    }\n",
       "</style>\n",
       "<table border=\"1\" class=\"dataframe\">\n",
       "  <thead>\n",
       "    <tr style=\"text-align: right;\">\n",
       "      <th></th>\n",
       "      <th>InvoiceNo</th>\n",
       "      <th>StockCode</th>\n",
       "      <th>Description</th>\n",
       "      <th>Quantity</th>\n",
       "      <th>InvoiceDate</th>\n",
       "      <th>UnitPrice</th>\n",
       "      <th>CustomerID</th>\n",
       "      <th>Country</th>\n",
       "      <th>idx</th>\n",
       "    </tr>\n",
       "  </thead>\n",
       "  <tbody>\n",
       "    <tr>\n",
       "      <th>0</th>\n",
       "      <td>536374</td>\n",
       "      <td>21258</td>\n",
       "      <td>VICTORIAN SEWING BOX LARGE</td>\n",
       "      <td>20</td>\n",
       "      <td>2010-12-01 09:09:00</td>\n",
       "      <td>10.95</td>\n",
       "      <td>15100.0</td>\n",
       "      <td>United Kingdom</td>\n",
       "      <td>193105</td>\n",
       "    </tr>\n",
       "    <tr>\n",
       "      <th>1</th>\n",
       "      <td>536378</td>\n",
       "      <td>21212</td>\n",
       "      <td>PACK OF 72 RETROSPOT CAKE CASES</td>\n",
       "      <td>118</td>\n",
       "      <td>2010-12-01 09:37:00</td>\n",
       "      <td>0.42</td>\n",
       "      <td>14688.0</td>\n",
       "      <td>United Kingdom</td>\n",
       "      <td>159268</td>\n",
       "    </tr>\n",
       "    <tr>\n",
       "      <th>2</th>\n",
       "      <td>536378</td>\n",
       "      <td>21977</td>\n",
       "      <td>PACK OF 60 PINK PAISLEY CAKE CASES</td>\n",
       "      <td>23</td>\n",
       "      <td>2010-12-01 09:37:00</td>\n",
       "      <td>0.55</td>\n",
       "      <td>14688.0</td>\n",
       "      <td>United Kingdom</td>\n",
       "      <td>159167</td>\n",
       "    </tr>\n",
       "    <tr>\n",
       "      <th>3</th>\n",
       "      <td>536381</td>\n",
       "      <td>22719</td>\n",
       "      <td>GUMBALL MONOCHROME COAT RACK</td>\n",
       "      <td>33</td>\n",
       "      <td>2010-12-01 09:41:00</td>\n",
       "      <td>1.06</td>\n",
       "      <td>15311.0</td>\n",
       "      <td>United Kingdom</td>\n",
       "      <td>203627</td>\n",
       "    </tr>\n",
       "    <tr>\n",
       "      <th>4</th>\n",
       "      <td>536381</td>\n",
       "      <td>22778</td>\n",
       "      <td>GLASS CLOCHE SMALL</td>\n",
       "      <td>2</td>\n",
       "      <td>2010-12-01 09:41:00</td>\n",
       "      <td>3.95</td>\n",
       "      <td>15311.0</td>\n",
       "      <td>United Kingdom</td>\n",
       "      <td>203626</td>\n",
       "    </tr>\n",
       "    <tr>\n",
       "      <th>...</th>\n",
       "      <td>...</td>\n",
       "      <td>...</td>\n",
       "      <td>...</td>\n",
       "      <td>...</td>\n",
       "      <td>...</td>\n",
       "      <td>...</td>\n",
       "      <td>...</td>\n",
       "      <td>...</td>\n",
       "      <td>...</td>\n",
       "    </tr>\n",
       "    <tr>\n",
       "      <th>3911</th>\n",
       "      <td>580543</td>\n",
       "      <td>22909</td>\n",
       "      <td>SET OF 20 VINTAGE CHRISTMAS NAPKINS</td>\n",
       "      <td>11</td>\n",
       "      <td>2011-12-05 09:11:00</td>\n",
       "      <td>0.85</td>\n",
       "      <td>18223.0</td>\n",
       "      <td>United Kingdom</td>\n",
       "      <td>388719</td>\n",
       "    </tr>\n",
       "    <tr>\n",
       "      <th>3912</th>\n",
       "      <td>580598</td>\n",
       "      <td>85048</td>\n",
       "      <td>15CM CHRISTMAS GLASS BALL 20 LIGHTS</td>\n",
       "      <td>6</td>\n",
       "      <td>2011-12-05 11:05:00</td>\n",
       "      <td>7.95</td>\n",
       "      <td>17526.0</td>\n",
       "      <td>United Kingdom</td>\n",
       "      <td>339575</td>\n",
       "    </tr>\n",
       "    <tr>\n",
       "      <th>3913</th>\n",
       "      <td>580719</td>\n",
       "      <td>84946</td>\n",
       "      <td>ANTIQUE SILVER T-LIGHT GLASS</td>\n",
       "      <td>69</td>\n",
       "      <td>2011-12-05 16:54:00</td>\n",
       "      <td>1.06</td>\n",
       "      <td>14739.0</td>\n",
       "      <td>United Kingdom</td>\n",
       "      <td>164204</td>\n",
       "    </tr>\n",
       "    <tr>\n",
       "      <th>3914</th>\n",
       "      <td>580978</td>\n",
       "      <td>22107</td>\n",
       "      <td>PIZZA PLATE IN BOX</td>\n",
       "      <td>7</td>\n",
       "      <td>2011-12-06 15:36:00</td>\n",
       "      <td>1.25</td>\n",
       "      <td>13078.0</td>\n",
       "      <td>United Kingdom</td>\n",
       "      <td>48249</td>\n",
       "    </tr>\n",
       "    <tr>\n",
       "      <th>3915</th>\n",
       "      <td>581011</td>\n",
       "      <td>23144</td>\n",
       "      <td>ZINC T-LIGHT HOLDER STARS SMALL</td>\n",
       "      <td>37</td>\n",
       "      <td>2011-12-07 09:22:00</td>\n",
       "      <td>0.83</td>\n",
       "      <td>14397.0</td>\n",
       "      <td>United Kingdom</td>\n",
       "      <td>132440</td>\n",
       "    </tr>\n",
       "  </tbody>\n",
       "</table>\n",
       "<p>3856 rows × 9 columns</p>\n",
       "</div>"
      ],
      "text/plain": [
       "     InvoiceNo StockCode                          Description  Quantity  \\\n",
       "0       536374     21258           VICTORIAN SEWING BOX LARGE        20   \n",
       "1       536378     21212      PACK OF 72 RETROSPOT CAKE CASES       118   \n",
       "2       536378     21977   PACK OF 60 PINK PAISLEY CAKE CASES        23   \n",
       "3       536381     22719         GUMBALL MONOCHROME COAT RACK        33   \n",
       "4       536381     22778                   GLASS CLOCHE SMALL         2   \n",
       "...        ...       ...                                  ...       ...   \n",
       "3911    580543     22909  SET OF 20 VINTAGE CHRISTMAS NAPKINS        11   \n",
       "3912    580598     85048  15CM CHRISTMAS GLASS BALL 20 LIGHTS         6   \n",
       "3913    580719     84946         ANTIQUE SILVER T-LIGHT GLASS        69   \n",
       "3914    580978     22107                   PIZZA PLATE IN BOX         7   \n",
       "3915    581011     23144      ZINC T-LIGHT HOLDER STARS SMALL        37   \n",
       "\n",
       "             InvoiceDate  UnitPrice CustomerID         Country     idx  \n",
       "0    2010-12-01 09:09:00      10.95    15100.0  United Kingdom  193105  \n",
       "1    2010-12-01 09:37:00       0.42    14688.0  United Kingdom  159268  \n",
       "2    2010-12-01 09:37:00       0.55    14688.0  United Kingdom  159167  \n",
       "3    2010-12-01 09:41:00       1.06    15311.0  United Kingdom  203627  \n",
       "4    2010-12-01 09:41:00       3.95    15311.0  United Kingdom  203626  \n",
       "...                  ...        ...        ...             ...     ...  \n",
       "3911 2011-12-05 09:11:00       0.85    18223.0  United Kingdom  388719  \n",
       "3912 2011-12-05 11:05:00       7.95    17526.0  United Kingdom  339575  \n",
       "3913 2011-12-05 16:54:00       1.06    14739.0  United Kingdom  164204  \n",
       "3914 2011-12-06 15:36:00       1.25    13078.0  United Kingdom   48249  \n",
       "3915 2011-12-07 09:22:00       0.83    14397.0  United Kingdom  132440  \n",
       "\n",
       "[3856 rows x 9 columns]"
      ]
     },
     "execution_count": 33,
     "metadata": {},
     "output_type": "execute_result"
    }
   ],
   "source": [
    "newQty = newQty[newQty.Quantity>0]\n",
    "newQty"
   ]
  },
  {
   "cell_type": "code",
   "execution_count": 34,
   "metadata": {},
   "outputs": [],
   "source": [
    "# drop dataIdx and join\n",
    "dataIdx.drop(dataReturnedQtyLT.idx_canceled ,inplace=True)\n",
    "dataIdx.drop(dataReturnedQtyLT.idx_completed ,inplace=True)\n",
    "dataIdx = pd.concat([dataIdx, newQty])"
   ]
  },
  {
   "cell_type": "code",
   "execution_count": 35,
   "metadata": {},
   "outputs": [
    {
     "data": {
      "text/html": [
       "<div>\n",
       "<style scoped>\n",
       "    .dataframe tbody tr th:only-of-type {\n",
       "        vertical-align: middle;\n",
       "    }\n",
       "\n",
       "    .dataframe tbody tr th {\n",
       "        vertical-align: top;\n",
       "    }\n",
       "\n",
       "    .dataframe thead th {\n",
       "        text-align: right;\n",
       "    }\n",
       "</style>\n",
       "<table border=\"1\" class=\"dataframe\">\n",
       "  <thead>\n",
       "    <tr style=\"text-align: right;\">\n",
       "      <th></th>\n",
       "      <th>InvoiceNo</th>\n",
       "      <th>StockCode</th>\n",
       "      <th>Description</th>\n",
       "      <th>Quantity</th>\n",
       "      <th>InvoiceDate</th>\n",
       "      <th>UnitPrice</th>\n",
       "      <th>CustomerID</th>\n",
       "      <th>Country</th>\n",
       "      <th>idx</th>\n",
       "    </tr>\n",
       "  </thead>\n",
       "  <tbody>\n",
       "    <tr>\n",
       "      <th>0</th>\n",
       "      <td>562032</td>\n",
       "      <td>21578</td>\n",
       "      <td>WOODLAND DESIGN  COTTON TOTE BAG</td>\n",
       "      <td>6</td>\n",
       "      <td>2011-08-02 08:48:00</td>\n",
       "      <td>2.25</td>\n",
       "      <td>12347.0</td>\n",
       "      <td>Iceland</td>\n",
       "      <td>0</td>\n",
       "    </tr>\n",
       "    <tr>\n",
       "      <th>1</th>\n",
       "      <td>542237</td>\n",
       "      <td>47559B</td>\n",
       "      <td>TEA TIME OVEN GLOVE</td>\n",
       "      <td>10</td>\n",
       "      <td>2011-01-26 14:30:00</td>\n",
       "      <td>1.25</td>\n",
       "      <td>12347.0</td>\n",
       "      <td>Iceland</td>\n",
       "      <td>1</td>\n",
       "    </tr>\n",
       "    <tr>\n",
       "      <th>2</th>\n",
       "      <td>542237</td>\n",
       "      <td>21154</td>\n",
       "      <td>RED RETROSPOT OVEN GLOVE</td>\n",
       "      <td>10</td>\n",
       "      <td>2011-01-26 14:30:00</td>\n",
       "      <td>1.25</td>\n",
       "      <td>12347.0</td>\n",
       "      <td>Iceland</td>\n",
       "      <td>2</td>\n",
       "    </tr>\n",
       "    <tr>\n",
       "      <th>3</th>\n",
       "      <td>542237</td>\n",
       "      <td>21041</td>\n",
       "      <td>RED RETROSPOT OVEN GLOVE DOUBLE</td>\n",
       "      <td>6</td>\n",
       "      <td>2011-01-26 14:30:00</td>\n",
       "      <td>2.95</td>\n",
       "      <td>12347.0</td>\n",
       "      <td>Iceland</td>\n",
       "      <td>3</td>\n",
       "    </tr>\n",
       "    <tr>\n",
       "      <th>4</th>\n",
       "      <td>542237</td>\n",
       "      <td>21035</td>\n",
       "      <td>SET/2 RED RETROSPOT TEA TOWELS</td>\n",
       "      <td>6</td>\n",
       "      <td>2011-01-26 14:30:00</td>\n",
       "      <td>2.95</td>\n",
       "      <td>12347.0</td>\n",
       "      <td>Iceland</td>\n",
       "      <td>4</td>\n",
       "    </tr>\n",
       "    <tr>\n",
       "      <th>...</th>\n",
       "      <td>...</td>\n",
       "      <td>...</td>\n",
       "      <td>...</td>\n",
       "      <td>...</td>\n",
       "      <td>...</td>\n",
       "      <td>...</td>\n",
       "      <td>...</td>\n",
       "      <td>...</td>\n",
       "      <td>...</td>\n",
       "    </tr>\n",
       "    <tr>\n",
       "      <th>387887</th>\n",
       "      <td>580543</td>\n",
       "      <td>22909</td>\n",
       "      <td>SET OF 20 VINTAGE CHRISTMAS NAPKINS</td>\n",
       "      <td>11</td>\n",
       "      <td>2011-12-05 09:11:00</td>\n",
       "      <td>0.85</td>\n",
       "      <td>18223.0</td>\n",
       "      <td>United Kingdom</td>\n",
       "      <td>387887</td>\n",
       "    </tr>\n",
       "    <tr>\n",
       "      <th>387888</th>\n",
       "      <td>580598</td>\n",
       "      <td>85048</td>\n",
       "      <td>15CM CHRISTMAS GLASS BALL 20 LIGHTS</td>\n",
       "      <td>6</td>\n",
       "      <td>2011-12-05 11:05:00</td>\n",
       "      <td>7.95</td>\n",
       "      <td>17526.0</td>\n",
       "      <td>United Kingdom</td>\n",
       "      <td>387888</td>\n",
       "    </tr>\n",
       "    <tr>\n",
       "      <th>387889</th>\n",
       "      <td>580719</td>\n",
       "      <td>84946</td>\n",
       "      <td>ANTIQUE SILVER T-LIGHT GLASS</td>\n",
       "      <td>69</td>\n",
       "      <td>2011-12-05 16:54:00</td>\n",
       "      <td>1.06</td>\n",
       "      <td>14739.0</td>\n",
       "      <td>United Kingdom</td>\n",
       "      <td>387889</td>\n",
       "    </tr>\n",
       "    <tr>\n",
       "      <th>387890</th>\n",
       "      <td>580978</td>\n",
       "      <td>22107</td>\n",
       "      <td>PIZZA PLATE IN BOX</td>\n",
       "      <td>7</td>\n",
       "      <td>2011-12-06 15:36:00</td>\n",
       "      <td>1.25</td>\n",
       "      <td>13078.0</td>\n",
       "      <td>United Kingdom</td>\n",
       "      <td>387890</td>\n",
       "    </tr>\n",
       "    <tr>\n",
       "      <th>387891</th>\n",
       "      <td>581011</td>\n",
       "      <td>23144</td>\n",
       "      <td>ZINC T-LIGHT HOLDER STARS SMALL</td>\n",
       "      <td>37</td>\n",
       "      <td>2011-12-07 09:22:00</td>\n",
       "      <td>0.83</td>\n",
       "      <td>14397.0</td>\n",
       "      <td>United Kingdom</td>\n",
       "      <td>387891</td>\n",
       "    </tr>\n",
       "  </tbody>\n",
       "</table>\n",
       "<p>387892 rows × 9 columns</p>\n",
       "</div>"
      ],
      "text/plain": [
       "       InvoiceNo StockCode                          Description  Quantity  \\\n",
       "0         562032     21578     WOODLAND DESIGN  COTTON TOTE BAG         6   \n",
       "1         542237    47559B                  TEA TIME OVEN GLOVE        10   \n",
       "2         542237     21154            RED RETROSPOT OVEN GLOVE         10   \n",
       "3         542237     21041      RED RETROSPOT OVEN GLOVE DOUBLE         6   \n",
       "4         542237     21035      SET/2 RED RETROSPOT TEA TOWELS          6   \n",
       "...          ...       ...                                  ...       ...   \n",
       "387887    580543     22909  SET OF 20 VINTAGE CHRISTMAS NAPKINS        11   \n",
       "387888    580598     85048  15CM CHRISTMAS GLASS BALL 20 LIGHTS         6   \n",
       "387889    580719     84946         ANTIQUE SILVER T-LIGHT GLASS        69   \n",
       "387890    580978     22107                   PIZZA PLATE IN BOX         7   \n",
       "387891    581011     23144      ZINC T-LIGHT HOLDER STARS SMALL        37   \n",
       "\n",
       "               InvoiceDate  UnitPrice CustomerID         Country     idx  \n",
       "0      2011-08-02 08:48:00       2.25    12347.0         Iceland       0  \n",
       "1      2011-01-26 14:30:00       1.25    12347.0         Iceland       1  \n",
       "2      2011-01-26 14:30:00       1.25    12347.0         Iceland       2  \n",
       "3      2011-01-26 14:30:00       2.95    12347.0         Iceland       3  \n",
       "4      2011-01-26 14:30:00       2.95    12347.0         Iceland       4  \n",
       "...                    ...        ...        ...             ...     ...  \n",
       "387887 2011-12-05 09:11:00       0.85    18223.0  United Kingdom  387887  \n",
       "387888 2011-12-05 11:05:00       7.95    17526.0  United Kingdom  387888  \n",
       "387889 2011-12-05 16:54:00       1.06    14739.0  United Kingdom  387889  \n",
       "387890 2011-12-06 15:36:00       1.25    13078.0  United Kingdom  387890  \n",
       "387891 2011-12-07 09:22:00       0.83    14397.0  United Kingdom  387891  \n",
       "\n",
       "[387892 rows x 9 columns]"
      ]
     },
     "execution_count": 35,
     "metadata": {},
     "output_type": "execute_result"
    }
   ],
   "source": [
    "dataIdx.reset_index(drop=True, inplace=True)\n",
    "dataIdx['idx'] = dataIdx.index\n",
    "dataIdx"
   ]
  },
  {
   "attachments": {},
   "cell_type": "markdown",
   "metadata": {},
   "source": [
    "###### **Check Negative Qty**"
   ]
  },
  {
   "cell_type": "code",
   "execution_count": 36,
   "metadata": {},
   "outputs": [
    {
     "name": "stdout",
     "output_type": "stream",
     "text": [
      "========================\n",
      "Transaction Items Affected by Returned => 1044\n",
      "========================\n",
      "Purchase Unknowns & Return Quantity \t: 13\n"
     ]
    },
    {
     "data": {
      "text/html": [
       "<div>\n",
       "<style scoped>\n",
       "    .dataframe tbody tr th:only-of-type {\n",
       "        vertical-align: middle;\n",
       "    }\n",
       "\n",
       "    .dataframe tbody tr th {\n",
       "        vertical-align: top;\n",
       "    }\n",
       "\n",
       "    .dataframe thead th {\n",
       "        text-align: right;\n",
       "    }\n",
       "</style>\n",
       "<table border=\"1\" class=\"dataframe\">\n",
       "  <thead>\n",
       "    <tr style=\"text-align: right;\">\n",
       "      <th></th>\n",
       "      <th>InvoiceNo_completed</th>\n",
       "      <th>StockCode</th>\n",
       "      <th>Description</th>\n",
       "      <th>Quantity_completed</th>\n",
       "      <th>InvoiceDate_completed</th>\n",
       "      <th>UnitPrice</th>\n",
       "      <th>CustomerID</th>\n",
       "      <th>Country</th>\n",
       "      <th>idx_completed</th>\n",
       "      <th>InvoiceNo_canceled</th>\n",
       "      <th>Quantity_canceled</th>\n",
       "      <th>InvoiceDate_canceled</th>\n",
       "      <th>idx_canceled</th>\n",
       "    </tr>\n",
       "  </thead>\n",
       "  <tbody>\n",
       "    <tr>\n",
       "      <th>128</th>\n",
       "      <td>NaN</td>\n",
       "      <td>20725</td>\n",
       "      <td>LUNCH BAG RED RETROSPOT</td>\n",
       "      <td>NaN</td>\n",
       "      <td>NaT</td>\n",
       "      <td>1.65</td>\n",
       "      <td>13113.0</td>\n",
       "      <td>United Kingdom</td>\n",
       "      <td>NaN</td>\n",
       "      <td>C570221</td>\n",
       "      <td>-1</td>\n",
       "      <td>2011-10-09 12:56:00</td>\n",
       "      <td>51890</td>\n",
       "    </tr>\n",
       "    <tr>\n",
       "      <th>154</th>\n",
       "      <td>NaN</td>\n",
       "      <td>22796</td>\n",
       "      <td>PHOTO FRAME 3 CLASSIC HANGING</td>\n",
       "      <td>NaN</td>\n",
       "      <td>NaT</td>\n",
       "      <td>9.95</td>\n",
       "      <td>13148.0</td>\n",
       "      <td>United Kingdom</td>\n",
       "      <td>NaN</td>\n",
       "      <td>C542604</td>\n",
       "      <td>-3</td>\n",
       "      <td>2011-01-30 12:35:00</td>\n",
       "      <td>54333</td>\n",
       "    </tr>\n",
       "    <tr>\n",
       "      <th>199</th>\n",
       "      <td>NaN</td>\n",
       "      <td>79323P</td>\n",
       "      <td>PINK CHERRY LIGHTS</td>\n",
       "      <td>NaN</td>\n",
       "      <td>NaT</td>\n",
       "      <td>6.75</td>\n",
       "      <td>13672.0</td>\n",
       "      <td>United Kingdom</td>\n",
       "      <td>NaN</td>\n",
       "      <td>C540634</td>\n",
       "      <td>-4</td>\n",
       "      <td>2011-01-10 12:02:00</td>\n",
       "      <td>82257</td>\n",
       "    </tr>\n",
       "    <tr>\n",
       "      <th>399</th>\n",
       "      <td>NaN</td>\n",
       "      <td>23155</td>\n",
       "      <td>KNICKERBOCKERGLORY MAGNET ASSORTED</td>\n",
       "      <td>NaN</td>\n",
       "      <td>NaT</td>\n",
       "      <td>0.83</td>\n",
       "      <td>14339.0</td>\n",
       "      <td>United Kingdom</td>\n",
       "      <td>NaN</td>\n",
       "      <td>C550168</td>\n",
       "      <td>-1</td>\n",
       "      <td>2011-04-14 16:41:00</td>\n",
       "      <td>126146</td>\n",
       "    </tr>\n",
       "    <tr>\n",
       "      <th>559</th>\n",
       "      <td>NaN</td>\n",
       "      <td>90185C</td>\n",
       "      <td>BLACK DIAMANTE EXPANDABLE RING</td>\n",
       "      <td>NaN</td>\n",
       "      <td>NaT</td>\n",
       "      <td>4.25</td>\n",
       "      <td>14911.0</td>\n",
       "      <td>EIRE</td>\n",
       "      <td>NaN</td>\n",
       "      <td>C539221</td>\n",
       "      <td>-4</td>\n",
       "      <td>2010-12-16 12:56:00</td>\n",
       "      <td>174224</td>\n",
       "    </tr>\n",
       "    <tr>\n",
       "      <th>560</th>\n",
       "      <td>NaN</td>\n",
       "      <td>90185B</td>\n",
       "      <td>AMETHYST DIAMANTE EXPANDABLE RING</td>\n",
       "      <td>NaN</td>\n",
       "      <td>NaT</td>\n",
       "      <td>4.25</td>\n",
       "      <td>14911.0</td>\n",
       "      <td>EIRE</td>\n",
       "      <td>NaN</td>\n",
       "      <td>C539221</td>\n",
       "      <td>-3</td>\n",
       "      <td>2010-12-16 12:56:00</td>\n",
       "      <td>174225</td>\n",
       "    </tr>\n",
       "    <tr>\n",
       "      <th>621</th>\n",
       "      <td>NaN</td>\n",
       "      <td>22990</td>\n",
       "      <td>COTTON APRON PANTRY DESIGN</td>\n",
       "      <td>NaN</td>\n",
       "      <td>NaT</td>\n",
       "      <td>4.95</td>\n",
       "      <td>15201.0</td>\n",
       "      <td>United Kingdom</td>\n",
       "      <td>NaN</td>\n",
       "      <td>C562802</td>\n",
       "      <td>-2</td>\n",
       "      <td>2011-08-09 14:41:00</td>\n",
       "      <td>193851</td>\n",
       "    </tr>\n",
       "    <tr>\n",
       "      <th>622</th>\n",
       "      <td>NaN</td>\n",
       "      <td>22990</td>\n",
       "      <td>COTTON APRON PANTRY DESIGN</td>\n",
       "      <td>NaN</td>\n",
       "      <td>NaT</td>\n",
       "      <td>4.95</td>\n",
       "      <td>15201.0</td>\n",
       "      <td>United Kingdom</td>\n",
       "      <td>NaN</td>\n",
       "      <td>C562848</td>\n",
       "      <td>-4</td>\n",
       "      <td>2011-08-10 09:35:00</td>\n",
       "      <td>193852</td>\n",
       "    </tr>\n",
       "    <tr>\n",
       "      <th>696</th>\n",
       "      <td>NaN</td>\n",
       "      <td>23221</td>\n",
       "      <td>REINDEER HEART DECORATION SILVER</td>\n",
       "      <td>NaN</td>\n",
       "      <td>NaT</td>\n",
       "      <td>0.83</td>\n",
       "      <td>15322.0</td>\n",
       "      <td>United Kingdom</td>\n",
       "      <td>NaN</td>\n",
       "      <td>C569996</td>\n",
       "      <td>-10</td>\n",
       "      <td>2011-10-06 20:38:00</td>\n",
       "      <td>201166</td>\n",
       "    </tr>\n",
       "    <tr>\n",
       "      <th>756</th>\n",
       "      <td>NaN</td>\n",
       "      <td>21735</td>\n",
       "      <td>TWO DOOR CURIO CABINET</td>\n",
       "      <td>NaN</td>\n",
       "      <td>NaT</td>\n",
       "      <td>10.95</td>\n",
       "      <td>15973.0</td>\n",
       "      <td>United Kingdom</td>\n",
       "      <td>NaN</td>\n",
       "      <td>C550349</td>\n",
       "      <td>-1</td>\n",
       "      <td>2011-04-18 09:39:00</td>\n",
       "      <td>238142</td>\n",
       "    </tr>\n",
       "    <tr>\n",
       "      <th>812</th>\n",
       "      <td>NaN</td>\n",
       "      <td>20977</td>\n",
       "      <td>36 PENCILS TUBE WOODLAND</td>\n",
       "      <td>NaN</td>\n",
       "      <td>NaT</td>\n",
       "      <td>1.25</td>\n",
       "      <td>16463.0</td>\n",
       "      <td>United Kingdom</td>\n",
       "      <td>NaN</td>\n",
       "      <td>C574508</td>\n",
       "      <td>-11</td>\n",
       "      <td>2011-11-04 13:25:00</td>\n",
       "      <td>266636</td>\n",
       "    </tr>\n",
       "    <tr>\n",
       "      <th>938</th>\n",
       "      <td>NaN</td>\n",
       "      <td>23169</td>\n",
       "      <td>CLASSIC GLASS COOKIE JAR</td>\n",
       "      <td>NaN</td>\n",
       "      <td>NaT</td>\n",
       "      <td>4.15</td>\n",
       "      <td>17677.0</td>\n",
       "      <td>United Kingdom</td>\n",
       "      <td>NaN</td>\n",
       "      <td>C567350</td>\n",
       "      <td>-4</td>\n",
       "      <td>2011-09-19 16:02:00</td>\n",
       "      <td>342908</td>\n",
       "    </tr>\n",
       "    <tr>\n",
       "      <th>953</th>\n",
       "      <td>NaN</td>\n",
       "      <td>22768</td>\n",
       "      <td>FAMILY PHOTO FRAME CORNICE</td>\n",
       "      <td>NaN</td>\n",
       "      <td>NaT</td>\n",
       "      <td>9.95</td>\n",
       "      <td>17828.0</td>\n",
       "      <td>Malta</td>\n",
       "      <td>NaN</td>\n",
       "      <td>C564751</td>\n",
       "      <td>-1</td>\n",
       "      <td>2011-08-30 10:06:00</td>\n",
       "      <td>353544</td>\n",
       "    </tr>\n",
       "  </tbody>\n",
       "</table>\n",
       "</div>"
      ],
      "text/plain": [
       "    InvoiceNo_completed StockCode                          Description  \\\n",
       "128                 NaN     20725              LUNCH BAG RED RETROSPOT   \n",
       "154                 NaN     22796        PHOTO FRAME 3 CLASSIC HANGING   \n",
       "199                 NaN    79323P                   PINK CHERRY LIGHTS   \n",
       "399                 NaN     23155  KNICKERBOCKERGLORY MAGNET ASSORTED    \n",
       "559                 NaN    90185C       BLACK DIAMANTE EXPANDABLE RING   \n",
       "560                 NaN    90185B    AMETHYST DIAMANTE EXPANDABLE RING   \n",
       "621                 NaN     22990           COTTON APRON PANTRY DESIGN   \n",
       "622                 NaN     22990           COTTON APRON PANTRY DESIGN   \n",
       "696                 NaN     23221     REINDEER HEART DECORATION SILVER   \n",
       "756                 NaN     21735               TWO DOOR CURIO CABINET   \n",
       "812                 NaN     20977             36 PENCILS TUBE WOODLAND   \n",
       "938                 NaN     23169             CLASSIC GLASS COOKIE JAR   \n",
       "953                 NaN     22768           FAMILY PHOTO FRAME CORNICE   \n",
       "\n",
       "     Quantity_completed InvoiceDate_completed  UnitPrice CustomerID  \\\n",
       "128                 NaN                   NaT       1.65    13113.0   \n",
       "154                 NaN                   NaT       9.95    13148.0   \n",
       "199                 NaN                   NaT       6.75    13672.0   \n",
       "399                 NaN                   NaT       0.83    14339.0   \n",
       "559                 NaN                   NaT       4.25    14911.0   \n",
       "560                 NaN                   NaT       4.25    14911.0   \n",
       "621                 NaN                   NaT       4.95    15201.0   \n",
       "622                 NaN                   NaT       4.95    15201.0   \n",
       "696                 NaN                   NaT       0.83    15322.0   \n",
       "756                 NaN                   NaT      10.95    15973.0   \n",
       "812                 NaN                   NaT       1.25    16463.0   \n",
       "938                 NaN                   NaT       4.15    17677.0   \n",
       "953                 NaN                   NaT       9.95    17828.0   \n",
       "\n",
       "            Country  idx_completed InvoiceNo_canceled  Quantity_canceled  \\\n",
       "128  United Kingdom            NaN            C570221                 -1   \n",
       "154  United Kingdom            NaN            C542604                 -3   \n",
       "199  United Kingdom            NaN            C540634                 -4   \n",
       "399  United Kingdom            NaN            C550168                 -1   \n",
       "559            EIRE            NaN            C539221                 -4   \n",
       "560            EIRE            NaN            C539221                 -3   \n",
       "621  United Kingdom            NaN            C562802                 -2   \n",
       "622  United Kingdom            NaN            C562848                 -4   \n",
       "696  United Kingdom            NaN            C569996                -10   \n",
       "756  United Kingdom            NaN            C550349                 -1   \n",
       "812  United Kingdom            NaN            C574508                -11   \n",
       "938  United Kingdom            NaN            C567350                 -4   \n",
       "953           Malta            NaN            C564751                 -1   \n",
       "\n",
       "    InvoiceDate_canceled  idx_canceled  \n",
       "128  2011-10-09 12:56:00         51890  \n",
       "154  2011-01-30 12:35:00         54333  \n",
       "199  2011-01-10 12:02:00         82257  \n",
       "399  2011-04-14 16:41:00        126146  \n",
       "559  2010-12-16 12:56:00        174224  \n",
       "560  2010-12-16 12:56:00        174225  \n",
       "621  2011-08-09 14:41:00        193851  \n",
       "622  2011-08-10 09:35:00        193852  \n",
       "696  2011-10-06 20:38:00        201166  \n",
       "756  2011-04-18 09:39:00        238142  \n",
       "812  2011-11-04 13:25:00        266636  \n",
       "938  2011-09-19 16:02:00        342908  \n",
       "953  2011-08-30 10:06:00        353544  "
      ]
     },
     "metadata": {},
     "output_type": "display_data"
    },
    {
     "name": "stdout",
     "output_type": "stream",
     "text": [
      "========================\n",
      "Purchase Quantity == Return Quantity \t: 0\n"
     ]
    },
    {
     "data": {
      "text/html": [
       "<div>\n",
       "<style scoped>\n",
       "    .dataframe tbody tr th:only-of-type {\n",
       "        vertical-align: middle;\n",
       "    }\n",
       "\n",
       "    .dataframe tbody tr th {\n",
       "        vertical-align: top;\n",
       "    }\n",
       "\n",
       "    .dataframe thead th {\n",
       "        text-align: right;\n",
       "    }\n",
       "</style>\n",
       "<table border=\"1\" class=\"dataframe\">\n",
       "  <thead>\n",
       "    <tr style=\"text-align: right;\">\n",
       "      <th></th>\n",
       "      <th>InvoiceNo_completed</th>\n",
       "      <th>StockCode</th>\n",
       "      <th>Description</th>\n",
       "      <th>Quantity_completed</th>\n",
       "      <th>InvoiceDate_completed</th>\n",
       "      <th>UnitPrice</th>\n",
       "      <th>CustomerID</th>\n",
       "      <th>Country</th>\n",
       "      <th>idx_completed</th>\n",
       "      <th>InvoiceNo_canceled</th>\n",
       "      <th>Quantity_canceled</th>\n",
       "      <th>InvoiceDate_canceled</th>\n",
       "      <th>idx_canceled</th>\n",
       "    </tr>\n",
       "  </thead>\n",
       "  <tbody>\n",
       "  </tbody>\n",
       "</table>\n",
       "</div>"
      ],
      "text/plain": [
       "Empty DataFrame\n",
       "Columns: [InvoiceNo_completed, StockCode, Description, Quantity_completed, InvoiceDate_completed, UnitPrice, CustomerID, Country, idx_completed, InvoiceNo_canceled, Quantity_canceled, InvoiceDate_canceled, idx_canceled]\n",
       "Index: []"
      ]
     },
     "metadata": {},
     "output_type": "display_data"
    },
    {
     "name": "stdout",
     "output_type": "stream",
     "text": [
      "========================\n",
      "Purchase Quantity > Return Quantity \t: 0\n"
     ]
    },
    {
     "data": {
      "text/html": [
       "<div>\n",
       "<style scoped>\n",
       "    .dataframe tbody tr th:only-of-type {\n",
       "        vertical-align: middle;\n",
       "    }\n",
       "\n",
       "    .dataframe tbody tr th {\n",
       "        vertical-align: top;\n",
       "    }\n",
       "\n",
       "    .dataframe thead th {\n",
       "        text-align: right;\n",
       "    }\n",
       "</style>\n",
       "<table border=\"1\" class=\"dataframe\">\n",
       "  <thead>\n",
       "    <tr style=\"text-align: right;\">\n",
       "      <th></th>\n",
       "      <th>InvoiceNo_completed</th>\n",
       "      <th>StockCode</th>\n",
       "      <th>Description</th>\n",
       "      <th>Quantity_completed</th>\n",
       "      <th>InvoiceDate_completed</th>\n",
       "      <th>UnitPrice</th>\n",
       "      <th>CustomerID</th>\n",
       "      <th>Country</th>\n",
       "      <th>idx_completed</th>\n",
       "      <th>InvoiceNo_canceled</th>\n",
       "      <th>Quantity_canceled</th>\n",
       "      <th>InvoiceDate_canceled</th>\n",
       "      <th>idx_canceled</th>\n",
       "    </tr>\n",
       "  </thead>\n",
       "  <tbody>\n",
       "  </tbody>\n",
       "</table>\n",
       "</div>"
      ],
      "text/plain": [
       "Empty DataFrame\n",
       "Columns: [InvoiceNo_completed, StockCode, Description, Quantity_completed, InvoiceDate_completed, UnitPrice, CustomerID, Country, idx_completed, InvoiceNo_canceled, Quantity_canceled, InvoiceDate_canceled, idx_canceled]\n",
       "Index: []"
      ]
     },
     "metadata": {},
     "output_type": "display_data"
    },
    {
     "name": "stdout",
     "output_type": "stream",
     "text": [
      "========================\n",
      "Purchase Quantity < Return Quantity \t: 153\n"
     ]
    },
    {
     "data": {
      "text/html": [
       "<div>\n",
       "<style scoped>\n",
       "    .dataframe tbody tr th:only-of-type {\n",
       "        vertical-align: middle;\n",
       "    }\n",
       "\n",
       "    .dataframe tbody tr th {\n",
       "        vertical-align: top;\n",
       "    }\n",
       "\n",
       "    .dataframe thead th {\n",
       "        text-align: right;\n",
       "    }\n",
       "</style>\n",
       "<table border=\"1\" class=\"dataframe\">\n",
       "  <thead>\n",
       "    <tr style=\"text-align: right;\">\n",
       "      <th></th>\n",
       "      <th>InvoiceNo_completed</th>\n",
       "      <th>StockCode</th>\n",
       "      <th>Description</th>\n",
       "      <th>Quantity_completed</th>\n",
       "      <th>InvoiceDate_completed</th>\n",
       "      <th>UnitPrice</th>\n",
       "      <th>CustomerID</th>\n",
       "      <th>Country</th>\n",
       "      <th>idx_completed</th>\n",
       "      <th>InvoiceNo_canceled</th>\n",
       "      <th>Quantity_canceled</th>\n",
       "      <th>InvoiceDate_canceled</th>\n",
       "      <th>idx_canceled</th>\n",
       "    </tr>\n",
       "  </thead>\n",
       "  <tbody>\n",
       "    <tr>\n",
       "      <th>0</th>\n",
       "      <td>572061</td>\n",
       "      <td>22779</td>\n",
       "      <td>WOODEN OWLS LIGHT GARLAND</td>\n",
       "      <td>2.0</td>\n",
       "      <td>2011-10-20 12:53:00</td>\n",
       "      <td>4.25</td>\n",
       "      <td>12474.0</td>\n",
       "      <td>Germany</td>\n",
       "      <td>387502.0</td>\n",
       "      <td>C574061</td>\n",
       "      <td>-12</td>\n",
       "      <td>2011-11-02 14:18:00</td>\n",
       "      <td>9033</td>\n",
       "    </tr>\n",
       "    <tr>\n",
       "      <th>1</th>\n",
       "      <td>546365</td>\n",
       "      <td>22423</td>\n",
       "      <td>REGENCY CAKESTAND 3 TIER</td>\n",
       "      <td>1.0</td>\n",
       "      <td>2011-03-11 11:35:00</td>\n",
       "      <td>12.75</td>\n",
       "      <td>12520.0</td>\n",
       "      <td>Germany</td>\n",
       "      <td>11979.0</td>\n",
       "      <td>C546886</td>\n",
       "      <td>-2</td>\n",
       "      <td>2011-03-17 18:13:00</td>\n",
       "      <td>11997</td>\n",
       "    </tr>\n",
       "    <tr>\n",
       "      <th>2</th>\n",
       "      <td>574506</td>\n",
       "      <td>23085</td>\n",
       "      <td>ANTIQUE SILVER BAUBLE LAMP</td>\n",
       "      <td>3.0</td>\n",
       "      <td>2011-11-04 13:24:00</td>\n",
       "      <td>10.40</td>\n",
       "      <td>12577.0</td>\n",
       "      <td>France</td>\n",
       "      <td>15518.0</td>\n",
       "      <td>C574512</td>\n",
       "      <td>-6</td>\n",
       "      <td>2011-11-04 13:28:00</td>\n",
       "      <td>15524</td>\n",
       "    </tr>\n",
       "    <tr>\n",
       "      <th>3</th>\n",
       "      <td>570919</td>\n",
       "      <td>22847</td>\n",
       "      <td>BREAD BIN DINER STYLE IVORY</td>\n",
       "      <td>2.0</td>\n",
       "      <td>2011-10-13 10:57:00</td>\n",
       "      <td>16.95</td>\n",
       "      <td>12584.0</td>\n",
       "      <td>Italy</td>\n",
       "      <td>16085.0</td>\n",
       "      <td>C579785</td>\n",
       "      <td>-3</td>\n",
       "      <td>2011-11-30 15:29:00</td>\n",
       "      <td>16105</td>\n",
       "    </tr>\n",
       "    <tr>\n",
       "      <th>4</th>\n",
       "      <td>564670</td>\n",
       "      <td>21197</td>\n",
       "      <td>MULTICOLOUR  CONFETTI IN TUBE</td>\n",
       "      <td>12.0</td>\n",
       "      <td>2011-08-26 15:44:00</td>\n",
       "      <td>1.65</td>\n",
       "      <td>12683.0</td>\n",
       "      <td>France</td>\n",
       "      <td>22681.0</td>\n",
       "      <td>C565615</td>\n",
       "      <td>-21</td>\n",
       "      <td>2011-09-05 15:20:00</td>\n",
       "      <td>22471</td>\n",
       "    </tr>\n",
       "    <tr>\n",
       "      <th>...</th>\n",
       "      <td>...</td>\n",
       "      <td>...</td>\n",
       "      <td>...</td>\n",
       "      <td>...</td>\n",
       "      <td>...</td>\n",
       "      <td>...</td>\n",
       "      <td>...</td>\n",
       "      <td>...</td>\n",
       "      <td>...</td>\n",
       "      <td>...</td>\n",
       "      <td>...</td>\n",
       "      <td>...</td>\n",
       "      <td>...</td>\n",
       "    </tr>\n",
       "    <tr>\n",
       "      <th>148</th>\n",
       "      <td>568480</td>\n",
       "      <td>23250</td>\n",
       "      <td>VINTAGE RED TRIM ENAMEL BOWL</td>\n",
       "      <td>12.0</td>\n",
       "      <td>2011-09-27 11:52:00</td>\n",
       "      <td>1.25</td>\n",
       "      <td>17490.0</td>\n",
       "      <td>United Kingdom</td>\n",
       "      <td>329550.0</td>\n",
       "      <td>C580826</td>\n",
       "      <td>-31</td>\n",
       "      <td>2011-12-06 11:37:00</td>\n",
       "      <td>329559</td>\n",
       "    </tr>\n",
       "    <tr>\n",
       "      <th>149</th>\n",
       "      <td>556218</td>\n",
       "      <td>22423</td>\n",
       "      <td>REGENCY CAKESTAND 3 TIER</td>\n",
       "      <td>2.0</td>\n",
       "      <td>2011-06-09 14:18:00</td>\n",
       "      <td>12.75</td>\n",
       "      <td>17731.0</td>\n",
       "      <td>United Kingdom</td>\n",
       "      <td>346523.0</td>\n",
       "      <td>C558110</td>\n",
       "      <td>-4</td>\n",
       "      <td>2011-06-26 15:47:00</td>\n",
       "      <td>346495</td>\n",
       "    </tr>\n",
       "    <tr>\n",
       "      <th>150</th>\n",
       "      <td>556219</td>\n",
       "      <td>22423</td>\n",
       "      <td>REGENCY CAKESTAND 3 TIER</td>\n",
       "      <td>2.0</td>\n",
       "      <td>2011-06-09 14:19:00</td>\n",
       "      <td>12.75</td>\n",
       "      <td>17731.0</td>\n",
       "      <td>United Kingdom</td>\n",
       "      <td>346531.0</td>\n",
       "      <td>C558110</td>\n",
       "      <td>-4</td>\n",
       "      <td>2011-06-26 15:47:00</td>\n",
       "      <td>346495</td>\n",
       "    </tr>\n",
       "    <tr>\n",
       "      <th>151</th>\n",
       "      <td>574034</td>\n",
       "      <td>22947</td>\n",
       "      <td>WOODEN ADVENT CALENDAR RED</td>\n",
       "      <td>1.0</td>\n",
       "      <td>2011-11-02 12:45:00</td>\n",
       "      <td>7.95</td>\n",
       "      <td>17841.0</td>\n",
       "      <td>United Kingdom</td>\n",
       "      <td>356470.0</td>\n",
       "      <td>C574524</td>\n",
       "      <td>-2</td>\n",
       "      <td>2011-11-04 13:53:00</td>\n",
       "      <td>355848</td>\n",
       "    </tr>\n",
       "    <tr>\n",
       "      <th>152</th>\n",
       "      <td>572306</td>\n",
       "      <td>22947</td>\n",
       "      <td>WOODEN ADVENT CALENDAR RED</td>\n",
       "      <td>1.0</td>\n",
       "      <td>2011-10-23 15:11:00</td>\n",
       "      <td>7.95</td>\n",
       "      <td>17841.0</td>\n",
       "      <td>United Kingdom</td>\n",
       "      <td>356532.0</td>\n",
       "      <td>C574524</td>\n",
       "      <td>-2</td>\n",
       "      <td>2011-11-04 13:53:00</td>\n",
       "      <td>355848</td>\n",
       "    </tr>\n",
       "  </tbody>\n",
       "</table>\n",
       "<p>153 rows × 13 columns</p>\n",
       "</div>"
      ],
      "text/plain": [
       "    InvoiceNo_completed StockCode                    Description  \\\n",
       "0                572061     22779     WOODEN OWLS LIGHT GARLAND    \n",
       "1                546365     22423       REGENCY CAKESTAND 3 TIER   \n",
       "2                574506     23085   ANTIQUE SILVER BAUBLE LAMP     \n",
       "3                570919     22847    BREAD BIN DINER STYLE IVORY   \n",
       "4                564670     21197  MULTICOLOUR  CONFETTI IN TUBE   \n",
       "..                  ...       ...                            ...   \n",
       "148              568480     23250  VINTAGE RED TRIM ENAMEL BOWL    \n",
       "149              556218     22423       REGENCY CAKESTAND 3 TIER   \n",
       "150              556219     22423       REGENCY CAKESTAND 3 TIER   \n",
       "151              574034     22947     WOODEN ADVENT CALENDAR RED   \n",
       "152              572306     22947     WOODEN ADVENT CALENDAR RED   \n",
       "\n",
       "     Quantity_completed InvoiceDate_completed  UnitPrice CustomerID  \\\n",
       "0                   2.0   2011-10-20 12:53:00       4.25    12474.0   \n",
       "1                   1.0   2011-03-11 11:35:00      12.75    12520.0   \n",
       "2                   3.0   2011-11-04 13:24:00      10.40    12577.0   \n",
       "3                   2.0   2011-10-13 10:57:00      16.95    12584.0   \n",
       "4                  12.0   2011-08-26 15:44:00       1.65    12683.0   \n",
       "..                  ...                   ...        ...        ...   \n",
       "148                12.0   2011-09-27 11:52:00       1.25    17490.0   \n",
       "149                 2.0   2011-06-09 14:18:00      12.75    17731.0   \n",
       "150                 2.0   2011-06-09 14:19:00      12.75    17731.0   \n",
       "151                 1.0   2011-11-02 12:45:00       7.95    17841.0   \n",
       "152                 1.0   2011-10-23 15:11:00       7.95    17841.0   \n",
       "\n",
       "            Country  idx_completed InvoiceNo_canceled  Quantity_canceled  \\\n",
       "0           Germany       387502.0            C574061                -12   \n",
       "1           Germany        11979.0            C546886                 -2   \n",
       "2            France        15518.0            C574512                 -6   \n",
       "3             Italy        16085.0            C579785                 -3   \n",
       "4            France        22681.0            C565615                -21   \n",
       "..              ...            ...                ...                ...   \n",
       "148  United Kingdom       329550.0            C580826                -31   \n",
       "149  United Kingdom       346523.0            C558110                 -4   \n",
       "150  United Kingdom       346531.0            C558110                 -4   \n",
       "151  United Kingdom       356470.0            C574524                 -2   \n",
       "152  United Kingdom       356532.0            C574524                 -2   \n",
       "\n",
       "    InvoiceDate_canceled  idx_canceled  \n",
       "0    2011-11-02 14:18:00          9033  \n",
       "1    2011-03-17 18:13:00         11997  \n",
       "2    2011-11-04 13:28:00         15524  \n",
       "3    2011-11-30 15:29:00         16105  \n",
       "4    2011-09-05 15:20:00         22471  \n",
       "..                   ...           ...  \n",
       "148  2011-12-06 11:37:00        329559  \n",
       "149  2011-06-26 15:47:00        346495  \n",
       "150  2011-06-26 15:47:00        346495  \n",
       "151  2011-11-04 13:53:00        355848  \n",
       "152  2011-11-04 13:53:00        355848  \n",
       "\n",
       "[153 rows x 13 columns]"
      ]
     },
     "metadata": {},
     "output_type": "display_data"
    }
   ],
   "source": [
    "dataCompleted = dataIdx[dataIdx.Quantity>0]\n",
    "dataCanceled = dataIdx[dataIdx.Quantity<0]\n",
    "dataReturned = pd.merge(dataCompleted, dataCanceled, how='right',\n",
    "                   on=['StockCode', 'Description', 'CustomerID', 'Country', 'UnitPrice'], \n",
    "                   suffixes=['_completed', '_canceled'])\n",
    "# dataReturned\n",
    "dataReturnedQtyEQ = dataReturned[(dataReturned.Quantity_completed == np.abs(dataReturned.Quantity_canceled)) &\n",
    "                                 (dataReturned.InvoiceDate_completed < dataReturned.InvoiceDate_canceled)].reset_index(drop=True)\n",
    "dataReturnedQtyLT = dataReturned[(dataReturned.Quantity_completed > np.abs(dataReturned.Quantity_canceled)) &\n",
    "                                 (dataReturned.InvoiceDate_completed < dataReturned.InvoiceDate_canceled)].reset_index(drop=True)\n",
    "dataReturnedQtyMT = dataReturned[(dataReturned.Quantity_completed < np.abs(dataReturned.Quantity_canceled)) &\n",
    "                                 (dataReturned.InvoiceDate_completed < dataReturned.InvoiceDate_canceled)].reset_index(drop=True)\n",
    "dataReturnedQtyUnknown = dataReturned[dataReturned.InvoiceNo_completed.isnull()]                                 \n",
    "#\n",
    "\n",
    "print(line)\n",
    "print(f'Transaction Items Affected by Returned => {len(dataReturned)}')\n",
    "print(line)\n",
    "print(f'Purchase Unknowns & Return Quantity \\t: {len(dataReturnedQtyUnknown)}')\n",
    "display(dataReturnedQtyUnknown)\n",
    "print(line)\n",
    "print(f'Purchase Quantity == Return Quantity \\t: {len(dataReturnedQtyEQ)}')\n",
    "display(dataReturnedQtyEQ)\n",
    "print(line)\n",
    "print(f'Purchase Quantity > Return Quantity \\t: {len(dataReturnedQtyLT)}')\n",
    "display(dataReturnedQtyLT)\n",
    "print(line)\n",
    "print(f'Purchase Quantity < Return Quantity \\t: {len(dataReturnedQtyMT)}')\n",
    "display(dataReturnedQtyMT)"
   ]
  },
  {
   "attachments": {},
   "cell_type": "markdown",
   "metadata": {},
   "source": [
    "Masih terdapat retur dari nan purchasing dan purchasing qty < returning qty. Keduanya dapat langsung diremove"
   ]
  },
  {
   "cell_type": "code",
   "execution_count": 37,
   "metadata": {},
   "outputs": [],
   "source": [
    "dataIdx.drop(dataReturnedQtyUnknown.idx_canceled.unique(), inplace=True)\n",
    "dataIdx.drop(dataReturnedQtyMT.idx_canceled.unique(), inplace=True)\n",
    "dataIdx.drop(dataReturnedQtyMT.idx_completed.unique().astype(np.int), inplace=True)"
   ]
  },
  {
   "cell_type": "code",
   "execution_count": 38,
   "metadata": {},
   "outputs": [
    {
     "data": {
      "text/html": [
       "<div>\n",
       "<style scoped>\n",
       "    .dataframe tbody tr th:only-of-type {\n",
       "        vertical-align: middle;\n",
       "    }\n",
       "\n",
       "    .dataframe tbody tr th {\n",
       "        vertical-align: top;\n",
       "    }\n",
       "\n",
       "    .dataframe thead th {\n",
       "        text-align: right;\n",
       "    }\n",
       "</style>\n",
       "<table border=\"1\" class=\"dataframe\">\n",
       "  <thead>\n",
       "    <tr style=\"text-align: right;\">\n",
       "      <th></th>\n",
       "      <th>InvoiceNo</th>\n",
       "      <th>StockCode</th>\n",
       "      <th>Description</th>\n",
       "      <th>Quantity</th>\n",
       "      <th>InvoiceDate</th>\n",
       "      <th>UnitPrice</th>\n",
       "      <th>CustomerID</th>\n",
       "      <th>Country</th>\n",
       "      <th>idx</th>\n",
       "    </tr>\n",
       "  </thead>\n",
       "  <tbody>\n",
       "    <tr>\n",
       "      <th>0</th>\n",
       "      <td>562032</td>\n",
       "      <td>21578</td>\n",
       "      <td>WOODLAND DESIGN  COTTON TOTE BAG</td>\n",
       "      <td>6</td>\n",
       "      <td>2011-08-02 08:48:00</td>\n",
       "      <td>2.25</td>\n",
       "      <td>12347.0</td>\n",
       "      <td>Iceland</td>\n",
       "      <td>0</td>\n",
       "    </tr>\n",
       "    <tr>\n",
       "      <th>1</th>\n",
       "      <td>542237</td>\n",
       "      <td>47559B</td>\n",
       "      <td>TEA TIME OVEN GLOVE</td>\n",
       "      <td>10</td>\n",
       "      <td>2011-01-26 14:30:00</td>\n",
       "      <td>1.25</td>\n",
       "      <td>12347.0</td>\n",
       "      <td>Iceland</td>\n",
       "      <td>1</td>\n",
       "    </tr>\n",
       "    <tr>\n",
       "      <th>2</th>\n",
       "      <td>542237</td>\n",
       "      <td>21154</td>\n",
       "      <td>RED RETROSPOT OVEN GLOVE</td>\n",
       "      <td>10</td>\n",
       "      <td>2011-01-26 14:30:00</td>\n",
       "      <td>1.25</td>\n",
       "      <td>12347.0</td>\n",
       "      <td>Iceland</td>\n",
       "      <td>2</td>\n",
       "    </tr>\n",
       "    <tr>\n",
       "      <th>3</th>\n",
       "      <td>542237</td>\n",
       "      <td>21041</td>\n",
       "      <td>RED RETROSPOT OVEN GLOVE DOUBLE</td>\n",
       "      <td>6</td>\n",
       "      <td>2011-01-26 14:30:00</td>\n",
       "      <td>2.95</td>\n",
       "      <td>12347.0</td>\n",
       "      <td>Iceland</td>\n",
       "      <td>3</td>\n",
       "    </tr>\n",
       "    <tr>\n",
       "      <th>4</th>\n",
       "      <td>542237</td>\n",
       "      <td>21035</td>\n",
       "      <td>SET/2 RED RETROSPOT TEA TOWELS</td>\n",
       "      <td>6</td>\n",
       "      <td>2011-01-26 14:30:00</td>\n",
       "      <td>2.95</td>\n",
       "      <td>12347.0</td>\n",
       "      <td>Iceland</td>\n",
       "      <td>4</td>\n",
       "    </tr>\n",
       "    <tr>\n",
       "      <th>...</th>\n",
       "      <td>...</td>\n",
       "      <td>...</td>\n",
       "      <td>...</td>\n",
       "      <td>...</td>\n",
       "      <td>...</td>\n",
       "      <td>...</td>\n",
       "      <td>...</td>\n",
       "      <td>...</td>\n",
       "      <td>...</td>\n",
       "    </tr>\n",
       "    <tr>\n",
       "      <th>387636</th>\n",
       "      <td>580543</td>\n",
       "      <td>22909</td>\n",
       "      <td>SET OF 20 VINTAGE CHRISTMAS NAPKINS</td>\n",
       "      <td>11</td>\n",
       "      <td>2011-12-05 09:11:00</td>\n",
       "      <td>0.85</td>\n",
       "      <td>18223.0</td>\n",
       "      <td>United Kingdom</td>\n",
       "      <td>387636</td>\n",
       "    </tr>\n",
       "    <tr>\n",
       "      <th>387637</th>\n",
       "      <td>580598</td>\n",
       "      <td>85048</td>\n",
       "      <td>15CM CHRISTMAS GLASS BALL 20 LIGHTS</td>\n",
       "      <td>6</td>\n",
       "      <td>2011-12-05 11:05:00</td>\n",
       "      <td>7.95</td>\n",
       "      <td>17526.0</td>\n",
       "      <td>United Kingdom</td>\n",
       "      <td>387637</td>\n",
       "    </tr>\n",
       "    <tr>\n",
       "      <th>387638</th>\n",
       "      <td>580719</td>\n",
       "      <td>84946</td>\n",
       "      <td>ANTIQUE SILVER T-LIGHT GLASS</td>\n",
       "      <td>69</td>\n",
       "      <td>2011-12-05 16:54:00</td>\n",
       "      <td>1.06</td>\n",
       "      <td>14739.0</td>\n",
       "      <td>United Kingdom</td>\n",
       "      <td>387638</td>\n",
       "    </tr>\n",
       "    <tr>\n",
       "      <th>387639</th>\n",
       "      <td>580978</td>\n",
       "      <td>22107</td>\n",
       "      <td>PIZZA PLATE IN BOX</td>\n",
       "      <td>7</td>\n",
       "      <td>2011-12-06 15:36:00</td>\n",
       "      <td>1.25</td>\n",
       "      <td>13078.0</td>\n",
       "      <td>United Kingdom</td>\n",
       "      <td>387639</td>\n",
       "    </tr>\n",
       "    <tr>\n",
       "      <th>387640</th>\n",
       "      <td>581011</td>\n",
       "      <td>23144</td>\n",
       "      <td>ZINC T-LIGHT HOLDER STARS SMALL</td>\n",
       "      <td>37</td>\n",
       "      <td>2011-12-07 09:22:00</td>\n",
       "      <td>0.83</td>\n",
       "      <td>14397.0</td>\n",
       "      <td>United Kingdom</td>\n",
       "      <td>387640</td>\n",
       "    </tr>\n",
       "  </tbody>\n",
       "</table>\n",
       "<p>387641 rows × 9 columns</p>\n",
       "</div>"
      ],
      "text/plain": [
       "       InvoiceNo StockCode                          Description  Quantity  \\\n",
       "0         562032     21578     WOODLAND DESIGN  COTTON TOTE BAG         6   \n",
       "1         542237    47559B                  TEA TIME OVEN GLOVE        10   \n",
       "2         542237     21154            RED RETROSPOT OVEN GLOVE         10   \n",
       "3         542237     21041      RED RETROSPOT OVEN GLOVE DOUBLE         6   \n",
       "4         542237     21035      SET/2 RED RETROSPOT TEA TOWELS          6   \n",
       "...          ...       ...                                  ...       ...   \n",
       "387636    580543     22909  SET OF 20 VINTAGE CHRISTMAS NAPKINS        11   \n",
       "387637    580598     85048  15CM CHRISTMAS GLASS BALL 20 LIGHTS         6   \n",
       "387638    580719     84946         ANTIQUE SILVER T-LIGHT GLASS        69   \n",
       "387639    580978     22107                   PIZZA PLATE IN BOX         7   \n",
       "387640    581011     23144      ZINC T-LIGHT HOLDER STARS SMALL        37   \n",
       "\n",
       "               InvoiceDate  UnitPrice CustomerID         Country     idx  \n",
       "0      2011-08-02 08:48:00       2.25    12347.0         Iceland       0  \n",
       "1      2011-01-26 14:30:00       1.25    12347.0         Iceland       1  \n",
       "2      2011-01-26 14:30:00       1.25    12347.0         Iceland       2  \n",
       "3      2011-01-26 14:30:00       2.95    12347.0         Iceland       3  \n",
       "4      2011-01-26 14:30:00       2.95    12347.0         Iceland       4  \n",
       "...                    ...        ...        ...             ...     ...  \n",
       "387636 2011-12-05 09:11:00       0.85    18223.0  United Kingdom  387636  \n",
       "387637 2011-12-05 11:05:00       7.95    17526.0  United Kingdom  387637  \n",
       "387638 2011-12-05 16:54:00       1.06    14739.0  United Kingdom  387638  \n",
       "387639 2011-12-06 15:36:00       1.25    13078.0  United Kingdom  387639  \n",
       "387640 2011-12-07 09:22:00       0.83    14397.0  United Kingdom  387640  \n",
       "\n",
       "[387641 rows x 9 columns]"
      ]
     },
     "execution_count": 38,
     "metadata": {},
     "output_type": "execute_result"
    }
   ],
   "source": [
    "dataIdx.reset_index(drop=True, inplace=True)\n",
    "dataIdx['idx'] = dataIdx.index\n",
    "dataIdx"
   ]
  },
  {
   "cell_type": "code",
   "execution_count": 39,
   "metadata": {},
   "outputs": [
    {
     "name": "stdout",
     "output_type": "stream",
     "text": [
      "========================\n",
      "Transaction Items Affected by Returned => 849\n",
      "========================\n",
      "Purchase Unknowns & Return Quantity \t: 2\n"
     ]
    },
    {
     "data": {
      "text/html": [
       "<div>\n",
       "<style scoped>\n",
       "    .dataframe tbody tr th:only-of-type {\n",
       "        vertical-align: middle;\n",
       "    }\n",
       "\n",
       "    .dataframe tbody tr th {\n",
       "        vertical-align: top;\n",
       "    }\n",
       "\n",
       "    .dataframe thead th {\n",
       "        text-align: right;\n",
       "    }\n",
       "</style>\n",
       "<table border=\"1\" class=\"dataframe\">\n",
       "  <thead>\n",
       "    <tr style=\"text-align: right;\">\n",
       "      <th></th>\n",
       "      <th>InvoiceNo_completed</th>\n",
       "      <th>StockCode</th>\n",
       "      <th>Description</th>\n",
       "      <th>Quantity_completed</th>\n",
       "      <th>InvoiceDate_completed</th>\n",
       "      <th>UnitPrice</th>\n",
       "      <th>CustomerID</th>\n",
       "      <th>Country</th>\n",
       "      <th>idx_completed</th>\n",
       "      <th>InvoiceNo_canceled</th>\n",
       "      <th>Quantity_canceled</th>\n",
       "      <th>InvoiceDate_canceled</th>\n",
       "      <th>idx_canceled</th>\n",
       "    </tr>\n",
       "  </thead>\n",
       "  <tbody>\n",
       "    <tr>\n",
       "      <th>366</th>\n",
       "      <td>NaN</td>\n",
       "      <td>21843</td>\n",
       "      <td>RED RETROSPOT CAKE STAND</td>\n",
       "      <td>NaN</td>\n",
       "      <td>NaT</td>\n",
       "      <td>9.95</td>\n",
       "      <td>14543.0</td>\n",
       "      <td>United Kingdom</td>\n",
       "      <td>NaN</td>\n",
       "      <td>C548469</td>\n",
       "      <td>-1</td>\n",
       "      <td>2011-03-31 12:32:00</td>\n",
       "      <td>141532</td>\n",
       "    </tr>\n",
       "    <tr>\n",
       "      <th>374</th>\n",
       "      <td>NaN</td>\n",
       "      <td>21843</td>\n",
       "      <td>RED RETROSPOT CAKE STAND</td>\n",
       "      <td>NaN</td>\n",
       "      <td>NaT</td>\n",
       "      <td>9.95</td>\n",
       "      <td>14543.0</td>\n",
       "      <td>United Kingdom</td>\n",
       "      <td>NaN</td>\n",
       "      <td>C545677</td>\n",
       "      <td>-1</td>\n",
       "      <td>2011-03-06 10:48:00</td>\n",
       "      <td>141553</td>\n",
       "    </tr>\n",
       "  </tbody>\n",
       "</table>\n",
       "</div>"
      ],
      "text/plain": [
       "    InvoiceNo_completed StockCode               Description  \\\n",
       "366                 NaN     21843  RED RETROSPOT CAKE STAND   \n",
       "374                 NaN     21843  RED RETROSPOT CAKE STAND   \n",
       "\n",
       "     Quantity_completed InvoiceDate_completed  UnitPrice CustomerID  \\\n",
       "366                 NaN                   NaT       9.95    14543.0   \n",
       "374                 NaN                   NaT       9.95    14543.0   \n",
       "\n",
       "            Country  idx_completed InvoiceNo_canceled  Quantity_canceled  \\\n",
       "366  United Kingdom            NaN            C548469                 -1   \n",
       "374  United Kingdom            NaN            C545677                 -1   \n",
       "\n",
       "    InvoiceDate_canceled  idx_canceled  \n",
       "366  2011-03-31 12:32:00        141532  \n",
       "374  2011-03-06 10:48:00        141553  "
      ]
     },
     "metadata": {},
     "output_type": "display_data"
    },
    {
     "name": "stdout",
     "output_type": "stream",
     "text": [
      "========================\n",
      "Purchase Quantity == Return Quantity \t: 0\n"
     ]
    },
    {
     "data": {
      "text/html": [
       "<div>\n",
       "<style scoped>\n",
       "    .dataframe tbody tr th:only-of-type {\n",
       "        vertical-align: middle;\n",
       "    }\n",
       "\n",
       "    .dataframe tbody tr th {\n",
       "        vertical-align: top;\n",
       "    }\n",
       "\n",
       "    .dataframe thead th {\n",
       "        text-align: right;\n",
       "    }\n",
       "</style>\n",
       "<table border=\"1\" class=\"dataframe\">\n",
       "  <thead>\n",
       "    <tr style=\"text-align: right;\">\n",
       "      <th></th>\n",
       "      <th>InvoiceNo_completed</th>\n",
       "      <th>StockCode</th>\n",
       "      <th>Description</th>\n",
       "      <th>Quantity_completed</th>\n",
       "      <th>InvoiceDate_completed</th>\n",
       "      <th>UnitPrice</th>\n",
       "      <th>CustomerID</th>\n",
       "      <th>Country</th>\n",
       "      <th>idx_completed</th>\n",
       "      <th>InvoiceNo_canceled</th>\n",
       "      <th>Quantity_canceled</th>\n",
       "      <th>InvoiceDate_canceled</th>\n",
       "      <th>idx_canceled</th>\n",
       "    </tr>\n",
       "  </thead>\n",
       "  <tbody>\n",
       "  </tbody>\n",
       "</table>\n",
       "</div>"
      ],
      "text/plain": [
       "Empty DataFrame\n",
       "Columns: [InvoiceNo_completed, StockCode, Description, Quantity_completed, InvoiceDate_completed, UnitPrice, CustomerID, Country, idx_completed, InvoiceNo_canceled, Quantity_canceled, InvoiceDate_canceled, idx_canceled]\n",
       "Index: []"
      ]
     },
     "metadata": {},
     "output_type": "display_data"
    },
    {
     "name": "stdout",
     "output_type": "stream",
     "text": [
      "========================\n",
      "Purchase Quantity > Return Quantity \t: 0\n"
     ]
    },
    {
     "data": {
      "text/html": [
       "<div>\n",
       "<style scoped>\n",
       "    .dataframe tbody tr th:only-of-type {\n",
       "        vertical-align: middle;\n",
       "    }\n",
       "\n",
       "    .dataframe tbody tr th {\n",
       "        vertical-align: top;\n",
       "    }\n",
       "\n",
       "    .dataframe thead th {\n",
       "        text-align: right;\n",
       "    }\n",
       "</style>\n",
       "<table border=\"1\" class=\"dataframe\">\n",
       "  <thead>\n",
       "    <tr style=\"text-align: right;\">\n",
       "      <th></th>\n",
       "      <th>InvoiceNo_completed</th>\n",
       "      <th>StockCode</th>\n",
       "      <th>Description</th>\n",
       "      <th>Quantity_completed</th>\n",
       "      <th>InvoiceDate_completed</th>\n",
       "      <th>UnitPrice</th>\n",
       "      <th>CustomerID</th>\n",
       "      <th>Country</th>\n",
       "      <th>idx_completed</th>\n",
       "      <th>InvoiceNo_canceled</th>\n",
       "      <th>Quantity_canceled</th>\n",
       "      <th>InvoiceDate_canceled</th>\n",
       "      <th>idx_canceled</th>\n",
       "    </tr>\n",
       "  </thead>\n",
       "  <tbody>\n",
       "  </tbody>\n",
       "</table>\n",
       "</div>"
      ],
      "text/plain": [
       "Empty DataFrame\n",
       "Columns: [InvoiceNo_completed, StockCode, Description, Quantity_completed, InvoiceDate_completed, UnitPrice, CustomerID, Country, idx_completed, InvoiceNo_canceled, Quantity_canceled, InvoiceDate_canceled, idx_canceled]\n",
       "Index: []"
      ]
     },
     "metadata": {},
     "output_type": "display_data"
    },
    {
     "name": "stdout",
     "output_type": "stream",
     "text": [
      "========================\n",
      "Purchase Quantity < Return Quantity \t: 0\n"
     ]
    },
    {
     "data": {
      "text/html": [
       "<div>\n",
       "<style scoped>\n",
       "    .dataframe tbody tr th:only-of-type {\n",
       "        vertical-align: middle;\n",
       "    }\n",
       "\n",
       "    .dataframe tbody tr th {\n",
       "        vertical-align: top;\n",
       "    }\n",
       "\n",
       "    .dataframe thead th {\n",
       "        text-align: right;\n",
       "    }\n",
       "</style>\n",
       "<table border=\"1\" class=\"dataframe\">\n",
       "  <thead>\n",
       "    <tr style=\"text-align: right;\">\n",
       "      <th></th>\n",
       "      <th>InvoiceNo_completed</th>\n",
       "      <th>StockCode</th>\n",
       "      <th>Description</th>\n",
       "      <th>Quantity_completed</th>\n",
       "      <th>InvoiceDate_completed</th>\n",
       "      <th>UnitPrice</th>\n",
       "      <th>CustomerID</th>\n",
       "      <th>Country</th>\n",
       "      <th>idx_completed</th>\n",
       "      <th>InvoiceNo_canceled</th>\n",
       "      <th>Quantity_canceled</th>\n",
       "      <th>InvoiceDate_canceled</th>\n",
       "      <th>idx_canceled</th>\n",
       "    </tr>\n",
       "  </thead>\n",
       "  <tbody>\n",
       "  </tbody>\n",
       "</table>\n",
       "</div>"
      ],
      "text/plain": [
       "Empty DataFrame\n",
       "Columns: [InvoiceNo_completed, StockCode, Description, Quantity_completed, InvoiceDate_completed, UnitPrice, CustomerID, Country, idx_completed, InvoiceNo_canceled, Quantity_canceled, InvoiceDate_canceled, idx_canceled]\n",
       "Index: []"
      ]
     },
     "metadata": {},
     "output_type": "display_data"
    }
   ],
   "source": [
    "dataCompleted = dataIdx[dataIdx.Quantity>0]\n",
    "dataCanceled = dataIdx[dataIdx.Quantity<0]\n",
    "dataReturned = pd.merge(dataCompleted, dataCanceled, how='right',\n",
    "                   on=['StockCode', 'Description', 'CustomerID', 'Country', 'UnitPrice'], \n",
    "                   suffixes=['_completed', '_canceled'])\n",
    "# dataReturned\n",
    "dataReturnedQtyUnknown = dataReturned[dataReturned.InvoiceNo_completed.isnull()]                                 \n",
    "dataReturnedQtyEQ = dataReturned[(dataReturned.Quantity_completed == np.abs(dataReturned.Quantity_canceled)) &\n",
    "                                 (dataReturned.InvoiceDate_completed < dataReturned.InvoiceDate_canceled)].reset_index(drop=True)\n",
    "dataReturnedQtyLT = dataReturned[(dataReturned.Quantity_completed > np.abs(dataReturned.Quantity_canceled)) &\n",
    "                                 (dataReturned.InvoiceDate_completed < dataReturned.InvoiceDate_canceled)].reset_index(drop=True)\n",
    "dataReturnedQtyMT = dataReturned[(dataReturned.Quantity_completed < np.abs(dataReturned.Quantity_canceled)) &\n",
    "                                 (dataReturned.InvoiceDate_completed < dataReturned.InvoiceDate_canceled)].reset_index(drop=True)\n",
    "#\n",
    "print(line)\n",
    "print(f'Transaction Items Affected by Returned => {len(dataReturned)}')\n",
    "print(line)\n",
    "print(f'Purchase Unknowns & Return Quantity \\t: {len(dataReturnedQtyUnknown)}')\n",
    "display(dataReturnedQtyUnknown)\n",
    "print(line)\n",
    "print(f'Purchase Quantity == Return Quantity \\t: {len(dataReturnedQtyEQ)}')\n",
    "display(dataReturnedQtyEQ)\n",
    "print(line)\n",
    "print(f'Purchase Quantity > Return Quantity \\t: {len(dataReturnedQtyLT)}')\n",
    "display(dataReturnedQtyLT)\n",
    "print(line)\n",
    "print(f'Purchase Quantity < Return Quantity \\t: {len(dataReturnedQtyMT)}')\n",
    "display(dataReturnedQtyMT)"
   ]
  },
  {
   "cell_type": "code",
   "execution_count": 40,
   "metadata": {},
   "outputs": [],
   "source": [
    "dataIdx.drop(dataReturnedQtyUnknown.idx_canceled.unique(), inplace=True)"
   ]
  },
  {
   "cell_type": "code",
   "execution_count": 41,
   "metadata": {},
   "outputs": [
    {
     "data": {
      "text/html": [
       "<div>\n",
       "<style scoped>\n",
       "    .dataframe tbody tr th:only-of-type {\n",
       "        vertical-align: middle;\n",
       "    }\n",
       "\n",
       "    .dataframe tbody tr th {\n",
       "        vertical-align: top;\n",
       "    }\n",
       "\n",
       "    .dataframe thead th {\n",
       "        text-align: right;\n",
       "    }\n",
       "</style>\n",
       "<table border=\"1\" class=\"dataframe\">\n",
       "  <thead>\n",
       "    <tr style=\"text-align: right;\">\n",
       "      <th></th>\n",
       "      <th>InvoiceNo</th>\n",
       "      <th>StockCode</th>\n",
       "      <th>Description</th>\n",
       "      <th>Quantity</th>\n",
       "      <th>InvoiceDate</th>\n",
       "      <th>UnitPrice</th>\n",
       "      <th>CustomerID</th>\n",
       "      <th>Country</th>\n",
       "      <th>idx</th>\n",
       "    </tr>\n",
       "  </thead>\n",
       "  <tbody>\n",
       "    <tr>\n",
       "      <th>0</th>\n",
       "      <td>562032</td>\n",
       "      <td>21578</td>\n",
       "      <td>WOODLAND DESIGN  COTTON TOTE BAG</td>\n",
       "      <td>6</td>\n",
       "      <td>2011-08-02 08:48:00</td>\n",
       "      <td>2.25</td>\n",
       "      <td>12347.0</td>\n",
       "      <td>Iceland</td>\n",
       "      <td>0</td>\n",
       "    </tr>\n",
       "    <tr>\n",
       "      <th>1</th>\n",
       "      <td>542237</td>\n",
       "      <td>47559B</td>\n",
       "      <td>TEA TIME OVEN GLOVE</td>\n",
       "      <td>10</td>\n",
       "      <td>2011-01-26 14:30:00</td>\n",
       "      <td>1.25</td>\n",
       "      <td>12347.0</td>\n",
       "      <td>Iceland</td>\n",
       "      <td>1</td>\n",
       "    </tr>\n",
       "    <tr>\n",
       "      <th>2</th>\n",
       "      <td>542237</td>\n",
       "      <td>21154</td>\n",
       "      <td>RED RETROSPOT OVEN GLOVE</td>\n",
       "      <td>10</td>\n",
       "      <td>2011-01-26 14:30:00</td>\n",
       "      <td>1.25</td>\n",
       "      <td>12347.0</td>\n",
       "      <td>Iceland</td>\n",
       "      <td>2</td>\n",
       "    </tr>\n",
       "    <tr>\n",
       "      <th>3</th>\n",
       "      <td>542237</td>\n",
       "      <td>21041</td>\n",
       "      <td>RED RETROSPOT OVEN GLOVE DOUBLE</td>\n",
       "      <td>6</td>\n",
       "      <td>2011-01-26 14:30:00</td>\n",
       "      <td>2.95</td>\n",
       "      <td>12347.0</td>\n",
       "      <td>Iceland</td>\n",
       "      <td>3</td>\n",
       "    </tr>\n",
       "    <tr>\n",
       "      <th>4</th>\n",
       "      <td>542237</td>\n",
       "      <td>21035</td>\n",
       "      <td>SET/2 RED RETROSPOT TEA TOWELS</td>\n",
       "      <td>6</td>\n",
       "      <td>2011-01-26 14:30:00</td>\n",
       "      <td>2.95</td>\n",
       "      <td>12347.0</td>\n",
       "      <td>Iceland</td>\n",
       "      <td>4</td>\n",
       "    </tr>\n",
       "    <tr>\n",
       "      <th>...</th>\n",
       "      <td>...</td>\n",
       "      <td>...</td>\n",
       "      <td>...</td>\n",
       "      <td>...</td>\n",
       "      <td>...</td>\n",
       "      <td>...</td>\n",
       "      <td>...</td>\n",
       "      <td>...</td>\n",
       "      <td>...</td>\n",
       "    </tr>\n",
       "    <tr>\n",
       "      <th>387634</th>\n",
       "      <td>580543</td>\n",
       "      <td>22909</td>\n",
       "      <td>SET OF 20 VINTAGE CHRISTMAS NAPKINS</td>\n",
       "      <td>11</td>\n",
       "      <td>2011-12-05 09:11:00</td>\n",
       "      <td>0.85</td>\n",
       "      <td>18223.0</td>\n",
       "      <td>United Kingdom</td>\n",
       "      <td>387634</td>\n",
       "    </tr>\n",
       "    <tr>\n",
       "      <th>387635</th>\n",
       "      <td>580598</td>\n",
       "      <td>85048</td>\n",
       "      <td>15CM CHRISTMAS GLASS BALL 20 LIGHTS</td>\n",
       "      <td>6</td>\n",
       "      <td>2011-12-05 11:05:00</td>\n",
       "      <td>7.95</td>\n",
       "      <td>17526.0</td>\n",
       "      <td>United Kingdom</td>\n",
       "      <td>387635</td>\n",
       "    </tr>\n",
       "    <tr>\n",
       "      <th>387636</th>\n",
       "      <td>580719</td>\n",
       "      <td>84946</td>\n",
       "      <td>ANTIQUE SILVER T-LIGHT GLASS</td>\n",
       "      <td>69</td>\n",
       "      <td>2011-12-05 16:54:00</td>\n",
       "      <td>1.06</td>\n",
       "      <td>14739.0</td>\n",
       "      <td>United Kingdom</td>\n",
       "      <td>387636</td>\n",
       "    </tr>\n",
       "    <tr>\n",
       "      <th>387637</th>\n",
       "      <td>580978</td>\n",
       "      <td>22107</td>\n",
       "      <td>PIZZA PLATE IN BOX</td>\n",
       "      <td>7</td>\n",
       "      <td>2011-12-06 15:36:00</td>\n",
       "      <td>1.25</td>\n",
       "      <td>13078.0</td>\n",
       "      <td>United Kingdom</td>\n",
       "      <td>387637</td>\n",
       "    </tr>\n",
       "    <tr>\n",
       "      <th>387638</th>\n",
       "      <td>581011</td>\n",
       "      <td>23144</td>\n",
       "      <td>ZINC T-LIGHT HOLDER STARS SMALL</td>\n",
       "      <td>37</td>\n",
       "      <td>2011-12-07 09:22:00</td>\n",
       "      <td>0.83</td>\n",
       "      <td>14397.0</td>\n",
       "      <td>United Kingdom</td>\n",
       "      <td>387638</td>\n",
       "    </tr>\n",
       "  </tbody>\n",
       "</table>\n",
       "<p>387639 rows × 9 columns</p>\n",
       "</div>"
      ],
      "text/plain": [
       "       InvoiceNo StockCode                          Description  Quantity  \\\n",
       "0         562032     21578     WOODLAND DESIGN  COTTON TOTE BAG         6   \n",
       "1         542237    47559B                  TEA TIME OVEN GLOVE        10   \n",
       "2         542237     21154            RED RETROSPOT OVEN GLOVE         10   \n",
       "3         542237     21041      RED RETROSPOT OVEN GLOVE DOUBLE         6   \n",
       "4         542237     21035      SET/2 RED RETROSPOT TEA TOWELS          6   \n",
       "...          ...       ...                                  ...       ...   \n",
       "387634    580543     22909  SET OF 20 VINTAGE CHRISTMAS NAPKINS        11   \n",
       "387635    580598     85048  15CM CHRISTMAS GLASS BALL 20 LIGHTS         6   \n",
       "387636    580719     84946         ANTIQUE SILVER T-LIGHT GLASS        69   \n",
       "387637    580978     22107                   PIZZA PLATE IN BOX         7   \n",
       "387638    581011     23144      ZINC T-LIGHT HOLDER STARS SMALL        37   \n",
       "\n",
       "               InvoiceDate  UnitPrice CustomerID         Country     idx  \n",
       "0      2011-08-02 08:48:00       2.25    12347.0         Iceland       0  \n",
       "1      2011-01-26 14:30:00       1.25    12347.0         Iceland       1  \n",
       "2      2011-01-26 14:30:00       1.25    12347.0         Iceland       2  \n",
       "3      2011-01-26 14:30:00       2.95    12347.0         Iceland       3  \n",
       "4      2011-01-26 14:30:00       2.95    12347.0         Iceland       4  \n",
       "...                    ...        ...        ...             ...     ...  \n",
       "387634 2011-12-05 09:11:00       0.85    18223.0  United Kingdom  387634  \n",
       "387635 2011-12-05 11:05:00       7.95    17526.0  United Kingdom  387635  \n",
       "387636 2011-12-05 16:54:00       1.06    14739.0  United Kingdom  387636  \n",
       "387637 2011-12-06 15:36:00       1.25    13078.0  United Kingdom  387637  \n",
       "387638 2011-12-07 09:22:00       0.83    14397.0  United Kingdom  387638  \n",
       "\n",
       "[387639 rows x 9 columns]"
      ]
     },
     "execution_count": 41,
     "metadata": {},
     "output_type": "execute_result"
    }
   ],
   "source": [
    "dataIdx.reset_index(drop=True, inplace=True)\n",
    "dataIdx['idx'] = dataIdx.index\n",
    "dataIdx"
   ]
  },
  {
   "cell_type": "code",
   "execution_count": 42,
   "metadata": {},
   "outputs": [
    {
     "name": "stdout",
     "output_type": "stream",
     "text": [
      "========================\n",
      "Transaction Items Affected by Returned => 847\n",
      "========================\n",
      "Purchase Unknowns & Return Quantity \t: 0\n"
     ]
    },
    {
     "data": {
      "text/html": [
       "<div>\n",
       "<style scoped>\n",
       "    .dataframe tbody tr th:only-of-type {\n",
       "        vertical-align: middle;\n",
       "    }\n",
       "\n",
       "    .dataframe tbody tr th {\n",
       "        vertical-align: top;\n",
       "    }\n",
       "\n",
       "    .dataframe thead th {\n",
       "        text-align: right;\n",
       "    }\n",
       "</style>\n",
       "<table border=\"1\" class=\"dataframe\">\n",
       "  <thead>\n",
       "    <tr style=\"text-align: right;\">\n",
       "      <th></th>\n",
       "      <th>InvoiceNo_completed</th>\n",
       "      <th>StockCode</th>\n",
       "      <th>Description</th>\n",
       "      <th>Quantity_completed</th>\n",
       "      <th>InvoiceDate_completed</th>\n",
       "      <th>UnitPrice</th>\n",
       "      <th>CustomerID</th>\n",
       "      <th>Country</th>\n",
       "      <th>idx_completed</th>\n",
       "      <th>InvoiceNo_canceled</th>\n",
       "      <th>Quantity_canceled</th>\n",
       "      <th>InvoiceDate_canceled</th>\n",
       "      <th>idx_canceled</th>\n",
       "    </tr>\n",
       "  </thead>\n",
       "  <tbody>\n",
       "  </tbody>\n",
       "</table>\n",
       "</div>"
      ],
      "text/plain": [
       "Empty DataFrame\n",
       "Columns: [InvoiceNo_completed, StockCode, Description, Quantity_completed, InvoiceDate_completed, UnitPrice, CustomerID, Country, idx_completed, InvoiceNo_canceled, Quantity_canceled, InvoiceDate_canceled, idx_canceled]\n",
       "Index: []"
      ]
     },
     "metadata": {},
     "output_type": "display_data"
    },
    {
     "name": "stdout",
     "output_type": "stream",
     "text": [
      "========================\n",
      "Purchase Quantity == Return Quantity \t: 0\n"
     ]
    },
    {
     "data": {
      "text/html": [
       "<div>\n",
       "<style scoped>\n",
       "    .dataframe tbody tr th:only-of-type {\n",
       "        vertical-align: middle;\n",
       "    }\n",
       "\n",
       "    .dataframe tbody tr th {\n",
       "        vertical-align: top;\n",
       "    }\n",
       "\n",
       "    .dataframe thead th {\n",
       "        text-align: right;\n",
       "    }\n",
       "</style>\n",
       "<table border=\"1\" class=\"dataframe\">\n",
       "  <thead>\n",
       "    <tr style=\"text-align: right;\">\n",
       "      <th></th>\n",
       "      <th>InvoiceNo_completed</th>\n",
       "      <th>StockCode</th>\n",
       "      <th>Description</th>\n",
       "      <th>Quantity_completed</th>\n",
       "      <th>InvoiceDate_completed</th>\n",
       "      <th>UnitPrice</th>\n",
       "      <th>CustomerID</th>\n",
       "      <th>Country</th>\n",
       "      <th>idx_completed</th>\n",
       "      <th>InvoiceNo_canceled</th>\n",
       "      <th>Quantity_canceled</th>\n",
       "      <th>InvoiceDate_canceled</th>\n",
       "      <th>idx_canceled</th>\n",
       "    </tr>\n",
       "  </thead>\n",
       "  <tbody>\n",
       "  </tbody>\n",
       "</table>\n",
       "</div>"
      ],
      "text/plain": [
       "Empty DataFrame\n",
       "Columns: [InvoiceNo_completed, StockCode, Description, Quantity_completed, InvoiceDate_completed, UnitPrice, CustomerID, Country, idx_completed, InvoiceNo_canceled, Quantity_canceled, InvoiceDate_canceled, idx_canceled]\n",
       "Index: []"
      ]
     },
     "metadata": {},
     "output_type": "display_data"
    },
    {
     "name": "stdout",
     "output_type": "stream",
     "text": [
      "========================\n",
      "Purchase Quantity > Return Quantity \t: 0\n"
     ]
    },
    {
     "data": {
      "text/html": [
       "<div>\n",
       "<style scoped>\n",
       "    .dataframe tbody tr th:only-of-type {\n",
       "        vertical-align: middle;\n",
       "    }\n",
       "\n",
       "    .dataframe tbody tr th {\n",
       "        vertical-align: top;\n",
       "    }\n",
       "\n",
       "    .dataframe thead th {\n",
       "        text-align: right;\n",
       "    }\n",
       "</style>\n",
       "<table border=\"1\" class=\"dataframe\">\n",
       "  <thead>\n",
       "    <tr style=\"text-align: right;\">\n",
       "      <th></th>\n",
       "      <th>InvoiceNo_completed</th>\n",
       "      <th>StockCode</th>\n",
       "      <th>Description</th>\n",
       "      <th>Quantity_completed</th>\n",
       "      <th>InvoiceDate_completed</th>\n",
       "      <th>UnitPrice</th>\n",
       "      <th>CustomerID</th>\n",
       "      <th>Country</th>\n",
       "      <th>idx_completed</th>\n",
       "      <th>InvoiceNo_canceled</th>\n",
       "      <th>Quantity_canceled</th>\n",
       "      <th>InvoiceDate_canceled</th>\n",
       "      <th>idx_canceled</th>\n",
       "    </tr>\n",
       "  </thead>\n",
       "  <tbody>\n",
       "  </tbody>\n",
       "</table>\n",
       "</div>"
      ],
      "text/plain": [
       "Empty DataFrame\n",
       "Columns: [InvoiceNo_completed, StockCode, Description, Quantity_completed, InvoiceDate_completed, UnitPrice, CustomerID, Country, idx_completed, InvoiceNo_canceled, Quantity_canceled, InvoiceDate_canceled, idx_canceled]\n",
       "Index: []"
      ]
     },
     "metadata": {},
     "output_type": "display_data"
    },
    {
     "name": "stdout",
     "output_type": "stream",
     "text": [
      "========================\n",
      "Purchase Quantity < Return Quantity \t: 0\n"
     ]
    },
    {
     "data": {
      "text/html": [
       "<div>\n",
       "<style scoped>\n",
       "    .dataframe tbody tr th:only-of-type {\n",
       "        vertical-align: middle;\n",
       "    }\n",
       "\n",
       "    .dataframe tbody tr th {\n",
       "        vertical-align: top;\n",
       "    }\n",
       "\n",
       "    .dataframe thead th {\n",
       "        text-align: right;\n",
       "    }\n",
       "</style>\n",
       "<table border=\"1\" class=\"dataframe\">\n",
       "  <thead>\n",
       "    <tr style=\"text-align: right;\">\n",
       "      <th></th>\n",
       "      <th>InvoiceNo_completed</th>\n",
       "      <th>StockCode</th>\n",
       "      <th>Description</th>\n",
       "      <th>Quantity_completed</th>\n",
       "      <th>InvoiceDate_completed</th>\n",
       "      <th>UnitPrice</th>\n",
       "      <th>CustomerID</th>\n",
       "      <th>Country</th>\n",
       "      <th>idx_completed</th>\n",
       "      <th>InvoiceNo_canceled</th>\n",
       "      <th>Quantity_canceled</th>\n",
       "      <th>InvoiceDate_canceled</th>\n",
       "      <th>idx_canceled</th>\n",
       "    </tr>\n",
       "  </thead>\n",
       "  <tbody>\n",
       "  </tbody>\n",
       "</table>\n",
       "</div>"
      ],
      "text/plain": [
       "Empty DataFrame\n",
       "Columns: [InvoiceNo_completed, StockCode, Description, Quantity_completed, InvoiceDate_completed, UnitPrice, CustomerID, Country, idx_completed, InvoiceNo_canceled, Quantity_canceled, InvoiceDate_canceled, idx_canceled]\n",
       "Index: []"
      ]
     },
     "metadata": {},
     "output_type": "display_data"
    }
   ],
   "source": [
    "dataCompleted = dataIdx[dataIdx.Quantity>0]\n",
    "dataCanceled = dataIdx[dataIdx.Quantity<0]\n",
    "dataReturned = pd.merge(dataCompleted, dataCanceled, how='right',\n",
    "                   on=['StockCode', 'Description', 'CustomerID', 'Country', 'UnitPrice'], \n",
    "                   suffixes=['_completed', '_canceled'])\n",
    "# dataReturned\n",
    "dataReturnedQtyUnknown = dataReturned[dataReturned.InvoiceNo_completed.isnull()]                                 \n",
    "dataReturnedQtyEQ = dataReturned[(dataReturned.Quantity_completed == np.abs(dataReturned.Quantity_canceled)) &\n",
    "                                 (dataReturned.InvoiceDate_completed < dataReturned.InvoiceDate_canceled)].reset_index(drop=True)\n",
    "dataReturnedQtyLT = dataReturned[(dataReturned.Quantity_completed > np.abs(dataReturned.Quantity_canceled)) &\n",
    "                                 (dataReturned.InvoiceDate_completed < dataReturned.InvoiceDate_canceled)].reset_index(drop=True)\n",
    "dataReturnedQtyMT = dataReturned[(dataReturned.Quantity_completed < np.abs(dataReturned.Quantity_canceled)) &\n",
    "                                 (dataReturned.InvoiceDate_completed < dataReturned.InvoiceDate_canceled)].reset_index(drop=True)\n",
    "#\n",
    "print(line)\n",
    "print(f'Transaction Items Affected by Returned => {len(dataReturned)}')\n",
    "print(line)\n",
    "print(f'Purchase Unknowns & Return Quantity \\t: {len(dataReturnedQtyUnknown)}')\n",
    "display(dataReturnedQtyUnknown)\n",
    "print(line)\n",
    "print(f'Purchase Quantity == Return Quantity \\t: {len(dataReturnedQtyEQ)}')\n",
    "display(dataReturnedQtyEQ)\n",
    "print(line)\n",
    "print(f'Purchase Quantity > Return Quantity \\t: {len(dataReturnedQtyLT)}')\n",
    "display(dataReturnedQtyLT)\n",
    "print(line)\n",
    "print(f'Purchase Quantity < Return Quantity \\t: {len(dataReturnedQtyMT)}')\n",
    "display(dataReturnedQtyMT)"
   ]
  },
  {
   "cell_type": "code",
   "execution_count": 43,
   "metadata": {},
   "outputs": [
    {
     "data": {
      "text/html": [
       "<div>\n",
       "<style scoped>\n",
       "    .dataframe tbody tr th:only-of-type {\n",
       "        vertical-align: middle;\n",
       "    }\n",
       "\n",
       "    .dataframe tbody tr th {\n",
       "        vertical-align: top;\n",
       "    }\n",
       "\n",
       "    .dataframe thead th {\n",
       "        text-align: right;\n",
       "    }\n",
       "</style>\n",
       "<table border=\"1\" class=\"dataframe\">\n",
       "  <thead>\n",
       "    <tr style=\"text-align: right;\">\n",
       "      <th></th>\n",
       "      <th>InvoiceNo_completed</th>\n",
       "      <th>StockCode</th>\n",
       "      <th>Description</th>\n",
       "      <th>Quantity_completed</th>\n",
       "      <th>InvoiceDate_completed</th>\n",
       "      <th>UnitPrice</th>\n",
       "      <th>CustomerID</th>\n",
       "      <th>Country</th>\n",
       "      <th>idx_completed</th>\n",
       "      <th>InvoiceNo_canceled</th>\n",
       "      <th>Quantity_canceled</th>\n",
       "      <th>InvoiceDate_canceled</th>\n",
       "      <th>idx_canceled</th>\n",
       "    </tr>\n",
       "  </thead>\n",
       "  <tbody>\n",
       "    <tr>\n",
       "      <th>0</th>\n",
       "      <td>567642</td>\n",
       "      <td>23298</td>\n",
       "      <td>SPOTTY BUNTING</td>\n",
       "      <td>1</td>\n",
       "      <td>2011-09-21 14:15:00</td>\n",
       "      <td>4.95</td>\n",
       "      <td>12409.0</td>\n",
       "      <td>Switzerland</td>\n",
       "      <td>3431</td>\n",
       "      <td>C563224</td>\n",
       "      <td>-1</td>\n",
       "      <td>2011-08-14 14:33:00</td>\n",
       "      <td>3462</td>\n",
       "    </tr>\n",
       "    <tr>\n",
       "      <th>1</th>\n",
       "      <td>543056</td>\n",
       "      <td>22752</td>\n",
       "      <td>SET 7 BABUSHKA NESTING BOXES</td>\n",
       "      <td>6</td>\n",
       "      <td>2011-02-03 10:47:00</td>\n",
       "      <td>8.50</td>\n",
       "      <td>12471.0</td>\n",
       "      <td>Germany</td>\n",
       "      <td>8096</td>\n",
       "      <td>C536622</td>\n",
       "      <td>-2</td>\n",
       "      <td>2010-12-02 10:37:00</td>\n",
       "      <td>8163</td>\n",
       "    </tr>\n",
       "    <tr>\n",
       "      <th>2</th>\n",
       "      <td>539395</td>\n",
       "      <td>22752</td>\n",
       "      <td>SET 7 BABUSHKA NESTING BOXES</td>\n",
       "      <td>6</td>\n",
       "      <td>2010-12-17 11:52:00</td>\n",
       "      <td>8.50</td>\n",
       "      <td>12471.0</td>\n",
       "      <td>Germany</td>\n",
       "      <td>8176</td>\n",
       "      <td>C536622</td>\n",
       "      <td>-2</td>\n",
       "      <td>2010-12-02 10:37:00</td>\n",
       "      <td>8163</td>\n",
       "    </tr>\n",
       "    <tr>\n",
       "      <th>3</th>\n",
       "      <td>538174</td>\n",
       "      <td>22752</td>\n",
       "      <td>SET 7 BABUSHKA NESTING BOXES</td>\n",
       "      <td>1</td>\n",
       "      <td>2010-12-10 09:35:00</td>\n",
       "      <td>8.50</td>\n",
       "      <td>12471.0</td>\n",
       "      <td>Germany</td>\n",
       "      <td>383995</td>\n",
       "      <td>C536622</td>\n",
       "      <td>-2</td>\n",
       "      <td>2010-12-02 10:37:00</td>\n",
       "      <td>8163</td>\n",
       "    </tr>\n",
       "    <tr>\n",
       "      <th>4</th>\n",
       "      <td>581179</td>\n",
       "      <td>21232</td>\n",
       "      <td>STRAWBERRY CERAMIC TRINKET POT</td>\n",
       "      <td>48</td>\n",
       "      <td>2011-12-07 15:43:00</td>\n",
       "      <td>1.25</td>\n",
       "      <td>12471.0</td>\n",
       "      <td>Germany</td>\n",
       "      <td>8025</td>\n",
       "      <td>C573037</td>\n",
       "      <td>-2</td>\n",
       "      <td>2011-10-27 13:45:00</td>\n",
       "      <td>8165</td>\n",
       "    </tr>\n",
       "    <tr>\n",
       "      <th>...</th>\n",
       "      <td>...</td>\n",
       "      <td>...</td>\n",
       "      <td>...</td>\n",
       "      <td>...</td>\n",
       "      <td>...</td>\n",
       "      <td>...</td>\n",
       "      <td>...</td>\n",
       "      <td>...</td>\n",
       "      <td>...</td>\n",
       "      <td>...</td>\n",
       "      <td>...</td>\n",
       "      <td>...</td>\n",
       "      <td>...</td>\n",
       "    </tr>\n",
       "    <tr>\n",
       "      <th>842</th>\n",
       "      <td>567908</td>\n",
       "      <td>22865</td>\n",
       "      <td>HAND WARMER OWL DESIGN</td>\n",
       "      <td>12</td>\n",
       "      <td>2011-09-22 16:48:00</td>\n",
       "      <td>2.10</td>\n",
       "      <td>18172.0</td>\n",
       "      <td>United Kingdom</td>\n",
       "      <td>378366</td>\n",
       "      <td>C544436</td>\n",
       "      <td>-2</td>\n",
       "      <td>2011-02-18 16:52:00</td>\n",
       "      <td>378341</td>\n",
       "    </tr>\n",
       "    <tr>\n",
       "      <th>843</th>\n",
       "      <td>578661</td>\n",
       "      <td>84347</td>\n",
       "      <td>ROTATING SILVER ANGELS T-LIGHT HLDR</td>\n",
       "      <td>60</td>\n",
       "      <td>2011-11-24 16:46:00</td>\n",
       "      <td>2.55</td>\n",
       "      <td>18188.0</td>\n",
       "      <td>United Kingdom</td>\n",
       "      <td>378962</td>\n",
       "      <td>C572473</td>\n",
       "      <td>-1</td>\n",
       "      <td>2011-10-24 13:34:00</td>\n",
       "      <td>378958</td>\n",
       "    </tr>\n",
       "    <tr>\n",
       "      <th>844</th>\n",
       "      <td>557291</td>\n",
       "      <td>21906</td>\n",
       "      <td>PHARMACIE FIRST AID TIN</td>\n",
       "      <td>6</td>\n",
       "      <td>2011-06-19 13:01:00</td>\n",
       "      <td>6.75</td>\n",
       "      <td>18230.0</td>\n",
       "      <td>United Kingdom</td>\n",
       "      <td>381298</td>\n",
       "      <td>C539057</td>\n",
       "      <td>-11</td>\n",
       "      <td>2010-12-15 16:40:00</td>\n",
       "      <td>381241</td>\n",
       "    </tr>\n",
       "    <tr>\n",
       "      <th>845</th>\n",
       "      <td>557291</td>\n",
       "      <td>21906</td>\n",
       "      <td>PHARMACIE FIRST AID TIN</td>\n",
       "      <td>6</td>\n",
       "      <td>2011-06-19 13:01:00</td>\n",
       "      <td>6.75</td>\n",
       "      <td>18230.0</td>\n",
       "      <td>United Kingdom</td>\n",
       "      <td>381298</td>\n",
       "      <td>C538089</td>\n",
       "      <td>-1</td>\n",
       "      <td>2010-12-09 14:47:00</td>\n",
       "      <td>381258</td>\n",
       "    </tr>\n",
       "    <tr>\n",
       "      <th>846</th>\n",
       "      <td>561680</td>\n",
       "      <td>84968A</td>\n",
       "      <td>SET OF 16 VINTAGE ROSE CUTLERY</td>\n",
       "      <td>2</td>\n",
       "      <td>2011-07-28 19:13:00</td>\n",
       "      <td>12.75</td>\n",
       "      <td>18268.0</td>\n",
       "      <td>United Kingdom</td>\n",
       "      <td>382754</td>\n",
       "      <td>C561590</td>\n",
       "      <td>-2</td>\n",
       "      <td>2011-07-28 11:16:00</td>\n",
       "      <td>382755</td>\n",
       "    </tr>\n",
       "  </tbody>\n",
       "</table>\n",
       "<p>847 rows × 13 columns</p>\n",
       "</div>"
      ],
      "text/plain": [
       "    InvoiceNo_completed StockCode                          Description  \\\n",
       "0                567642     23298                       SPOTTY BUNTING   \n",
       "1                543056     22752         SET 7 BABUSHKA NESTING BOXES   \n",
       "2                539395     22752         SET 7 BABUSHKA NESTING BOXES   \n",
       "3                538174     22752         SET 7 BABUSHKA NESTING BOXES   \n",
       "4                581179     21232       STRAWBERRY CERAMIC TRINKET POT   \n",
       "..                  ...       ...                                  ...   \n",
       "842              567908     22865               HAND WARMER OWL DESIGN   \n",
       "843              578661     84347  ROTATING SILVER ANGELS T-LIGHT HLDR   \n",
       "844              557291     21906              PHARMACIE FIRST AID TIN   \n",
       "845              557291     21906              PHARMACIE FIRST AID TIN   \n",
       "846              561680    84968A       SET OF 16 VINTAGE ROSE CUTLERY   \n",
       "\n",
       "     Quantity_completed InvoiceDate_completed  UnitPrice CustomerID  \\\n",
       "0                     1   2011-09-21 14:15:00       4.95    12409.0   \n",
       "1                     6   2011-02-03 10:47:00       8.50    12471.0   \n",
       "2                     6   2010-12-17 11:52:00       8.50    12471.0   \n",
       "3                     1   2010-12-10 09:35:00       8.50    12471.0   \n",
       "4                    48   2011-12-07 15:43:00       1.25    12471.0   \n",
       "..                  ...                   ...        ...        ...   \n",
       "842                  12   2011-09-22 16:48:00       2.10    18172.0   \n",
       "843                  60   2011-11-24 16:46:00       2.55    18188.0   \n",
       "844                   6   2011-06-19 13:01:00       6.75    18230.0   \n",
       "845                   6   2011-06-19 13:01:00       6.75    18230.0   \n",
       "846                   2   2011-07-28 19:13:00      12.75    18268.0   \n",
       "\n",
       "            Country  idx_completed InvoiceNo_canceled  Quantity_canceled  \\\n",
       "0       Switzerland           3431            C563224                 -1   \n",
       "1           Germany           8096            C536622                 -2   \n",
       "2           Germany           8176            C536622                 -2   \n",
       "3           Germany         383995            C536622                 -2   \n",
       "4           Germany           8025            C573037                 -2   \n",
       "..              ...            ...                ...                ...   \n",
       "842  United Kingdom         378366            C544436                 -2   \n",
       "843  United Kingdom         378962            C572473                 -1   \n",
       "844  United Kingdom         381298            C539057                -11   \n",
       "845  United Kingdom         381298            C538089                 -1   \n",
       "846  United Kingdom         382754            C561590                 -2   \n",
       "\n",
       "    InvoiceDate_canceled  idx_canceled  \n",
       "0    2011-08-14 14:33:00          3462  \n",
       "1    2010-12-02 10:37:00          8163  \n",
       "2    2010-12-02 10:37:00          8163  \n",
       "3    2010-12-02 10:37:00          8163  \n",
       "4    2011-10-27 13:45:00          8165  \n",
       "..                   ...           ...  \n",
       "842  2011-02-18 16:52:00        378341  \n",
       "843  2011-10-24 13:34:00        378958  \n",
       "844  2010-12-15 16:40:00        381241  \n",
       "845  2010-12-09 14:47:00        381258  \n",
       "846  2011-07-28 11:16:00        382755  \n",
       "\n",
       "[847 rows x 13 columns]"
      ]
     },
     "execution_count": 43,
     "metadata": {},
     "output_type": "execute_result"
    }
   ],
   "source": [
    "dataReturned"
   ]
  },
  {
   "attachments": {},
   "cell_type": "markdown",
   "metadata": {},
   "source": [
    "Returned Invoice yang memiliki waktu yang lebih dahulu dibandingkan Purchase Invoice dapat diasumsikan sebagai kesalahan pencatatan sistem atau pengembalian dengan purchased invoice yang tidak terekam oleh dataset. Dengan jumlah rows yang terpengaruh tidak terlalu banyak sehingga dapat diremove."
   ]
  },
  {
   "cell_type": "code",
   "execution_count": 44,
   "metadata": {},
   "outputs": [],
   "source": [
    "dataIdx.drop(dataReturned.idx_canceled.unique(), inplace=True)"
   ]
  },
  {
   "cell_type": "code",
   "execution_count": 45,
   "metadata": {},
   "outputs": [
    {
     "data": {
      "text/html": [
       "<div>\n",
       "<style scoped>\n",
       "    .dataframe tbody tr th:only-of-type {\n",
       "        vertical-align: middle;\n",
       "    }\n",
       "\n",
       "    .dataframe tbody tr th {\n",
       "        vertical-align: top;\n",
       "    }\n",
       "\n",
       "    .dataframe thead th {\n",
       "        text-align: right;\n",
       "    }\n",
       "</style>\n",
       "<table border=\"1\" class=\"dataframe\">\n",
       "  <thead>\n",
       "    <tr style=\"text-align: right;\">\n",
       "      <th></th>\n",
       "      <th>InvoiceNo</th>\n",
       "      <th>StockCode</th>\n",
       "      <th>Description</th>\n",
       "      <th>Quantity</th>\n",
       "      <th>InvoiceDate</th>\n",
       "      <th>UnitPrice</th>\n",
       "      <th>CustomerID</th>\n",
       "      <th>Country</th>\n",
       "      <th>idx</th>\n",
       "    </tr>\n",
       "  </thead>\n",
       "  <tbody>\n",
       "    <tr>\n",
       "      <th>0</th>\n",
       "      <td>562032</td>\n",
       "      <td>21578</td>\n",
       "      <td>WOODLAND DESIGN  COTTON TOTE BAG</td>\n",
       "      <td>6</td>\n",
       "      <td>2011-08-02 08:48:00</td>\n",
       "      <td>2.25</td>\n",
       "      <td>12347.0</td>\n",
       "      <td>Iceland</td>\n",
       "      <td>0</td>\n",
       "    </tr>\n",
       "    <tr>\n",
       "      <th>1</th>\n",
       "      <td>542237</td>\n",
       "      <td>47559B</td>\n",
       "      <td>TEA TIME OVEN GLOVE</td>\n",
       "      <td>10</td>\n",
       "      <td>2011-01-26 14:30:00</td>\n",
       "      <td>1.25</td>\n",
       "      <td>12347.0</td>\n",
       "      <td>Iceland</td>\n",
       "      <td>1</td>\n",
       "    </tr>\n",
       "    <tr>\n",
       "      <th>2</th>\n",
       "      <td>542237</td>\n",
       "      <td>21154</td>\n",
       "      <td>RED RETROSPOT OVEN GLOVE</td>\n",
       "      <td>10</td>\n",
       "      <td>2011-01-26 14:30:00</td>\n",
       "      <td>1.25</td>\n",
       "      <td>12347.0</td>\n",
       "      <td>Iceland</td>\n",
       "      <td>2</td>\n",
       "    </tr>\n",
       "    <tr>\n",
       "      <th>3</th>\n",
       "      <td>542237</td>\n",
       "      <td>21041</td>\n",
       "      <td>RED RETROSPOT OVEN GLOVE DOUBLE</td>\n",
       "      <td>6</td>\n",
       "      <td>2011-01-26 14:30:00</td>\n",
       "      <td>2.95</td>\n",
       "      <td>12347.0</td>\n",
       "      <td>Iceland</td>\n",
       "      <td>3</td>\n",
       "    </tr>\n",
       "    <tr>\n",
       "      <th>4</th>\n",
       "      <td>542237</td>\n",
       "      <td>21035</td>\n",
       "      <td>SET/2 RED RETROSPOT TEA TOWELS</td>\n",
       "      <td>6</td>\n",
       "      <td>2011-01-26 14:30:00</td>\n",
       "      <td>2.95</td>\n",
       "      <td>12347.0</td>\n",
       "      <td>Iceland</td>\n",
       "      <td>4</td>\n",
       "    </tr>\n",
       "    <tr>\n",
       "      <th>...</th>\n",
       "      <td>...</td>\n",
       "      <td>...</td>\n",
       "      <td>...</td>\n",
       "      <td>...</td>\n",
       "      <td>...</td>\n",
       "      <td>...</td>\n",
       "      <td>...</td>\n",
       "      <td>...</td>\n",
       "      <td>...</td>\n",
       "    </tr>\n",
       "    <tr>\n",
       "      <th>387247</th>\n",
       "      <td>580543</td>\n",
       "      <td>22909</td>\n",
       "      <td>SET OF 20 VINTAGE CHRISTMAS NAPKINS</td>\n",
       "      <td>11</td>\n",
       "      <td>2011-12-05 09:11:00</td>\n",
       "      <td>0.85</td>\n",
       "      <td>18223.0</td>\n",
       "      <td>United Kingdom</td>\n",
       "      <td>387247</td>\n",
       "    </tr>\n",
       "    <tr>\n",
       "      <th>387248</th>\n",
       "      <td>580598</td>\n",
       "      <td>85048</td>\n",
       "      <td>15CM CHRISTMAS GLASS BALL 20 LIGHTS</td>\n",
       "      <td>6</td>\n",
       "      <td>2011-12-05 11:05:00</td>\n",
       "      <td>7.95</td>\n",
       "      <td>17526.0</td>\n",
       "      <td>United Kingdom</td>\n",
       "      <td>387248</td>\n",
       "    </tr>\n",
       "    <tr>\n",
       "      <th>387249</th>\n",
       "      <td>580719</td>\n",
       "      <td>84946</td>\n",
       "      <td>ANTIQUE SILVER T-LIGHT GLASS</td>\n",
       "      <td>69</td>\n",
       "      <td>2011-12-05 16:54:00</td>\n",
       "      <td>1.06</td>\n",
       "      <td>14739.0</td>\n",
       "      <td>United Kingdom</td>\n",
       "      <td>387249</td>\n",
       "    </tr>\n",
       "    <tr>\n",
       "      <th>387250</th>\n",
       "      <td>580978</td>\n",
       "      <td>22107</td>\n",
       "      <td>PIZZA PLATE IN BOX</td>\n",
       "      <td>7</td>\n",
       "      <td>2011-12-06 15:36:00</td>\n",
       "      <td>1.25</td>\n",
       "      <td>13078.0</td>\n",
       "      <td>United Kingdom</td>\n",
       "      <td>387250</td>\n",
       "    </tr>\n",
       "    <tr>\n",
       "      <th>387251</th>\n",
       "      <td>581011</td>\n",
       "      <td>23144</td>\n",
       "      <td>ZINC T-LIGHT HOLDER STARS SMALL</td>\n",
       "      <td>37</td>\n",
       "      <td>2011-12-07 09:22:00</td>\n",
       "      <td>0.83</td>\n",
       "      <td>14397.0</td>\n",
       "      <td>United Kingdom</td>\n",
       "      <td>387251</td>\n",
       "    </tr>\n",
       "  </tbody>\n",
       "</table>\n",
       "<p>387252 rows × 9 columns</p>\n",
       "</div>"
      ],
      "text/plain": [
       "       InvoiceNo StockCode                          Description  Quantity  \\\n",
       "0         562032     21578     WOODLAND DESIGN  COTTON TOTE BAG         6   \n",
       "1         542237    47559B                  TEA TIME OVEN GLOVE        10   \n",
       "2         542237     21154            RED RETROSPOT OVEN GLOVE         10   \n",
       "3         542237     21041      RED RETROSPOT OVEN GLOVE DOUBLE         6   \n",
       "4         542237     21035      SET/2 RED RETROSPOT TEA TOWELS          6   \n",
       "...          ...       ...                                  ...       ...   \n",
       "387247    580543     22909  SET OF 20 VINTAGE CHRISTMAS NAPKINS        11   \n",
       "387248    580598     85048  15CM CHRISTMAS GLASS BALL 20 LIGHTS         6   \n",
       "387249    580719     84946         ANTIQUE SILVER T-LIGHT GLASS        69   \n",
       "387250    580978     22107                   PIZZA PLATE IN BOX         7   \n",
       "387251    581011     23144      ZINC T-LIGHT HOLDER STARS SMALL        37   \n",
       "\n",
       "               InvoiceDate  UnitPrice CustomerID         Country     idx  \n",
       "0      2011-08-02 08:48:00       2.25    12347.0         Iceland       0  \n",
       "1      2011-01-26 14:30:00       1.25    12347.0         Iceland       1  \n",
       "2      2011-01-26 14:30:00       1.25    12347.0         Iceland       2  \n",
       "3      2011-01-26 14:30:00       2.95    12347.0         Iceland       3  \n",
       "4      2011-01-26 14:30:00       2.95    12347.0         Iceland       4  \n",
       "...                    ...        ...        ...             ...     ...  \n",
       "387247 2011-12-05 09:11:00       0.85    18223.0  United Kingdom  387247  \n",
       "387248 2011-12-05 11:05:00       7.95    17526.0  United Kingdom  387248  \n",
       "387249 2011-12-05 16:54:00       1.06    14739.0  United Kingdom  387249  \n",
       "387250 2011-12-06 15:36:00       1.25    13078.0  United Kingdom  387250  \n",
       "387251 2011-12-07 09:22:00       0.83    14397.0  United Kingdom  387251  \n",
       "\n",
       "[387252 rows x 9 columns]"
      ]
     },
     "execution_count": 45,
     "metadata": {},
     "output_type": "execute_result"
    }
   ],
   "source": [
    "dataIdx.reset_index(drop=True, inplace=True)\n",
    "dataIdx['idx'] = dataIdx.index\n",
    "dataIdx"
   ]
  },
  {
   "cell_type": "code",
   "execution_count": 46,
   "metadata": {},
   "outputs": [
    {
     "name": "stdout",
     "output_type": "stream",
     "text": [
      "========================\n",
      "Transaction Items Affected by Returned => 0\n",
      "========================\n",
      "Purchase Unknowns & Return Quantity \t: 0\n"
     ]
    },
    {
     "data": {
      "text/html": [
       "<div>\n",
       "<style scoped>\n",
       "    .dataframe tbody tr th:only-of-type {\n",
       "        vertical-align: middle;\n",
       "    }\n",
       "\n",
       "    .dataframe tbody tr th {\n",
       "        vertical-align: top;\n",
       "    }\n",
       "\n",
       "    .dataframe thead th {\n",
       "        text-align: right;\n",
       "    }\n",
       "</style>\n",
       "<table border=\"1\" class=\"dataframe\">\n",
       "  <thead>\n",
       "    <tr style=\"text-align: right;\">\n",
       "      <th></th>\n",
       "      <th>InvoiceNo_completed</th>\n",
       "      <th>StockCode</th>\n",
       "      <th>Description</th>\n",
       "      <th>Quantity_completed</th>\n",
       "      <th>InvoiceDate_completed</th>\n",
       "      <th>UnitPrice</th>\n",
       "      <th>CustomerID</th>\n",
       "      <th>Country</th>\n",
       "      <th>idx_completed</th>\n",
       "      <th>InvoiceNo_canceled</th>\n",
       "      <th>Quantity_canceled</th>\n",
       "      <th>InvoiceDate_canceled</th>\n",
       "      <th>idx_canceled</th>\n",
       "    </tr>\n",
       "  </thead>\n",
       "  <tbody>\n",
       "  </tbody>\n",
       "</table>\n",
       "</div>"
      ],
      "text/plain": [
       "Empty DataFrame\n",
       "Columns: [InvoiceNo_completed, StockCode, Description, Quantity_completed, InvoiceDate_completed, UnitPrice, CustomerID, Country, idx_completed, InvoiceNo_canceled, Quantity_canceled, InvoiceDate_canceled, idx_canceled]\n",
       "Index: []"
      ]
     },
     "metadata": {},
     "output_type": "display_data"
    },
    {
     "name": "stdout",
     "output_type": "stream",
     "text": [
      "========================\n",
      "Purchase Quantity == Return Quantity \t: 0\n"
     ]
    },
    {
     "data": {
      "text/html": [
       "<div>\n",
       "<style scoped>\n",
       "    .dataframe tbody tr th:only-of-type {\n",
       "        vertical-align: middle;\n",
       "    }\n",
       "\n",
       "    .dataframe tbody tr th {\n",
       "        vertical-align: top;\n",
       "    }\n",
       "\n",
       "    .dataframe thead th {\n",
       "        text-align: right;\n",
       "    }\n",
       "</style>\n",
       "<table border=\"1\" class=\"dataframe\">\n",
       "  <thead>\n",
       "    <tr style=\"text-align: right;\">\n",
       "      <th></th>\n",
       "      <th>InvoiceNo_completed</th>\n",
       "      <th>StockCode</th>\n",
       "      <th>Description</th>\n",
       "      <th>Quantity_completed</th>\n",
       "      <th>InvoiceDate_completed</th>\n",
       "      <th>UnitPrice</th>\n",
       "      <th>CustomerID</th>\n",
       "      <th>Country</th>\n",
       "      <th>idx_completed</th>\n",
       "      <th>InvoiceNo_canceled</th>\n",
       "      <th>Quantity_canceled</th>\n",
       "      <th>InvoiceDate_canceled</th>\n",
       "      <th>idx_canceled</th>\n",
       "    </tr>\n",
       "  </thead>\n",
       "  <tbody>\n",
       "  </tbody>\n",
       "</table>\n",
       "</div>"
      ],
      "text/plain": [
       "Empty DataFrame\n",
       "Columns: [InvoiceNo_completed, StockCode, Description, Quantity_completed, InvoiceDate_completed, UnitPrice, CustomerID, Country, idx_completed, InvoiceNo_canceled, Quantity_canceled, InvoiceDate_canceled, idx_canceled]\n",
       "Index: []"
      ]
     },
     "metadata": {},
     "output_type": "display_data"
    },
    {
     "name": "stdout",
     "output_type": "stream",
     "text": [
      "========================\n",
      "Purchase Quantity > Return Quantity \t: 0\n"
     ]
    },
    {
     "data": {
      "text/html": [
       "<div>\n",
       "<style scoped>\n",
       "    .dataframe tbody tr th:only-of-type {\n",
       "        vertical-align: middle;\n",
       "    }\n",
       "\n",
       "    .dataframe tbody tr th {\n",
       "        vertical-align: top;\n",
       "    }\n",
       "\n",
       "    .dataframe thead th {\n",
       "        text-align: right;\n",
       "    }\n",
       "</style>\n",
       "<table border=\"1\" class=\"dataframe\">\n",
       "  <thead>\n",
       "    <tr style=\"text-align: right;\">\n",
       "      <th></th>\n",
       "      <th>InvoiceNo_completed</th>\n",
       "      <th>StockCode</th>\n",
       "      <th>Description</th>\n",
       "      <th>Quantity_completed</th>\n",
       "      <th>InvoiceDate_completed</th>\n",
       "      <th>UnitPrice</th>\n",
       "      <th>CustomerID</th>\n",
       "      <th>Country</th>\n",
       "      <th>idx_completed</th>\n",
       "      <th>InvoiceNo_canceled</th>\n",
       "      <th>Quantity_canceled</th>\n",
       "      <th>InvoiceDate_canceled</th>\n",
       "      <th>idx_canceled</th>\n",
       "    </tr>\n",
       "  </thead>\n",
       "  <tbody>\n",
       "  </tbody>\n",
       "</table>\n",
       "</div>"
      ],
      "text/plain": [
       "Empty DataFrame\n",
       "Columns: [InvoiceNo_completed, StockCode, Description, Quantity_completed, InvoiceDate_completed, UnitPrice, CustomerID, Country, idx_completed, InvoiceNo_canceled, Quantity_canceled, InvoiceDate_canceled, idx_canceled]\n",
       "Index: []"
      ]
     },
     "metadata": {},
     "output_type": "display_data"
    },
    {
     "name": "stdout",
     "output_type": "stream",
     "text": [
      "========================\n",
      "Purchase Quantity < Return Quantity \t: 0\n"
     ]
    },
    {
     "data": {
      "text/html": [
       "<div>\n",
       "<style scoped>\n",
       "    .dataframe tbody tr th:only-of-type {\n",
       "        vertical-align: middle;\n",
       "    }\n",
       "\n",
       "    .dataframe tbody tr th {\n",
       "        vertical-align: top;\n",
       "    }\n",
       "\n",
       "    .dataframe thead th {\n",
       "        text-align: right;\n",
       "    }\n",
       "</style>\n",
       "<table border=\"1\" class=\"dataframe\">\n",
       "  <thead>\n",
       "    <tr style=\"text-align: right;\">\n",
       "      <th></th>\n",
       "      <th>InvoiceNo_completed</th>\n",
       "      <th>StockCode</th>\n",
       "      <th>Description</th>\n",
       "      <th>Quantity_completed</th>\n",
       "      <th>InvoiceDate_completed</th>\n",
       "      <th>UnitPrice</th>\n",
       "      <th>CustomerID</th>\n",
       "      <th>Country</th>\n",
       "      <th>idx_completed</th>\n",
       "      <th>InvoiceNo_canceled</th>\n",
       "      <th>Quantity_canceled</th>\n",
       "      <th>InvoiceDate_canceled</th>\n",
       "      <th>idx_canceled</th>\n",
       "    </tr>\n",
       "  </thead>\n",
       "  <tbody>\n",
       "  </tbody>\n",
       "</table>\n",
       "</div>"
      ],
      "text/plain": [
       "Empty DataFrame\n",
       "Columns: [InvoiceNo_completed, StockCode, Description, Quantity_completed, InvoiceDate_completed, UnitPrice, CustomerID, Country, idx_completed, InvoiceNo_canceled, Quantity_canceled, InvoiceDate_canceled, idx_canceled]\n",
       "Index: []"
      ]
     },
     "metadata": {},
     "output_type": "display_data"
    }
   ],
   "source": [
    "dataCompleted = dataIdx[dataIdx.Quantity>0]\n",
    "dataCanceled = dataIdx[dataIdx.Quantity<0]\n",
    "dataReturned = pd.merge(dataCompleted, dataCanceled, how='right',\n",
    "                   on=['StockCode', 'Description', 'CustomerID', 'Country', 'UnitPrice'], \n",
    "                   suffixes=['_completed', '_canceled'])\n",
    "# dataReturned\n",
    "dataReturnedQtyUnknown = dataReturned[dataReturned.InvoiceNo_completed.isnull()]                                 \n",
    "dataReturnedQtyEQ = dataReturned[(dataReturned.Quantity_completed == np.abs(dataReturned.Quantity_canceled)) &\n",
    "                                 (dataReturned.InvoiceDate_completed < dataReturned.InvoiceDate_canceled)].reset_index(drop=True)\n",
    "dataReturnedQtyLT = dataReturned[(dataReturned.Quantity_completed > np.abs(dataReturned.Quantity_canceled)) &\n",
    "                                 (dataReturned.InvoiceDate_completed < dataReturned.InvoiceDate_canceled)].reset_index(drop=True)\n",
    "dataReturnedQtyMT = dataReturned[(dataReturned.Quantity_completed < np.abs(dataReturned.Quantity_canceled)) &\n",
    "                                 (dataReturned.InvoiceDate_completed < dataReturned.InvoiceDate_canceled)].reset_index(drop=True)\n",
    "#\n",
    "print(line)\n",
    "print(f'Transaction Items Affected by Returned => {len(dataReturned)}')\n",
    "print(line)\n",
    "print(f'Purchase Unknowns & Return Quantity \\t: {len(dataReturnedQtyUnknown)}')\n",
    "display(dataReturnedQtyUnknown)\n",
    "print(line)\n",
    "print(f'Purchase Quantity == Return Quantity \\t: {len(dataReturnedQtyEQ)}')\n",
    "display(dataReturnedQtyEQ)\n",
    "print(line)\n",
    "print(f'Purchase Quantity > Return Quantity \\t: {len(dataReturnedQtyLT)}')\n",
    "display(dataReturnedQtyLT)\n",
    "print(line)\n",
    "print(f'Purchase Quantity < Return Quantity \\t: {len(dataReturnedQtyMT)}')\n",
    "display(dataReturnedQtyMT)"
   ]
  },
  {
   "cell_type": "code",
   "execution_count": 47,
   "metadata": {},
   "outputs": [],
   "source": [
    "data = dataIdx.drop('idx', axis=1)\n",
    "data.drop_duplicates(inplace=True)\n",
    "data.reset_index(drop=True, inplace=True)"
   ]
  },
  {
   "cell_type": "code",
   "execution_count": 48,
   "metadata": {},
   "outputs": [
    {
     "data": {
      "text/html": [
       "<div>\n",
       "<style scoped>\n",
       "    .dataframe tbody tr th:only-of-type {\n",
       "        vertical-align: middle;\n",
       "    }\n",
       "\n",
       "    .dataframe tbody tr th {\n",
       "        vertical-align: top;\n",
       "    }\n",
       "\n",
       "    .dataframe thead th {\n",
       "        text-align: right;\n",
       "    }\n",
       "</style>\n",
       "<table border=\"1\" class=\"dataframe\">\n",
       "  <thead>\n",
       "    <tr style=\"text-align: right;\">\n",
       "      <th></th>\n",
       "      <th>InvoiceNo</th>\n",
       "      <th>StockCode</th>\n",
       "      <th>Description</th>\n",
       "      <th>Quantity</th>\n",
       "      <th>InvoiceDate</th>\n",
       "      <th>UnitPrice</th>\n",
       "      <th>CustomerID</th>\n",
       "      <th>Country</th>\n",
       "      <th>Revenue</th>\n",
       "    </tr>\n",
       "  </thead>\n",
       "  <tbody>\n",
       "    <tr>\n",
       "      <th>0</th>\n",
       "      <td>562032</td>\n",
       "      <td>21578</td>\n",
       "      <td>WOODLAND DESIGN  COTTON TOTE BAG</td>\n",
       "      <td>6</td>\n",
       "      <td>2011-08-02 08:48:00</td>\n",
       "      <td>2.25</td>\n",
       "      <td>12347.0</td>\n",
       "      <td>Iceland</td>\n",
       "      <td>13.50</td>\n",
       "    </tr>\n",
       "    <tr>\n",
       "      <th>1</th>\n",
       "      <td>542237</td>\n",
       "      <td>47559B</td>\n",
       "      <td>TEA TIME OVEN GLOVE</td>\n",
       "      <td>10</td>\n",
       "      <td>2011-01-26 14:30:00</td>\n",
       "      <td>1.25</td>\n",
       "      <td>12347.0</td>\n",
       "      <td>Iceland</td>\n",
       "      <td>12.50</td>\n",
       "    </tr>\n",
       "    <tr>\n",
       "      <th>2</th>\n",
       "      <td>542237</td>\n",
       "      <td>21154</td>\n",
       "      <td>RED RETROSPOT OVEN GLOVE</td>\n",
       "      <td>10</td>\n",
       "      <td>2011-01-26 14:30:00</td>\n",
       "      <td>1.25</td>\n",
       "      <td>12347.0</td>\n",
       "      <td>Iceland</td>\n",
       "      <td>12.50</td>\n",
       "    </tr>\n",
       "    <tr>\n",
       "      <th>3</th>\n",
       "      <td>542237</td>\n",
       "      <td>21041</td>\n",
       "      <td>RED RETROSPOT OVEN GLOVE DOUBLE</td>\n",
       "      <td>6</td>\n",
       "      <td>2011-01-26 14:30:00</td>\n",
       "      <td>2.95</td>\n",
       "      <td>12347.0</td>\n",
       "      <td>Iceland</td>\n",
       "      <td>17.70</td>\n",
       "    </tr>\n",
       "    <tr>\n",
       "      <th>4</th>\n",
       "      <td>542237</td>\n",
       "      <td>21035</td>\n",
       "      <td>SET/2 RED RETROSPOT TEA TOWELS</td>\n",
       "      <td>6</td>\n",
       "      <td>2011-01-26 14:30:00</td>\n",
       "      <td>2.95</td>\n",
       "      <td>12347.0</td>\n",
       "      <td>Iceland</td>\n",
       "      <td>17.70</td>\n",
       "    </tr>\n",
       "    <tr>\n",
       "      <th>...</th>\n",
       "      <td>...</td>\n",
       "      <td>...</td>\n",
       "      <td>...</td>\n",
       "      <td>...</td>\n",
       "      <td>...</td>\n",
       "      <td>...</td>\n",
       "      <td>...</td>\n",
       "      <td>...</td>\n",
       "      <td>...</td>\n",
       "    </tr>\n",
       "    <tr>\n",
       "      <th>387246</th>\n",
       "      <td>580543</td>\n",
       "      <td>22909</td>\n",
       "      <td>SET OF 20 VINTAGE CHRISTMAS NAPKINS</td>\n",
       "      <td>11</td>\n",
       "      <td>2011-12-05 09:11:00</td>\n",
       "      <td>0.85</td>\n",
       "      <td>18223.0</td>\n",
       "      <td>United Kingdom</td>\n",
       "      <td>9.35</td>\n",
       "    </tr>\n",
       "    <tr>\n",
       "      <th>387247</th>\n",
       "      <td>580598</td>\n",
       "      <td>85048</td>\n",
       "      <td>15CM CHRISTMAS GLASS BALL 20 LIGHTS</td>\n",
       "      <td>6</td>\n",
       "      <td>2011-12-05 11:05:00</td>\n",
       "      <td>7.95</td>\n",
       "      <td>17526.0</td>\n",
       "      <td>United Kingdom</td>\n",
       "      <td>47.70</td>\n",
       "    </tr>\n",
       "    <tr>\n",
       "      <th>387248</th>\n",
       "      <td>580719</td>\n",
       "      <td>84946</td>\n",
       "      <td>ANTIQUE SILVER T-LIGHT GLASS</td>\n",
       "      <td>69</td>\n",
       "      <td>2011-12-05 16:54:00</td>\n",
       "      <td>1.06</td>\n",
       "      <td>14739.0</td>\n",
       "      <td>United Kingdom</td>\n",
       "      <td>73.14</td>\n",
       "    </tr>\n",
       "    <tr>\n",
       "      <th>387249</th>\n",
       "      <td>580978</td>\n",
       "      <td>22107</td>\n",
       "      <td>PIZZA PLATE IN BOX</td>\n",
       "      <td>7</td>\n",
       "      <td>2011-12-06 15:36:00</td>\n",
       "      <td>1.25</td>\n",
       "      <td>13078.0</td>\n",
       "      <td>United Kingdom</td>\n",
       "      <td>8.75</td>\n",
       "    </tr>\n",
       "    <tr>\n",
       "      <th>387250</th>\n",
       "      <td>581011</td>\n",
       "      <td>23144</td>\n",
       "      <td>ZINC T-LIGHT HOLDER STARS SMALL</td>\n",
       "      <td>37</td>\n",
       "      <td>2011-12-07 09:22:00</td>\n",
       "      <td>0.83</td>\n",
       "      <td>14397.0</td>\n",
       "      <td>United Kingdom</td>\n",
       "      <td>30.71</td>\n",
       "    </tr>\n",
       "  </tbody>\n",
       "</table>\n",
       "<p>387251 rows × 9 columns</p>\n",
       "</div>"
      ],
      "text/plain": [
       "       InvoiceNo StockCode                          Description  Quantity  \\\n",
       "0         562032     21578     WOODLAND DESIGN  COTTON TOTE BAG         6   \n",
       "1         542237    47559B                  TEA TIME OVEN GLOVE        10   \n",
       "2         542237     21154            RED RETROSPOT OVEN GLOVE         10   \n",
       "3         542237     21041      RED RETROSPOT OVEN GLOVE DOUBLE         6   \n",
       "4         542237     21035      SET/2 RED RETROSPOT TEA TOWELS          6   \n",
       "...          ...       ...                                  ...       ...   \n",
       "387246    580543     22909  SET OF 20 VINTAGE CHRISTMAS NAPKINS        11   \n",
       "387247    580598     85048  15CM CHRISTMAS GLASS BALL 20 LIGHTS         6   \n",
       "387248    580719     84946         ANTIQUE SILVER T-LIGHT GLASS        69   \n",
       "387249    580978     22107                   PIZZA PLATE IN BOX         7   \n",
       "387250    581011     23144      ZINC T-LIGHT HOLDER STARS SMALL        37   \n",
       "\n",
       "               InvoiceDate  UnitPrice CustomerID         Country  Revenue  \n",
       "0      2011-08-02 08:48:00       2.25    12347.0         Iceland    13.50  \n",
       "1      2011-01-26 14:30:00       1.25    12347.0         Iceland    12.50  \n",
       "2      2011-01-26 14:30:00       1.25    12347.0         Iceland    12.50  \n",
       "3      2011-01-26 14:30:00       2.95    12347.0         Iceland    17.70  \n",
       "4      2011-01-26 14:30:00       2.95    12347.0         Iceland    17.70  \n",
       "...                    ...        ...        ...             ...      ...  \n",
       "387246 2011-12-05 09:11:00       0.85    18223.0  United Kingdom     9.35  \n",
       "387247 2011-12-05 11:05:00       7.95    17526.0  United Kingdom    47.70  \n",
       "387248 2011-12-05 16:54:00       1.06    14739.0  United Kingdom    73.14  \n",
       "387249 2011-12-06 15:36:00       1.25    13078.0  United Kingdom     8.75  \n",
       "387250 2011-12-07 09:22:00       0.83    14397.0  United Kingdom    30.71  \n",
       "\n",
       "[387251 rows x 9 columns]"
      ]
     },
     "execution_count": 48,
     "metadata": {},
     "output_type": "execute_result"
    }
   ],
   "source": [
    "data['Revenue'] = data.UnitPrice * data.Quantity\n",
    "data"
   ]
  },
  {
   "cell_type": "code",
   "execution_count": 49,
   "metadata": {},
   "outputs": [
    {
     "name": "stdout",
     "output_type": "stream",
     "text": [
      "Dimensions\t: (387251, 9)\n",
      "Data Size\t: 145.24 MB\n",
      "Duplicated Data\t: 0\n",
      "========================\n",
      "SUMMARY\n"
     ]
    },
    {
     "data": {
      "text/html": [
       "<div>\n",
       "<style scoped>\n",
       "    .dataframe tbody tr th:only-of-type {\n",
       "        vertical-align: middle;\n",
       "    }\n",
       "\n",
       "    .dataframe tbody tr th {\n",
       "        vertical-align: top;\n",
       "    }\n",
       "\n",
       "    .dataframe thead th {\n",
       "        text-align: right;\n",
       "    }\n",
       "</style>\n",
       "<table border=\"1\" class=\"dataframe\">\n",
       "  <thead>\n",
       "    <tr style=\"text-align: right;\">\n",
       "      <th></th>\n",
       "      <th>dtype</th>\n",
       "      <th>count_of_null</th>\n",
       "      <th>null_ratio</th>\n",
       "      <th>count_of_distinct</th>\n",
       "      <th>distinct_value</th>\n",
       "    </tr>\n",
       "  </thead>\n",
       "  <tbody>\n",
       "    <tr>\n",
       "      <th>InvoiceNo</th>\n",
       "      <td>object</td>\n",
       "      <td>0</td>\n",
       "      <td>0.0</td>\n",
       "      <td>18259</td>\n",
       "      <td>[562032, 542237, 573511, 556201, 549222, 53762...</td>\n",
       "    </tr>\n",
       "    <tr>\n",
       "      <th>StockCode</th>\n",
       "      <td>object</td>\n",
       "      <td>0</td>\n",
       "      <td>0.0</td>\n",
       "      <td>3645</td>\n",
       "      <td>[21578, 47559B, 21154, 21041, 21035, 22423, 84...</td>\n",
       "    </tr>\n",
       "    <tr>\n",
       "      <th>Description</th>\n",
       "      <td>object</td>\n",
       "      <td>0</td>\n",
       "      <td>0.0</td>\n",
       "      <td>3857</td>\n",
       "      <td>[WOODLAND DESIGN  COTTON TOTE BAG, TEA TIME OV...</td>\n",
       "    </tr>\n",
       "    <tr>\n",
       "      <th>Quantity</th>\n",
       "      <td>int64</td>\n",
       "      <td>0</td>\n",
       "      <td>0.0</td>\n",
       "      <td>319</td>\n",
       "      <td>[6, 10, 3, 12, 4, 8, 24, 20, 2, 18, 36, 48, 16...</td>\n",
       "    </tr>\n",
       "    <tr>\n",
       "      <th>InvoiceDate</th>\n",
       "      <td>datetime64[ns]</td>\n",
       "      <td>0</td>\n",
       "      <td>0.0</td>\n",
       "      <td>17039</td>\n",
       "      <td>[2011-08-02T08:48:00.000000000, 2011-01-26T14:...</td>\n",
       "    </tr>\n",
       "    <tr>\n",
       "      <th>UnitPrice</th>\n",
       "      <td>float64</td>\n",
       "      <td>0</td>\n",
       "      <td>0.0</td>\n",
       "      <td>354</td>\n",
       "      <td>[2.25, 1.25, 2.95, 12.75, 4.25, 0.42, 1.65, 3....</td>\n",
       "    </tr>\n",
       "    <tr>\n",
       "      <th>CustomerID</th>\n",
       "      <td>object</td>\n",
       "      <td>0</td>\n",
       "      <td>0.0</td>\n",
       "      <td>4324</td>\n",
       "      <td>[12347.0, 12348.0, 12349.0, 12350.0, 12352.0, ...</td>\n",
       "    </tr>\n",
       "    <tr>\n",
       "      <th>Country</th>\n",
       "      <td>object</td>\n",
       "      <td>0</td>\n",
       "      <td>0.0</td>\n",
       "      <td>37</td>\n",
       "      <td>[Iceland, Finland, Italy, Norway, Bahrain, Spa...</td>\n",
       "    </tr>\n",
       "    <tr>\n",
       "      <th>Revenue</th>\n",
       "      <td>float64</td>\n",
       "      <td>0</td>\n",
       "      <td>0.0</td>\n",
       "      <td>3055</td>\n",
       "      <td>[13.5, 12.5, 17.700000000000003, 38.25, 25.5, ...</td>\n",
       "    </tr>\n",
       "  </tbody>\n",
       "</table>\n",
       "</div>"
      ],
      "text/plain": [
       "                      dtype  count_of_null  null_ratio  count_of_distinct  \\\n",
       "InvoiceNo            object              0         0.0              18259   \n",
       "StockCode            object              0         0.0               3645   \n",
       "Description          object              0         0.0               3857   \n",
       "Quantity              int64              0         0.0                319   \n",
       "InvoiceDate  datetime64[ns]              0         0.0              17039   \n",
       "UnitPrice           float64              0         0.0                354   \n",
       "CustomerID           object              0         0.0               4324   \n",
       "Country              object              0         0.0                 37   \n",
       "Revenue             float64              0         0.0               3055   \n",
       "\n",
       "                                                distinct_value  \n",
       "InvoiceNo    [562032, 542237, 573511, 556201, 549222, 53762...  \n",
       "StockCode    [21578, 47559B, 21154, 21041, 21035, 22423, 84...  \n",
       "Description  [WOODLAND DESIGN  COTTON TOTE BAG, TEA TIME OV...  \n",
       "Quantity     [6, 10, 3, 12, 4, 8, 24, 20, 2, 18, 36, 48, 16...  \n",
       "InvoiceDate  [2011-08-02T08:48:00.000000000, 2011-01-26T14:...  \n",
       "UnitPrice    [2.25, 1.25, 2.95, 12.75, 4.25, 0.42, 1.65, 3....  \n",
       "CustomerID   [12347.0, 12348.0, 12349.0, 12350.0, 12352.0, ...  \n",
       "Country      [Iceland, Finland, Italy, Norway, Bahrain, Spa...  \n",
       "Revenue      [13.5, 12.5, 17.700000000000003, 38.25, 25.5, ...  "
      ]
     },
     "metadata": {},
     "output_type": "display_data"
    }
   ],
   "source": [
    "dataProfile(data)"
   ]
  },
  {
   "cell_type": "code",
   "execution_count": 50,
   "metadata": {},
   "outputs": [
    {
     "name": "stdout",
     "output_type": "stream",
     "text": [
      "Numeric Features\n"
     ]
    },
    {
     "data": {
      "text/html": [
       "<div>\n",
       "<style scoped>\n",
       "    .dataframe tbody tr th:only-of-type {\n",
       "        vertical-align: middle;\n",
       "    }\n",
       "\n",
       "    .dataframe tbody tr th {\n",
       "        vertical-align: top;\n",
       "    }\n",
       "\n",
       "    .dataframe thead th {\n",
       "        text-align: right;\n",
       "    }\n",
       "</style>\n",
       "<table border=\"1\" class=\"dataframe\">\n",
       "  <thead>\n",
       "    <tr style=\"text-align: right;\">\n",
       "      <th></th>\n",
       "      <th>Quantity</th>\n",
       "      <th>UnitPrice</th>\n",
       "      <th>Revenue</th>\n",
       "    </tr>\n",
       "  </thead>\n",
       "  <tbody>\n",
       "    <tr>\n",
       "      <th>count</th>\n",
       "      <td>387251.000000</td>\n",
       "      <td>387251.000000</td>\n",
       "      <td>387251.000000</td>\n",
       "    </tr>\n",
       "    <tr>\n",
       "      <th>mean</th>\n",
       "      <td>12.587084</td>\n",
       "      <td>2.853066</td>\n",
       "      <td>21.320855</td>\n",
       "    </tr>\n",
       "    <tr>\n",
       "      <th>std</th>\n",
       "      <td>41.910438</td>\n",
       "      <td>4.139216</td>\n",
       "      <td>92.231978</td>\n",
       "    </tr>\n",
       "    <tr>\n",
       "      <th>min</th>\n",
       "      <td>1.000000</td>\n",
       "      <td>0.040000</td>\n",
       "      <td>0.060000</td>\n",
       "    </tr>\n",
       "    <tr>\n",
       "      <th>25%</th>\n",
       "      <td>2.000000</td>\n",
       "      <td>1.250000</td>\n",
       "      <td>4.950000</td>\n",
       "    </tr>\n",
       "    <tr>\n",
       "      <th>50%</th>\n",
       "      <td>6.000000</td>\n",
       "      <td>1.930000</td>\n",
       "      <td>11.800000</td>\n",
       "    </tr>\n",
       "    <tr>\n",
       "      <th>75%</th>\n",
       "      <td>12.000000</td>\n",
       "      <td>3.750000</td>\n",
       "      <td>19.800000</td>\n",
       "    </tr>\n",
       "    <tr>\n",
       "      <th>max</th>\n",
       "      <td>4800.000000</td>\n",
       "      <td>649.500000</td>\n",
       "      <td>38970.000000</td>\n",
       "    </tr>\n",
       "  </tbody>\n",
       "</table>\n",
       "</div>"
      ],
      "text/plain": [
       "            Quantity      UnitPrice        Revenue\n",
       "count  387251.000000  387251.000000  387251.000000\n",
       "mean       12.587084       2.853066      21.320855\n",
       "std        41.910438       4.139216      92.231978\n",
       "min         1.000000       0.040000       0.060000\n",
       "25%         2.000000       1.250000       4.950000\n",
       "50%         6.000000       1.930000      11.800000\n",
       "75%        12.000000       3.750000      19.800000\n",
       "max      4800.000000     649.500000   38970.000000"
      ]
     },
     "metadata": {},
     "output_type": "display_data"
    },
    {
     "name": "stdout",
     "output_type": "stream",
     "text": [
      "========================\n",
      "Categoric Features\n"
     ]
    },
    {
     "data": {
      "text/html": [
       "<div>\n",
       "<style scoped>\n",
       "    .dataframe tbody tr th:only-of-type {\n",
       "        vertical-align: middle;\n",
       "    }\n",
       "\n",
       "    .dataframe tbody tr th {\n",
       "        vertical-align: top;\n",
       "    }\n",
       "\n",
       "    .dataframe thead th {\n",
       "        text-align: right;\n",
       "    }\n",
       "</style>\n",
       "<table border=\"1\" class=\"dataframe\">\n",
       "  <thead>\n",
       "    <tr style=\"text-align: right;\">\n",
       "      <th></th>\n",
       "      <th>InvoiceNo</th>\n",
       "      <th>StockCode</th>\n",
       "      <th>Description</th>\n",
       "      <th>CustomerID</th>\n",
       "      <th>Country</th>\n",
       "    </tr>\n",
       "  </thead>\n",
       "  <tbody>\n",
       "    <tr>\n",
       "      <th>count</th>\n",
       "      <td>387251</td>\n",
       "      <td>387251</td>\n",
       "      <td>387251</td>\n",
       "      <td>387251</td>\n",
       "      <td>387251</td>\n",
       "    </tr>\n",
       "    <tr>\n",
       "      <th>unique</th>\n",
       "      <td>18259</td>\n",
       "      <td>3645</td>\n",
       "      <td>3857</td>\n",
       "      <td>4324</td>\n",
       "      <td>37</td>\n",
       "    </tr>\n",
       "    <tr>\n",
       "      <th>top</th>\n",
       "      <td>576339</td>\n",
       "      <td>85123A</td>\n",
       "      <td>WHITE HANGING HEART T-LIGHT HOLDER</td>\n",
       "      <td>17841.0</td>\n",
       "      <td>United Kingdom</td>\n",
       "    </tr>\n",
       "    <tr>\n",
       "      <th>freq</th>\n",
       "      <td>541</td>\n",
       "      <td>2001</td>\n",
       "      <td>1994</td>\n",
       "      <td>7303</td>\n",
       "      <td>345596</td>\n",
       "    </tr>\n",
       "  </tbody>\n",
       "</table>\n",
       "</div>"
      ],
      "text/plain": [
       "       InvoiceNo StockCode                         Description CustomerID  \\\n",
       "count     387251    387251                              387251     387251   \n",
       "unique     18259      3645                                3857       4324   \n",
       "top       576339    85123A  WHITE HANGING HEART T-LIGHT HOLDER    17841.0   \n",
       "freq         541      2001                                1994       7303   \n",
       "\n",
       "               Country  \n",
       "count           387251  \n",
       "unique              37  \n",
       "top     United Kingdom  \n",
       "freq            345596  "
      ]
     },
     "metadata": {},
     "output_type": "display_data"
    }
   ],
   "source": [
    "dataStatistics(data)"
   ]
  },
  {
   "attachments": {},
   "cell_type": "markdown",
   "metadata": {},
   "source": [
    "3651 of products, 18371 of transactions, 4327 of customer"
   ]
  },
  {
   "cell_type": "code",
   "execution_count": 51,
   "metadata": {},
   "outputs": [
    {
     "data": {
      "text/html": [
       "<div>\n",
       "<style scoped>\n",
       "    .dataframe tbody tr th:only-of-type {\n",
       "        vertical-align: middle;\n",
       "    }\n",
       "\n",
       "    .dataframe tbody tr th {\n",
       "        vertical-align: top;\n",
       "    }\n",
       "\n",
       "    .dataframe thead th {\n",
       "        text-align: right;\n",
       "    }\n",
       "</style>\n",
       "<table border=\"1\" class=\"dataframe\">\n",
       "  <thead>\n",
       "    <tr style=\"text-align: right;\">\n",
       "      <th></th>\n",
       "      <th>InvoiceNo</th>\n",
       "      <th>StockCode</th>\n",
       "      <th>Description</th>\n",
       "      <th>Quantity</th>\n",
       "      <th>InvoiceDate</th>\n",
       "      <th>UnitPrice</th>\n",
       "      <th>CustomerID</th>\n",
       "      <th>Country</th>\n",
       "      <th>Revenue</th>\n",
       "    </tr>\n",
       "  </thead>\n",
       "  <tbody>\n",
       "    <tr>\n",
       "      <th>0</th>\n",
       "      <td>562032</td>\n",
       "      <td>21578</td>\n",
       "      <td>WOODLAND DESIGN  COTTON TOTE BAG</td>\n",
       "      <td>6</td>\n",
       "      <td>2011-08-02 08:48:00</td>\n",
       "      <td>2.25</td>\n",
       "      <td>12347.0</td>\n",
       "      <td>Iceland</td>\n",
       "      <td>13.5</td>\n",
       "    </tr>\n",
       "    <tr>\n",
       "      <th>1</th>\n",
       "      <td>542237</td>\n",
       "      <td>47559B</td>\n",
       "      <td>TEA TIME OVEN GLOVE</td>\n",
       "      <td>10</td>\n",
       "      <td>2011-01-26 14:30:00</td>\n",
       "      <td>1.25</td>\n",
       "      <td>12347.0</td>\n",
       "      <td>Iceland</td>\n",
       "      <td>12.5</td>\n",
       "    </tr>\n",
       "    <tr>\n",
       "      <th>2</th>\n",
       "      <td>542237</td>\n",
       "      <td>21154</td>\n",
       "      <td>RED RETROSPOT OVEN GLOVE</td>\n",
       "      <td>10</td>\n",
       "      <td>2011-01-26 14:30:00</td>\n",
       "      <td>1.25</td>\n",
       "      <td>12347.0</td>\n",
       "      <td>Iceland</td>\n",
       "      <td>12.5</td>\n",
       "    </tr>\n",
       "    <tr>\n",
       "      <th>3</th>\n",
       "      <td>542237</td>\n",
       "      <td>21041</td>\n",
       "      <td>RED RETROSPOT OVEN GLOVE DOUBLE</td>\n",
       "      <td>6</td>\n",
       "      <td>2011-01-26 14:30:00</td>\n",
       "      <td>2.95</td>\n",
       "      <td>12347.0</td>\n",
       "      <td>Iceland</td>\n",
       "      <td>17.7</td>\n",
       "    </tr>\n",
       "    <tr>\n",
       "      <th>4</th>\n",
       "      <td>542237</td>\n",
       "      <td>21035</td>\n",
       "      <td>SET/2 RED RETROSPOT TEA TOWELS</td>\n",
       "      <td>6</td>\n",
       "      <td>2011-01-26 14:30:00</td>\n",
       "      <td>2.95</td>\n",
       "      <td>12347.0</td>\n",
       "      <td>Iceland</td>\n",
       "      <td>17.7</td>\n",
       "    </tr>\n",
       "  </tbody>\n",
       "</table>\n",
       "</div>"
      ],
      "text/plain": [
       "  InvoiceNo StockCode                       Description  Quantity  \\\n",
       "0    562032     21578  WOODLAND DESIGN  COTTON TOTE BAG         6   \n",
       "1    542237    47559B               TEA TIME OVEN GLOVE        10   \n",
       "2    542237     21154         RED RETROSPOT OVEN GLOVE         10   \n",
       "3    542237     21041   RED RETROSPOT OVEN GLOVE DOUBLE         6   \n",
       "4    542237     21035   SET/2 RED RETROSPOT TEA TOWELS          6   \n",
       "\n",
       "          InvoiceDate  UnitPrice CustomerID  Country  Revenue  \n",
       "0 2011-08-02 08:48:00       2.25    12347.0  Iceland     13.5  \n",
       "1 2011-01-26 14:30:00       1.25    12347.0  Iceland     12.5  \n",
       "2 2011-01-26 14:30:00       1.25    12347.0  Iceland     12.5  \n",
       "3 2011-01-26 14:30:00       2.95    12347.0  Iceland     17.7  \n",
       "4 2011-01-26 14:30:00       2.95    12347.0  Iceland     17.7  "
      ]
     },
     "execution_count": 51,
     "metadata": {},
     "output_type": "execute_result"
    }
   ],
   "source": [
    "data.head()"
   ]
  },
  {
   "attachments": {},
   "cell_type": "markdown",
   "metadata": {},
   "source": [
    "# **FEATURE ENGINEERING**\n",
    "Kita akan buat beberapa segmentasi berdasarkan produk, negara asal, dan juga pelanggan. Pendekatan yang kita lakukan adalah segmentasi RFM (Recency, Frequency, Monetary) sederhana.\n",
    "\n",
    "Recency = rentang waktu antara waktu pembelian dengan waktu terbaru, karena data yang kita miliki lumayan sudah lama maka kita batasi waktu terkini adalah H+1 dari pembelian terakhir pada data\n",
    "\n",
    "Frequency = Jumlah pembelian, menggunakan kolom Quantity\n",
    "\n",
    "Monetary = Pendapatan yang dihasilkan, menggunakan kolom revenue"
   ]
  },
  {
   "cell_type": "code",
   "execution_count": 52,
   "metadata": {},
   "outputs": [],
   "source": [
    "data = data.copy()"
   ]
  },
  {
   "cell_type": "code",
   "execution_count": 53,
   "metadata": {},
   "outputs": [
    {
     "data": {
      "text/plain": [
       "Timestamp('2011-12-09 12:50:00')"
      ]
     },
     "metadata": {},
     "output_type": "display_data"
    },
    {
     "data": {
      "text/plain": [
       "Timestamp('2011-12-10 23:59:59')"
      ]
     },
     "execution_count": 53,
     "metadata": {},
     "output_type": "execute_result"
    }
   ],
   "source": [
    "# H+1 setelah pembelian terakhir untuk recency\n",
    "display(data.InvoiceDate.max())\n",
    "recentTime = data.InvoiceDate.max() + pd.Timedelta(days=1)\n",
    "recentTime = recentTime.replace(hour=23, minute=59, second=59)\n",
    "recentTime"
   ]
  },
  {
   "cell_type": "code",
   "execution_count": 54,
   "metadata": {},
   "outputs": [
    {
     "data": {
      "text/html": [
       "<div>\n",
       "<style scoped>\n",
       "    .dataframe tbody tr th:only-of-type {\n",
       "        vertical-align: middle;\n",
       "    }\n",
       "\n",
       "    .dataframe tbody tr th {\n",
       "        vertical-align: top;\n",
       "    }\n",
       "\n",
       "    .dataframe thead th {\n",
       "        text-align: right;\n",
       "    }\n",
       "</style>\n",
       "<table border=\"1\" class=\"dataframe\">\n",
       "  <thead>\n",
       "    <tr style=\"text-align: right;\">\n",
       "      <th></th>\n",
       "      <th>InvoiceNo</th>\n",
       "      <th>StockCode</th>\n",
       "      <th>Description</th>\n",
       "      <th>Quantity</th>\n",
       "      <th>InvoiceDate</th>\n",
       "      <th>UnitPrice</th>\n",
       "      <th>CustomerID</th>\n",
       "      <th>Country</th>\n",
       "      <th>Revenue</th>\n",
       "      <th>Gap</th>\n",
       "      <th>Recency</th>\n",
       "    </tr>\n",
       "  </thead>\n",
       "  <tbody>\n",
       "    <tr>\n",
       "      <th>0</th>\n",
       "      <td>562032</td>\n",
       "      <td>21578</td>\n",
       "      <td>WOODLAND DESIGN  COTTON TOTE BAG</td>\n",
       "      <td>6</td>\n",
       "      <td>2011-08-02 08:48:00</td>\n",
       "      <td>2.25</td>\n",
       "      <td>12347.0</td>\n",
       "      <td>Iceland</td>\n",
       "      <td>13.50</td>\n",
       "      <td>130 days 15:11:59</td>\n",
       "      <td>130</td>\n",
       "    </tr>\n",
       "    <tr>\n",
       "      <th>1</th>\n",
       "      <td>542237</td>\n",
       "      <td>47559B</td>\n",
       "      <td>TEA TIME OVEN GLOVE</td>\n",
       "      <td>10</td>\n",
       "      <td>2011-01-26 14:30:00</td>\n",
       "      <td>1.25</td>\n",
       "      <td>12347.0</td>\n",
       "      <td>Iceland</td>\n",
       "      <td>12.50</td>\n",
       "      <td>318 days 09:29:59</td>\n",
       "      <td>318</td>\n",
       "    </tr>\n",
       "    <tr>\n",
       "      <th>2</th>\n",
       "      <td>542237</td>\n",
       "      <td>21154</td>\n",
       "      <td>RED RETROSPOT OVEN GLOVE</td>\n",
       "      <td>10</td>\n",
       "      <td>2011-01-26 14:30:00</td>\n",
       "      <td>1.25</td>\n",
       "      <td>12347.0</td>\n",
       "      <td>Iceland</td>\n",
       "      <td>12.50</td>\n",
       "      <td>318 days 09:29:59</td>\n",
       "      <td>318</td>\n",
       "    </tr>\n",
       "    <tr>\n",
       "      <th>3</th>\n",
       "      <td>542237</td>\n",
       "      <td>21041</td>\n",
       "      <td>RED RETROSPOT OVEN GLOVE DOUBLE</td>\n",
       "      <td>6</td>\n",
       "      <td>2011-01-26 14:30:00</td>\n",
       "      <td>2.95</td>\n",
       "      <td>12347.0</td>\n",
       "      <td>Iceland</td>\n",
       "      <td>17.70</td>\n",
       "      <td>318 days 09:29:59</td>\n",
       "      <td>318</td>\n",
       "    </tr>\n",
       "    <tr>\n",
       "      <th>4</th>\n",
       "      <td>542237</td>\n",
       "      <td>21035</td>\n",
       "      <td>SET/2 RED RETROSPOT TEA TOWELS</td>\n",
       "      <td>6</td>\n",
       "      <td>2011-01-26 14:30:00</td>\n",
       "      <td>2.95</td>\n",
       "      <td>12347.0</td>\n",
       "      <td>Iceland</td>\n",
       "      <td>17.70</td>\n",
       "      <td>318 days 09:29:59</td>\n",
       "      <td>318</td>\n",
       "    </tr>\n",
       "    <tr>\n",
       "      <th>...</th>\n",
       "      <td>...</td>\n",
       "      <td>...</td>\n",
       "      <td>...</td>\n",
       "      <td>...</td>\n",
       "      <td>...</td>\n",
       "      <td>...</td>\n",
       "      <td>...</td>\n",
       "      <td>...</td>\n",
       "      <td>...</td>\n",
       "      <td>...</td>\n",
       "      <td>...</td>\n",
       "    </tr>\n",
       "    <tr>\n",
       "      <th>387246</th>\n",
       "      <td>580543</td>\n",
       "      <td>22909</td>\n",
       "      <td>SET OF 20 VINTAGE CHRISTMAS NAPKINS</td>\n",
       "      <td>11</td>\n",
       "      <td>2011-12-05 09:11:00</td>\n",
       "      <td>0.85</td>\n",
       "      <td>18223.0</td>\n",
       "      <td>United Kingdom</td>\n",
       "      <td>9.35</td>\n",
       "      <td>5 days 14:48:59</td>\n",
       "      <td>5</td>\n",
       "    </tr>\n",
       "    <tr>\n",
       "      <th>387247</th>\n",
       "      <td>580598</td>\n",
       "      <td>85048</td>\n",
       "      <td>15CM CHRISTMAS GLASS BALL 20 LIGHTS</td>\n",
       "      <td>6</td>\n",
       "      <td>2011-12-05 11:05:00</td>\n",
       "      <td>7.95</td>\n",
       "      <td>17526.0</td>\n",
       "      <td>United Kingdom</td>\n",
       "      <td>47.70</td>\n",
       "      <td>5 days 12:54:59</td>\n",
       "      <td>5</td>\n",
       "    </tr>\n",
       "    <tr>\n",
       "      <th>387248</th>\n",
       "      <td>580719</td>\n",
       "      <td>84946</td>\n",
       "      <td>ANTIQUE SILVER T-LIGHT GLASS</td>\n",
       "      <td>69</td>\n",
       "      <td>2011-12-05 16:54:00</td>\n",
       "      <td>1.06</td>\n",
       "      <td>14739.0</td>\n",
       "      <td>United Kingdom</td>\n",
       "      <td>73.14</td>\n",
       "      <td>5 days 07:05:59</td>\n",
       "      <td>5</td>\n",
       "    </tr>\n",
       "    <tr>\n",
       "      <th>387249</th>\n",
       "      <td>580978</td>\n",
       "      <td>22107</td>\n",
       "      <td>PIZZA PLATE IN BOX</td>\n",
       "      <td>7</td>\n",
       "      <td>2011-12-06 15:36:00</td>\n",
       "      <td>1.25</td>\n",
       "      <td>13078.0</td>\n",
       "      <td>United Kingdom</td>\n",
       "      <td>8.75</td>\n",
       "      <td>4 days 08:23:59</td>\n",
       "      <td>4</td>\n",
       "    </tr>\n",
       "    <tr>\n",
       "      <th>387250</th>\n",
       "      <td>581011</td>\n",
       "      <td>23144</td>\n",
       "      <td>ZINC T-LIGHT HOLDER STARS SMALL</td>\n",
       "      <td>37</td>\n",
       "      <td>2011-12-07 09:22:00</td>\n",
       "      <td>0.83</td>\n",
       "      <td>14397.0</td>\n",
       "      <td>United Kingdom</td>\n",
       "      <td>30.71</td>\n",
       "      <td>3 days 14:37:59</td>\n",
       "      <td>3</td>\n",
       "    </tr>\n",
       "  </tbody>\n",
       "</table>\n",
       "<p>387251 rows × 11 columns</p>\n",
       "</div>"
      ],
      "text/plain": [
       "       InvoiceNo StockCode                          Description  Quantity  \\\n",
       "0         562032     21578     WOODLAND DESIGN  COTTON TOTE BAG         6   \n",
       "1         542237    47559B                  TEA TIME OVEN GLOVE        10   \n",
       "2         542237     21154            RED RETROSPOT OVEN GLOVE         10   \n",
       "3         542237     21041      RED RETROSPOT OVEN GLOVE DOUBLE         6   \n",
       "4         542237     21035      SET/2 RED RETROSPOT TEA TOWELS          6   \n",
       "...          ...       ...                                  ...       ...   \n",
       "387246    580543     22909  SET OF 20 VINTAGE CHRISTMAS NAPKINS        11   \n",
       "387247    580598     85048  15CM CHRISTMAS GLASS BALL 20 LIGHTS         6   \n",
       "387248    580719     84946         ANTIQUE SILVER T-LIGHT GLASS        69   \n",
       "387249    580978     22107                   PIZZA PLATE IN BOX         7   \n",
       "387250    581011     23144      ZINC T-LIGHT HOLDER STARS SMALL        37   \n",
       "\n",
       "               InvoiceDate  UnitPrice CustomerID         Country  Revenue  \\\n",
       "0      2011-08-02 08:48:00       2.25    12347.0         Iceland    13.50   \n",
       "1      2011-01-26 14:30:00       1.25    12347.0         Iceland    12.50   \n",
       "2      2011-01-26 14:30:00       1.25    12347.0         Iceland    12.50   \n",
       "3      2011-01-26 14:30:00       2.95    12347.0         Iceland    17.70   \n",
       "4      2011-01-26 14:30:00       2.95    12347.0         Iceland    17.70   \n",
       "...                    ...        ...        ...             ...      ...   \n",
       "387246 2011-12-05 09:11:00       0.85    18223.0  United Kingdom     9.35   \n",
       "387247 2011-12-05 11:05:00       7.95    17526.0  United Kingdom    47.70   \n",
       "387248 2011-12-05 16:54:00       1.06    14739.0  United Kingdom    73.14   \n",
       "387249 2011-12-06 15:36:00       1.25    13078.0  United Kingdom     8.75   \n",
       "387250 2011-12-07 09:22:00       0.83    14397.0  United Kingdom    30.71   \n",
       "\n",
       "                     Gap  Recency  \n",
       "0      130 days 15:11:59      130  \n",
       "1      318 days 09:29:59      318  \n",
       "2      318 days 09:29:59      318  \n",
       "3      318 days 09:29:59      318  \n",
       "4      318 days 09:29:59      318  \n",
       "...                  ...      ...  \n",
       "387246   5 days 14:48:59        5  \n",
       "387247   5 days 12:54:59        5  \n",
       "387248   5 days 07:05:59        5  \n",
       "387249   4 days 08:23:59        4  \n",
       "387250   3 days 14:37:59        3  \n",
       "\n",
       "[387251 rows x 11 columns]"
      ]
     },
     "execution_count": 54,
     "metadata": {},
     "output_type": "execute_result"
    }
   ],
   "source": [
    "data['Gap'] = recentTime - data.InvoiceDate\n",
    "data['Recency'] = data.Gap.dt.days\n",
    "data"
   ]
  },
  {
   "attachments": {},
   "cell_type": "markdown",
   "metadata": {},
   "source": [
    "# **EDA**"
   ]
  },
  {
   "cell_type": "code",
   "execution_count": 55,
   "metadata": {},
   "outputs": [],
   "source": [
    "import plotly.express as px\n",
    "import plotly.graph_objects as go\n",
    "from plotly.subplots import make_subplots\n",
    "import matplotlib.pyplot as plt\n",
    "import seaborn as sns\n",
    "%matplotlib inline\n",
    "\n",
    "color1 = 'xkcd:rosy pink'\n",
    "color2 = 'xkcd:pale red'\n",
    "\n",
    "sns.set(rc={'figure.figsize': (16, 9)})\n",
    "sns.set_context(\"notebook\")"
   ]
  },
  {
   "attachments": {},
   "cell_type": "markdown",
   "metadata": {},
   "source": [
    "## **Top Products**"
   ]
  },
  {
   "cell_type": "code",
   "execution_count": 56,
   "metadata": {},
   "outputs": [
    {
     "data": {
      "application/vnd.plotly.v1+json": {
       "config": {
        "plotlyServerURL": "https://plot.ly"
       },
       "data": [
        {
         "alignmentgroup": "True",
         "customdata": [
          [
           "22423",
           11450
          ]
         ],
         "hovertemplate": "Description=%{y}<br>Revenue=%{x}<br>StockCode=%{customdata[0]}<br>Quantity=%{customdata[1]}<extra></extra>",
         "legendgroup": "REGENCY CAKESTAND 3 TIER",
         "marker": {
          "color": "crimson",
          "pattern": {
           "shape": ""
          }
         },
         "name": "REGENCY CAKESTAND 3 TIER",
         "offsetgroup": "REGENCY CAKESTAND 3 TIER",
         "orientation": "h",
         "showlegend": true,
         "textposition": "auto",
         "texttemplate": "%{x:.4s}",
         "type": "bar",
         "x": [
          131804.94999999998
         ],
         "xaxis": "x",
         "y": [
          "REGENCY CAKESTAND 3 TIER"
         ],
         "yaxis": "y"
        },
        {
         "alignmentgroup": "True",
         "customdata": [
          [
           "85123A",
           34069
          ]
         ],
         "hovertemplate": "Description=%{y}<br>Revenue=%{x}<br>StockCode=%{customdata[0]}<br>Quantity=%{customdata[1]}<extra></extra>",
         "legendgroup": "WHITE HANGING HEART T-LIGHT HOLDER",
         "marker": {
          "color": "crimson",
          "pattern": {
           "shape": ""
          }
         },
         "name": "WHITE HANGING HEART T-LIGHT HOLDER",
         "offsetgroup": "WHITE HANGING HEART T-LIGHT HOLDER",
         "orientation": "h",
         "showlegend": true,
         "textposition": "auto",
         "texttemplate": "%{x:.4s}",
         "type": "bar",
         "x": [
          93592.15
         ],
         "xaxis": "x",
         "y": [
          "WHITE HANGING HEART T-LIGHT HOLDER"
         ],
         "yaxis": "y"
        },
        {
         "alignmentgroup": "True",
         "customdata": [
          [
           "85099B",
           43986
          ]
         ],
         "hovertemplate": "Description=%{y}<br>Revenue=%{x}<br>StockCode=%{customdata[0]}<br>Quantity=%{customdata[1]}<extra></extra>",
         "legendgroup": "JUMBO BAG RED RETROSPOT",
         "marker": {
          "color": "crimson",
          "pattern": {
           "shape": ""
          }
         },
         "name": "JUMBO BAG RED RETROSPOT",
         "offsetgroup": "JUMBO BAG RED RETROSPOT",
         "orientation": "h",
         "showlegend": true,
         "textposition": "auto",
         "texttemplate": "%{x:.4s}",
         "type": "bar",
         "x": [
          81323.62
         ],
         "xaxis": "x",
         "y": [
          "JUMBO BAG RED RETROSPOT"
         ],
         "yaxis": "y"
        },
        {
         "alignmentgroup": "True",
         "customdata": [
          [
           "47566",
           14903
          ]
         ],
         "hovertemplate": "Description=%{y}<br>Revenue=%{x}<br>StockCode=%{customdata[0]}<br>Quantity=%{customdata[1]}<extra></extra>",
         "legendgroup": "PARTY BUNTING",
         "marker": {
          "color": "lightslategray",
          "pattern": {
           "shape": ""
          }
         },
         "name": "PARTY BUNTING",
         "offsetgroup": "PARTY BUNTING",
         "orientation": "h",
         "showlegend": true,
         "textposition": "auto",
         "texttemplate": "%{x:.4s}",
         "type": "bar",
         "x": [
          67149.63
         ],
         "xaxis": "x",
         "y": [
          "PARTY BUNTING"
         ],
         "yaxis": "y"
        },
        {
         "alignmentgroup": "True",
         "customdata": [
          [
           "84879",
           35192
          ]
         ],
         "hovertemplate": "Description=%{y}<br>Revenue=%{x}<br>StockCode=%{customdata[0]}<br>Quantity=%{customdata[1]}<extra></extra>",
         "legendgroup": "ASSORTED COLOUR BIRD ORNAMENT",
         "marker": {
          "color": "lightslategray",
          "pattern": {
           "shape": ""
          }
         },
         "name": "ASSORTED COLOUR BIRD ORNAMENT",
         "offsetgroup": "ASSORTED COLOUR BIRD ORNAMENT",
         "orientation": "h",
         "showlegend": true,
         "textposition": "auto",
         "texttemplate": "%{x:.4s}",
         "type": "bar",
         "x": [
          56293.04
         ],
         "xaxis": "x",
         "y": [
          "ASSORTED COLOUR BIRD ORNAMENT"
         ],
         "yaxis": "y"
        },
        {
         "alignmentgroup": "True",
         "customdata": [
          [
           "23084",
           27020
          ]
         ],
         "hovertemplate": "Description=%{y}<br>Revenue=%{x}<br>StockCode=%{customdata[0]}<br>Quantity=%{customdata[1]}<extra></extra>",
         "legendgroup": "RABBIT NIGHT LIGHT",
         "marker": {
          "color": "lightslategray",
          "pattern": {
           "shape": ""
          }
         },
         "name": "RABBIT NIGHT LIGHT",
         "offsetgroup": "RABBIT NIGHT LIGHT",
         "orientation": "h",
         "showlegend": true,
         "textposition": "auto",
         "texttemplate": "%{x:.4s}",
         "type": "bar",
         "x": [
          50990.840000000004
         ],
         "xaxis": "x",
         "y": [
          "RABBIT NIGHT LIGHT"
         ],
         "yaxis": "y"
        },
        {
         "alignmentgroup": "True",
         "customdata": [
          [
           "79321",
           9554
          ]
         ],
         "hovertemplate": "Description=%{y}<br>Revenue=%{x}<br>StockCode=%{customdata[0]}<br>Quantity=%{customdata[1]}<extra></extra>",
         "legendgroup": "CHILLI LIGHTS",
         "marker": {
          "color": "lightslategray",
          "pattern": {
           "shape": ""
          }
         },
         "name": "CHILLI LIGHTS",
         "offsetgroup": "CHILLI LIGHTS",
         "orientation": "h",
         "showlegend": true,
         "textposition": "auto",
         "texttemplate": "%{x:.4s}",
         "type": "bar",
         "x": [
          45846.41
         ],
         "xaxis": "x",
         "y": [
          "CHILLI LIGHTS"
         ],
         "yaxis": "y"
        },
        {
         "alignmentgroup": "True",
         "customdata": [
          [
           "22086",
           14983
          ]
         ],
         "hovertemplate": "Description=%{y}<br>Revenue=%{x}<br>StockCode=%{customdata[0]}<br>Quantity=%{customdata[1]}<extra></extra>",
         "legendgroup": "PAPER CHAIN KIT 50'S CHRISTMAS ",
         "marker": {
          "color": "lightslategray",
          "pattern": {
           "shape": ""
          }
         },
         "name": "PAPER CHAIN KIT 50'S CHRISTMAS ",
         "offsetgroup": "PAPER CHAIN KIT 50'S CHRISTMAS ",
         "orientation": "h",
         "showlegend": true,
         "textposition": "auto",
         "texttemplate": "%{x:.4s}",
         "type": "bar",
         "x": [
          41030.53
         ],
         "xaxis": "x",
         "y": [
          "PAPER CHAIN KIT 50'S CHRISTMAS "
         ],
         "yaxis": "y"
        },
        {
         "alignmentgroup": "True",
         "customdata": [
          [
           "22502",
           61
          ]
         ],
         "hovertemplate": "Description=%{y}<br>Revenue=%{x}<br>StockCode=%{customdata[0]}<br>Quantity=%{customdata[1]}<extra></extra>",
         "legendgroup": "PICNIC BASKET WICKER 60 PIECES",
         "marker": {
          "color": "lightslategray",
          "pattern": {
           "shape": ""
          }
         },
         "name": "PICNIC BASKET WICKER 60 PIECES",
         "offsetgroup": "PICNIC BASKET WICKER 60 PIECES",
         "orientation": "h",
         "showlegend": true,
         "textposition": "auto",
         "texttemplate": "%{x:.4s}",
         "type": "bar",
         "x": [
          39619.5
         ],
         "xaxis": "x",
         "y": [
          "PICNIC BASKET WICKER 60 PIECES"
         ],
         "yaxis": "y"
        },
        {
         "alignmentgroup": "True",
         "customdata": [
          [
           "21137",
           11376
          ]
         ],
         "hovertemplate": "Description=%{y}<br>Revenue=%{x}<br>StockCode=%{customdata[0]}<br>Quantity=%{customdata[1]}<extra></extra>",
         "legendgroup": "BLACK RECORD COVER FRAME",
         "marker": {
          "color": "lightslategray",
          "pattern": {
           "shape": ""
          }
         },
         "name": "BLACK RECORD COVER FRAME",
         "offsetgroup": "BLACK RECORD COVER FRAME",
         "orientation": "h",
         "showlegend": true,
         "textposition": "auto",
         "texttemplate": "%{x:.4s}",
         "type": "bar",
         "x": [
          38952.41
         ],
         "xaxis": "x",
         "y": [
          "BLACK RECORD COVER FRAME"
         ],
         "yaxis": "y"
        },
        {
         "alignmentgroup": "True",
         "customdata": [
          [
           "23298",
           7609
          ]
         ],
         "hovertemplate": "Description=%{y}<br>Revenue=%{x}<br>StockCode=%{customdata[0]}<br>Quantity=%{customdata[1]}<extra></extra>",
         "legendgroup": "SPOTTY BUNTING",
         "marker": {
          "color": "lightslategray",
          "pattern": {
           "shape": ""
          }
         },
         "name": "SPOTTY BUNTING",
         "offsetgroup": "SPOTTY BUNTING",
         "orientation": "h",
         "showlegend": true,
         "textposition": "auto",
         "texttemplate": "%{x:.4s}",
         "type": "bar",
         "x": [
          35393.15
         ],
         "xaxis": "x",
         "y": [
          "SPOTTY BUNTING"
         ],
         "yaxis": "y"
        },
        {
         "alignmentgroup": "True",
         "customdata": [
          [
           "22386",
           18994
          ]
         ],
         "hovertemplate": "Description=%{y}<br>Revenue=%{x}<br>StockCode=%{customdata[0]}<br>Quantity=%{customdata[1]}<extra></extra>",
         "legendgroup": "JUMBO BAG PINK POLKADOT",
         "marker": {
          "color": "lightslategray",
          "pattern": {
           "shape": ""
          }
         },
         "name": "JUMBO BAG PINK POLKADOT",
         "offsetgroup": "JUMBO BAG PINK POLKADOT",
         "orientation": "h",
         "showlegend": true,
         "textposition": "auto",
         "texttemplate": "%{x:.4s}",
         "type": "bar",
         "x": [
          35208.68
         ],
         "xaxis": "x",
         "y": [
          "JUMBO BAG PINK POLKADOT"
         ],
         "yaxis": "y"
        },
        {
         "alignmentgroup": "True",
         "customdata": [
          [
           "82484",
           5903
          ]
         ],
         "hovertemplate": "Description=%{y}<br>Revenue=%{x}<br>StockCode=%{customdata[0]}<br>Quantity=%{customdata[1]}<extra></extra>",
         "legendgroup": "WOOD BLACK BOARD ANT WHITE FINISH",
         "marker": {
          "color": "lightslategray",
          "pattern": {
           "shape": ""
          }
         },
         "name": "WOOD BLACK BOARD ANT WHITE FINISH",
         "offsetgroup": "WOOD BLACK BOARD ANT WHITE FINISH",
         "orientation": "h",
         "showlegend": true,
         "textposition": "auto",
         "texttemplate": "%{x:.4s}",
         "type": "bar",
         "x": [
          34340.61
         ],
         "xaxis": "x",
         "y": [
          "WOOD BLACK BOARD ANT WHITE FINISH"
         ],
         "yaxis": "y"
        },
        {
         "alignmentgroup": "True",
         "customdata": [
          [
           "23284",
           5113
          ]
         ],
         "hovertemplate": "Description=%{y}<br>Revenue=%{x}<br>StockCode=%{customdata[0]}<br>Quantity=%{customdata[1]}<extra></extra>",
         "legendgroup": "DOORMAT KEEP CALM AND COME IN",
         "marker": {
          "color": "lightslategray",
          "pattern": {
           "shape": ""
          }
         },
         "name": "DOORMAT KEEP CALM AND COME IN",
         "offsetgroup": "DOORMAT KEEP CALM AND COME IN",
         "orientation": "h",
         "showlegend": true,
         "textposition": "auto",
         "texttemplate": "%{x:.4s}",
         "type": "bar",
         "x": [
          34279.6
         ],
         "xaxis": "x",
         "y": [
          "DOORMAT KEEP CALM AND COME IN"
         ],
         "yaxis": "y"
        },
        {
         "alignmentgroup": "True",
         "customdata": [
          [
           "22720",
           6854
          ]
         ],
         "hovertemplate": "Description=%{y}<br>Revenue=%{x}<br>StockCode=%{customdata[0]}<br>Quantity=%{customdata[1]}<extra></extra>",
         "legendgroup": "SET OF 3 CAKE TINS PANTRY DESIGN ",
         "marker": {
          "color": "lightslategray",
          "pattern": {
           "shape": ""
          }
         },
         "name": "SET OF 3 CAKE TINS PANTRY DESIGN ",
         "offsetgroup": "SET OF 3 CAKE TINS PANTRY DESIGN ",
         "orientation": "h",
         "showlegend": true,
         "textposition": "auto",
         "texttemplate": "%{x:.4s}",
         "type": "bar",
         "x": [
          32556.9
         ],
         "xaxis": "x",
         "y": [
          "SET OF 3 CAKE TINS PANTRY DESIGN "
         ],
         "yaxis": "y"
        },
        {
         "alignmentgroup": "True",
         "customdata": [
          [
           "22960",
           7889
          ]
         ],
         "hovertemplate": "Description=%{y}<br>Revenue=%{x}<br>StockCode=%{customdata[0]}<br>Quantity=%{customdata[1]}<extra></extra>",
         "legendgroup": "JAM MAKING SET WITH JARS",
         "marker": {
          "color": "lightslategray",
          "pattern": {
           "shape": ""
          }
         },
         "name": "JAM MAKING SET WITH JARS",
         "offsetgroup": "JAM MAKING SET WITH JARS",
         "orientation": "h",
         "showlegend": true,
         "textposition": "auto",
         "texttemplate": "%{x:.4s}",
         "type": "bar",
         "x": [
          31600.97
         ],
         "xaxis": "x",
         "y": [
          "JAM MAKING SET WITH JARS"
         ],
         "yaxis": "y"
        },
        {
         "alignmentgroup": "True",
         "customdata": [
          [
           "85099F",
           15733
          ]
         ],
         "hovertemplate": "Description=%{y}<br>Revenue=%{x}<br>StockCode=%{customdata[0]}<br>Quantity=%{customdata[1]}<extra></extra>",
         "legendgroup": "JUMBO BAG STRAWBERRY",
         "marker": {
          "color": "lightslategray",
          "pattern": {
           "shape": ""
          }
         },
         "name": "JUMBO BAG STRAWBERRY",
         "offsetgroup": "JUMBO BAG STRAWBERRY",
         "orientation": "h",
         "showlegend": true,
         "textposition": "auto",
         "texttemplate": "%{x:.4s}",
         "type": "bar",
         "x": [
          28752.93
         ],
         "xaxis": "x",
         "y": [
          "JUMBO BAG STRAWBERRY"
         ],
         "yaxis": "y"
        },
        {
         "alignmentgroup": "True",
         "customdata": [
          [
           "22178",
           22118
          ]
         ],
         "hovertemplate": "Description=%{y}<br>Revenue=%{x}<br>StockCode=%{customdata[0]}<br>Quantity=%{customdata[1]}<extra></extra>",
         "legendgroup": "VICTORIAN GLASS HANGING T-LIGHT",
         "marker": {
          "color": "lightslategray",
          "pattern": {
           "shape": ""
          }
         },
         "name": "VICTORIAN GLASS HANGING T-LIGHT",
         "offsetgroup": "VICTORIAN GLASS HANGING T-LIGHT",
         "orientation": "h",
         "showlegend": true,
         "textposition": "auto",
         "texttemplate": "%{x:.4s}",
         "type": "bar",
         "x": [
          28380.489999999998
         ],
         "xaxis": "x",
         "y": [
          "VICTORIAN GLASS HANGING T-LIGHT"
         ],
         "yaxis": "y"
        },
        {
         "alignmentgroup": "True",
         "customdata": [
          [
           "22470",
           9544
          ]
         ],
         "hovertemplate": "Description=%{y}<br>Revenue=%{x}<br>StockCode=%{customdata[0]}<br>Quantity=%{customdata[1]}<extra></extra>",
         "legendgroup": "HEART OF WICKER LARGE",
         "marker": {
          "color": "lightslategray",
          "pattern": {
           "shape": ""
          }
         },
         "name": "HEART OF WICKER LARGE",
         "offsetgroup": "HEART OF WICKER LARGE",
         "orientation": "h",
         "showlegend": true,
         "textposition": "auto",
         "texttemplate": "%{x:.4s}",
         "type": "bar",
         "x": [
          28379.800000000003
         ],
         "xaxis": "x",
         "y": [
          "HEART OF WICKER LARGE"
         ],
         "yaxis": "y"
        },
        {
         "alignmentgroup": "True",
         "customdata": [
          [
           "22469",
           16655
          ]
         ],
         "hovertemplate": "Description=%{y}<br>Revenue=%{x}<br>StockCode=%{customdata[0]}<br>Quantity=%{customdata[1]}<extra></extra>",
         "legendgroup": "HEART OF WICKER SMALL",
         "marker": {
          "color": "lightslategray",
          "pattern": {
           "shape": ""
          }
         },
         "name": "HEART OF WICKER SMALL",
         "offsetgroup": "HEART OF WICKER SMALL",
         "orientation": "h",
         "showlegend": true,
         "textposition": "auto",
         "texttemplate": "%{x:.4s}",
         "type": "bar",
         "x": [
          28045.239999999998
         ],
         "xaxis": "x",
         "y": [
          "HEART OF WICKER SMALL"
         ],
         "yaxis": "y"
        }
       ],
       "layout": {
        "barmode": "relative",
        "height": 800,
        "legend": {
         "title": {
          "text": "Description"
         },
         "tracegroupgap": 0
        },
        "showlegend": false,
        "template": {
         "data": {
          "bar": [
           {
            "error_x": {
             "color": "#2a3f5f"
            },
            "error_y": {
             "color": "#2a3f5f"
            },
            "marker": {
             "line": {
              "color": "#E5ECF6",
              "width": 0.5
             },
             "pattern": {
              "fillmode": "overlay",
              "size": 10,
              "solidity": 0.2
             }
            },
            "type": "bar"
           }
          ],
          "barpolar": [
           {
            "marker": {
             "line": {
              "color": "#E5ECF6",
              "width": 0.5
             },
             "pattern": {
              "fillmode": "overlay",
              "size": 10,
              "solidity": 0.2
             }
            },
            "type": "barpolar"
           }
          ],
          "carpet": [
           {
            "aaxis": {
             "endlinecolor": "#2a3f5f",
             "gridcolor": "white",
             "linecolor": "white",
             "minorgridcolor": "white",
             "startlinecolor": "#2a3f5f"
            },
            "baxis": {
             "endlinecolor": "#2a3f5f",
             "gridcolor": "white",
             "linecolor": "white",
             "minorgridcolor": "white",
             "startlinecolor": "#2a3f5f"
            },
            "type": "carpet"
           }
          ],
          "choropleth": [
           {
            "colorbar": {
             "outlinewidth": 0,
             "ticks": ""
            },
            "type": "choropleth"
           }
          ],
          "contour": [
           {
            "colorbar": {
             "outlinewidth": 0,
             "ticks": ""
            },
            "colorscale": [
             [
              0,
              "#0d0887"
             ],
             [
              0.1111111111111111,
              "#46039f"
             ],
             [
              0.2222222222222222,
              "#7201a8"
             ],
             [
              0.3333333333333333,
              "#9c179e"
             ],
             [
              0.4444444444444444,
              "#bd3786"
             ],
             [
              0.5555555555555556,
              "#d8576b"
             ],
             [
              0.6666666666666666,
              "#ed7953"
             ],
             [
              0.7777777777777778,
              "#fb9f3a"
             ],
             [
              0.8888888888888888,
              "#fdca26"
             ],
             [
              1,
              "#f0f921"
             ]
            ],
            "type": "contour"
           }
          ],
          "contourcarpet": [
           {
            "colorbar": {
             "outlinewidth": 0,
             "ticks": ""
            },
            "type": "contourcarpet"
           }
          ],
          "heatmap": [
           {
            "colorbar": {
             "outlinewidth": 0,
             "ticks": ""
            },
            "colorscale": [
             [
              0,
              "#0d0887"
             ],
             [
              0.1111111111111111,
              "#46039f"
             ],
             [
              0.2222222222222222,
              "#7201a8"
             ],
             [
              0.3333333333333333,
              "#9c179e"
             ],
             [
              0.4444444444444444,
              "#bd3786"
             ],
             [
              0.5555555555555556,
              "#d8576b"
             ],
             [
              0.6666666666666666,
              "#ed7953"
             ],
             [
              0.7777777777777778,
              "#fb9f3a"
             ],
             [
              0.8888888888888888,
              "#fdca26"
             ],
             [
              1,
              "#f0f921"
             ]
            ],
            "type": "heatmap"
           }
          ],
          "heatmapgl": [
           {
            "colorbar": {
             "outlinewidth": 0,
             "ticks": ""
            },
            "colorscale": [
             [
              0,
              "#0d0887"
             ],
             [
              0.1111111111111111,
              "#46039f"
             ],
             [
              0.2222222222222222,
              "#7201a8"
             ],
             [
              0.3333333333333333,
              "#9c179e"
             ],
             [
              0.4444444444444444,
              "#bd3786"
             ],
             [
              0.5555555555555556,
              "#d8576b"
             ],
             [
              0.6666666666666666,
              "#ed7953"
             ],
             [
              0.7777777777777778,
              "#fb9f3a"
             ],
             [
              0.8888888888888888,
              "#fdca26"
             ],
             [
              1,
              "#f0f921"
             ]
            ],
            "type": "heatmapgl"
           }
          ],
          "histogram": [
           {
            "marker": {
             "pattern": {
              "fillmode": "overlay",
              "size": 10,
              "solidity": 0.2
             }
            },
            "type": "histogram"
           }
          ],
          "histogram2d": [
           {
            "colorbar": {
             "outlinewidth": 0,
             "ticks": ""
            },
            "colorscale": [
             [
              0,
              "#0d0887"
             ],
             [
              0.1111111111111111,
              "#46039f"
             ],
             [
              0.2222222222222222,
              "#7201a8"
             ],
             [
              0.3333333333333333,
              "#9c179e"
             ],
             [
              0.4444444444444444,
              "#bd3786"
             ],
             [
              0.5555555555555556,
              "#d8576b"
             ],
             [
              0.6666666666666666,
              "#ed7953"
             ],
             [
              0.7777777777777778,
              "#fb9f3a"
             ],
             [
              0.8888888888888888,
              "#fdca26"
             ],
             [
              1,
              "#f0f921"
             ]
            ],
            "type": "histogram2d"
           }
          ],
          "histogram2dcontour": [
           {
            "colorbar": {
             "outlinewidth": 0,
             "ticks": ""
            },
            "colorscale": [
             [
              0,
              "#0d0887"
             ],
             [
              0.1111111111111111,
              "#46039f"
             ],
             [
              0.2222222222222222,
              "#7201a8"
             ],
             [
              0.3333333333333333,
              "#9c179e"
             ],
             [
              0.4444444444444444,
              "#bd3786"
             ],
             [
              0.5555555555555556,
              "#d8576b"
             ],
             [
              0.6666666666666666,
              "#ed7953"
             ],
             [
              0.7777777777777778,
              "#fb9f3a"
             ],
             [
              0.8888888888888888,
              "#fdca26"
             ],
             [
              1,
              "#f0f921"
             ]
            ],
            "type": "histogram2dcontour"
           }
          ],
          "mesh3d": [
           {
            "colorbar": {
             "outlinewidth": 0,
             "ticks": ""
            },
            "type": "mesh3d"
           }
          ],
          "parcoords": [
           {
            "line": {
             "colorbar": {
              "outlinewidth": 0,
              "ticks": ""
             }
            },
            "type": "parcoords"
           }
          ],
          "pie": [
           {
            "automargin": true,
            "type": "pie"
           }
          ],
          "scatter": [
           {
            "fillpattern": {
             "fillmode": "overlay",
             "size": 10,
             "solidity": 0.2
            },
            "type": "scatter"
           }
          ],
          "scatter3d": [
           {
            "line": {
             "colorbar": {
              "outlinewidth": 0,
              "ticks": ""
             }
            },
            "marker": {
             "colorbar": {
              "outlinewidth": 0,
              "ticks": ""
             }
            },
            "type": "scatter3d"
           }
          ],
          "scattercarpet": [
           {
            "marker": {
             "colorbar": {
              "outlinewidth": 0,
              "ticks": ""
             }
            },
            "type": "scattercarpet"
           }
          ],
          "scattergeo": [
           {
            "marker": {
             "colorbar": {
              "outlinewidth": 0,
              "ticks": ""
             }
            },
            "type": "scattergeo"
           }
          ],
          "scattergl": [
           {
            "marker": {
             "colorbar": {
              "outlinewidth": 0,
              "ticks": ""
             }
            },
            "type": "scattergl"
           }
          ],
          "scattermapbox": [
           {
            "marker": {
             "colorbar": {
              "outlinewidth": 0,
              "ticks": ""
             }
            },
            "type": "scattermapbox"
           }
          ],
          "scatterpolar": [
           {
            "marker": {
             "colorbar": {
              "outlinewidth": 0,
              "ticks": ""
             }
            },
            "type": "scatterpolar"
           }
          ],
          "scatterpolargl": [
           {
            "marker": {
             "colorbar": {
              "outlinewidth": 0,
              "ticks": ""
             }
            },
            "type": "scatterpolargl"
           }
          ],
          "scatterternary": [
           {
            "marker": {
             "colorbar": {
              "outlinewidth": 0,
              "ticks": ""
             }
            },
            "type": "scatterternary"
           }
          ],
          "surface": [
           {
            "colorbar": {
             "outlinewidth": 0,
             "ticks": ""
            },
            "colorscale": [
             [
              0,
              "#0d0887"
             ],
             [
              0.1111111111111111,
              "#46039f"
             ],
             [
              0.2222222222222222,
              "#7201a8"
             ],
             [
              0.3333333333333333,
              "#9c179e"
             ],
             [
              0.4444444444444444,
              "#bd3786"
             ],
             [
              0.5555555555555556,
              "#d8576b"
             ],
             [
              0.6666666666666666,
              "#ed7953"
             ],
             [
              0.7777777777777778,
              "#fb9f3a"
             ],
             [
              0.8888888888888888,
              "#fdca26"
             ],
             [
              1,
              "#f0f921"
             ]
            ],
            "type": "surface"
           }
          ],
          "table": [
           {
            "cells": {
             "fill": {
              "color": "#EBF0F8"
             },
             "line": {
              "color": "white"
             }
            },
            "header": {
             "fill": {
              "color": "#C8D4E3"
             },
             "line": {
              "color": "white"
             }
            },
            "type": "table"
           }
          ]
         },
         "layout": {
          "annotationdefaults": {
           "arrowcolor": "#2a3f5f",
           "arrowhead": 0,
           "arrowwidth": 1
          },
          "autotypenumbers": "strict",
          "coloraxis": {
           "colorbar": {
            "outlinewidth": 0,
            "ticks": ""
           }
          },
          "colorscale": {
           "diverging": [
            [
             0,
             "#8e0152"
            ],
            [
             0.1,
             "#c51b7d"
            ],
            [
             0.2,
             "#de77ae"
            ],
            [
             0.3,
             "#f1b6da"
            ],
            [
             0.4,
             "#fde0ef"
            ],
            [
             0.5,
             "#f7f7f7"
            ],
            [
             0.6,
             "#e6f5d0"
            ],
            [
             0.7,
             "#b8e186"
            ],
            [
             0.8,
             "#7fbc41"
            ],
            [
             0.9,
             "#4d9221"
            ],
            [
             1,
             "#276419"
            ]
           ],
           "sequential": [
            [
             0,
             "#0d0887"
            ],
            [
             0.1111111111111111,
             "#46039f"
            ],
            [
             0.2222222222222222,
             "#7201a8"
            ],
            [
             0.3333333333333333,
             "#9c179e"
            ],
            [
             0.4444444444444444,
             "#bd3786"
            ],
            [
             0.5555555555555556,
             "#d8576b"
            ],
            [
             0.6666666666666666,
             "#ed7953"
            ],
            [
             0.7777777777777778,
             "#fb9f3a"
            ],
            [
             0.8888888888888888,
             "#fdca26"
            ],
            [
             1,
             "#f0f921"
            ]
           ],
           "sequentialminus": [
            [
             0,
             "#0d0887"
            ],
            [
             0.1111111111111111,
             "#46039f"
            ],
            [
             0.2222222222222222,
             "#7201a8"
            ],
            [
             0.3333333333333333,
             "#9c179e"
            ],
            [
             0.4444444444444444,
             "#bd3786"
            ],
            [
             0.5555555555555556,
             "#d8576b"
            ],
            [
             0.6666666666666666,
             "#ed7953"
            ],
            [
             0.7777777777777778,
             "#fb9f3a"
            ],
            [
             0.8888888888888888,
             "#fdca26"
            ],
            [
             1,
             "#f0f921"
            ]
           ]
          },
          "colorway": [
           "#636efa",
           "#EF553B",
           "#00cc96",
           "#ab63fa",
           "#FFA15A",
           "#19d3f3",
           "#FF6692",
           "#B6E880",
           "#FF97FF",
           "#FECB52"
          ],
          "font": {
           "color": "#2a3f5f"
          },
          "geo": {
           "bgcolor": "white",
           "lakecolor": "white",
           "landcolor": "#E5ECF6",
           "showlakes": true,
           "showland": true,
           "subunitcolor": "white"
          },
          "hoverlabel": {
           "align": "left"
          },
          "hovermode": "closest",
          "mapbox": {
           "style": "light"
          },
          "paper_bgcolor": "white",
          "plot_bgcolor": "#E5ECF6",
          "polar": {
           "angularaxis": {
            "gridcolor": "white",
            "linecolor": "white",
            "ticks": ""
           },
           "bgcolor": "#E5ECF6",
           "radialaxis": {
            "gridcolor": "white",
            "linecolor": "white",
            "ticks": ""
           }
          },
          "scene": {
           "xaxis": {
            "backgroundcolor": "#E5ECF6",
            "gridcolor": "white",
            "gridwidth": 2,
            "linecolor": "white",
            "showbackground": true,
            "ticks": "",
            "zerolinecolor": "white"
           },
           "yaxis": {
            "backgroundcolor": "#E5ECF6",
            "gridcolor": "white",
            "gridwidth": 2,
            "linecolor": "white",
            "showbackground": true,
            "ticks": "",
            "zerolinecolor": "white"
           },
           "zaxis": {
            "backgroundcolor": "#E5ECF6",
            "gridcolor": "white",
            "gridwidth": 2,
            "linecolor": "white",
            "showbackground": true,
            "ticks": "",
            "zerolinecolor": "white"
           }
          },
          "shapedefaults": {
           "line": {
            "color": "#2a3f5f"
           }
          },
          "ternary": {
           "aaxis": {
            "gridcolor": "white",
            "linecolor": "white",
            "ticks": ""
           },
           "baxis": {
            "gridcolor": "white",
            "linecolor": "white",
            "ticks": ""
           },
           "bgcolor": "#E5ECF6",
           "caxis": {
            "gridcolor": "white",
            "linecolor": "white",
            "ticks": ""
           }
          },
          "title": {
           "x": 0.05
          },
          "xaxis": {
           "automargin": true,
           "gridcolor": "white",
           "linecolor": "white",
           "ticks": "",
           "title": {
            "standoff": 15
           },
           "zerolinecolor": "white",
           "zerolinewidth": 2
          },
          "yaxis": {
           "automargin": true,
           "gridcolor": "white",
           "linecolor": "white",
           "ticks": "",
           "title": {
            "standoff": 15
           },
           "zerolinecolor": "white",
           "zerolinewidth": 2
          }
         }
        },
        "title": {
         "text": "Top 20 Products"
        },
        "xaxis": {
         "anchor": "y",
         "domain": [
          0,
          1
         ],
         "title": {
          "text": "Revenue ($)"
         }
        },
        "yaxis": {
         "anchor": "x",
         "categoryarray": [
          "HEART OF WICKER SMALL",
          "HEART OF WICKER LARGE",
          "VICTORIAN GLASS HANGING T-LIGHT",
          "JUMBO BAG STRAWBERRY",
          "JAM MAKING SET WITH JARS",
          "SET OF 3 CAKE TINS PANTRY DESIGN ",
          "DOORMAT KEEP CALM AND COME IN",
          "WOOD BLACK BOARD ANT WHITE FINISH",
          "JUMBO BAG PINK POLKADOT",
          "SPOTTY BUNTING",
          "BLACK RECORD COVER FRAME",
          "PICNIC BASKET WICKER 60 PIECES",
          "PAPER CHAIN KIT 50'S CHRISTMAS ",
          "CHILLI LIGHTS",
          "RABBIT NIGHT LIGHT",
          "ASSORTED COLOUR BIRD ORNAMENT",
          "PARTY BUNTING",
          "JUMBO BAG RED RETROSPOT",
          "WHITE HANGING HEART T-LIGHT HOLDER",
          "REGENCY CAKESTAND 3 TIER"
         ],
         "categoryorder": "total ascending",
         "domain": [
          0,
          1
         ],
         "title": {}
        }
       }
      }
     },
     "metadata": {},
     "output_type": "display_data"
    }
   ],
   "source": [
    "topProducts = data.groupby(['StockCode', 'Description'], as_index=False)[['Quantity', 'Revenue']].sum().sort_values('Revenue', ascending=False).head(20)\n",
    "\n",
    "colorseq = ['lightslategray']*len(topProducts)\n",
    "colorseq[0] = 'crimson'\n",
    "colorseq[1] = 'crimson'\n",
    "colorseq[2] = 'crimson'\n",
    "fig = px.bar(topProducts,\n",
    "        y='Description', x='Revenue', hover_data=topProducts.columns, title='Top 20 Products',\n",
    "        text_auto='.4s', color_discrete_sequence=colorseq, height=800, color='Description'\n",
    "      )\n",
    "fig.update_xaxes(title = 'Revenue ($)')\n",
    "fig.update_yaxes(title = None)\n",
    "fig.update_layout(yaxis=dict(categoryorder='total ascending'), showlegend=False)\n",
    "fig.show()"
   ]
  },
  {
   "attachments": {},
   "cell_type": "markdown",
   "metadata": {},
   "source": [
    "## **Top Countries**"
   ]
  },
  {
   "cell_type": "code",
   "execution_count": 57,
   "metadata": {},
   "outputs": [
    {
     "data": {
      "application/vnd.plotly.v1+json": {
       "config": {
        "plotlyServerURL": "https://plot.ly"
       },
       "data": [
        {
         "alignmentgroup": "True",
         "customdata": [
          [
           3982994
          ]
         ],
         "hovertemplate": "Country=%{y}<br>Revenue=%{x}<br>Quantity=%{customdata[0]}<extra></extra>",
         "legendgroup": "United Kingdom",
         "marker": {
          "color": "crimson",
          "pattern": {
           "shape": ""
          }
         },
         "name": "United Kingdom",
         "offsetgroup": "United Kingdom",
         "orientation": "h",
         "showlegend": true,
         "textposition": "auto",
         "texttemplate": "%{x:.4s}",
         "type": "bar",
         "x": [
          6797541.18
         ],
         "xaxis": "x",
         "y": [
          "United Kingdom"
         ],
         "yaxis": "y"
        },
        {
         "alignmentgroup": "True",
         "customdata": [
          [
           199358
          ]
         ],
         "hovertemplate": "Country=%{y}<br>Revenue=%{x}<br>Quantity=%{customdata[0]}<extra></extra>",
         "legendgroup": "Netherlands",
         "marker": {
          "color": "crimson",
          "pattern": {
           "shape": ""
          }
         },
         "name": "Netherlands",
         "offsetgroup": "Netherlands",
         "orientation": "h",
         "showlegend": true,
         "textposition": "auto",
         "texttemplate": "%{x:.4s}",
         "type": "bar",
         "x": [
          282586.74
         ],
         "xaxis": "x",
         "y": [
          "Netherlands"
         ],
         "yaxis": "y"
        },
        {
         "alignmentgroup": "True",
         "customdata": [
          [
           133287
          ]
         ],
         "hovertemplate": "Country=%{y}<br>Revenue=%{x}<br>Quantity=%{customdata[0]}<extra></extra>",
         "legendgroup": "EIRE",
         "marker": {
          "color": "crimson",
          "pattern": {
           "shape": ""
          }
         },
         "name": "EIRE",
         "offsetgroup": "EIRE",
         "orientation": "h",
         "showlegend": true,
         "textposition": "auto",
         "texttemplate": "%{x:.4s}",
         "type": "bar",
         "x": [
          241760.45
         ],
         "xaxis": "x",
         "y": [
          "EIRE"
         ],
         "yaxis": "y"
        },
        {
         "alignmentgroup": "True",
         "customdata": [
          [
           116365
          ]
         ],
         "hovertemplate": "Country=%{y}<br>Revenue=%{x}<br>Quantity=%{customdata[0]}<extra></extra>",
         "legendgroup": "Germany",
         "marker": {
          "color": "lightslategray",
          "pattern": {
           "shape": ""
          }
         },
         "name": "Germany",
         "offsetgroup": "Germany",
         "orientation": "h",
         "showlegend": true,
         "textposition": "auto",
         "texttemplate": "%{x:.4s}",
         "type": "bar",
         "x": [
          201229.72
         ],
         "xaxis": "x",
         "y": [
          "Germany"
         ],
         "yaxis": "y"
        },
        {
         "alignmentgroup": "True",
         "customdata": [
          [
           108966
          ]
         ],
         "hovertemplate": "Country=%{y}<br>Revenue=%{x}<br>Quantity=%{customdata[0]}<extra></extra>",
         "legendgroup": "France",
         "marker": {
          "color": "lightslategray",
          "pattern": {
           "shape": ""
          }
         },
         "name": "France",
         "offsetgroup": "France",
         "orientation": "h",
         "showlegend": true,
         "textposition": "auto",
         "texttemplate": "%{x:.4s}",
         "type": "bar",
         "x": [
          181423.53
         ],
         "xaxis": "x",
         "y": [
          "France"
         ],
         "yaxis": "y"
        },
        {
         "alignmentgroup": "True",
         "customdata": [
          [
           83348
          ]
         ],
         "hovertemplate": "Country=%{y}<br>Revenue=%{x}<br>Quantity=%{customdata[0]}<extra></extra>",
         "legendgroup": "Australia",
         "marker": {
          "color": "lightslategray",
          "pattern": {
           "shape": ""
          }
         },
         "name": "Australia",
         "offsetgroup": "Australia",
         "orientation": "h",
         "showlegend": true,
         "textposition": "auto",
         "texttemplate": "%{x:.4s}",
         "type": "bar",
         "x": [
          136950.25
         ],
         "xaxis": "x",
         "y": [
          "Australia"
         ],
         "yaxis": "y"
        },
        {
         "alignmentgroup": "True",
         "customdata": [
          [
           29679
          ]
         ],
         "hovertemplate": "Country=%{y}<br>Revenue=%{x}<br>Quantity=%{customdata[0]}<extra></extra>",
         "legendgroup": "Switzerland",
         "marker": {
          "color": "lightslategray",
          "pattern": {
           "shape": ""
          }
         },
         "name": "Switzerland",
         "offsetgroup": "Switzerland",
         "orientation": "h",
         "showlegend": true,
         "textposition": "auto",
         "texttemplate": "%{x:.4s}",
         "type": "bar",
         "x": [
          51879.45
         ],
         "xaxis": "x",
         "y": [
          "Switzerland"
         ],
         "yaxis": "y"
        },
        {
         "alignmentgroup": "True",
         "customdata": [
          [
           26592
          ]
         ],
         "hovertemplate": "Country=%{y}<br>Revenue=%{x}<br>Quantity=%{customdata[0]}<extra></extra>",
         "legendgroup": "Spain",
         "marker": {
          "color": "lightslategray",
          "pattern": {
           "shape": ""
          }
         },
         "name": "Spain",
         "offsetgroup": "Spain",
         "orientation": "h",
         "showlegend": true,
         "textposition": "auto",
         "texttemplate": "%{x:.4s}",
         "type": "bar",
         "x": [
          51752.15
         ],
         "xaxis": "x",
         "y": [
          "Spain"
         ],
         "yaxis": "y"
        },
        {
         "alignmentgroup": "True",
         "customdata": [
          [
           22882
          ]
         ],
         "hovertemplate": "Country=%{y}<br>Revenue=%{x}<br>Quantity=%{customdata[0]}<extra></extra>",
         "legendgroup": "Belgium",
         "marker": {
          "color": "lightslategray",
          "pattern": {
           "shape": ""
          }
         },
         "name": "Belgium",
         "offsetgroup": "Belgium",
         "orientation": "h",
         "showlegend": true,
         "textposition": "auto",
         "texttemplate": "%{x:.4s}",
         "type": "bar",
         "x": [
          36674.99
         ],
         "xaxis": "x",
         "y": [
          "Belgium"
         ],
         "yaxis": "y"
        },
        {
         "alignmentgroup": "True",
         "customdata": [
          [
           35690
          ]
         ],
         "hovertemplate": "Country=%{y}<br>Revenue=%{x}<br>Quantity=%{customdata[0]}<extra></extra>",
         "legendgroup": "Sweden",
         "marker": {
          "color": "lightslategray",
          "pattern": {
           "shape": ""
          }
         },
         "name": "Sweden",
         "offsetgroup": "Sweden",
         "orientation": "h",
         "showlegend": true,
         "textposition": "auto",
         "texttemplate": "%{x:.4s}",
         "type": "bar",
         "x": [
          36174.41
         ],
         "xaxis": "x",
         "y": [
          "Sweden"
         ],
         "yaxis": "y"
        },
        {
         "alignmentgroup": "True",
         "customdata": [
          [
           25224
          ]
         ],
         "hovertemplate": "Country=%{y}<br>Revenue=%{x}<br>Quantity=%{customdata[0]}<extra></extra>",
         "legendgroup": "Japan",
         "marker": {
          "color": "lightslategray",
          "pattern": {
           "shape": ""
          }
         },
         "name": "Japan",
         "offsetgroup": "Japan",
         "orientation": "h",
         "showlegend": true,
         "textposition": "auto",
         "texttemplate": "%{x:.4s}",
         "type": "bar",
         "x": [
          35423.54
         ],
         "xaxis": "x",
         "y": [
          "Japan"
         ],
         "yaxis": "y"
        },
        {
         "alignmentgroup": "True",
         "customdata": [
          [
           19176
          ]
         ],
         "hovertemplate": "Country=%{y}<br>Revenue=%{x}<br>Quantity=%{customdata[0]}<extra></extra>",
         "legendgroup": "Norway",
         "marker": {
          "color": "lightslategray",
          "pattern": {
           "shape": ""
          }
         },
         "name": "Norway",
         "offsetgroup": "Norway",
         "orientation": "h",
         "showlegend": true,
         "textposition": "auto",
         "texttemplate": "%{x:.4s}",
         "type": "bar",
         "x": [
          32273.16
         ],
         "xaxis": "x",
         "y": [
          "Norway"
         ],
         "yaxis": "y"
        },
        {
         "alignmentgroup": "True",
         "customdata": [
          [
           15922
          ]
         ],
         "hovertemplate": "Country=%{y}<br>Revenue=%{x}<br>Quantity=%{customdata[0]}<extra></extra>",
         "legendgroup": "Portugal",
         "marker": {
          "color": "lightslategray",
          "pattern": {
           "shape": ""
          }
         },
         "name": "Portugal",
         "offsetgroup": "Portugal",
         "orientation": "h",
         "showlegend": true,
         "textposition": "auto",
         "texttemplate": "%{x:.4s}",
         "type": "bar",
         "x": [
          26506.5
         ],
         "xaxis": "x",
         "y": [
          "Portugal"
         ],
         "yaxis": "y"
        },
        {
         "alignmentgroup": "True",
         "customdata": [
          [
           9471
          ]
         ],
         "hovertemplate": "Country=%{y}<br>Revenue=%{x}<br>Quantity=%{customdata[0]}<extra></extra>",
         "legendgroup": "Channel Islands",
         "marker": {
          "color": "lightslategray",
          "pattern": {
           "shape": ""
          }
         },
         "name": "Channel Islands",
         "offsetgroup": "Channel Islands",
         "orientation": "h",
         "showlegend": true,
         "textposition": "auto",
         "texttemplate": "%{x:.4s}",
         "type": "bar",
         "x": [
          19930.64
         ],
         "xaxis": "x",
         "y": [
          "Channel Islands"
         ],
         "yaxis": "y"
        },
        {
         "alignmentgroup": "True",
         "customdata": [
          [
           10575
          ]
         ],
         "hovertemplate": "Country=%{y}<br>Revenue=%{x}<br>Quantity=%{customdata[0]}<extra></extra>",
         "legendgroup": "Finland",
         "marker": {
          "color": "lightslategray",
          "pattern": {
           "shape": ""
          }
         },
         "name": "Finland",
         "offsetgroup": "Finland",
         "orientation": "h",
         "showlegend": true,
         "textposition": "auto",
         "texttemplate": "%{x:.4s}",
         "type": "bar",
         "x": [
          18303.54
         ],
         "xaxis": "x",
         "y": [
          "Finland"
         ],
         "yaxis": "y"
        },
        {
         "alignmentgroup": "True",
         "customdata": [
          [
           8147
          ]
         ],
         "hovertemplate": "Country=%{y}<br>Revenue=%{x}<br>Quantity=%{customdata[0]}<extra></extra>",
         "legendgroup": "Denmark",
         "marker": {
          "color": "lightslategray",
          "pattern": {
           "shape": ""
          }
         },
         "name": "Denmark",
         "offsetgroup": "Denmark",
         "orientation": "h",
         "showlegend": true,
         "textposition": "auto",
         "texttemplate": "%{x:.4s}",
         "type": "bar",
         "x": [
          18042.14
         ],
         "xaxis": "x",
         "y": [
          "Denmark"
         ],
         "yaxis": "y"
        },
        {
         "alignmentgroup": "True",
         "customdata": [
          [
           7969
          ]
         ],
         "hovertemplate": "Country=%{y}<br>Revenue=%{x}<br>Quantity=%{customdata[0]}<extra></extra>",
         "legendgroup": "Italy",
         "marker": {
          "color": "lightslategray",
          "pattern": {
           "shape": ""
          }
         },
         "name": "Italy",
         "offsetgroup": "Italy",
         "orientation": "h",
         "showlegend": true,
         "textposition": "auto",
         "texttemplate": "%{x:.4s}",
         "type": "bar",
         "x": [
          15314.34
         ],
         "xaxis": "x",
         "y": [
          "Italy"
         ],
         "yaxis": "y"
        },
        {
         "alignmentgroup": "True",
         "customdata": [
          [
           6263
          ]
         ],
         "hovertemplate": "Country=%{y}<br>Revenue=%{x}<br>Quantity=%{customdata[0]}<extra></extra>",
         "legendgroup": "Cyprus",
         "marker": {
          "color": "lightslategray",
          "pattern": {
           "shape": ""
          }
         },
         "name": "Cyprus",
         "offsetgroup": "Cyprus",
         "orientation": "h",
         "showlegend": true,
         "textposition": "auto",
         "texttemplate": "%{x:.4s}",
         "type": "bar",
         "x": [
          12689.91
         ],
         "xaxis": "x",
         "y": [
          "Cyprus"
         ],
         "yaxis": "y"
        },
        {
         "alignmentgroup": "True",
         "customdata": [
          [
           5234
          ]
         ],
         "hovertemplate": "Country=%{y}<br>Revenue=%{x}<br>Quantity=%{customdata[0]}<extra></extra>",
         "legendgroup": "Singapore",
         "marker": {
          "color": "lightslategray",
          "pattern": {
           "shape": ""
          }
         },
         "name": "Singapore",
         "offsetgroup": "Singapore",
         "orientation": "h",
         "showlegend": true,
         "textposition": "auto",
         "texttemplate": "%{x:.4s}",
         "type": "bar",
         "x": [
          9120.39
         ],
         "xaxis": "x",
         "y": [
          "Singapore"
         ],
         "yaxis": "y"
        },
        {
         "alignmentgroup": "True",
         "customdata": [
          [
           4843
          ]
         ],
         "hovertemplate": "Country=%{y}<br>Revenue=%{x}<br>Quantity=%{customdata[0]}<extra></extra>",
         "legendgroup": "Austria",
         "marker": {
          "color": "lightslategray",
          "pattern": {
           "shape": ""
          }
         },
         "name": "Austria",
         "offsetgroup": "Austria",
         "orientation": "h",
         "showlegend": true,
         "textposition": "auto",
         "texttemplate": "%{x:.4s}",
         "type": "bar",
         "x": [
          8739.73
         ],
         "xaxis": "x",
         "y": [
          "Austria"
         ],
         "yaxis": "y"
        }
       ],
       "layout": {
        "barmode": "relative",
        "height": 800,
        "legend": {
         "title": {
          "text": "Country"
         },
         "tracegroupgap": 0
        },
        "showlegend": false,
        "template": {
         "data": {
          "bar": [
           {
            "error_x": {
             "color": "#2a3f5f"
            },
            "error_y": {
             "color": "#2a3f5f"
            },
            "marker": {
             "line": {
              "color": "#E5ECF6",
              "width": 0.5
             },
             "pattern": {
              "fillmode": "overlay",
              "size": 10,
              "solidity": 0.2
             }
            },
            "type": "bar"
           }
          ],
          "barpolar": [
           {
            "marker": {
             "line": {
              "color": "#E5ECF6",
              "width": 0.5
             },
             "pattern": {
              "fillmode": "overlay",
              "size": 10,
              "solidity": 0.2
             }
            },
            "type": "barpolar"
           }
          ],
          "carpet": [
           {
            "aaxis": {
             "endlinecolor": "#2a3f5f",
             "gridcolor": "white",
             "linecolor": "white",
             "minorgridcolor": "white",
             "startlinecolor": "#2a3f5f"
            },
            "baxis": {
             "endlinecolor": "#2a3f5f",
             "gridcolor": "white",
             "linecolor": "white",
             "minorgridcolor": "white",
             "startlinecolor": "#2a3f5f"
            },
            "type": "carpet"
           }
          ],
          "choropleth": [
           {
            "colorbar": {
             "outlinewidth": 0,
             "ticks": ""
            },
            "type": "choropleth"
           }
          ],
          "contour": [
           {
            "colorbar": {
             "outlinewidth": 0,
             "ticks": ""
            },
            "colorscale": [
             [
              0,
              "#0d0887"
             ],
             [
              0.1111111111111111,
              "#46039f"
             ],
             [
              0.2222222222222222,
              "#7201a8"
             ],
             [
              0.3333333333333333,
              "#9c179e"
             ],
             [
              0.4444444444444444,
              "#bd3786"
             ],
             [
              0.5555555555555556,
              "#d8576b"
             ],
             [
              0.6666666666666666,
              "#ed7953"
             ],
             [
              0.7777777777777778,
              "#fb9f3a"
             ],
             [
              0.8888888888888888,
              "#fdca26"
             ],
             [
              1,
              "#f0f921"
             ]
            ],
            "type": "contour"
           }
          ],
          "contourcarpet": [
           {
            "colorbar": {
             "outlinewidth": 0,
             "ticks": ""
            },
            "type": "contourcarpet"
           }
          ],
          "heatmap": [
           {
            "colorbar": {
             "outlinewidth": 0,
             "ticks": ""
            },
            "colorscale": [
             [
              0,
              "#0d0887"
             ],
             [
              0.1111111111111111,
              "#46039f"
             ],
             [
              0.2222222222222222,
              "#7201a8"
             ],
             [
              0.3333333333333333,
              "#9c179e"
             ],
             [
              0.4444444444444444,
              "#bd3786"
             ],
             [
              0.5555555555555556,
              "#d8576b"
             ],
             [
              0.6666666666666666,
              "#ed7953"
             ],
             [
              0.7777777777777778,
              "#fb9f3a"
             ],
             [
              0.8888888888888888,
              "#fdca26"
             ],
             [
              1,
              "#f0f921"
             ]
            ],
            "type": "heatmap"
           }
          ],
          "heatmapgl": [
           {
            "colorbar": {
             "outlinewidth": 0,
             "ticks": ""
            },
            "colorscale": [
             [
              0,
              "#0d0887"
             ],
             [
              0.1111111111111111,
              "#46039f"
             ],
             [
              0.2222222222222222,
              "#7201a8"
             ],
             [
              0.3333333333333333,
              "#9c179e"
             ],
             [
              0.4444444444444444,
              "#bd3786"
             ],
             [
              0.5555555555555556,
              "#d8576b"
             ],
             [
              0.6666666666666666,
              "#ed7953"
             ],
             [
              0.7777777777777778,
              "#fb9f3a"
             ],
             [
              0.8888888888888888,
              "#fdca26"
             ],
             [
              1,
              "#f0f921"
             ]
            ],
            "type": "heatmapgl"
           }
          ],
          "histogram": [
           {
            "marker": {
             "pattern": {
              "fillmode": "overlay",
              "size": 10,
              "solidity": 0.2
             }
            },
            "type": "histogram"
           }
          ],
          "histogram2d": [
           {
            "colorbar": {
             "outlinewidth": 0,
             "ticks": ""
            },
            "colorscale": [
             [
              0,
              "#0d0887"
             ],
             [
              0.1111111111111111,
              "#46039f"
             ],
             [
              0.2222222222222222,
              "#7201a8"
             ],
             [
              0.3333333333333333,
              "#9c179e"
             ],
             [
              0.4444444444444444,
              "#bd3786"
             ],
             [
              0.5555555555555556,
              "#d8576b"
             ],
             [
              0.6666666666666666,
              "#ed7953"
             ],
             [
              0.7777777777777778,
              "#fb9f3a"
             ],
             [
              0.8888888888888888,
              "#fdca26"
             ],
             [
              1,
              "#f0f921"
             ]
            ],
            "type": "histogram2d"
           }
          ],
          "histogram2dcontour": [
           {
            "colorbar": {
             "outlinewidth": 0,
             "ticks": ""
            },
            "colorscale": [
             [
              0,
              "#0d0887"
             ],
             [
              0.1111111111111111,
              "#46039f"
             ],
             [
              0.2222222222222222,
              "#7201a8"
             ],
             [
              0.3333333333333333,
              "#9c179e"
             ],
             [
              0.4444444444444444,
              "#bd3786"
             ],
             [
              0.5555555555555556,
              "#d8576b"
             ],
             [
              0.6666666666666666,
              "#ed7953"
             ],
             [
              0.7777777777777778,
              "#fb9f3a"
             ],
             [
              0.8888888888888888,
              "#fdca26"
             ],
             [
              1,
              "#f0f921"
             ]
            ],
            "type": "histogram2dcontour"
           }
          ],
          "mesh3d": [
           {
            "colorbar": {
             "outlinewidth": 0,
             "ticks": ""
            },
            "type": "mesh3d"
           }
          ],
          "parcoords": [
           {
            "line": {
             "colorbar": {
              "outlinewidth": 0,
              "ticks": ""
             }
            },
            "type": "parcoords"
           }
          ],
          "pie": [
           {
            "automargin": true,
            "type": "pie"
           }
          ],
          "scatter": [
           {
            "fillpattern": {
             "fillmode": "overlay",
             "size": 10,
             "solidity": 0.2
            },
            "type": "scatter"
           }
          ],
          "scatter3d": [
           {
            "line": {
             "colorbar": {
              "outlinewidth": 0,
              "ticks": ""
             }
            },
            "marker": {
             "colorbar": {
              "outlinewidth": 0,
              "ticks": ""
             }
            },
            "type": "scatter3d"
           }
          ],
          "scattercarpet": [
           {
            "marker": {
             "colorbar": {
              "outlinewidth": 0,
              "ticks": ""
             }
            },
            "type": "scattercarpet"
           }
          ],
          "scattergeo": [
           {
            "marker": {
             "colorbar": {
              "outlinewidth": 0,
              "ticks": ""
             }
            },
            "type": "scattergeo"
           }
          ],
          "scattergl": [
           {
            "marker": {
             "colorbar": {
              "outlinewidth": 0,
              "ticks": ""
             }
            },
            "type": "scattergl"
           }
          ],
          "scattermapbox": [
           {
            "marker": {
             "colorbar": {
              "outlinewidth": 0,
              "ticks": ""
             }
            },
            "type": "scattermapbox"
           }
          ],
          "scatterpolar": [
           {
            "marker": {
             "colorbar": {
              "outlinewidth": 0,
              "ticks": ""
             }
            },
            "type": "scatterpolar"
           }
          ],
          "scatterpolargl": [
           {
            "marker": {
             "colorbar": {
              "outlinewidth": 0,
              "ticks": ""
             }
            },
            "type": "scatterpolargl"
           }
          ],
          "scatterternary": [
           {
            "marker": {
             "colorbar": {
              "outlinewidth": 0,
              "ticks": ""
             }
            },
            "type": "scatterternary"
           }
          ],
          "surface": [
           {
            "colorbar": {
             "outlinewidth": 0,
             "ticks": ""
            },
            "colorscale": [
             [
              0,
              "#0d0887"
             ],
             [
              0.1111111111111111,
              "#46039f"
             ],
             [
              0.2222222222222222,
              "#7201a8"
             ],
             [
              0.3333333333333333,
              "#9c179e"
             ],
             [
              0.4444444444444444,
              "#bd3786"
             ],
             [
              0.5555555555555556,
              "#d8576b"
             ],
             [
              0.6666666666666666,
              "#ed7953"
             ],
             [
              0.7777777777777778,
              "#fb9f3a"
             ],
             [
              0.8888888888888888,
              "#fdca26"
             ],
             [
              1,
              "#f0f921"
             ]
            ],
            "type": "surface"
           }
          ],
          "table": [
           {
            "cells": {
             "fill": {
              "color": "#EBF0F8"
             },
             "line": {
              "color": "white"
             }
            },
            "header": {
             "fill": {
              "color": "#C8D4E3"
             },
             "line": {
              "color": "white"
             }
            },
            "type": "table"
           }
          ]
         },
         "layout": {
          "annotationdefaults": {
           "arrowcolor": "#2a3f5f",
           "arrowhead": 0,
           "arrowwidth": 1
          },
          "autotypenumbers": "strict",
          "coloraxis": {
           "colorbar": {
            "outlinewidth": 0,
            "ticks": ""
           }
          },
          "colorscale": {
           "diverging": [
            [
             0,
             "#8e0152"
            ],
            [
             0.1,
             "#c51b7d"
            ],
            [
             0.2,
             "#de77ae"
            ],
            [
             0.3,
             "#f1b6da"
            ],
            [
             0.4,
             "#fde0ef"
            ],
            [
             0.5,
             "#f7f7f7"
            ],
            [
             0.6,
             "#e6f5d0"
            ],
            [
             0.7,
             "#b8e186"
            ],
            [
             0.8,
             "#7fbc41"
            ],
            [
             0.9,
             "#4d9221"
            ],
            [
             1,
             "#276419"
            ]
           ],
           "sequential": [
            [
             0,
             "#0d0887"
            ],
            [
             0.1111111111111111,
             "#46039f"
            ],
            [
             0.2222222222222222,
             "#7201a8"
            ],
            [
             0.3333333333333333,
             "#9c179e"
            ],
            [
             0.4444444444444444,
             "#bd3786"
            ],
            [
             0.5555555555555556,
             "#d8576b"
            ],
            [
             0.6666666666666666,
             "#ed7953"
            ],
            [
             0.7777777777777778,
             "#fb9f3a"
            ],
            [
             0.8888888888888888,
             "#fdca26"
            ],
            [
             1,
             "#f0f921"
            ]
           ],
           "sequentialminus": [
            [
             0,
             "#0d0887"
            ],
            [
             0.1111111111111111,
             "#46039f"
            ],
            [
             0.2222222222222222,
             "#7201a8"
            ],
            [
             0.3333333333333333,
             "#9c179e"
            ],
            [
             0.4444444444444444,
             "#bd3786"
            ],
            [
             0.5555555555555556,
             "#d8576b"
            ],
            [
             0.6666666666666666,
             "#ed7953"
            ],
            [
             0.7777777777777778,
             "#fb9f3a"
            ],
            [
             0.8888888888888888,
             "#fdca26"
            ],
            [
             1,
             "#f0f921"
            ]
           ]
          },
          "colorway": [
           "#636efa",
           "#EF553B",
           "#00cc96",
           "#ab63fa",
           "#FFA15A",
           "#19d3f3",
           "#FF6692",
           "#B6E880",
           "#FF97FF",
           "#FECB52"
          ],
          "font": {
           "color": "#2a3f5f"
          },
          "geo": {
           "bgcolor": "white",
           "lakecolor": "white",
           "landcolor": "#E5ECF6",
           "showlakes": true,
           "showland": true,
           "subunitcolor": "white"
          },
          "hoverlabel": {
           "align": "left"
          },
          "hovermode": "closest",
          "mapbox": {
           "style": "light"
          },
          "paper_bgcolor": "white",
          "plot_bgcolor": "#E5ECF6",
          "polar": {
           "angularaxis": {
            "gridcolor": "white",
            "linecolor": "white",
            "ticks": ""
           },
           "bgcolor": "#E5ECF6",
           "radialaxis": {
            "gridcolor": "white",
            "linecolor": "white",
            "ticks": ""
           }
          },
          "scene": {
           "xaxis": {
            "backgroundcolor": "#E5ECF6",
            "gridcolor": "white",
            "gridwidth": 2,
            "linecolor": "white",
            "showbackground": true,
            "ticks": "",
            "zerolinecolor": "white"
           },
           "yaxis": {
            "backgroundcolor": "#E5ECF6",
            "gridcolor": "white",
            "gridwidth": 2,
            "linecolor": "white",
            "showbackground": true,
            "ticks": "",
            "zerolinecolor": "white"
           },
           "zaxis": {
            "backgroundcolor": "#E5ECF6",
            "gridcolor": "white",
            "gridwidth": 2,
            "linecolor": "white",
            "showbackground": true,
            "ticks": "",
            "zerolinecolor": "white"
           }
          },
          "shapedefaults": {
           "line": {
            "color": "#2a3f5f"
           }
          },
          "ternary": {
           "aaxis": {
            "gridcolor": "white",
            "linecolor": "white",
            "ticks": ""
           },
           "baxis": {
            "gridcolor": "white",
            "linecolor": "white",
            "ticks": ""
           },
           "bgcolor": "#E5ECF6",
           "caxis": {
            "gridcolor": "white",
            "linecolor": "white",
            "ticks": ""
           }
          },
          "title": {
           "x": 0.05
          },
          "xaxis": {
           "automargin": true,
           "gridcolor": "white",
           "linecolor": "white",
           "ticks": "",
           "title": {
            "standoff": 15
           },
           "zerolinecolor": "white",
           "zerolinewidth": 2
          },
          "yaxis": {
           "automargin": true,
           "gridcolor": "white",
           "linecolor": "white",
           "ticks": "",
           "title": {
            "standoff": 15
           },
           "zerolinecolor": "white",
           "zerolinewidth": 2
          }
         }
        },
        "title": {
         "text": "Top 20 Countries"
        },
        "xaxis": {
         "anchor": "y",
         "domain": [
          0,
          1
         ],
         "title": {
          "text": "Revenue ($)"
         }
        },
        "yaxis": {
         "anchor": "x",
         "categoryarray": [
          "Austria",
          "Singapore",
          "Cyprus",
          "Italy",
          "Denmark",
          "Finland",
          "Channel Islands",
          "Portugal",
          "Norway",
          "Japan",
          "Sweden",
          "Belgium",
          "Spain",
          "Switzerland",
          "Australia",
          "France",
          "Germany",
          "EIRE",
          "Netherlands",
          "United Kingdom"
         ],
         "categoryorder": "total ascending",
         "domain": [
          0,
          1
         ],
         "title": {}
        }
       }
      }
     },
     "metadata": {},
     "output_type": "display_data"
    }
   ],
   "source": [
    "topCountries = data.groupby(['Country'], as_index=False)[['Quantity', 'Revenue']].sum().sort_values('Revenue', ascending=False).head(20).reset_index(drop=True)\n",
    "\n",
    "colorseq = ['lightslategray']*len(topCountries)\n",
    "colorseq[0] = 'crimson'\n",
    "colorseq[1] = 'crimson'\n",
    "colorseq[2] = 'crimson'\n",
    "fig = px.bar(topCountries,\n",
    "  x='Revenue', y='Country', height=800, title='Top 20 Countries', text_auto='.4s',\n",
    "  color='Country', color_discrete_sequence=colorseq, hover_data=topCountries.columns  \n",
    ")\n",
    "fig.update_xaxes(title='Revenue ($)')\n",
    "fig.update_yaxes(title=None)\n",
    "fig.update_layout(yaxis=dict(categoryorder='total ascending'), showlegend=False)\n",
    "fig.show()"
   ]
  },
  {
   "attachments": {},
   "cell_type": "markdown",
   "metadata": {},
   "source": [
    "## **Top Customers**"
   ]
  },
  {
   "cell_type": "code",
   "execution_count": 58,
   "metadata": {},
   "outputs": [
    {
     "data": {
      "text/html": [
       "<div>\n",
       "<style scoped>\n",
       "    .dataframe tbody tr th:only-of-type {\n",
       "        vertical-align: middle;\n",
       "    }\n",
       "\n",
       "    .dataframe tbody tr th {\n",
       "        vertical-align: top;\n",
       "    }\n",
       "\n",
       "    .dataframe thead th {\n",
       "        text-align: right;\n",
       "    }\n",
       "</style>\n",
       "<table border=\"1\" class=\"dataframe\">\n",
       "  <thead>\n",
       "    <tr style=\"text-align: right;\">\n",
       "      <th></th>\n",
       "      <th>InvoiceNo</th>\n",
       "      <th>StockCode</th>\n",
       "      <th>Description</th>\n",
       "      <th>Quantity</th>\n",
       "      <th>InvoiceDate</th>\n",
       "      <th>UnitPrice</th>\n",
       "      <th>CustomerID</th>\n",
       "      <th>Country</th>\n",
       "      <th>Revenue</th>\n",
       "      <th>Gap</th>\n",
       "      <th>Recency</th>\n",
       "    </tr>\n",
       "  </thead>\n",
       "  <tbody>\n",
       "    <tr>\n",
       "      <th>0</th>\n",
       "      <td>562032</td>\n",
       "      <td>21578</td>\n",
       "      <td>WOODLAND DESIGN  COTTON TOTE BAG</td>\n",
       "      <td>6</td>\n",
       "      <td>2011-08-02 08:48:00</td>\n",
       "      <td>2.25</td>\n",
       "      <td>12347.0</td>\n",
       "      <td>Iceland</td>\n",
       "      <td>13.5</td>\n",
       "      <td>130 days 15:11:59</td>\n",
       "      <td>130</td>\n",
       "    </tr>\n",
       "    <tr>\n",
       "      <th>1</th>\n",
       "      <td>542237</td>\n",
       "      <td>47559B</td>\n",
       "      <td>TEA TIME OVEN GLOVE</td>\n",
       "      <td>10</td>\n",
       "      <td>2011-01-26 14:30:00</td>\n",
       "      <td>1.25</td>\n",
       "      <td>12347.0</td>\n",
       "      <td>Iceland</td>\n",
       "      <td>12.5</td>\n",
       "      <td>318 days 09:29:59</td>\n",
       "      <td>318</td>\n",
       "    </tr>\n",
       "    <tr>\n",
       "      <th>2</th>\n",
       "      <td>542237</td>\n",
       "      <td>21154</td>\n",
       "      <td>RED RETROSPOT OVEN GLOVE</td>\n",
       "      <td>10</td>\n",
       "      <td>2011-01-26 14:30:00</td>\n",
       "      <td>1.25</td>\n",
       "      <td>12347.0</td>\n",
       "      <td>Iceland</td>\n",
       "      <td>12.5</td>\n",
       "      <td>318 days 09:29:59</td>\n",
       "      <td>318</td>\n",
       "    </tr>\n",
       "    <tr>\n",
       "      <th>3</th>\n",
       "      <td>542237</td>\n",
       "      <td>21041</td>\n",
       "      <td>RED RETROSPOT OVEN GLOVE DOUBLE</td>\n",
       "      <td>6</td>\n",
       "      <td>2011-01-26 14:30:00</td>\n",
       "      <td>2.95</td>\n",
       "      <td>12347.0</td>\n",
       "      <td>Iceland</td>\n",
       "      <td>17.7</td>\n",
       "      <td>318 days 09:29:59</td>\n",
       "      <td>318</td>\n",
       "    </tr>\n",
       "    <tr>\n",
       "      <th>4</th>\n",
       "      <td>542237</td>\n",
       "      <td>21035</td>\n",
       "      <td>SET/2 RED RETROSPOT TEA TOWELS</td>\n",
       "      <td>6</td>\n",
       "      <td>2011-01-26 14:30:00</td>\n",
       "      <td>2.95</td>\n",
       "      <td>12347.0</td>\n",
       "      <td>Iceland</td>\n",
       "      <td>17.7</td>\n",
       "      <td>318 days 09:29:59</td>\n",
       "      <td>318</td>\n",
       "    </tr>\n",
       "  </tbody>\n",
       "</table>\n",
       "</div>"
      ],
      "text/plain": [
       "  InvoiceNo StockCode                       Description  Quantity  \\\n",
       "0    562032     21578  WOODLAND DESIGN  COTTON TOTE BAG         6   \n",
       "1    542237    47559B               TEA TIME OVEN GLOVE        10   \n",
       "2    542237     21154         RED RETROSPOT OVEN GLOVE         10   \n",
       "3    542237     21041   RED RETROSPOT OVEN GLOVE DOUBLE         6   \n",
       "4    542237     21035   SET/2 RED RETROSPOT TEA TOWELS          6   \n",
       "\n",
       "          InvoiceDate  UnitPrice CustomerID  Country  Revenue  \\\n",
       "0 2011-08-02 08:48:00       2.25    12347.0  Iceland     13.5   \n",
       "1 2011-01-26 14:30:00       1.25    12347.0  Iceland     12.5   \n",
       "2 2011-01-26 14:30:00       1.25    12347.0  Iceland     12.5   \n",
       "3 2011-01-26 14:30:00       2.95    12347.0  Iceland     17.7   \n",
       "4 2011-01-26 14:30:00       2.95    12347.0  Iceland     17.7   \n",
       "\n",
       "                Gap  Recency  \n",
       "0 130 days 15:11:59      130  \n",
       "1 318 days 09:29:59      318  \n",
       "2 318 days 09:29:59      318  \n",
       "3 318 days 09:29:59      318  \n",
       "4 318 days 09:29:59      318  "
      ]
     },
     "execution_count": 58,
     "metadata": {},
     "output_type": "execute_result"
    }
   ],
   "source": [
    "data.head()"
   ]
  },
  {
   "cell_type": "code",
   "execution_count": 59,
   "metadata": {},
   "outputs": [
    {
     "data": {
      "application/vnd.plotly.v1+json": {
       "config": {
        "plotlyServerURL": "https://plot.ly"
       },
       "data": [
        {
         "alignmentgroup": "True",
         "hovertemplate": "CustomerID=%{y}<br>Revenue=%{x}<extra></extra>",
         "legendgroup": "14646.0",
         "marker": {
          "color": "crimson",
          "pattern": {
           "shape": ""
          }
         },
         "name": "14646.0",
         "offsetgroup": "14646.0",
         "orientation": "h",
         "showlegend": true,
         "textposition": "auto",
         "texttemplate": "%{x:.4s}",
         "type": "bar",
         "x": [
          277885.22
         ],
         "xaxis": "x",
         "y": [
          "14646.0"
         ],
         "yaxis": "y"
        },
        {
         "alignmentgroup": "True",
         "hovertemplate": "CustomerID=%{y}<br>Revenue=%{x}<extra></extra>",
         "legendgroup": "18102.0",
         "marker": {
          "color": "crimson",
          "pattern": {
           "shape": ""
          }
         },
         "name": "18102.0",
         "offsetgroup": "18102.0",
         "orientation": "h",
         "showlegend": true,
         "textposition": "auto",
         "texttemplate": "%{x:.4s}",
         "type": "bar",
         "x": [
          259657.3
         ],
         "xaxis": "x",
         "y": [
          "18102.0"
         ],
         "yaxis": "y"
        },
        {
         "alignmentgroup": "True",
         "hovertemplate": "CustomerID=%{y}<br>Revenue=%{x}<extra></extra>",
         "legendgroup": "17450.0",
         "marker": {
          "color": "crimson",
          "pattern": {
           "shape": ""
          }
         },
         "name": "17450.0",
         "offsetgroup": "17450.0",
         "orientation": "h",
         "showlegend": true,
         "textposition": "auto",
         "texttemplate": "%{x:.4s}",
         "type": "bar",
         "x": [
          189575.53
         ],
         "xaxis": "x",
         "y": [
          "17450.0"
         ],
         "yaxis": "y"
        },
        {
         "alignmentgroup": "True",
         "hovertemplate": "CustomerID=%{y}<br>Revenue=%{x}<extra></extra>",
         "legendgroup": "14911.0",
         "marker": {
          "color": "lightslategray",
          "pattern": {
           "shape": ""
          }
         },
         "name": "14911.0",
         "offsetgroup": "14911.0",
         "orientation": "h",
         "showlegend": true,
         "textposition": "auto",
         "texttemplate": "%{x:.4s}",
         "type": "bar",
         "x": [
          123794.01
         ],
         "xaxis": "x",
         "y": [
          "14911.0"
         ],
         "yaxis": "y"
        },
        {
         "alignmentgroup": "True",
         "hovertemplate": "CustomerID=%{y}<br>Revenue=%{x}<extra></extra>",
         "legendgroup": "12415.0",
         "marker": {
          "color": "lightslategray",
          "pattern": {
           "shape": ""
          }
         },
         "name": "12415.0",
         "offsetgroup": "12415.0",
         "orientation": "h",
         "showlegend": true,
         "textposition": "auto",
         "texttemplate": "%{x:.4s}",
         "type": "bar",
         "x": [
          123638.18
         ],
         "xaxis": "x",
         "y": [
          "12415.0"
         ],
         "yaxis": "y"
        },
        {
         "alignmentgroup": "True",
         "hovertemplate": "CustomerID=%{y}<br>Revenue=%{x}<extra></extra>",
         "legendgroup": "14156.0",
         "marker": {
          "color": "lightslategray",
          "pattern": {
           "shape": ""
          }
         },
         "name": "14156.0",
         "offsetgroup": "14156.0",
         "orientation": "h",
         "showlegend": true,
         "textposition": "auto",
         "texttemplate": "%{x:.4s}",
         "type": "bar",
         "x": [
          113687.98
         ],
         "xaxis": "x",
         "y": [
          "14156.0"
         ],
         "yaxis": "y"
        },
        {
         "alignmentgroup": "True",
         "hovertemplate": "CustomerID=%{y}<br>Revenue=%{x}<extra></extra>",
         "legendgroup": "17511.0",
         "marker": {
          "color": "lightslategray",
          "pattern": {
           "shape": ""
          }
         },
         "name": "17511.0",
         "offsetgroup": "17511.0",
         "orientation": "h",
         "showlegend": true,
         "textposition": "auto",
         "texttemplate": "%{x:.4s}",
         "type": "bar",
         "x": [
          81881.39
         ],
         "xaxis": "x",
         "y": [
          "17511.0"
         ],
         "yaxis": "y"
        },
        {
         "alignmentgroup": "True",
         "hovertemplate": "CustomerID=%{y}<br>Revenue=%{x}<extra></extra>",
         "legendgroup": "16684.0",
         "marker": {
          "color": "lightslategray",
          "pattern": {
           "shape": ""
          }
         },
         "name": "16684.0",
         "offsetgroup": "16684.0",
         "orientation": "h",
         "showlegend": true,
         "textposition": "auto",
         "texttemplate": "%{x:.4s}",
         "type": "bar",
         "x": [
          65920.12
         ],
         "xaxis": "x",
         "y": [
          "16684.0"
         ],
         "yaxis": "y"
        },
        {
         "alignmentgroup": "True",
         "hovertemplate": "CustomerID=%{y}<br>Revenue=%{x}<extra></extra>",
         "legendgroup": "13694.0",
         "marker": {
          "color": "lightslategray",
          "pattern": {
           "shape": ""
          }
         },
         "name": "13694.0",
         "offsetgroup": "13694.0",
         "orientation": "h",
         "showlegend": true,
         "textposition": "auto",
         "texttemplate": "%{x:.4s}",
         "type": "bar",
         "x": [
          62778.82
         ],
         "xaxis": "x",
         "y": [
          "13694.0"
         ],
         "yaxis": "y"
        },
        {
         "alignmentgroup": "True",
         "hovertemplate": "CustomerID=%{y}<br>Revenue=%{x}<extra></extra>",
         "legendgroup": "15311.0",
         "marker": {
          "color": "lightslategray",
          "pattern": {
           "shape": ""
          }
         },
         "name": "15311.0",
         "offsetgroup": "15311.0",
         "orientation": "h",
         "showlegend": true,
         "textposition": "auto",
         "texttemplate": "%{x:.4s}",
         "type": "bar",
         "x": [
          59040.69
         ],
         "xaxis": "x",
         "y": [
          "15311.0"
         ],
         "yaxis": "y"
        }
       ],
       "layout": {
        "barmode": "relative",
        "height": 500,
        "legend": {
         "title": {
          "text": "CustomerID"
         },
         "tracegroupgap": 0
        },
        "showlegend": false,
        "template": {
         "data": {
          "bar": [
           {
            "error_x": {
             "color": "#2a3f5f"
            },
            "error_y": {
             "color": "#2a3f5f"
            },
            "marker": {
             "line": {
              "color": "#E5ECF6",
              "width": 0.5
             },
             "pattern": {
              "fillmode": "overlay",
              "size": 10,
              "solidity": 0.2
             }
            },
            "type": "bar"
           }
          ],
          "barpolar": [
           {
            "marker": {
             "line": {
              "color": "#E5ECF6",
              "width": 0.5
             },
             "pattern": {
              "fillmode": "overlay",
              "size": 10,
              "solidity": 0.2
             }
            },
            "type": "barpolar"
           }
          ],
          "carpet": [
           {
            "aaxis": {
             "endlinecolor": "#2a3f5f",
             "gridcolor": "white",
             "linecolor": "white",
             "minorgridcolor": "white",
             "startlinecolor": "#2a3f5f"
            },
            "baxis": {
             "endlinecolor": "#2a3f5f",
             "gridcolor": "white",
             "linecolor": "white",
             "minorgridcolor": "white",
             "startlinecolor": "#2a3f5f"
            },
            "type": "carpet"
           }
          ],
          "choropleth": [
           {
            "colorbar": {
             "outlinewidth": 0,
             "ticks": ""
            },
            "type": "choropleth"
           }
          ],
          "contour": [
           {
            "colorbar": {
             "outlinewidth": 0,
             "ticks": ""
            },
            "colorscale": [
             [
              0,
              "#0d0887"
             ],
             [
              0.1111111111111111,
              "#46039f"
             ],
             [
              0.2222222222222222,
              "#7201a8"
             ],
             [
              0.3333333333333333,
              "#9c179e"
             ],
             [
              0.4444444444444444,
              "#bd3786"
             ],
             [
              0.5555555555555556,
              "#d8576b"
             ],
             [
              0.6666666666666666,
              "#ed7953"
             ],
             [
              0.7777777777777778,
              "#fb9f3a"
             ],
             [
              0.8888888888888888,
              "#fdca26"
             ],
             [
              1,
              "#f0f921"
             ]
            ],
            "type": "contour"
           }
          ],
          "contourcarpet": [
           {
            "colorbar": {
             "outlinewidth": 0,
             "ticks": ""
            },
            "type": "contourcarpet"
           }
          ],
          "heatmap": [
           {
            "colorbar": {
             "outlinewidth": 0,
             "ticks": ""
            },
            "colorscale": [
             [
              0,
              "#0d0887"
             ],
             [
              0.1111111111111111,
              "#46039f"
             ],
             [
              0.2222222222222222,
              "#7201a8"
             ],
             [
              0.3333333333333333,
              "#9c179e"
             ],
             [
              0.4444444444444444,
              "#bd3786"
             ],
             [
              0.5555555555555556,
              "#d8576b"
             ],
             [
              0.6666666666666666,
              "#ed7953"
             ],
             [
              0.7777777777777778,
              "#fb9f3a"
             ],
             [
              0.8888888888888888,
              "#fdca26"
             ],
             [
              1,
              "#f0f921"
             ]
            ],
            "type": "heatmap"
           }
          ],
          "heatmapgl": [
           {
            "colorbar": {
             "outlinewidth": 0,
             "ticks": ""
            },
            "colorscale": [
             [
              0,
              "#0d0887"
             ],
             [
              0.1111111111111111,
              "#46039f"
             ],
             [
              0.2222222222222222,
              "#7201a8"
             ],
             [
              0.3333333333333333,
              "#9c179e"
             ],
             [
              0.4444444444444444,
              "#bd3786"
             ],
             [
              0.5555555555555556,
              "#d8576b"
             ],
             [
              0.6666666666666666,
              "#ed7953"
             ],
             [
              0.7777777777777778,
              "#fb9f3a"
             ],
             [
              0.8888888888888888,
              "#fdca26"
             ],
             [
              1,
              "#f0f921"
             ]
            ],
            "type": "heatmapgl"
           }
          ],
          "histogram": [
           {
            "marker": {
             "pattern": {
              "fillmode": "overlay",
              "size": 10,
              "solidity": 0.2
             }
            },
            "type": "histogram"
           }
          ],
          "histogram2d": [
           {
            "colorbar": {
             "outlinewidth": 0,
             "ticks": ""
            },
            "colorscale": [
             [
              0,
              "#0d0887"
             ],
             [
              0.1111111111111111,
              "#46039f"
             ],
             [
              0.2222222222222222,
              "#7201a8"
             ],
             [
              0.3333333333333333,
              "#9c179e"
             ],
             [
              0.4444444444444444,
              "#bd3786"
             ],
             [
              0.5555555555555556,
              "#d8576b"
             ],
             [
              0.6666666666666666,
              "#ed7953"
             ],
             [
              0.7777777777777778,
              "#fb9f3a"
             ],
             [
              0.8888888888888888,
              "#fdca26"
             ],
             [
              1,
              "#f0f921"
             ]
            ],
            "type": "histogram2d"
           }
          ],
          "histogram2dcontour": [
           {
            "colorbar": {
             "outlinewidth": 0,
             "ticks": ""
            },
            "colorscale": [
             [
              0,
              "#0d0887"
             ],
             [
              0.1111111111111111,
              "#46039f"
             ],
             [
              0.2222222222222222,
              "#7201a8"
             ],
             [
              0.3333333333333333,
              "#9c179e"
             ],
             [
              0.4444444444444444,
              "#bd3786"
             ],
             [
              0.5555555555555556,
              "#d8576b"
             ],
             [
              0.6666666666666666,
              "#ed7953"
             ],
             [
              0.7777777777777778,
              "#fb9f3a"
             ],
             [
              0.8888888888888888,
              "#fdca26"
             ],
             [
              1,
              "#f0f921"
             ]
            ],
            "type": "histogram2dcontour"
           }
          ],
          "mesh3d": [
           {
            "colorbar": {
             "outlinewidth": 0,
             "ticks": ""
            },
            "type": "mesh3d"
           }
          ],
          "parcoords": [
           {
            "line": {
             "colorbar": {
              "outlinewidth": 0,
              "ticks": ""
             }
            },
            "type": "parcoords"
           }
          ],
          "pie": [
           {
            "automargin": true,
            "type": "pie"
           }
          ],
          "scatter": [
           {
            "fillpattern": {
             "fillmode": "overlay",
             "size": 10,
             "solidity": 0.2
            },
            "type": "scatter"
           }
          ],
          "scatter3d": [
           {
            "line": {
             "colorbar": {
              "outlinewidth": 0,
              "ticks": ""
             }
            },
            "marker": {
             "colorbar": {
              "outlinewidth": 0,
              "ticks": ""
             }
            },
            "type": "scatter3d"
           }
          ],
          "scattercarpet": [
           {
            "marker": {
             "colorbar": {
              "outlinewidth": 0,
              "ticks": ""
             }
            },
            "type": "scattercarpet"
           }
          ],
          "scattergeo": [
           {
            "marker": {
             "colorbar": {
              "outlinewidth": 0,
              "ticks": ""
             }
            },
            "type": "scattergeo"
           }
          ],
          "scattergl": [
           {
            "marker": {
             "colorbar": {
              "outlinewidth": 0,
              "ticks": ""
             }
            },
            "type": "scattergl"
           }
          ],
          "scattermapbox": [
           {
            "marker": {
             "colorbar": {
              "outlinewidth": 0,
              "ticks": ""
             }
            },
            "type": "scattermapbox"
           }
          ],
          "scatterpolar": [
           {
            "marker": {
             "colorbar": {
              "outlinewidth": 0,
              "ticks": ""
             }
            },
            "type": "scatterpolar"
           }
          ],
          "scatterpolargl": [
           {
            "marker": {
             "colorbar": {
              "outlinewidth": 0,
              "ticks": ""
             }
            },
            "type": "scatterpolargl"
           }
          ],
          "scatterternary": [
           {
            "marker": {
             "colorbar": {
              "outlinewidth": 0,
              "ticks": ""
             }
            },
            "type": "scatterternary"
           }
          ],
          "surface": [
           {
            "colorbar": {
             "outlinewidth": 0,
             "ticks": ""
            },
            "colorscale": [
             [
              0,
              "#0d0887"
             ],
             [
              0.1111111111111111,
              "#46039f"
             ],
             [
              0.2222222222222222,
              "#7201a8"
             ],
             [
              0.3333333333333333,
              "#9c179e"
             ],
             [
              0.4444444444444444,
              "#bd3786"
             ],
             [
              0.5555555555555556,
              "#d8576b"
             ],
             [
              0.6666666666666666,
              "#ed7953"
             ],
             [
              0.7777777777777778,
              "#fb9f3a"
             ],
             [
              0.8888888888888888,
              "#fdca26"
             ],
             [
              1,
              "#f0f921"
             ]
            ],
            "type": "surface"
           }
          ],
          "table": [
           {
            "cells": {
             "fill": {
              "color": "#EBF0F8"
             },
             "line": {
              "color": "white"
             }
            },
            "header": {
             "fill": {
              "color": "#C8D4E3"
             },
             "line": {
              "color": "white"
             }
            },
            "type": "table"
           }
          ]
         },
         "layout": {
          "annotationdefaults": {
           "arrowcolor": "#2a3f5f",
           "arrowhead": 0,
           "arrowwidth": 1
          },
          "autotypenumbers": "strict",
          "coloraxis": {
           "colorbar": {
            "outlinewidth": 0,
            "ticks": ""
           }
          },
          "colorscale": {
           "diverging": [
            [
             0,
             "#8e0152"
            ],
            [
             0.1,
             "#c51b7d"
            ],
            [
             0.2,
             "#de77ae"
            ],
            [
             0.3,
             "#f1b6da"
            ],
            [
             0.4,
             "#fde0ef"
            ],
            [
             0.5,
             "#f7f7f7"
            ],
            [
             0.6,
             "#e6f5d0"
            ],
            [
             0.7,
             "#b8e186"
            ],
            [
             0.8,
             "#7fbc41"
            ],
            [
             0.9,
             "#4d9221"
            ],
            [
             1,
             "#276419"
            ]
           ],
           "sequential": [
            [
             0,
             "#0d0887"
            ],
            [
             0.1111111111111111,
             "#46039f"
            ],
            [
             0.2222222222222222,
             "#7201a8"
            ],
            [
             0.3333333333333333,
             "#9c179e"
            ],
            [
             0.4444444444444444,
             "#bd3786"
            ],
            [
             0.5555555555555556,
             "#d8576b"
            ],
            [
             0.6666666666666666,
             "#ed7953"
            ],
            [
             0.7777777777777778,
             "#fb9f3a"
            ],
            [
             0.8888888888888888,
             "#fdca26"
            ],
            [
             1,
             "#f0f921"
            ]
           ],
           "sequentialminus": [
            [
             0,
             "#0d0887"
            ],
            [
             0.1111111111111111,
             "#46039f"
            ],
            [
             0.2222222222222222,
             "#7201a8"
            ],
            [
             0.3333333333333333,
             "#9c179e"
            ],
            [
             0.4444444444444444,
             "#bd3786"
            ],
            [
             0.5555555555555556,
             "#d8576b"
            ],
            [
             0.6666666666666666,
             "#ed7953"
            ],
            [
             0.7777777777777778,
             "#fb9f3a"
            ],
            [
             0.8888888888888888,
             "#fdca26"
            ],
            [
             1,
             "#f0f921"
            ]
           ]
          },
          "colorway": [
           "#636efa",
           "#EF553B",
           "#00cc96",
           "#ab63fa",
           "#FFA15A",
           "#19d3f3",
           "#FF6692",
           "#B6E880",
           "#FF97FF",
           "#FECB52"
          ],
          "font": {
           "color": "#2a3f5f"
          },
          "geo": {
           "bgcolor": "white",
           "lakecolor": "white",
           "landcolor": "#E5ECF6",
           "showlakes": true,
           "showland": true,
           "subunitcolor": "white"
          },
          "hoverlabel": {
           "align": "left"
          },
          "hovermode": "closest",
          "mapbox": {
           "style": "light"
          },
          "paper_bgcolor": "white",
          "plot_bgcolor": "#E5ECF6",
          "polar": {
           "angularaxis": {
            "gridcolor": "white",
            "linecolor": "white",
            "ticks": ""
           },
           "bgcolor": "#E5ECF6",
           "radialaxis": {
            "gridcolor": "white",
            "linecolor": "white",
            "ticks": ""
           }
          },
          "scene": {
           "xaxis": {
            "backgroundcolor": "#E5ECF6",
            "gridcolor": "white",
            "gridwidth": 2,
            "linecolor": "white",
            "showbackground": true,
            "ticks": "",
            "zerolinecolor": "white"
           },
           "yaxis": {
            "backgroundcolor": "#E5ECF6",
            "gridcolor": "white",
            "gridwidth": 2,
            "linecolor": "white",
            "showbackground": true,
            "ticks": "",
            "zerolinecolor": "white"
           },
           "zaxis": {
            "backgroundcolor": "#E5ECF6",
            "gridcolor": "white",
            "gridwidth": 2,
            "linecolor": "white",
            "showbackground": true,
            "ticks": "",
            "zerolinecolor": "white"
           }
          },
          "shapedefaults": {
           "line": {
            "color": "#2a3f5f"
           }
          },
          "ternary": {
           "aaxis": {
            "gridcolor": "white",
            "linecolor": "white",
            "ticks": ""
           },
           "baxis": {
            "gridcolor": "white",
            "linecolor": "white",
            "ticks": ""
           },
           "bgcolor": "#E5ECF6",
           "caxis": {
            "gridcolor": "white",
            "linecolor": "white",
            "ticks": ""
           }
          },
          "title": {
           "x": 0.05
          },
          "xaxis": {
           "automargin": true,
           "gridcolor": "white",
           "linecolor": "white",
           "ticks": "",
           "title": {
            "standoff": 15
           },
           "zerolinecolor": "white",
           "zerolinewidth": 2
          },
          "yaxis": {
           "automargin": true,
           "gridcolor": "white",
           "linecolor": "white",
           "ticks": "",
           "title": {
            "standoff": 15
           },
           "zerolinecolor": "white",
           "zerolinewidth": 2
          }
         }
        },
        "title": {
         "text": "Top 10 Customers"
        },
        "xaxis": {
         "anchor": "y",
         "domain": [
          0,
          1
         ],
         "title": {
          "text": "Revenue ($)"
         }
        },
        "yaxis": {
         "anchor": "x",
         "categoryarray": [
          "15311.0",
          "13694.0",
          "16684.0",
          "17511.0",
          "14156.0",
          "12415.0",
          "14911.0",
          "17450.0",
          "18102.0",
          "14646.0"
         ],
         "categoryorder": "total ascending",
         "domain": [
          0,
          1
         ],
         "title": {
          "text": "CustomerID"
         }
        }
       }
      }
     },
     "metadata": {},
     "output_type": "display_data"
    }
   ],
   "source": [
    "topCustomers = data.groupby(['CustomerID'], as_index=False).Revenue.sum().sort_values('Revenue', ascending=False).head(10).reset_index(drop=True)\n",
    "\n",
    "colorseq = ['lightslategray']*len(topCustomers)\n",
    "colorseq[0] = 'crimson'\n",
    "colorseq[1] = 'crimson'\n",
    "colorseq[2] = 'crimson'\n",
    "fig = px.bar(topCustomers,\n",
    "  x='Revenue', y='CustomerID', height=500, title='Top 10 Customers', text_auto='.4s',\n",
    "  color='CustomerID', color_discrete_sequence=colorseq, hover_data=topCustomers.columns  \n",
    ")\n",
    "fig.update_xaxes(title='Revenue ($)')\n",
    "# fig.update_yaxes(title=None)\n",
    "fig.update_layout(yaxis=dict(categoryorder='total ascending'), showlegend=False)\n",
    "fig.show()"
   ]
  },
  {
   "attachments": {},
   "cell_type": "markdown",
   "metadata": {},
   "source": [
    "## **Month Revenue**"
   ]
  },
  {
   "cell_type": "code",
   "execution_count": 76,
   "metadata": {},
   "outputs": [
    {
     "data": {
      "application/vnd.plotly.v1+json": {
       "config": {
        "plotlyServerURL": "https://plot.ly"
       },
       "data": [
        {
         "hovertemplate": "MonthYear=%{x}<br>Revenue=%{y}<extra></extra>",
         "legendgroup": "",
         "line": {
          "color": "#636efa",
          "dash": "solid"
         },
         "marker": {
          "symbol": "circle"
         },
         "mode": "lines",
         "name": "",
         "orientation": "v",
         "showlegend": false,
         "type": "scatter",
         "x": [
          "2010-12",
          "2011-01",
          "2011-02",
          "2011-03",
          "2011-04",
          "2011-05",
          "2011-06",
          "2011-07",
          "2011-08",
          "2011-09",
          "2011-10",
          "2011-11",
          "2011-12"
         ],
         "xaxis": "x",
         "y": [
          547313.79,
          451995.99,
          434222.15,
          567750.77,
          444585.26,
          645743.89,
          635695.1,
          576818.08,
          612672.89,
          921249.4,
          958042.6900000001,
          1117348.71,
          343083.52
         ],
         "yaxis": "y"
        }
       ],
       "layout": {
        "legend": {
         "tracegroupgap": 0
        },
        "margin": {
         "t": 60
        },
        "template": {
         "data": {
          "bar": [
           {
            "error_x": {
             "color": "#2a3f5f"
            },
            "error_y": {
             "color": "#2a3f5f"
            },
            "marker": {
             "line": {
              "color": "#E5ECF6",
              "width": 0.5
             },
             "pattern": {
              "fillmode": "overlay",
              "size": 10,
              "solidity": 0.2
             }
            },
            "type": "bar"
           }
          ],
          "barpolar": [
           {
            "marker": {
             "line": {
              "color": "#E5ECF6",
              "width": 0.5
             },
             "pattern": {
              "fillmode": "overlay",
              "size": 10,
              "solidity": 0.2
             }
            },
            "type": "barpolar"
           }
          ],
          "carpet": [
           {
            "aaxis": {
             "endlinecolor": "#2a3f5f",
             "gridcolor": "white",
             "linecolor": "white",
             "minorgridcolor": "white",
             "startlinecolor": "#2a3f5f"
            },
            "baxis": {
             "endlinecolor": "#2a3f5f",
             "gridcolor": "white",
             "linecolor": "white",
             "minorgridcolor": "white",
             "startlinecolor": "#2a3f5f"
            },
            "type": "carpet"
           }
          ],
          "choropleth": [
           {
            "colorbar": {
             "outlinewidth": 0,
             "ticks": ""
            },
            "type": "choropleth"
           }
          ],
          "contour": [
           {
            "colorbar": {
             "outlinewidth": 0,
             "ticks": ""
            },
            "colorscale": [
             [
              0,
              "#0d0887"
             ],
             [
              0.1111111111111111,
              "#46039f"
             ],
             [
              0.2222222222222222,
              "#7201a8"
             ],
             [
              0.3333333333333333,
              "#9c179e"
             ],
             [
              0.4444444444444444,
              "#bd3786"
             ],
             [
              0.5555555555555556,
              "#d8576b"
             ],
             [
              0.6666666666666666,
              "#ed7953"
             ],
             [
              0.7777777777777778,
              "#fb9f3a"
             ],
             [
              0.8888888888888888,
              "#fdca26"
             ],
             [
              1,
              "#f0f921"
             ]
            ],
            "type": "contour"
           }
          ],
          "contourcarpet": [
           {
            "colorbar": {
             "outlinewidth": 0,
             "ticks": ""
            },
            "type": "contourcarpet"
           }
          ],
          "heatmap": [
           {
            "colorbar": {
             "outlinewidth": 0,
             "ticks": ""
            },
            "colorscale": [
             [
              0,
              "#0d0887"
             ],
             [
              0.1111111111111111,
              "#46039f"
             ],
             [
              0.2222222222222222,
              "#7201a8"
             ],
             [
              0.3333333333333333,
              "#9c179e"
             ],
             [
              0.4444444444444444,
              "#bd3786"
             ],
             [
              0.5555555555555556,
              "#d8576b"
             ],
             [
              0.6666666666666666,
              "#ed7953"
             ],
             [
              0.7777777777777778,
              "#fb9f3a"
             ],
             [
              0.8888888888888888,
              "#fdca26"
             ],
             [
              1,
              "#f0f921"
             ]
            ],
            "type": "heatmap"
           }
          ],
          "heatmapgl": [
           {
            "colorbar": {
             "outlinewidth": 0,
             "ticks": ""
            },
            "colorscale": [
             [
              0,
              "#0d0887"
             ],
             [
              0.1111111111111111,
              "#46039f"
             ],
             [
              0.2222222222222222,
              "#7201a8"
             ],
             [
              0.3333333333333333,
              "#9c179e"
             ],
             [
              0.4444444444444444,
              "#bd3786"
             ],
             [
              0.5555555555555556,
              "#d8576b"
             ],
             [
              0.6666666666666666,
              "#ed7953"
             ],
             [
              0.7777777777777778,
              "#fb9f3a"
             ],
             [
              0.8888888888888888,
              "#fdca26"
             ],
             [
              1,
              "#f0f921"
             ]
            ],
            "type": "heatmapgl"
           }
          ],
          "histogram": [
           {
            "marker": {
             "pattern": {
              "fillmode": "overlay",
              "size": 10,
              "solidity": 0.2
             }
            },
            "type": "histogram"
           }
          ],
          "histogram2d": [
           {
            "colorbar": {
             "outlinewidth": 0,
             "ticks": ""
            },
            "colorscale": [
             [
              0,
              "#0d0887"
             ],
             [
              0.1111111111111111,
              "#46039f"
             ],
             [
              0.2222222222222222,
              "#7201a8"
             ],
             [
              0.3333333333333333,
              "#9c179e"
             ],
             [
              0.4444444444444444,
              "#bd3786"
             ],
             [
              0.5555555555555556,
              "#d8576b"
             ],
             [
              0.6666666666666666,
              "#ed7953"
             ],
             [
              0.7777777777777778,
              "#fb9f3a"
             ],
             [
              0.8888888888888888,
              "#fdca26"
             ],
             [
              1,
              "#f0f921"
             ]
            ],
            "type": "histogram2d"
           }
          ],
          "histogram2dcontour": [
           {
            "colorbar": {
             "outlinewidth": 0,
             "ticks": ""
            },
            "colorscale": [
             [
              0,
              "#0d0887"
             ],
             [
              0.1111111111111111,
              "#46039f"
             ],
             [
              0.2222222222222222,
              "#7201a8"
             ],
             [
              0.3333333333333333,
              "#9c179e"
             ],
             [
              0.4444444444444444,
              "#bd3786"
             ],
             [
              0.5555555555555556,
              "#d8576b"
             ],
             [
              0.6666666666666666,
              "#ed7953"
             ],
             [
              0.7777777777777778,
              "#fb9f3a"
             ],
             [
              0.8888888888888888,
              "#fdca26"
             ],
             [
              1,
              "#f0f921"
             ]
            ],
            "type": "histogram2dcontour"
           }
          ],
          "mesh3d": [
           {
            "colorbar": {
             "outlinewidth": 0,
             "ticks": ""
            },
            "type": "mesh3d"
           }
          ],
          "parcoords": [
           {
            "line": {
             "colorbar": {
              "outlinewidth": 0,
              "ticks": ""
             }
            },
            "type": "parcoords"
           }
          ],
          "pie": [
           {
            "automargin": true,
            "type": "pie"
           }
          ],
          "scatter": [
           {
            "fillpattern": {
             "fillmode": "overlay",
             "size": 10,
             "solidity": 0.2
            },
            "type": "scatter"
           }
          ],
          "scatter3d": [
           {
            "line": {
             "colorbar": {
              "outlinewidth": 0,
              "ticks": ""
             }
            },
            "marker": {
             "colorbar": {
              "outlinewidth": 0,
              "ticks": ""
             }
            },
            "type": "scatter3d"
           }
          ],
          "scattercarpet": [
           {
            "marker": {
             "colorbar": {
              "outlinewidth": 0,
              "ticks": ""
             }
            },
            "type": "scattercarpet"
           }
          ],
          "scattergeo": [
           {
            "marker": {
             "colorbar": {
              "outlinewidth": 0,
              "ticks": ""
             }
            },
            "type": "scattergeo"
           }
          ],
          "scattergl": [
           {
            "marker": {
             "colorbar": {
              "outlinewidth": 0,
              "ticks": ""
             }
            },
            "type": "scattergl"
           }
          ],
          "scattermapbox": [
           {
            "marker": {
             "colorbar": {
              "outlinewidth": 0,
              "ticks": ""
             }
            },
            "type": "scattermapbox"
           }
          ],
          "scatterpolar": [
           {
            "marker": {
             "colorbar": {
              "outlinewidth": 0,
              "ticks": ""
             }
            },
            "type": "scatterpolar"
           }
          ],
          "scatterpolargl": [
           {
            "marker": {
             "colorbar": {
              "outlinewidth": 0,
              "ticks": ""
             }
            },
            "type": "scatterpolargl"
           }
          ],
          "scatterternary": [
           {
            "marker": {
             "colorbar": {
              "outlinewidth": 0,
              "ticks": ""
             }
            },
            "type": "scatterternary"
           }
          ],
          "surface": [
           {
            "colorbar": {
             "outlinewidth": 0,
             "ticks": ""
            },
            "colorscale": [
             [
              0,
              "#0d0887"
             ],
             [
              0.1111111111111111,
              "#46039f"
             ],
             [
              0.2222222222222222,
              "#7201a8"
             ],
             [
              0.3333333333333333,
              "#9c179e"
             ],
             [
              0.4444444444444444,
              "#bd3786"
             ],
             [
              0.5555555555555556,
              "#d8576b"
             ],
             [
              0.6666666666666666,
              "#ed7953"
             ],
             [
              0.7777777777777778,
              "#fb9f3a"
             ],
             [
              0.8888888888888888,
              "#fdca26"
             ],
             [
              1,
              "#f0f921"
             ]
            ],
            "type": "surface"
           }
          ],
          "table": [
           {
            "cells": {
             "fill": {
              "color": "#EBF0F8"
             },
             "line": {
              "color": "white"
             }
            },
            "header": {
             "fill": {
              "color": "#C8D4E3"
             },
             "line": {
              "color": "white"
             }
            },
            "type": "table"
           }
          ]
         },
         "layout": {
          "annotationdefaults": {
           "arrowcolor": "#2a3f5f",
           "arrowhead": 0,
           "arrowwidth": 1
          },
          "autotypenumbers": "strict",
          "coloraxis": {
           "colorbar": {
            "outlinewidth": 0,
            "ticks": ""
           }
          },
          "colorscale": {
           "diverging": [
            [
             0,
             "#8e0152"
            ],
            [
             0.1,
             "#c51b7d"
            ],
            [
             0.2,
             "#de77ae"
            ],
            [
             0.3,
             "#f1b6da"
            ],
            [
             0.4,
             "#fde0ef"
            ],
            [
             0.5,
             "#f7f7f7"
            ],
            [
             0.6,
             "#e6f5d0"
            ],
            [
             0.7,
             "#b8e186"
            ],
            [
             0.8,
             "#7fbc41"
            ],
            [
             0.9,
             "#4d9221"
            ],
            [
             1,
             "#276419"
            ]
           ],
           "sequential": [
            [
             0,
             "#0d0887"
            ],
            [
             0.1111111111111111,
             "#46039f"
            ],
            [
             0.2222222222222222,
             "#7201a8"
            ],
            [
             0.3333333333333333,
             "#9c179e"
            ],
            [
             0.4444444444444444,
             "#bd3786"
            ],
            [
             0.5555555555555556,
             "#d8576b"
            ],
            [
             0.6666666666666666,
             "#ed7953"
            ],
            [
             0.7777777777777778,
             "#fb9f3a"
            ],
            [
             0.8888888888888888,
             "#fdca26"
            ],
            [
             1,
             "#f0f921"
            ]
           ],
           "sequentialminus": [
            [
             0,
             "#0d0887"
            ],
            [
             0.1111111111111111,
             "#46039f"
            ],
            [
             0.2222222222222222,
             "#7201a8"
            ],
            [
             0.3333333333333333,
             "#9c179e"
            ],
            [
             0.4444444444444444,
             "#bd3786"
            ],
            [
             0.5555555555555556,
             "#d8576b"
            ],
            [
             0.6666666666666666,
             "#ed7953"
            ],
            [
             0.7777777777777778,
             "#fb9f3a"
            ],
            [
             0.8888888888888888,
             "#fdca26"
            ],
            [
             1,
             "#f0f921"
            ]
           ]
          },
          "colorway": [
           "#636efa",
           "#EF553B",
           "#00cc96",
           "#ab63fa",
           "#FFA15A",
           "#19d3f3",
           "#FF6692",
           "#B6E880",
           "#FF97FF",
           "#FECB52"
          ],
          "font": {
           "color": "#2a3f5f"
          },
          "geo": {
           "bgcolor": "white",
           "lakecolor": "white",
           "landcolor": "#E5ECF6",
           "showlakes": true,
           "showland": true,
           "subunitcolor": "white"
          },
          "hoverlabel": {
           "align": "left"
          },
          "hovermode": "closest",
          "mapbox": {
           "style": "light"
          },
          "paper_bgcolor": "white",
          "plot_bgcolor": "#E5ECF6",
          "polar": {
           "angularaxis": {
            "gridcolor": "white",
            "linecolor": "white",
            "ticks": ""
           },
           "bgcolor": "#E5ECF6",
           "radialaxis": {
            "gridcolor": "white",
            "linecolor": "white",
            "ticks": ""
           }
          },
          "scene": {
           "xaxis": {
            "backgroundcolor": "#E5ECF6",
            "gridcolor": "white",
            "gridwidth": 2,
            "linecolor": "white",
            "showbackground": true,
            "ticks": "",
            "zerolinecolor": "white"
           },
           "yaxis": {
            "backgroundcolor": "#E5ECF6",
            "gridcolor": "white",
            "gridwidth": 2,
            "linecolor": "white",
            "showbackground": true,
            "ticks": "",
            "zerolinecolor": "white"
           },
           "zaxis": {
            "backgroundcolor": "#E5ECF6",
            "gridcolor": "white",
            "gridwidth": 2,
            "linecolor": "white",
            "showbackground": true,
            "ticks": "",
            "zerolinecolor": "white"
           }
          },
          "shapedefaults": {
           "line": {
            "color": "#2a3f5f"
           }
          },
          "ternary": {
           "aaxis": {
            "gridcolor": "white",
            "linecolor": "white",
            "ticks": ""
           },
           "baxis": {
            "gridcolor": "white",
            "linecolor": "white",
            "ticks": ""
           },
           "bgcolor": "#E5ECF6",
           "caxis": {
            "gridcolor": "white",
            "linecolor": "white",
            "ticks": ""
           }
          },
          "title": {
           "x": 0.05
          },
          "xaxis": {
           "automargin": true,
           "gridcolor": "white",
           "linecolor": "white",
           "ticks": "",
           "title": {
            "standoff": 15
           },
           "zerolinecolor": "white",
           "zerolinewidth": 2
          },
          "yaxis": {
           "automargin": true,
           "gridcolor": "white",
           "linecolor": "white",
           "ticks": "",
           "title": {
            "standoff": 15
           },
           "zerolinecolor": "white",
           "zerolinewidth": 2
          }
         }
        },
        "xaxis": {
         "anchor": "y",
         "domain": [
          0,
          1
         ],
         "title": {
          "text": "MonthYear"
         }
        },
        "yaxis": {
         "anchor": "x",
         "domain": [
          0,
          1
         ],
         "title": {
          "text": "Revenue"
         }
        }
       }
      }
     },
     "metadata": {},
     "output_type": "display_data"
    }
   ],
   "source": [
    "df = data.copy()\n",
    "df['MonthYear'] = df.InvoiceDate.dt.strftime('%Y-%m')\n",
    "# df.MonthYear.sort_values().unique()\n",
    "df = df.groupby('MonthYear', as_index=False).Revenue.sum().sort_values('MonthYear').reset_index(drop=True)\n",
    "fig = px.line(df,\n",
    "              x='MonthYear',\n",
    "              y='Revenue')\n",
    "fig.show()"
   ]
  },
  {
   "attachments": {},
   "cell_type": "markdown",
   "metadata": {},
   "source": [
    "## **RFM Distribution**"
   ]
  },
  {
   "cell_type": "code",
   "execution_count": null,
   "metadata": {},
   "outputs": [],
   "source": []
  }
 ],
 "metadata": {
  "kernelspec": {
   "display_name": "datascience",
   "language": "python",
   "name": "python3"
  },
  "language_info": {
   "codemirror_mode": {
    "name": "ipython",
    "version": 3
   },
   "file_extension": ".py",
   "mimetype": "text/x-python",
   "name": "python",
   "nbconvert_exporter": "python",
   "pygments_lexer": "ipython3",
   "version": "3.9.7"
  },
  "orig_nbformat": 4,
  "vscode": {
   "interpreter": {
    "hash": "ebb8fff488dace7aaecf3c0589202019461de1624b32352d9b9d575bc3c6fd63"
   }
  }
 },
 "nbformat": 4,
 "nbformat_minor": 2
}
